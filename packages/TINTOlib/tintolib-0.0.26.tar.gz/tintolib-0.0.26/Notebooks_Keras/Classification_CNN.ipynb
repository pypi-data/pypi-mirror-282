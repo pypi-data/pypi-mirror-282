{
 "cells": [
  {
   "cell_type": "markdown",
   "metadata": {
    "id": "EybOZ6hSjpCF"
   },
   "source": [
    "<h1><font color=\"#113D68\" size=6>TINTOlib: Converting Tidy Data into Image for 2-Dimensional Convolutional Neural Networks</font></h1>\n",
    "\n",
    "<h1><font color=\"#113D68\" size=5>Template Classification Machine Learning problem with a CNN</font></h1>\n",
    "\n",
    "<br><br>\n",
    "<div style=\"text-align: right\">\n",
    "<font color=\"#113D68\" size=3>Manuel Castillo-Cara</font><br>\n",
    "<font color=\"#113D68\" size=3>Raúl García-Castro</font><br>\n",
    "\n",
    "</div>\n",
    "\n",
    "---"
   ]
  },
  {
   "cell_type": "markdown",
   "metadata": {
    "id": "i3tgsO0BjpCj"
   },
   "source": [
    "<div class=\"alert alert-block alert-info\">\n",
    "    \n",
    "<i class=\"fa fa-info-circle\" aria-hidden=\"true\"></i>\n",
    "More information about [Manuel Castillo-Cara](https://www.manuelcastillo.eu/)"
   ]
  },
  {
   "cell_type": "markdown",
   "metadata": {
    "id": "i3tgsO0BjpCj"
   },
   "source": [
    "<div class=\"alert alert-block alert-info\">\n",
    "    \n",
    "<i class=\"fa fa-info-circle\" aria-hidden=\"true\"></i>\n",
    "More information about [Raúl García-Castro](http://www.garcia-castro.com/)"
   ]
  },
  {
   "cell_type": "markdown",
   "metadata": {
    "id": "2l5nFzsdjpCW"
   },
   "source": [
    "---\n",
    "\n",
    "<a id=\"indice\"></a>\n",
    "<h2><font color=\"#004D7F\" size=5>Index</font></h2>\n",
    "\n",
    "* [0. Context](#section0)\n",
    "* [1. Description](#section1)\n",
    "    * [1.1. Main Features](#section11)\n",
    "    * [1.2. Citation](#section12)\n",
    "    * [1.3. Documentation and License](#section13)\n",
    "* [2. Libraries](#section2)\n",
    "    * [2.1. System setup](#section21)\n",
    "    * [2.2. Invoke the libraries](#section22)\n",
    "* [3. Data processing](#section3)\n",
    "    * [3.1. TINTOlib methods](#section31)\n",
    "    * [3.2. Read the dataset](#section32)\n",
    "    * [3.3. Generate images](#section33)\n",
    "    * [3.4. Read images](#section34)\n",
    "* [4. Pre-modelling phase](#section4)\n",
    "    * [4.1. Data curation](#section41)\n",
    "    * [4.2. Resize Images](#section42)\n",
    "    * [4.3. Iterators](#section43)\n",
    "* [5. Modelling with CNN](#section5)\n",
    "    * [5.1. CNN](#section51)\n",
    "    * [5.2. Compile and fit](#section52)\n",
    "* [6. Results](#section6)\n",
    "    * [6.1. Train/Validation representation](#section61)\n",
    "    * [6.2. Validation/Test evaluation](#section62)\n",
    "    * [6.3. Sklearn metrics evaluation](#section63)"
   ]
  },
  {
   "cell_type": "markdown",
   "metadata": {
    "id": "SxTpMExHjpCa"
   },
   "source": [
    "---\n",
    "<a id=\"section0\"></a>\n",
    "# <font color=\"#004D7F\" size=6> 0. Context</font>"
   ]
  },
  {
   "cell_type": "markdown",
   "metadata": {
    "id": "JlVYt3MRrl_V"
   },
   "source": [
    "This is a tutorial on how to read the images created by TINTO and pass them to a very simple pretrained Convolutional Neural Network (CNN). The images must already be created by the TINTOlib software. See the documentation in GITHUB for how to create the images from tabular data.\n",
    "\n",
    "Remember that when using CNN you can set the training to be done with GPUs to improve performance."
   ]
  },
  {
   "cell_type": "markdown",
   "metadata": {},
   "source": [
    "<div class=\"alert alert-block alert-info\">\n",
    "\n",
    "<i class=\"fa fa-info-circle\" aria-hidden=\"true\"></i>\n",
    "You can see all information about TINTOlib code in [GitHub](https://github.com/oeg-upm/TINTOlib)"
   ]
  },
  {
   "cell_type": "markdown",
   "metadata": {},
   "source": [
    "<div class=\"alert alert-block alert-info\">\n",
    "\n",
    "<i class=\"fa fa-info-circle\" aria-hidden=\"true\"></i>\n",
    "You can see all information about TINTOlib documentation in [PyPI](https://tintolib.readthedocs.io/en/latest/installation.html)"
   ]
  },
  {
   "cell_type": "markdown",
   "metadata": {
    "id": "4RKBgDwzjpCl"
   },
   "source": [
    "---\n",
    "<div style=\"text-align: right\"> <font size=5> <a href=\"#indice\"><i class=\"fa fa-arrow-circle-up\" aria-hidden=\"true\" style=\"color:#004D7F\"></i></a></font></div>\n",
    "\n",
    "---"
   ]
  },
  {
   "cell_type": "markdown",
   "metadata": {
    "id": "kpU7pi6yjpCn"
   },
   "source": [
    "<a id=\"section1\"></a>\n",
    "# <font color=\"#004D7F\" size=6> 1. Description</font>"
   ]
  },
  {
   "cell_type": "markdown",
   "metadata": {
    "id": "NL9RoFkEjpCq"
   },
   "source": [
    "The growing interest in the use of algorithms-based machine learning for predictive tasks has generated a large and diverse development of algorithms. However, it is widely known that not all of these algorithms are adapted to efficient solutions in certain tidy data format datasets. For this reason, novel techniques are currently being developed to convert tidy data into images with the aim of using Convolutional Neural Networks (CNNs). TINTOlib offers the opportunity to convert tidy data into images through several techniques: TINTO, IGTD, REFINED, SuperTML, BarGraph, DistanceMatrix and Combination."
   ]
  },
  {
   "cell_type": "markdown",
   "metadata": {
    "id": "HFrF4C89jpCt"
   },
   "source": [
    "---\n",
    "<a id=\"section11\"></a>\n",
    "# <font color=\"#004D7F\" size=5> 1.1. Main Features</font>"
   ]
  },
  {
   "cell_type": "markdown",
   "metadata": {
    "id": "1gruE0_sjpCu"
   },
   "source": [
    "- Supports all CSV data in **[Tidy Data](https://www.jstatsoft.org/article/view/v059i10)** format.\n",
    "- For now, the algorithm converts tabular data for binary and multi-class classification problems into machine learning.\n",
    "- Input data formats:\n",
    "    - **Tabular files**: The input data could be in **[CSV](https://en.wikipedia.org/wiki/Comma-separated_values)**, taking into account the **[Tidy Data](https://www.jstatsoft.org/article/view/v059i10)** format.\n",
    "    - **Dataframe***: The input data could be in **[Pandas Dataframe](https://pandas.pydata.org/docs/reference/api/pandas.DataFrame.html)**, taking into account the **[Tidy Data](https://www.jstatsoft.org/article/view/v059i10)** format.\n",
    "    - **Tidy Data**: The **target** (variable to be predicted) should be set as the last column of the dataset. Therefore, the first columns will be the features.\n",
    "    - All data must be in numerical form. TINTOlib does not accept data in string or any other non-numeric format.\n",
    "- Runs on **Linux**, **Windows** and **macOS** systems.\n",
    "- Compatible with **[Python](https://www.python.org/)** 3.7 or higher."
   ]
  },
  {
   "cell_type": "markdown",
   "metadata": {},
   "source": [
    "---\n",
    "<a id=\"section12\"></a>\n",
    "# <font color=\"#004D7F\" size=5> 1.2. Citation</font>"
   ]
  },
  {
   "cell_type": "markdown",
   "metadata": {},
   "source": [
    "**TINTOlib** is an python library that makes **Synthetic Images** from [Tidy Data](https://www.jstatsoft.org/article/view/v059i10) (also knows as **Tabular Data**).\n",
    "\n",
    "**Citing TINTO**: If you used TINTO in your work, please cite the **[SoftwareX](https://doi.org/10.1016/j.softx.2023.101391)**:\n",
    "\n",
    "```bib\n",
    "@article{softwarex_TINTO,\n",
    "    title = {TINTO: Converting Tidy Data into Image for Classification\n",
    "            with 2-Dimensional Convolutional Neural Networks},\n",
    "    journal = {SoftwareX},\n",
    "    author = {Manuel Castillo-Cara and Reewos Talla-Chumpitaz and\n",
    "              Raúl García-Castro and Luis Orozco-Barbosa},\n",
    "    year = {2023},\n",
    "    pages = {101391},\n",
    "    issn = {2352-7110},\n",
    "    doi = {https://doi.org/10.1016/j.softx.2023.101391}\n",
    "}\n",
    "```\n",
    "\n",
    "And use-case developed in **[INFFUS Paper](https://doi.org/10.1016/j.inffus.2022.10.011)**\n",
    "\n",
    "```bib\n",
    "@article{inffus_TINTO,\n",
    "    title = {A novel deep learning approach using blurring image\n",
    "            techniques for Bluetooth-based indoor localisation},\n",
    "    journal = {Information Fusion},\n",
    "    author = {Reewos Talla-Chumpitaz and Manuel Castillo-Cara and\n",
    "              Luis Orozco-Barbosa and Raúl García-Castro},\n",
    "    volume = {91},\n",
    "    pages = {173-186},\n",
    "    year = {2023},\n",
    "    issn = {1566-2535},\n",
    "    doi = {https://doi.org/10.1016/j.inffus.2022.10.011}\n",
    "}\n",
    "```"
   ]
  },
  {
   "cell_type": "markdown",
   "metadata": {},
   "source": [
    "---\n",
    "<a id=\"section13\"></a>\n",
    "# <font color=\"#004D7F\" size=5> 1.3. Documentation and License</font>"
   ]
  },
  {
   "cell_type": "markdown",
   "metadata": {},
   "source": [
    "TINTOlib has a wide range of documentation on both GitHub and PiPY. \n",
    "\n",
    "Moreover, TINTOlib is free and open software with Apache 2.0 license."
   ]
  },
  {
   "cell_type": "markdown",
   "metadata": {},
   "source": [
    "<div class=\"alert alert-block alert-info\">\n",
    "\n",
    "<i class=\"fa fa-info-circle\" aria-hidden=\"true\"></i>\n",
    "You can see all information about TINTOlib code in [GitHub](https://github.com/oeg-upm/TINTOlib)"
   ]
  },
  {
   "cell_type": "markdown",
   "metadata": {},
   "source": [
    "<div class=\"alert alert-block alert-info\">\n",
    "\n",
    "<i class=\"fa fa-info-circle\" aria-hidden=\"true\"></i>\n",
    "You can see all information about TINTOlib documentation in [PyPI](https://tintolib.readthedocs.io/en/latest/installation.html)"
   ]
  },
  {
   "cell_type": "markdown",
   "metadata": {
    "id": "Z3EzYcjJjpC6"
   },
   "source": [
    "---\n",
    "<div style=\"text-align: right\"> <font size=5> <a href=\"#indice\"><i class=\"fa fa-arrow-circle-up\" aria-hidden=\"true\" style=\"color:#004D7F\"></i></a></font></div>\n",
    "\n",
    "---"
   ]
  },
  {
   "cell_type": "markdown",
   "metadata": {
    "id": "qwYF5A2njpC8"
   },
   "source": [
    "<a id=\"section2\"></a>\n",
    "# <font color=\"#004D7F\" size=6> 2. Libraries</font>"
   ]
  },
  {
   "cell_type": "markdown",
   "metadata": {
    "id": "HFrF4C89jpCt"
   },
   "source": [
    "---\n",
    "<a id=\"section21\"></a>\n",
    "# <font color=\"#004D7F\" size=5> 2.1. System setup</font>"
   ]
  },
  {
   "cell_type": "markdown",
   "metadata": {},
   "source": [
    "Before installing the libraries you must have the `mpi4py` package installed on the native (Linux) system. This link shows how to install it: \n",
    "- [mpi4py in Linux](https://www.geeksforgeeks.org/how-to-install-python3-mpi4py-package-on-linux/)"
   ]
  },
  {
   "cell_type": "markdown",
   "metadata": {},
   "source": [
    "For example, in Linux:\n",
    "\n",
    "```\n",
    "    sudo apt-get install python3\n",
    "    sudo apt install python3-pip\n",
    "    sudo apt install python3-mpi4py\n",
    "```\n",
    "\n",
    "If you are in Windows, Mac or, also, Linux, you can install from PyPI if you want:\n",
    "```\n",
    "    sudo pip3 install mpi4py\n",
    "```"
   ]
  },
  {
   "cell_type": "markdown",
   "metadata": {},
   "source": [
    "<div class=\"alert alert-block alert-info\">\n",
    "    \n",
    "<i class=\"fa fa-info-circle\" aria-hidden=\"true\"></i>\n",
    "Note that you must **restart the kernel or the system** so that it can load the libraries. "
   ]
  },
  {
   "cell_type": "markdown",
   "metadata": {},
   "source": [
    "Now, once you have installed `mpi4py` you can install the PyPI libraries and dependences."
   ]
  },
  {
   "cell_type": "code",
   "execution_count": 1,
   "metadata": {},
   "outputs": [
    {
     "name": "stdout",
     "output_type": "stream",
     "text": [
      "Requirement already satisfied: torchmetrics in c:\\users\\jiayu\\anaconda3\\envs\\tinto-hnn\\lib\\site-packages (1.3.0.post0)\n",
      "Requirement already satisfied: pytorch_lightning in c:\\users\\jiayu\\anaconda3\\envs\\tinto-hnn\\lib\\site-packages (2.1.3)\n",
      "Requirement already satisfied: TINTOlib in c:\\users\\jiayu\\anaconda3\\envs\\tinto-hnn\\lib\\site-packages (0.0.14)\n",
      "Requirement already satisfied: imblearn in c:\\users\\jiayu\\anaconda3\\envs\\tinto-hnn\\lib\\site-packages (0.0)\n",
      "Requirement already satisfied: keras_preprocessing in c:\\users\\jiayu\\anaconda3\\envs\\tinto-hnn\\lib\\site-packages (1.1.2)\n",
      "Requirement already satisfied: mpi4py in c:\\users\\jiayu\\anaconda3\\envs\\tinto-hnn\\lib\\site-packages (3.1.5)\n",
      "Requirement already satisfied: numpy>1.20.0 in c:\\users\\jiayu\\anaconda3\\envs\\tinto-hnn\\lib\\site-packages (from torchmetrics) (1.24.3)\n",
      "Requirement already satisfied: packaging>17.1 in c:\\users\\jiayu\\anaconda3\\envs\\tinto-hnn\\lib\\site-packages (from torchmetrics) (23.2)\n",
      "Requirement already satisfied: torch>=1.10.0 in c:\\users\\jiayu\\anaconda3\\envs\\tinto-hnn\\lib\\site-packages (from torchmetrics) (2.2.0+cu118)\n",
      "Requirement already satisfied: lightning-utilities>=0.8.0 in c:\\users\\jiayu\\anaconda3\\envs\\tinto-hnn\\lib\\site-packages (from torchmetrics) (0.10.1)\n",
      "Requirement already satisfied: tqdm>=4.57.0 in c:\\users\\jiayu\\appdata\\roaming\\python\\python311\\site-packages (from pytorch_lightning) (4.66.1)\n",
      "Requirement already satisfied: PyYAML>=5.4 in c:\\users\\jiayu\\anaconda3\\envs\\tinto-hnn\\lib\\site-packages (from pytorch_lightning) (6.0.1)\n",
      "Requirement already satisfied: fsspec>=2022.5.0 in c:\\users\\jiayu\\anaconda3\\envs\\tinto-hnn\\lib\\site-packages (from fsspec[http]>=2022.5.0->pytorch_lightning) (2023.12.2)\n",
      "Requirement already satisfied: typing-extensions>=4.0.0 in c:\\users\\jiayu\\anaconda3\\envs\\tinto-hnn\\lib\\site-packages (from pytorch_lightning) (4.8.0)\n",
      "Requirement already satisfied: imbalanced-learn in c:\\users\\jiayu\\anaconda3\\envs\\tinto-hnn\\lib\\site-packages (from imblearn) (0.12.0)\n",
      "Requirement already satisfied: six>=1.9.0 in c:\\users\\jiayu\\anaconda3\\envs\\tinto-hnn\\lib\\site-packages (from keras_preprocessing) (1.16.0)\n",
      "Requirement already satisfied: requests in c:\\users\\jiayu\\appdata\\roaming\\python\\python311\\site-packages (from fsspec[http]>=2022.5.0->pytorch_lightning) (2.31.0)\n",
      "Requirement already satisfied: aiohttp!=4.0.0a0,!=4.0.0a1 in c:\\users\\jiayu\\anaconda3\\envs\\tinto-hnn\\lib\\site-packages (from fsspec[http]>=2022.5.0->pytorch_lightning) (3.9.3)\n",
      "Requirement already satisfied: setuptools in c:\\users\\jiayu\\anaconda3\\envs\\tinto-hnn\\lib\\site-packages (from lightning-utilities>=0.8.0->torchmetrics) (68.2.2)\n",
      "Requirement already satisfied: filelock in c:\\users\\jiayu\\anaconda3\\envs\\tinto-hnn\\lib\\site-packages (from torch>=1.10.0->torchmetrics) (3.13.1)\n",
      "Requirement already satisfied: sympy in c:\\users\\jiayu\\anaconda3\\envs\\tinto-hnn\\lib\\site-packages (from torch>=1.10.0->torchmetrics) (1.12)\n",
      "Requirement already satisfied: networkx in c:\\users\\jiayu\\anaconda3\\envs\\tinto-hnn\\lib\\site-packages (from torch>=1.10.0->torchmetrics) (3.3)\n",
      "Requirement already satisfied: jinja2 in c:\\users\\jiayu\\anaconda3\\envs\\tinto-hnn\\lib\\site-packages (from torch>=1.10.0->torchmetrics) (3.1.3)\n",
      "Requirement already satisfied: colorama in c:\\users\\jiayu\\appdata\\roaming\\python\\python311\\site-packages (from tqdm>=4.57.0->pytorch_lightning) (0.4.6)\n",
      "Requirement already satisfied: scipy>=1.5.0 in c:\\users\\jiayu\\appdata\\roaming\\python\\python311\\site-packages (from imbalanced-learn->imblearn) (1.11.2)\n",
      "Requirement already satisfied: scikit-learn>=1.0.2 in c:\\users\\jiayu\\anaconda3\\envs\\tinto-hnn\\lib\\site-packages (from imbalanced-learn->imblearn) (1.4.0)\n",
      "Requirement already satisfied: joblib>=1.1.1 in c:\\users\\jiayu\\anaconda3\\envs\\tinto-hnn\\lib\\site-packages (from imbalanced-learn->imblearn) (1.3.2)\n",
      "Requirement already satisfied: threadpoolctl>=2.0.0 in c:\\users\\jiayu\\anaconda3\\envs\\tinto-hnn\\lib\\site-packages (from imbalanced-learn->imblearn) (3.2.0)\n",
      "Requirement already satisfied: aiosignal>=1.1.2 in c:\\users\\jiayu\\anaconda3\\envs\\tinto-hnn\\lib\\site-packages (from aiohttp!=4.0.0a0,!=4.0.0a1->fsspec[http]>=2022.5.0->pytorch_lightning) (1.3.1)\n",
      "Requirement already satisfied: attrs>=17.3.0 in c:\\users\\jiayu\\anaconda3\\envs\\tinto-hnn\\lib\\site-packages (from aiohttp!=4.0.0a0,!=4.0.0a1->fsspec[http]>=2022.5.0->pytorch_lightning) (23.2.0)\n",
      "Requirement already satisfied: frozenlist>=1.1.1 in c:\\users\\jiayu\\anaconda3\\envs\\tinto-hnn\\lib\\site-packages (from aiohttp!=4.0.0a0,!=4.0.0a1->fsspec[http]>=2022.5.0->pytorch_lightning) (1.4.1)\n",
      "Requirement already satisfied: multidict<7.0,>=4.5 in c:\\users\\jiayu\\anaconda3\\envs\\tinto-hnn\\lib\\site-packages (from aiohttp!=4.0.0a0,!=4.0.0a1->fsspec[http]>=2022.5.0->pytorch_lightning) (6.0.4)\n",
      "Requirement already satisfied: yarl<2.0,>=1.0 in c:\\users\\jiayu\\anaconda3\\envs\\tinto-hnn\\lib\\site-packages (from aiohttp!=4.0.0a0,!=4.0.0a1->fsspec[http]>=2022.5.0->pytorch_lightning) (1.9.4)\n",
      "Requirement already satisfied: MarkupSafe>=2.0 in c:\\users\\jiayu\\appdata\\roaming\\python\\python311\\site-packages (from jinja2->torch>=1.10.0->torchmetrics) (2.1.3)\n",
      "Requirement already satisfied: charset-normalizer<4,>=2 in c:\\users\\jiayu\\anaconda3\\envs\\tinto-hnn\\lib\\site-packages (from requests->fsspec[http]>=2022.5.0->pytorch_lightning) (3.3.2)\n",
      "Requirement already satisfied: idna<4,>=2.5 in c:\\users\\jiayu\\appdata\\roaming\\python\\python311\\site-packages (from requests->fsspec[http]>=2022.5.0->pytorch_lightning) (3.4)\n",
      "Requirement already satisfied: urllib3<3,>=1.21.1 in c:\\users\\jiayu\\anaconda3\\envs\\tinto-hnn\\lib\\site-packages (from requests->fsspec[http]>=2022.5.0->pytorch_lightning) (2.2.1)\n",
      "Requirement already satisfied: certifi>=2017.4.17 in c:\\users\\jiayu\\appdata\\roaming\\python\\python311\\site-packages (from requests->fsspec[http]>=2022.5.0->pytorch_lightning) (2023.7.22)\n",
      "Requirement already satisfied: mpmath>=0.19 in c:\\users\\jiayu\\anaconda3\\envs\\tinto-hnn\\lib\\site-packages (from sympy->torch>=1.10.0->torchmetrics) (1.3.0)\n"
     ]
    }
   ],
   "source": [
    "!pip install torchmetrics pytorch_lightning TINTOlib imblearn keras_preprocessing mpi4py"
   ]
  },
  {
   "cell_type": "markdown",
   "metadata": {},
   "source": [
    "<div class=\"alert alert-block alert-info\">\n",
    "    \n",
    "<i class=\"fa fa-info-circle\" aria-hidden=\"true\"></i>\n",
    "Note that you must **restart the kernel** so that it can load the libraries. "
   ]
  },
  {
   "cell_type": "markdown",
   "metadata": {
    "id": "HFrF4C89jpCt"
   },
   "source": [
    "---\n",
    "<a id=\"section22\"></a>\n",
    "# <font color=\"#004D7F\" size=5> 2.2. Invoke the libraries</font>"
   ]
  },
  {
   "cell_type": "markdown",
   "metadata": {
    "id": "5AdHKnWYsEq_"
   },
   "source": [
    "The first thing we need to do is to declare the libraries"
   ]
  },
  {
   "cell_type": "code",
   "execution_count": 2,
   "metadata": {
    "id": "PeeBbGxlpjFp",
    "tags": []
   },
   "outputs": [
    {
     "name": "stderr",
     "output_type": "stream",
     "text": [
      "C:\\Users\\jiayu\\AppData\\Local\\Temp\\ipykernel_26672\\2800590509.py:2: DeprecationWarning: \n",
      "Pyarrow will become a required dependency of pandas in the next major release of pandas (pandas 3.0),\n",
      "(to allow more performant data types, such as the Arrow string type, and better interoperability with other libraries)\n",
      "but was not found to be installed on your system.\n",
      "If this would cause problems for you,\n",
      "please provide us feedback at https://github.com/pandas-dev/pandas/issues/54466\n",
      "        \n",
      "  import pandas as pd\n"
     ]
    }
   ],
   "source": [
    "import os\n",
    "import pandas as pd\n",
    "import numpy as np\n",
    "from tqdm import tqdm\n",
    "#import cv2\n",
    "import gc\n",
    "import matplotlib.pyplot as plt\n",
    "#import openslide\n",
    "#from openslide.deepzoom import DeepZoomGenerator\n",
    "import tifffile as tifi\n",
    "import sklearn\n",
    "import tensorflow as tf\n",
    "\n",
    "from keras_preprocessing.image import ImageDataGenerator\n",
    "from tensorflow.keras.models import load_model\n",
    "\n",
    "from sklearn.model_selection import train_test_split\n",
    "from tensorflow.keras.applications import vgg16, vgg19, resnet50, mobilenet, inception_resnet_v2, densenet, inception_v3, xception, nasnet, ResNet152V2\n",
    "from tensorflow.keras.models import Sequential, Model, load_model\n",
    "from tensorflow.keras.layers import Dense, Conv2D, MaxPool2D, Flatten, Dropout, BatchNormalization, InputLayer, LayerNormalization\n",
    "from tensorflow.keras.callbacks import ModelCheckpoint, ReduceLROnPlateau, EarlyStopping\n",
    "from tensorflow.keras.optimizers import SGD, Adam, Adadelta, Adamax\n",
    "\n",
    "from imblearn.over_sampling import RandomOverSampler\n",
    "#Models of TINTOlib\n",
    "from TINTOlib.tinto import TINTO\n",
    "from TINTOlib.supertml import SuperTML\n",
    "from TINTOlib.igtd import IGTD\n",
    "from TINTOlib.refined import REFINED\n",
    "from TINTOlib.barGraph import BarGraph\n",
    "from TINTOlib.distanceMatrix import DistanceMatrix\n",
    "from TINTOlib.combination import Combination"
   ]
  },
  {
   "cell_type": "markdown",
   "metadata": {
    "id": "NwS-cKUxjpDQ"
   },
   "source": [
    "---\n",
    "<div style=\"text-align: right\"> <font size=5> <a href=\"#indice\"><i class=\"fa fa-arrow-circle-up\" aria-hidden=\"true\" style=\"color:#004D7F\"></i></a></font></div>\n",
    "\n",
    "---"
   ]
  },
  {
   "cell_type": "markdown",
   "metadata": {
    "id": "aDL4LARWjpDT"
   },
   "source": [
    "<a id=\"section3\"></a>\n",
    "# <font color=\"#004D7F\" size=6> 3. Data processing</font>"
   ]
  },
  {
   "cell_type": "markdown",
   "metadata": {
    "id": "pLzynCxOpHBX"
   },
   "source": [
    "---\n",
    "<a id=\"section31\"></a>\n",
    "# <font color=\"#004D7F\" size=5> 3.1. TINTOlib methods</font>"
   ]
  },
  {
   "cell_type": "markdown",
   "metadata": {},
   "source": [
    "We prepare the declaration of the classes with the TINTOlib method we want to transform. Note that TINTOlib has several methods and we will have to choose one of them since each method generates different images.\n",
    "\n",
    "In addition, we establish the paths where the dataset is located and also the folder where the images will be created."
   ]
  },
  {
   "cell_type": "code",
   "execution_count": 3,
   "metadata": {},
   "outputs": [],
   "source": [
    "#Select the model and the parameters\n",
    "problem_type = \"supervised\"\n",
    "#image_model = REFINED(problem= problem_type,hcIterations=5)\n",
    "image_model = TINTO(problem= problem_type,blur=True)\n",
    "#image_model = IGTD(problem= problem_type)\n",
    "#image_model = BarGraph(problem= problem_type)\n",
    "#image_model = DistanceMatrix(problem= problem_type)\n",
    "#image_model = Combination(problem= problem_type)\n",
    "\n",
    "#Define the dataset path and the folder where the images will be saved\n",
    "dataset_path = \"../sample_data/cancer.csv\"\n",
    "images_folder = \"../HyNNImages/Classification/images_cancer_TINTO\"\n",
    "\n"
   ]
  },
  {
   "cell_type": "markdown",
   "metadata": {},
   "source": [
    "<div class=\"alert alert-block alert-info\">\n",
    "\n",
    "<i class=\"fa fa-info-circle\" aria-hidden=\"true\"></i>\n",
    "You can see all TINTOlib method in the [PyPI documentation](https://tintolib.readthedocs.io/en/latest/installation.html)"
   ]
  },
  {
   "cell_type": "markdown",
   "metadata": {
    "id": "pLzynCxOpHBX"
   },
   "source": [
    "---\n",
    "<a id=\"section32\"></a>\n",
    "# <font color=\"#004D7F\" size=5> 3.2. Read the dataset</font>"
   ]
  },
  {
   "cell_type": "markdown",
   "metadata": {},
   "source": [
    "In this part, we proceed to read the dataset according to the path specified above and also standardize the name that the target will have, in this case, it will be called _class_"
   ]
  },
  {
   "cell_type": "code",
   "execution_count": 4,
   "metadata": {
    "scrolled": true
   },
   "outputs": [
    {
     "data": {
      "text/html": [
       "<div>\n",
       "<style scoped>\n",
       "    .dataframe tbody tr th:only-of-type {\n",
       "        vertical-align: middle;\n",
       "    }\n",
       "\n",
       "    .dataframe tbody tr th {\n",
       "        vertical-align: top;\n",
       "    }\n",
       "\n",
       "    .dataframe thead th {\n",
       "        text-align: right;\n",
       "    }\n",
       "</style>\n",
       "<table border=\"1\" class=\"dataframe\">\n",
       "  <thead>\n",
       "    <tr style=\"text-align: right;\">\n",
       "      <th></th>\n",
       "      <th>0</th>\n",
       "      <th>1</th>\n",
       "      <th>2</th>\n",
       "      <th>3</th>\n",
       "      <th>4</th>\n",
       "      <th>5</th>\n",
       "      <th>6</th>\n",
       "      <th>7</th>\n",
       "      <th>8</th>\n",
       "      <th>9</th>\n",
       "      <th>...</th>\n",
       "      <th>21</th>\n",
       "      <th>22</th>\n",
       "      <th>23</th>\n",
       "      <th>24</th>\n",
       "      <th>25</th>\n",
       "      <th>26</th>\n",
       "      <th>27</th>\n",
       "      <th>28</th>\n",
       "      <th>29</th>\n",
       "      <th>class</th>\n",
       "    </tr>\n",
       "  </thead>\n",
       "  <tbody>\n",
       "    <tr>\n",
       "      <th>0</th>\n",
       "      <td>0.643144</td>\n",
       "      <td>0.272574</td>\n",
       "      <td>0.615783</td>\n",
       "      <td>0.501591</td>\n",
       "      <td>0.289880</td>\n",
       "      <td>0.181768</td>\n",
       "      <td>0.203608</td>\n",
       "      <td>0.348757</td>\n",
       "      <td>0.379798</td>\n",
       "      <td>0.141323</td>\n",
       "      <td>...</td>\n",
       "      <td>0.303571</td>\n",
       "      <td>0.539818</td>\n",
       "      <td>0.435214</td>\n",
       "      <td>0.347553</td>\n",
       "      <td>0.154563</td>\n",
       "      <td>0.192971</td>\n",
       "      <td>0.639175</td>\n",
       "      <td>0.233590</td>\n",
       "      <td>0.222878</td>\n",
       "      <td>1.0</td>\n",
       "    </tr>\n",
       "    <tr>\n",
       "      <th>1</th>\n",
       "      <td>0.601496</td>\n",
       "      <td>0.390260</td>\n",
       "      <td>0.595743</td>\n",
       "      <td>0.449417</td>\n",
       "      <td>0.514309</td>\n",
       "      <td>0.431017</td>\n",
       "      <td>0.462512</td>\n",
       "      <td>0.635686</td>\n",
       "      <td>0.509596</td>\n",
       "      <td>0.211247</td>\n",
       "      <td>...</td>\n",
       "      <td>0.360075</td>\n",
       "      <td>0.508442</td>\n",
       "      <td>0.374508</td>\n",
       "      <td>0.483590</td>\n",
       "      <td>0.385375</td>\n",
       "      <td>0.359744</td>\n",
       "      <td>0.835052</td>\n",
       "      <td>0.403706</td>\n",
       "      <td>0.213433</td>\n",
       "      <td>1.0</td>\n",
       "    </tr>\n",
       "    <tr>\n",
       "      <th>2</th>\n",
       "      <td>0.210090</td>\n",
       "      <td>0.360839</td>\n",
       "      <td>0.233501</td>\n",
       "      <td>0.102906</td>\n",
       "      <td>0.811321</td>\n",
       "      <td>0.811361</td>\n",
       "      <td>0.565604</td>\n",
       "      <td>0.522863</td>\n",
       "      <td>0.776263</td>\n",
       "      <td>1.000000</td>\n",
       "      <td>...</td>\n",
       "      <td>0.385928</td>\n",
       "      <td>0.241347</td>\n",
       "      <td>0.094008</td>\n",
       "      <td>0.915472</td>\n",
       "      <td>0.814012</td>\n",
       "      <td>0.548642</td>\n",
       "      <td>0.884880</td>\n",
       "      <td>1.000000</td>\n",
       "      <td>0.773711</td>\n",
       "      <td>1.0</td>\n",
       "    </tr>\n",
       "    <tr>\n",
       "      <th>3</th>\n",
       "      <td>0.629893</td>\n",
       "      <td>0.156578</td>\n",
       "      <td>0.630986</td>\n",
       "      <td>0.489290</td>\n",
       "      <td>0.430351</td>\n",
       "      <td>0.347893</td>\n",
       "      <td>0.463918</td>\n",
       "      <td>0.518390</td>\n",
       "      <td>0.378283</td>\n",
       "      <td>0.186816</td>\n",
       "      <td>...</td>\n",
       "      <td>0.123934</td>\n",
       "      <td>0.506948</td>\n",
       "      <td>0.341575</td>\n",
       "      <td>0.437364</td>\n",
       "      <td>0.172415</td>\n",
       "      <td>0.319489</td>\n",
       "      <td>0.558419</td>\n",
       "      <td>0.157500</td>\n",
       "      <td>0.142595</td>\n",
       "      <td>1.0</td>\n",
       "    </tr>\n",
       "    <tr>\n",
       "      <th>4</th>\n",
       "      <td>0.258839</td>\n",
       "      <td>0.202570</td>\n",
       "      <td>0.267984</td>\n",
       "      <td>0.141506</td>\n",
       "      <td>0.678613</td>\n",
       "      <td>0.461996</td>\n",
       "      <td>0.369728</td>\n",
       "      <td>0.402038</td>\n",
       "      <td>0.518687</td>\n",
       "      <td>0.551179</td>\n",
       "      <td>...</td>\n",
       "      <td>0.312633</td>\n",
       "      <td>0.263908</td>\n",
       "      <td>0.136748</td>\n",
       "      <td>0.712739</td>\n",
       "      <td>0.482784</td>\n",
       "      <td>0.427716</td>\n",
       "      <td>0.598282</td>\n",
       "      <td>0.477035</td>\n",
       "      <td>0.454939</td>\n",
       "      <td>1.0</td>\n",
       "    </tr>\n",
       "    <tr>\n",
       "      <th>...</th>\n",
       "      <td>...</td>\n",
       "      <td>...</td>\n",
       "      <td>...</td>\n",
       "      <td>...</td>\n",
       "      <td>...</td>\n",
       "      <td>...</td>\n",
       "      <td>...</td>\n",
       "      <td>...</td>\n",
       "      <td>...</td>\n",
       "      <td>...</td>\n",
       "      <td>...</td>\n",
       "      <td>...</td>\n",
       "      <td>...</td>\n",
       "      <td>...</td>\n",
       "      <td>...</td>\n",
       "      <td>...</td>\n",
       "      <td>...</td>\n",
       "      <td>...</td>\n",
       "      <td>...</td>\n",
       "      <td>...</td>\n",
       "      <td>...</td>\n",
       "    </tr>\n",
       "    <tr>\n",
       "      <th>563</th>\n",
       "      <td>0.690000</td>\n",
       "      <td>0.428813</td>\n",
       "      <td>0.678668</td>\n",
       "      <td>0.566490</td>\n",
       "      <td>0.526948</td>\n",
       "      <td>0.296055</td>\n",
       "      <td>0.571462</td>\n",
       "      <td>0.690358</td>\n",
       "      <td>0.336364</td>\n",
       "      <td>0.132056</td>\n",
       "      <td>...</td>\n",
       "      <td>0.383262</td>\n",
       "      <td>0.576174</td>\n",
       "      <td>0.452664</td>\n",
       "      <td>0.461137</td>\n",
       "      <td>0.178527</td>\n",
       "      <td>0.328035</td>\n",
       "      <td>0.761512</td>\n",
       "      <td>0.097575</td>\n",
       "      <td>0.105667</td>\n",
       "      <td>1.0</td>\n",
       "    </tr>\n",
       "    <tr>\n",
       "      <th>564</th>\n",
       "      <td>0.622320</td>\n",
       "      <td>0.626987</td>\n",
       "      <td>0.604036</td>\n",
       "      <td>0.474019</td>\n",
       "      <td>0.407782</td>\n",
       "      <td>0.257714</td>\n",
       "      <td>0.337395</td>\n",
       "      <td>0.486630</td>\n",
       "      <td>0.349495</td>\n",
       "      <td>0.113100</td>\n",
       "      <td>...</td>\n",
       "      <td>0.699094</td>\n",
       "      <td>0.520892</td>\n",
       "      <td>0.379915</td>\n",
       "      <td>0.300007</td>\n",
       "      <td>0.159997</td>\n",
       "      <td>0.256789</td>\n",
       "      <td>0.559450</td>\n",
       "      <td>0.198502</td>\n",
       "      <td>0.074315</td>\n",
       "      <td>1.0</td>\n",
       "    </tr>\n",
       "    <tr>\n",
       "      <th>565</th>\n",
       "      <td>0.455251</td>\n",
       "      <td>0.621238</td>\n",
       "      <td>0.445788</td>\n",
       "      <td>0.303118</td>\n",
       "      <td>0.288165</td>\n",
       "      <td>0.254340</td>\n",
       "      <td>0.216753</td>\n",
       "      <td>0.263519</td>\n",
       "      <td>0.267677</td>\n",
       "      <td>0.137321</td>\n",
       "      <td>...</td>\n",
       "      <td>0.589019</td>\n",
       "      <td>0.379949</td>\n",
       "      <td>0.230731</td>\n",
       "      <td>0.282177</td>\n",
       "      <td>0.273705</td>\n",
       "      <td>0.271805</td>\n",
       "      <td>0.487285</td>\n",
       "      <td>0.128721</td>\n",
       "      <td>0.151909</td>\n",
       "      <td>1.0</td>\n",
       "    </tr>\n",
       "    <tr>\n",
       "      <th>566</th>\n",
       "      <td>0.644564</td>\n",
       "      <td>0.663510</td>\n",
       "      <td>0.665538</td>\n",
       "      <td>0.475716</td>\n",
       "      <td>0.588336</td>\n",
       "      <td>0.790197</td>\n",
       "      <td>0.823336</td>\n",
       "      <td>0.755467</td>\n",
       "      <td>0.675253</td>\n",
       "      <td>0.425442</td>\n",
       "      <td>...</td>\n",
       "      <td>0.730277</td>\n",
       "      <td>0.668310</td>\n",
       "      <td>0.402035</td>\n",
       "      <td>0.619626</td>\n",
       "      <td>0.815758</td>\n",
       "      <td>0.749760</td>\n",
       "      <td>0.910653</td>\n",
       "      <td>0.497142</td>\n",
       "      <td>0.452315</td>\n",
       "      <td>1.0</td>\n",
       "    </tr>\n",
       "    <tr>\n",
       "      <th>567</th>\n",
       "      <td>0.036869</td>\n",
       "      <td>0.501522</td>\n",
       "      <td>0.028540</td>\n",
       "      <td>0.015907</td>\n",
       "      <td>0.000000</td>\n",
       "      <td>0.074351</td>\n",
       "      <td>0.000000</td>\n",
       "      <td>0.000000</td>\n",
       "      <td>0.266162</td>\n",
       "      <td>0.187026</td>\n",
       "      <td>...</td>\n",
       "      <td>0.489072</td>\n",
       "      <td>0.043578</td>\n",
       "      <td>0.020497</td>\n",
       "      <td>0.124084</td>\n",
       "      <td>0.036043</td>\n",
       "      <td>0.000000</td>\n",
       "      <td>0.000000</td>\n",
       "      <td>0.257441</td>\n",
       "      <td>0.100682</td>\n",
       "      <td>-1.0</td>\n",
       "    </tr>\n",
       "  </tbody>\n",
       "</table>\n",
       "<p>568 rows × 31 columns</p>\n",
       "</div>"
      ],
      "text/plain": [
       "            0         1         2         3         4         5         6  \\\n",
       "0    0.643144  0.272574  0.615783  0.501591  0.289880  0.181768  0.203608   \n",
       "1    0.601496  0.390260  0.595743  0.449417  0.514309  0.431017  0.462512   \n",
       "2    0.210090  0.360839  0.233501  0.102906  0.811321  0.811361  0.565604   \n",
       "3    0.629893  0.156578  0.630986  0.489290  0.430351  0.347893  0.463918   \n",
       "4    0.258839  0.202570  0.267984  0.141506  0.678613  0.461996  0.369728   \n",
       "..        ...       ...       ...       ...       ...       ...       ...   \n",
       "563  0.690000  0.428813  0.678668  0.566490  0.526948  0.296055  0.571462   \n",
       "564  0.622320  0.626987  0.604036  0.474019  0.407782  0.257714  0.337395   \n",
       "565  0.455251  0.621238  0.445788  0.303118  0.288165  0.254340  0.216753   \n",
       "566  0.644564  0.663510  0.665538  0.475716  0.588336  0.790197  0.823336   \n",
       "567  0.036869  0.501522  0.028540  0.015907  0.000000  0.074351  0.000000   \n",
       "\n",
       "            7         8         9  ...        21        22        23  \\\n",
       "0    0.348757  0.379798  0.141323  ...  0.303571  0.539818  0.435214   \n",
       "1    0.635686  0.509596  0.211247  ...  0.360075  0.508442  0.374508   \n",
       "2    0.522863  0.776263  1.000000  ...  0.385928  0.241347  0.094008   \n",
       "3    0.518390  0.378283  0.186816  ...  0.123934  0.506948  0.341575   \n",
       "4    0.402038  0.518687  0.551179  ...  0.312633  0.263908  0.136748   \n",
       "..        ...       ...       ...  ...       ...       ...       ...   \n",
       "563  0.690358  0.336364  0.132056  ...  0.383262  0.576174  0.452664   \n",
       "564  0.486630  0.349495  0.113100  ...  0.699094  0.520892  0.379915   \n",
       "565  0.263519  0.267677  0.137321  ...  0.589019  0.379949  0.230731   \n",
       "566  0.755467  0.675253  0.425442  ...  0.730277  0.668310  0.402035   \n",
       "567  0.000000  0.266162  0.187026  ...  0.489072  0.043578  0.020497   \n",
       "\n",
       "           24        25        26        27        28        29  class  \n",
       "0    0.347553  0.154563  0.192971  0.639175  0.233590  0.222878    1.0  \n",
       "1    0.483590  0.385375  0.359744  0.835052  0.403706  0.213433    1.0  \n",
       "2    0.915472  0.814012  0.548642  0.884880  1.000000  0.773711    1.0  \n",
       "3    0.437364  0.172415  0.319489  0.558419  0.157500  0.142595    1.0  \n",
       "4    0.712739  0.482784  0.427716  0.598282  0.477035  0.454939    1.0  \n",
       "..        ...       ...       ...       ...       ...       ...    ...  \n",
       "563  0.461137  0.178527  0.328035  0.761512  0.097575  0.105667    1.0  \n",
       "564  0.300007  0.159997  0.256789  0.559450  0.198502  0.074315    1.0  \n",
       "565  0.282177  0.273705  0.271805  0.487285  0.128721  0.151909    1.0  \n",
       "566  0.619626  0.815758  0.749760  0.910653  0.497142  0.452315    1.0  \n",
       "567  0.124084  0.036043  0.000000  0.000000  0.257441  0.100682   -1.0  \n",
       "\n",
       "[568 rows x 31 columns]"
      ]
     },
     "execution_count": 4,
     "metadata": {},
     "output_type": "execute_result"
    }
   ],
   "source": [
    "#Read CSV\n",
    "df=pd.read_csv(dataset_path)\n",
    "\n",
    "diagnosis_col = df.iloc[:,-1]\n",
    "df = df.iloc[: , :-1]\n",
    "df['class'] = diagnosis_col\n",
    "df"
   ]
  },
  {
   "cell_type": "markdown",
   "metadata": {
    "id": "pLzynCxOpHBX"
   },
   "source": [
    "---\n",
    "<a id=\"section33\"></a>\n",
    "# <font color=\"#004D7F\" size=5> 3.3. Generate images</font>"
   ]
  },
  {
   "cell_type": "markdown",
   "metadata": {},
   "source": [
    "Now we can generate the images with the `generateImages()` generic function. Likewise, we create a dataset that will have the path of each of the samples with the corresponding image created for it. \n",
    "\n",
    "Note that each image is created based on a row, therefore, each numerical sample of the dataset will correspond to a particular image. In other words, we will have the same number of images as samples/rows."
   ]
  },
  {
   "cell_type": "code",
   "execution_count": 5,
   "metadata": {},
   "outputs": [
    {
     "name": "stdout",
     "output_type": "stream",
     "text": [
      "The images are already generated\n",
      "../HyNNImages/Classification/images_cancer_TINTO\\supervised.csv\n"
     ]
    }
   ],
   "source": [
    "import os\n",
    "\n",
    "# Generate the images if the folder does not exist\n",
    "if not os.path.exists(images_folder):\n",
    "    #Generate thet images\n",
    "    image_model.generateImages(df, images_folder)\n",
    "else:\n",
    "    print(\"The images are already generated\")\n",
    "\n",
    "img_paths = os.path.join(images_folder,problem_type+\".csv\")\n",
    "\n",
    "print(img_paths)"
   ]
  },
  {
   "cell_type": "markdown",
   "metadata": {
    "id": "klS9PZsUjpDV"
   },
   "source": [
    "<a id=\"section34\"></a>\n",
    "# <font color=\"#004D7F\" size=5> 3.4. Read images</font>"
   ]
  },
  {
   "cell_type": "markdown",
   "metadata": {
    "id": "COh9Th5jsDei"
   },
   "source": [
    "Once the images have been created we can read them. In this particular case, by using a pure CNN, we will use the images only to train our model."
   ]
  },
  {
   "cell_type": "code",
   "execution_count": 6,
   "metadata": {},
   "outputs": [
    {
     "name": "stdout",
     "output_type": "stream",
     "text": [
      "../HyNNImages/Classification/images_cancer_TINTO/1.0\\000000.png\n",
      "class\n",
      "-1.0    357\n",
      "1.0     211\n",
      "Name: count, dtype: int64\n"
     ]
    }
   ],
   "source": [
    "df = pd.read_csv(img_paths)\n",
    "df[\"class\"] = df[\"class\"].astype(str)\n",
    "df[\"images\"]= images_folder + \"/\" + df[\"images\"]\n",
    "\n",
    "print(df[\"images\"][0])\n",
    "print(df[\"class\"].value_counts())"
   ]
  },
  {
   "cell_type": "markdown",
   "metadata": {},
   "source": [
    "---\n",
    "<div style=\"text-align: right\"> <font size=5> <a href=\"#indice\"><i class=\"fa fa-arrow-circle-up\" aria-hidden=\"true\" style=\"color:#004D7F\"></i></a></font></div>\n",
    "\n",
    "---"
   ]
  },
  {
   "cell_type": "markdown",
   "metadata": {},
   "source": [
    "<a id=\"section4\"></a>\n",
    "# <font color=\"#004D7F\" size=6> 4. Pre-modelling phase</font>"
   ]
  },
  {
   "cell_type": "markdown",
   "metadata": {},
   "source": [
    "Once the data is ready, we load it into memory with an iterator in order to pass it to the CNN."
   ]
  },
  {
   "cell_type": "markdown",
   "metadata": {
    "id": "nb4Dd37rjpDm"
   },
   "source": [
    "---\n",
    "<a id=\"section41\"></a>\n",
    "# <font color=\"#004D7F\" size=5> 4.1. Data curation</font>"
   ]
  },
  {
   "cell_type": "markdown",
   "metadata": {
    "id": "9TjBcUbxjpDt"
   },
   "source": [
    "Split in train/test/validation"
   ]
  },
  {
   "cell_type": "code",
   "execution_count": 7,
   "metadata": {
    "id": "BDyHty4-pjF5",
    "tags": []
   },
   "outputs": [],
   "source": [
    "df_x = df.drop('class', axis = 1)\n",
    "df_y = df['class']\n",
    "\n",
    "X_train, X_val, y_train, y_val = train_test_split(df_x, df_y, test_size = 0.40, random_state=42,stratify=df_y)\n",
    "X_val, X_test, y_val, y_test = train_test_split(X_val, y_val, test_size = 0.50, random_state=42,stratify=y_val)\n"
   ]
  },
  {
   "cell_type": "code",
   "execution_count": 8,
   "metadata": {},
   "outputs": [
    {
     "data": {
      "text/plain": [
       "56      1.0\n",
       "523    -1.0\n",
       "449    -1.0\n",
       "472    -1.0\n",
       "420    -1.0\n",
       "       ... \n",
       "191    -1.0\n",
       "36     -1.0\n",
       "414    -1.0\n",
       "457    -1.0\n",
       "475    -1.0\n",
       "Name: class, Length: 340, dtype: object"
      ]
     },
     "execution_count": 8,
     "metadata": {},
     "output_type": "execute_result"
    }
   ],
   "source": [
    "y_train"
   ]
  },
  {
   "cell_type": "code",
   "execution_count": 9,
   "metadata": {
    "id": "9Ix84V0ApjF8",
    "tags": []
   },
   "outputs": [],
   "source": [
    "df_train = pd.concat([X_train, y_train], axis = 1)\n",
    "df_test = pd.concat([X_test, y_test], axis = 1)\n",
    "df_val = pd.concat([X_val, y_val], axis = 1)"
   ]
  },
  {
   "cell_type": "code",
   "execution_count": 10,
   "metadata": {
    "colab": {
     "base_uri": "https://localhost:8080/"
    },
    "id": "mnX_etdYpjF9",
    "outputId": "9104166d-9c5c-4ed3-b71b-c9aa23461559",
    "tags": []
   },
   "outputs": [
    {
     "name": "stdout",
     "output_type": "stream",
     "text": [
      "class\n",
      "-1.0    214\n",
      "1.0     126\n",
      "Name: count, dtype: int64\n",
      " \n",
      " \n",
      "class\n",
      "-1.0    72\n",
      "1.0     42\n",
      "Name: count, dtype: int64\n",
      " \n",
      " \n",
      "class\n",
      "-1.0    71\n",
      "1.0     43\n",
      "Name: count, dtype: int64\n"
     ]
    }
   ],
   "source": [
    "print(df_train['class'].value_counts())\n",
    "print(' ')\n",
    "print(' ')\n",
    "print(df_test['class'].value_counts())\n",
    "print(' ')\n",
    "print(' ')\n",
    "print(df_val['class'].value_counts())"
   ]
  },
  {
   "cell_type": "markdown",
   "metadata": {
    "id": "a347tUZnjpED"
   },
   "source": [
    "---\n",
    "<a id=\"section42\"></a>\n",
    "# <font color=\"#004D7F\" size=5> 4.2. Resize images</font>"
   ]
  },
  {
   "cell_type": "markdown",
   "metadata": {
    "id": "xvXLjHzAjpEE"
   },
   "source": [
    "In our case, as we are going to train with a pre-trained network, we must resize it to the dimensions established by the network. Therefore, if you make a customised CNN, this cell is optional. "
   ]
  },
  {
   "cell_type": "code",
   "execution_count": 11,
   "metadata": {
    "id": "Z0Jbdn_ypjF-",
    "tags": []
   },
   "outputs": [],
   "source": [
    "train_datagen = ImageDataGenerator(rescale = 1./255)\n",
    "valid_datagen = ImageDataGenerator(rescale = 1./255)\n",
    "teste_datagen = ImageDataGenerator(rescale = 1./255)"
   ]
  },
  {
   "cell_type": "code",
   "execution_count": 12,
   "metadata": {
    "colab": {
     "base_uri": "https://localhost:8080/"
    },
    "id": "ebOBC5iypjGA",
    "outputId": "e1bf4be0-f486-460e-9bf6-90a7f87b1939",
    "tags": []
   },
   "outputs": [
    {
     "name": "stdout",
     "output_type": "stream",
     "text": [
      "(340, 2)\n",
      "(114, 2)\n",
      "(114, 2)\n"
     ]
    }
   ],
   "source": [
    "print(df_train.shape)\n",
    "print(df_val.shape)\n",
    "print(df_test.shape)"
   ]
  },
  {
   "cell_type": "markdown",
   "metadata": {
    "id": "NjFY9rn2jpEL"
   },
   "source": [
    "---\n",
    "<a id=\"section43\"></a>\n",
    "# <font color=\"#004D7F\" size=5> 4.3. Iterators</font>"
   ]
  },
  {
   "cell_type": "markdown",
   "metadata": {},
   "source": [
    "Note that each method generates images of **different pixel size**. For example:\n",
    "- `TINTO` method has a parameter that you can specify the size in pixels which by default is 20. \n",
    "- Other parameters such as `Combined` generates the size automatically and you must obtain them from the _shape_ of the images."
   ]
  },
  {
   "cell_type": "code",
   "execution_count": 13,
   "metadata": {},
   "outputs": [],
   "source": [
    "pixels = 20"
   ]
  },
  {
   "cell_type": "markdown",
   "metadata": {},
   "source": [
    "<div class=\"alert alert-block alert-info\">\n",
    "\n",
    "<i class=\"fa fa-info-circle\" aria-hidden=\"true\"></i>\n",
    "You can see all information about TINTOlib documentation in [PyPI](https://tintolib.readthedocs.io/en/latest/installation.html)"
   ]
  },
  {
   "cell_type": "markdown",
   "metadata": {
    "id": "GFYTHIPljpEM"
   },
   "source": [
    "Create iterators for train/test/validation"
   ]
  },
  {
   "cell_type": "code",
   "execution_count": 14,
   "metadata": {
    "colab": {
     "base_uri": "https://localhost:8080/"
    },
    "id": "inaR7-KxpjGC",
    "outputId": "21305649-6133-43b8-c3cf-b6fa3faa5573",
    "tags": []
   },
   "outputs": [
    {
     "name": "stdout",
     "output_type": "stream",
     "text": [
      "Found 340 validated image filenames belonging to 2 classes.\n"
     ]
    }
   ],
   "source": [
    "train_iter = train_datagen.flow_from_dataframe(\n",
    "    df_train, \n",
    "    target_size = (pixels, pixels),\n",
    "    x_col = 'images',\n",
    "    y_col = 'class',\n",
    "    class_mode = 'categorical',\n",
    "    #class_mode = 'binary',\n",
    "    #color_mode='grayscale',\n",
    "    color_mode='rgb',\n",
    "    batch_size = 8,\n",
    "    shuffle = True\n",
    ")"
   ]
  },
  {
   "cell_type": "code",
   "execution_count": 15,
   "metadata": {
    "colab": {
     "base_uri": "https://localhost:8080/"
    },
    "id": "MGPDhsFQpjGE",
    "outputId": "e473d2ba-806a-4a48-c530-2d91305bd9ad",
    "tags": []
   },
   "outputs": [
    {
     "name": "stdout",
     "output_type": "stream",
     "text": [
      "Found 114 validated image filenames belonging to 2 classes.\n"
     ]
    }
   ],
   "source": [
    "valid_iter = train_datagen.flow_from_dataframe(\n",
    "    df_val, \n",
    "    target_size = (pixels, pixels),\n",
    "    x_col = 'images',\n",
    "    y_col = 'class',\n",
    "    class_mode = 'categorical',\n",
    "    #class_mode = 'binary',\n",
    "    #color_mode='grayscale',\n",
    "    color_mode='rgb',\n",
    "    batch_size = 8,\n",
    "    shuffle = False\n",
    ")"
   ]
  },
  {
   "cell_type": "code",
   "execution_count": 16,
   "metadata": {
    "colab": {
     "base_uri": "https://localhost:8080/"
    },
    "id": "jkWY-9y3pjGF",
    "outputId": "2942429a-0a1f-4a68-91c2-ebd8dc797b8e",
    "tags": []
   },
   "outputs": [
    {
     "name": "stdout",
     "output_type": "stream",
     "text": [
      "Found 114 validated image filenames belonging to 2 classes.\n"
     ]
    }
   ],
   "source": [
    "test_iter = train_datagen.flow_from_dataframe(\n",
    "    df_test, \n",
    "    target_size = (pixels, pixels),\n",
    "    x_col = 'images',\n",
    "    y_col = 'class',\n",
    "    class_mode = 'categorical',\n",
    "    #class_mode = 'binary',\n",
    "    #color_mode='grayscale',\n",
    "    color_mode='rgb',\n",
    "    batch_size = 8,\n",
    "    shuffle = False\n",
    ")"
   ]
  },
  {
   "cell_type": "code",
   "execution_count": 17,
   "metadata": {
    "colab": {
     "base_uri": "https://localhost:8080/"
    },
    "id": "3YzRGsb9pjGG",
    "outputId": "1edff292-1127-40d6-b68f-1e6a4d92be32",
    "tags": []
   },
   "outputs": [
    {
     "name": "stdout",
     "output_type": "stream",
     "text": [
      "(20, 20, 3)\n",
      "(20, 20, 3)\n",
      "(20, 20, 3)\n"
     ]
    }
   ],
   "source": [
    "print(train_iter.image_shape)\n",
    "print(valid_iter.image_shape)\n",
    "print(test_iter.image_shape)"
   ]
  },
  {
   "cell_type": "markdown",
   "metadata": {
    "id": "xagy7N7ijpEX"
   },
   "source": [
    "---\n",
    "<div style=\"text-align: right\"> <font size=5> <a href=\"#indice\"><i class=\"fa fa-arrow-circle-up\" aria-hidden=\"true\" style=\"color:#004D7F\"></i></a></font></div>\n",
    "\n",
    "---"
   ]
  },
  {
   "cell_type": "markdown",
   "metadata": {
    "id": "rE0VunQYjpEY"
   },
   "source": [
    "<a id=\"section5\"></a>\n",
    "# <font color=\"#004D7F\" size=6> 5. Modelling with CNN</font>"
   ]
  },
  {
   "cell_type": "markdown",
   "metadata": {
    "id": "MDfs9l-hjpEZ"
   },
   "source": [
    "Now we can start the CNN training. Before that we prepare the algorithm for reading data."
   ]
  },
  {
   "cell_type": "markdown",
   "metadata": {
    "id": "Qn2U90FwjpEe"
   },
   "source": [
    "<a id=\"section51\"></a>\n",
    "# <font color=\"#004D7F\" size=5> 5.1. CNN</font>"
   ]
  },
  {
   "cell_type": "markdown",
   "metadata": {},
   "source": [
    "This is an example of a simple CNN. Note that we are not looking for the optimization of the CNN but to show an example of TINTOlib execution."
   ]
  },
  {
   "cell_type": "code",
   "execution_count": 18,
   "metadata": {
    "id": "tZl0AETUw1r8"
   },
   "outputs": [],
   "source": [
    "from keras.models import Sequential\n",
    "from keras.optimizers import SGD\n",
    "from keras.layers import Dense, Conv2D, Flatten, Dropout, MaxPooling2D, AveragePooling2D\n",
    "from keras.layers import  BatchNormalization, Activation, Input, Concatenate\n",
    "\n",
    "dropout = 0.5\n",
    "epochs = 50\n",
    "n_class = df['class'].value_counts().count()"
   ]
  },
  {
   "cell_type": "code",
   "execution_count": 19,
   "metadata": {},
   "outputs": [],
   "source": [
    "#Entrada\n",
    "input_shape = Input(shape=(pixels, pixels,3))\n",
    "        \n",
    "#Inicio de rama 1\n",
    "tower_1 = Conv2D(16, (3,3), activation='relu',padding=\"same\")(input_shape)\n",
    "tower_1 = BatchNormalization()(tower_1)\n",
    "tower_1 = Activation('relu')(tower_1)\n",
    "tower_1 = MaxPooling2D(2,2)(tower_1)\n",
    "#tower_1 = Dropou(0.5)(tower_1)\n",
    "        \n",
    "tower_1 = Conv2D(32, (3,3), activation='relu',padding=\"same\")(tower_1)\n",
    "tower_1 = BatchNormalization()(tower_1)\n",
    "tower_1 = Activation('relu')(tower_1)\n",
    "tower_1 = MaxPooling2D(2,2)(tower_1)\n",
    "#tower_1 = Dropou(0.5)(tower_1)\n",
    "        \n",
    "tower_1 = Conv2D(64, (3,3), activation='relu',padding=\"same\")(tower_1)\n",
    "tower_1 = BatchNormalization()(tower_1)\n",
    "tower_1 = Activation('relu')(tower_1)\n",
    "tower_1 = MaxPooling2D(2,2)(tower_1)\n",
    "#tower_1 = Dropou(0.5)(tower_1)\n",
    "        \n",
    "tower_1 = Conv2D(64, (3,3), activation='relu',padding=\"same\")(tower_1)\n",
    "tower_1 = BatchNormalization()(tower_1)\n",
    "tower_1 = Activation('relu')(tower_1)\n",
    "tower_1 = MaxPooling2D(2,2)(tower_1)\n",
    "#tower_1 = Dropou(0.5)(tower_1)\n",
    "#Fin de rama 1\n",
    "        \n",
    "#Inicio de rama 2\n",
    "tower_2 = Conv2D(16, (5,5), activation='relu',padding=\"same\")(input_shape)\n",
    "tower_2 = BatchNormalization()(tower_2)\n",
    "tower_2 = Activation('relu')(tower_2)\n",
    "tower_2 = AveragePooling2D(2,2)(tower_2)\n",
    "#tower_2 = Dropou(0.5)(tower_2)\n",
    "        \n",
    "tower_2 = Conv2D(32, (5,5), activation='relu',padding=\"same\")(tower_2)\n",
    "tower_2 = BatchNormalization()(tower_2)\n",
    "tower_2 = Activation('relu')(tower_2)\n",
    "tower_2 = AveragePooling2D(2,2)(tower_2)\n",
    "#tower_2 = Dropou(0.5)(tower_2)\n",
    "        \n",
    "tower_2 = Conv2D(64, (5,5), activation='relu',padding=\"same\")(tower_2)\n",
    "tower_2 = BatchNormalization()(tower_2)\n",
    "tower_2 = Activation('relu')(tower_2)\n",
    "tower_2 = AveragePooling2D(2,2)(tower_2)\n",
    "#tower_2 = Dropou(0.5)(tower_2)\n",
    "        \n",
    "tower_2 = Conv2D(64, (5,5), activation='relu',padding=\"same\")(tower_2)\n",
    "tower_2 = BatchNormalization()(tower_2)\n",
    "tower_2 = Activation('relu')(tower_2)\n",
    "tower_2 = AveragePooling2D(2,2)(tower_2)\n",
    "#tower_2 = Dropou(0.5)(tower_2)\n",
    "#Fin de rama 2\n",
    "            \n",
    "#Concatenación de las 2 ramas\n",
    "merged = Concatenate(axis=1)([tower_1, tower_2])\n",
    "        \n",
    "#Aplanamiento\n",
    "merged = Flatten()(merged)\n",
    "        \n",
    "#Capas adicionales\n",
    "out = Dense(256, activation='relu')(merged)\n",
    "out = Dense(128, activation='sigmoid')(out)\n",
    "out = Dense(64, activation='sigmoid')(out)\n",
    "out = Dense(32, activation='sigmoid')(out)\n",
    "        \n",
    "#Capa final de clasificación\n",
    "out = Dense(n_class, activation='softmax')(out)\n",
    "        \n",
    "model = Model(input_shape, out)"
   ]
  },
  {
   "cell_type": "code",
   "execution_count": 20,
   "metadata": {},
   "outputs": [
    {
     "name": "stdout",
     "output_type": "stream",
     "text": [
      "Model: \"model\"\n",
      "__________________________________________________________________________________________________\n",
      " Layer (type)                Output Shape                 Param #   Connected to                  \n",
      "==================================================================================================\n",
      " input_1 (InputLayer)        [(None, 20, 20, 3)]          0         []                            \n",
      "                                                                                                  \n",
      " conv2d (Conv2D)             (None, 20, 20, 16)           448       ['input_1[0][0]']             \n",
      "                                                                                                  \n",
      " conv2d_4 (Conv2D)           (None, 20, 20, 16)           1216      ['input_1[0][0]']             \n",
      "                                                                                                  \n",
      " batch_normalization (Batch  (None, 20, 20, 16)           64        ['conv2d[0][0]']              \n",
      " Normalization)                                                                                   \n",
      "                                                                                                  \n",
      " batch_normalization_4 (Bat  (None, 20, 20, 16)           64        ['conv2d_4[0][0]']            \n",
      " chNormalization)                                                                                 \n",
      "                                                                                                  \n",
      " activation (Activation)     (None, 20, 20, 16)           0         ['batch_normalization[0][0]'] \n",
      "                                                                                                  \n",
      " activation_4 (Activation)   (None, 20, 20, 16)           0         ['batch_normalization_4[0][0]'\n",
      "                                                                    ]                             \n",
      "                                                                                                  \n",
      " max_pooling2d (MaxPooling2  (None, 10, 10, 16)           0         ['activation[0][0]']          \n",
      " D)                                                                                               \n",
      "                                                                                                  \n",
      " average_pooling2d (Average  (None, 10, 10, 16)           0         ['activation_4[0][0]']        \n",
      " Pooling2D)                                                                                       \n",
      "                                                                                                  \n",
      " conv2d_1 (Conv2D)           (None, 10, 10, 32)           4640      ['max_pooling2d[0][0]']       \n",
      "                                                                                                  \n",
      " conv2d_5 (Conv2D)           (None, 10, 10, 32)           12832     ['average_pooling2d[0][0]']   \n",
      "                                                                                                  \n",
      " batch_normalization_1 (Bat  (None, 10, 10, 32)           128       ['conv2d_1[0][0]']            \n",
      " chNormalization)                                                                                 \n",
      "                                                                                                  \n",
      " batch_normalization_5 (Bat  (None, 10, 10, 32)           128       ['conv2d_5[0][0]']            \n",
      " chNormalization)                                                                                 \n",
      "                                                                                                  \n",
      " activation_1 (Activation)   (None, 10, 10, 32)           0         ['batch_normalization_1[0][0]'\n",
      "                                                                    ]                             \n",
      "                                                                                                  \n",
      " activation_5 (Activation)   (None, 10, 10, 32)           0         ['batch_normalization_5[0][0]'\n",
      "                                                                    ]                             \n",
      "                                                                                                  \n",
      " max_pooling2d_1 (MaxPoolin  (None, 5, 5, 32)             0         ['activation_1[0][0]']        \n",
      " g2D)                                                                                             \n",
      "                                                                                                  \n",
      " average_pooling2d_1 (Avera  (None, 5, 5, 32)             0         ['activation_5[0][0]']        \n",
      " gePooling2D)                                                                                     \n",
      "                                                                                                  \n",
      " conv2d_2 (Conv2D)           (None, 5, 5, 64)             18496     ['max_pooling2d_1[0][0]']     \n",
      "                                                                                                  \n",
      " conv2d_6 (Conv2D)           (None, 5, 5, 64)             51264     ['average_pooling2d_1[0][0]'] \n",
      "                                                                                                  \n",
      " batch_normalization_2 (Bat  (None, 5, 5, 64)             256       ['conv2d_2[0][0]']            \n",
      " chNormalization)                                                                                 \n",
      "                                                                                                  \n",
      " batch_normalization_6 (Bat  (None, 5, 5, 64)             256       ['conv2d_6[0][0]']            \n",
      " chNormalization)                                                                                 \n",
      "                                                                                                  \n",
      " activation_2 (Activation)   (None, 5, 5, 64)             0         ['batch_normalization_2[0][0]'\n",
      "                                                                    ]                             \n",
      "                                                                                                  \n",
      " activation_6 (Activation)   (None, 5, 5, 64)             0         ['batch_normalization_6[0][0]'\n",
      "                                                                    ]                             \n",
      "                                                                                                  \n",
      " max_pooling2d_2 (MaxPoolin  (None, 2, 2, 64)             0         ['activation_2[0][0]']        \n",
      " g2D)                                                                                             \n",
      "                                                                                                  \n",
      " average_pooling2d_2 (Avera  (None, 2, 2, 64)             0         ['activation_6[0][0]']        \n",
      " gePooling2D)                                                                                     \n",
      "                                                                                                  \n",
      " conv2d_3 (Conv2D)           (None, 2, 2, 64)             36928     ['max_pooling2d_2[0][0]']     \n",
      "                                                                                                  \n",
      " conv2d_7 (Conv2D)           (None, 2, 2, 64)             102464    ['average_pooling2d_2[0][0]'] \n",
      "                                                                                                  \n",
      " batch_normalization_3 (Bat  (None, 2, 2, 64)             256       ['conv2d_3[0][0]']            \n",
      " chNormalization)                                                                                 \n",
      "                                                                                                  \n",
      " batch_normalization_7 (Bat  (None, 2, 2, 64)             256       ['conv2d_7[0][0]']            \n",
      " chNormalization)                                                                                 \n",
      "                                                                                                  \n",
      " activation_3 (Activation)   (None, 2, 2, 64)             0         ['batch_normalization_3[0][0]'\n",
      "                                                                    ]                             \n",
      "                                                                                                  \n",
      " activation_7 (Activation)   (None, 2, 2, 64)             0         ['batch_normalization_7[0][0]'\n",
      "                                                                    ]                             \n",
      "                                                                                                  \n",
      " max_pooling2d_3 (MaxPoolin  (None, 1, 1, 64)             0         ['activation_3[0][0]']        \n",
      " g2D)                                                                                             \n",
      "                                                                                                  \n",
      " average_pooling2d_3 (Avera  (None, 1, 1, 64)             0         ['activation_7[0][0]']        \n",
      " gePooling2D)                                                                                     \n",
      "                                                                                                  \n",
      " concatenate (Concatenate)   (None, 2, 1, 64)             0         ['max_pooling2d_3[0][0]',     \n",
      "                                                                     'average_pooling2d_3[0][0]'] \n",
      "                                                                                                  \n",
      " flatten (Flatten)           (None, 128)                  0         ['concatenate[0][0]']         \n",
      "                                                                                                  \n",
      " dense (Dense)               (None, 256)                  33024     ['flatten[0][0]']             \n",
      "                                                                                                  \n",
      " dense_1 (Dense)             (None, 128)                  32896     ['dense[0][0]']               \n",
      "                                                                                                  \n",
      " dense_2 (Dense)             (None, 64)                   8256      ['dense_1[0][0]']             \n",
      "                                                                                                  \n",
      " dense_3 (Dense)             (None, 32)                   2080      ['dense_2[0][0]']             \n",
      "                                                                                                  \n",
      " dense_4 (Dense)             (None, 2)                    66        ['dense_3[0][0]']             \n",
      "                                                                                                  \n",
      "==================================================================================================\n",
      "Total params: 306018 (1.17 MB)\n",
      "Trainable params: 305314 (1.16 MB)\n",
      "Non-trainable params: 704 (2.75 KB)\n",
      "__________________________________________________________________________________________________\n",
      "You must install pydot (`pip install pydot`) and install graphviz (see instructions at https://graphviz.gitlab.io/download/) for plot_model to work.\n"
     ]
    }
   ],
   "source": [
    "from keras.utils import plot_model\n",
    "model.summary()\n",
    "plot_model(model)"
   ]
  },
  {
   "cell_type": "code",
   "execution_count": 21,
   "metadata": {
    "id": "DC3Ft7sppjGI",
    "tags": []
   },
   "outputs": [],
   "source": [
    "METRICS = [\n",
    "      tf.keras.metrics.TruePositives(name = 'tp'),\n",
    "      tf.keras.metrics.FalsePositives(name = 'fp'),\n",
    "      tf.keras.metrics.TrueNegatives(name = 'tn'),\n",
    "      tf.keras.metrics.FalseNegatives(name = 'fn'), \n",
    "      tf.keras.metrics.BinaryAccuracy(name ='accuracy'),\n",
    "      tf.keras.metrics.Precision(name = 'precision'),\n",
    "      tf.keras.metrics.Recall(name = 'recall'),\n",
    "      tf.keras.metrics.AUC(name = 'auc'),\n",
    "]"
   ]
  },
  {
   "cell_type": "markdown",
   "metadata": {
    "id": "owmN8gR-jpEh"
   },
   "source": [
    "<a id=\"section52\"></a>\n",
    "# <font color=\"#004D7F\" size=5> 5.2. Compile and fit</font>"
   ]
  },
  {
   "cell_type": "markdown",
   "metadata": {},
   "source": [
    "Note to **specify the loss** depending on whether you have a binary or multiclass classification problem."
   ]
  },
  {
   "cell_type": "code",
   "execution_count": 22,
   "metadata": {
    "id": "RFxZU2q6pjGJ",
    "tags": []
   },
   "outputs": [],
   "source": [
    "#opt = Adam(learning_rate=1e-3)\n",
    "model.compile(\n",
    "                #optimizer = sgd,\n",
    "                optimizer = 'adam',\n",
    "                #optimizer = 'Adadelta',\n",
    "                #optimizer = 'Adamax',\n",
    "                #optimizer = opt,\n",
    "                metrics = METRICS,\n",
    "                #metrics = ['accuracy'],\n",
    "                \n",
    "                #loss = 'binary_crossentropy'\n",
    "                loss = 'categorical_crossentropy'\n",
    "                )"
   ]
  },
  {
   "cell_type": "code",
   "execution_count": 23,
   "metadata": {
    "scrolled": true
   },
   "outputs": [
    {
     "name": "stdout",
     "output_type": "stream",
     "text": [
      "Epoch 1/50\n",
      "36/42 [========================>.....] - ETA: 0s - loss: 0.6117 - tp: 192.0000 - fp: 96.0000 - tn: 192.0000 - fn: 96.0000 - accuracy: 0.6667 - precision: 0.6667 - recall: 0.6667 - auc: 0.7285"
     ]
    },
    {
     "name": "stdout",
     "output_type": "stream",
     "text": [
      "42/42 [==============================] - 4s 25ms/step - loss: 0.5997 - tp: 225.0000 - fp: 107.0000 - tn: 225.0000 - fn: 107.0000 - accuracy: 0.6777 - precision: 0.6777 - recall: 0.6777 - auc: 0.7444 - val_loss: 0.6642 - val_tp: 69.0000 - val_fp: 43.0000 - val_tn: 69.0000 - val_fn: 43.0000 - val_accuracy: 0.6161 - val_precision: 0.6161 - val_recall: 0.6161 - val_auc: 0.7007\n",
      "Epoch 2/50\n",
      "42/42 [==============================] - 1s 12ms/step - loss: 0.4662 - tp: 272.0000 - fp: 60.0000 - tn: 272.0000 - fn: 60.0000 - accuracy: 0.8193 - precision: 0.8193 - recall: 0.8193 - auc: 0.8317 - val_loss: 0.6811 - val_tp: 69.0000 - val_fp: 43.0000 - val_tn: 69.0000 - val_fn: 43.0000 - val_accuracy: 0.6161 - val_precision: 0.6161 - val_recall: 0.6161 - val_auc: 0.7933\n",
      "Epoch 3/50\n",
      "42/42 [==============================] - 0s 11ms/step - loss: 0.4494 - tp: 268.0000 - fp: 64.0000 - tn: 268.0000 - fn: 64.0000 - accuracy: 0.8072 - precision: 0.8072 - recall: 0.8072 - auc: 0.8755 - val_loss: 0.9417 - val_tp: 69.0000 - val_fp: 43.0000 - val_tn: 69.0000 - val_fn: 43.0000 - val_accuracy: 0.6161 - val_precision: 0.6161 - val_recall: 0.6161 - val_auc: 0.6161\n",
      "Epoch 4/50\n",
      "42/42 [==============================] - 0s 12ms/step - loss: 0.3865 - tp: 281.0000 - fp: 51.0000 - tn: 281.0000 - fn: 51.0000 - accuracy: 0.8464 - precision: 0.8464 - recall: 0.8464 - auc: 0.9094 - val_loss: 1.0036 - val_tp: 69.0000 - val_fp: 43.0000 - val_tn: 69.0000 - val_fn: 43.0000 - val_accuracy: 0.6161 - val_precision: 0.6161 - val_recall: 0.6161 - val_auc: 0.6236\n",
      "Epoch 5/50\n",
      "42/42 [==============================] - 0s 11ms/step - loss: 0.3589 - tp: 284.0000 - fp: 48.0000 - tn: 284.0000 - fn: 48.0000 - accuracy: 0.8554 - precision: 0.8554 - recall: 0.8554 - auc: 0.9223 - val_loss: 1.0372 - val_tp: 69.0000 - val_fp: 43.0000 - val_tn: 69.0000 - val_fn: 43.0000 - val_accuracy: 0.6161 - val_precision: 0.6161 - val_recall: 0.6161 - val_auc: 0.7397\n",
      "Epoch 6/50\n",
      "42/42 [==============================] - 0s 11ms/step - loss: 0.2945 - tp: 293.0000 - fp: 39.0000 - tn: 293.0000 - fn: 39.0000 - accuracy: 0.8825 - precision: 0.8825 - recall: 0.8825 - auc: 0.9545 - val_loss: 0.7464 - val_tp: 69.0000 - val_fp: 43.0000 - val_tn: 69.0000 - val_fn: 43.0000 - val_accuracy: 0.6161 - val_precision: 0.6161 - val_recall: 0.6161 - val_auc: 0.7801\n",
      "Epoch 7/50\n",
      "42/42 [==============================] - 0s 9ms/step - loss: 0.3062 - tp: 288.0000 - fp: 44.0000 - tn: 288.0000 - fn: 44.0000 - accuracy: 0.8675 - precision: 0.8675 - recall: 0.8675 - auc: 0.9466 - val_loss: 0.5821 - val_tp: 70.0000 - val_fp: 42.0000 - val_tn: 70.0000 - val_fn: 42.0000 - val_accuracy: 0.6250 - val_precision: 0.6250 - val_recall: 0.6250 - val_auc: 0.8006\n",
      "Epoch 8/50\n",
      "42/42 [==============================] - 0s 10ms/step - loss: 0.2522 - tp: 299.0000 - fp: 33.0000 - tn: 299.0000 - fn: 33.0000 - accuracy: 0.9006 - precision: 0.9006 - recall: 0.9006 - auc: 0.9659 - val_loss: 0.8615 - val_tp: 69.0000 - val_fp: 43.0000 - val_tn: 69.0000 - val_fn: 43.0000 - val_accuracy: 0.6161 - val_precision: 0.6161 - val_recall: 0.6161 - val_auc: 0.7859\n",
      "Epoch 9/50\n",
      "42/42 [==============================] - 0s 10ms/step - loss: 0.3263 - tp: 285.0000 - fp: 47.0000 - tn: 285.0000 - fn: 47.0000 - accuracy: 0.8584 - precision: 0.8584 - recall: 0.8584 - auc: 0.9375 - val_loss: 0.8033 - val_tp: 79.0000 - val_fp: 33.0000 - val_tn: 79.0000 - val_fn: 33.0000 - val_accuracy: 0.7054 - val_precision: 0.7054 - val_recall: 0.7054 - val_auc: 0.7793\n",
      "Epoch 10/50\n",
      "42/42 [==============================] - 0s 9ms/step - loss: 0.2754 - tp: 299.0000 - fp: 33.0000 - tn: 299.0000 - fn: 33.0000 - accuracy: 0.9006 - precision: 0.9006 - recall: 0.9006 - auc: 0.9504 - val_loss: 0.2719 - val_tp: 106.0000 - val_fp: 6.0000 - val_tn: 106.0000 - val_fn: 6.0000 - val_accuracy: 0.9464 - val_precision: 0.9464 - val_recall: 0.9464 - val_auc: 0.9805\n",
      "Epoch 11/50\n",
      "42/42 [==============================] - 0s 9ms/step - loss: 0.2372 - tp: 303.0000 - fp: 29.0000 - tn: 303.0000 - fn: 29.0000 - accuracy: 0.9127 - precision: 0.9127 - recall: 0.9127 - auc: 0.9659 - val_loss: 0.2482 - val_tp: 102.0000 - val_fp: 10.0000 - val_tn: 102.0000 - val_fn: 10.0000 - val_accuracy: 0.9107 - val_precision: 0.9107 - val_recall: 0.9107 - val_auc: 0.9713\n",
      "Epoch 12/50\n",
      "42/42 [==============================] - 0s 9ms/step - loss: 0.2078 - tp: 304.0000 - fp: 28.0000 - tn: 304.0000 - fn: 28.0000 - accuracy: 0.9157 - precision: 0.9157 - recall: 0.9157 - auc: 0.9741 - val_loss: 0.2657 - val_tp: 99.0000 - val_fp: 13.0000 - val_tn: 99.0000 - val_fn: 13.0000 - val_accuracy: 0.8839 - val_precision: 0.8839 - val_recall: 0.8839 - val_auc: 0.9606\n",
      "Epoch 13/50\n",
      "42/42 [==============================] - 0s 9ms/step - loss: 0.1989 - tp: 306.0000 - fp: 26.0000 - tn: 306.0000 - fn: 26.0000 - accuracy: 0.9217 - precision: 0.9217 - recall: 0.9217 - auc: 0.9743 - val_loss: 0.3454 - val_tp: 98.0000 - val_fp: 14.0000 - val_tn: 98.0000 - val_fn: 14.0000 - val_accuracy: 0.8750 - val_precision: 0.8750 - val_recall: 0.8750 - val_auc: 0.9423\n",
      "Epoch 14/50\n",
      "42/42 [==============================] - 0s 8ms/step - loss: 0.1697 - tp: 306.0000 - fp: 26.0000 - tn: 306.0000 - fn: 26.0000 - accuracy: 0.9217 - precision: 0.9217 - recall: 0.9217 - auc: 0.9855 - val_loss: 0.2707 - val_tp: 101.0000 - val_fp: 11.0000 - val_tn: 101.0000 - val_fn: 11.0000 - val_accuracy: 0.9018 - val_precision: 0.9018 - val_recall: 0.9018 - val_auc: 0.9579\n",
      "Epoch 15/50\n",
      "42/42 [==============================] - 0s 8ms/step - loss: 0.2034 - tp: 312.0000 - fp: 20.0000 - tn: 312.0000 - fn: 20.0000 - accuracy: 0.9398 - precision: 0.9398 - recall: 0.9398 - auc: 0.9739 - val_loss: 0.4646 - val_tp: 89.0000 - val_fp: 23.0000 - val_tn: 89.0000 - val_fn: 23.0000 - val_accuracy: 0.7946 - val_precision: 0.7946 - val_recall: 0.7946 - val_auc: 0.8915\n",
      "Epoch 16/50\n",
      "42/42 [==============================] - 0s 8ms/step - loss: 0.1941 - tp: 313.0000 - fp: 23.0000 - tn: 313.0000 - fn: 23.0000 - accuracy: 0.9315 - precision: 0.9315 - recall: 0.9315 - auc: 0.9678 - val_loss: 0.3790 - val_tp: 95.0000 - val_fp: 17.0000 - val_tn: 95.0000 - val_fn: 17.0000 - val_accuracy: 0.8482 - val_precision: 0.8482 - val_recall: 0.8482 - val_auc: 0.9280\n",
      "Epoch 17/50\n",
      "42/42 [==============================] - 0s 8ms/step - loss: 0.1491 - tp: 315.0000 - fp: 17.0000 - tn: 315.0000 - fn: 17.0000 - accuracy: 0.9488 - precision: 0.9488 - recall: 0.9488 - auc: 0.9884 - val_loss: 1.9796 - val_tp: 43.0000 - val_fp: 69.0000 - val_tn: 43.0000 - val_fn: 69.0000 - val_accuracy: 0.3839 - val_precision: 0.3839 - val_recall: 0.3839 - val_auc: 0.5953\n",
      "Epoch 18/50\n",
      "42/42 [==============================] - 0s 8ms/step - loss: 0.1621 - tp: 308.0000 - fp: 24.0000 - tn: 308.0000 - fn: 24.0000 - accuracy: 0.9277 - precision: 0.9277 - recall: 0.9277 - auc: 0.9828 - val_loss: 0.7236 - val_tp: 84.0000 - val_fp: 28.0000 - val_tn: 84.0000 - val_fn: 28.0000 - val_accuracy: 0.7500 - val_precision: 0.7500 - val_recall: 0.7500 - val_auc: 0.8602\n",
      "Epoch 19/50\n",
      "42/42 [==============================] - 0s 8ms/step - loss: 0.1389 - tp: 320.0000 - fp: 12.0000 - tn: 320.0000 - fn: 12.0000 - accuracy: 0.9639 - precision: 0.9639 - recall: 0.9639 - auc: 0.9870 - val_loss: 0.2449 - val_tp: 102.0000 - val_fp: 10.0000 - val_tn: 102.0000 - val_fn: 10.0000 - val_accuracy: 0.9107 - val_precision: 0.9107 - val_recall: 0.9107 - val_auc: 0.9611\n",
      "Epoch 20/50\n",
      "42/42 [==============================] - 0s 8ms/step - loss: 0.1476 - tp: 312.0000 - fp: 20.0000 - tn: 312.0000 - fn: 20.0000 - accuracy: 0.9398 - precision: 0.9398 - recall: 0.9398 - auc: 0.9893 - val_loss: 0.2189 - val_tp: 104.0000 - val_fp: 8.0000 - val_tn: 104.0000 - val_fn: 8.0000 - val_accuracy: 0.9286 - val_precision: 0.9286 - val_recall: 0.9286 - val_auc: 0.9668\n",
      "Epoch 21/50\n",
      "42/42 [==============================] - 0s 10ms/step - loss: 0.1812 - tp: 306.0000 - fp: 26.0000 - tn: 306.0000 - fn: 26.0000 - accuracy: 0.9217 - precision: 0.9217 - recall: 0.9217 - auc: 0.9794 - val_loss: 0.2213 - val_tp: 102.0000 - val_fp: 10.0000 - val_tn: 102.0000 - val_fn: 10.0000 - val_accuracy: 0.9107 - val_precision: 0.9107 - val_recall: 0.9107 - val_auc: 0.9694\n",
      "Epoch 22/50\n",
      "42/42 [==============================] - 0s 8ms/step - loss: 0.1859 - tp: 307.0000 - fp: 25.0000 - tn: 307.0000 - fn: 25.0000 - accuracy: 0.9247 - precision: 0.9247 - recall: 0.9247 - auc: 0.9785 - val_loss: 0.4372 - val_tp: 87.0000 - val_fp: 25.0000 - val_tn: 87.0000 - val_fn: 25.0000 - val_accuracy: 0.7768 - val_precision: 0.7768 - val_recall: 0.7768 - val_auc: 0.9082\n",
      "Epoch 23/50\n",
      "42/42 [==============================] - 0s 8ms/step - loss: 0.1161 - tp: 317.0000 - fp: 15.0000 - tn: 317.0000 - fn: 15.0000 - accuracy: 0.9548 - precision: 0.9548 - recall: 0.9548 - auc: 0.9930 - val_loss: 0.5650 - val_tp: 81.0000 - val_fp: 31.0000 - val_tn: 81.0000 - val_fn: 31.0000 - val_accuracy: 0.7232 - val_precision: 0.7232 - val_recall: 0.7232 - val_auc: 0.8666\n",
      "Epoch 24/50\n",
      "42/42 [==============================] - 0s 8ms/step - loss: 0.2009 - tp: 308.0000 - fp: 24.0000 - tn: 308.0000 - fn: 24.0000 - accuracy: 0.9277 - precision: 0.9277 - recall: 0.9277 - auc: 0.9742 - val_loss: 0.2579 - val_tp: 100.0000 - val_fp: 12.0000 - val_tn: 100.0000 - val_fn: 12.0000 - val_accuracy: 0.8929 - val_precision: 0.8929 - val_recall: 0.8929 - val_auc: 0.9605\n",
      "Epoch 25/50\n",
      "42/42 [==============================] - 0s 8ms/step - loss: 0.1363 - tp: 318.0000 - fp: 14.0000 - tn: 318.0000 - fn: 14.0000 - accuracy: 0.9578 - precision: 0.9578 - recall: 0.9578 - auc: 0.9828 - val_loss: 0.4475 - val_tp: 98.0000 - val_fp: 14.0000 - val_tn: 98.0000 - val_fn: 14.0000 - val_accuracy: 0.8750 - val_precision: 0.8750 - val_recall: 0.8750 - val_auc: 0.9113\n",
      "Epoch 26/50\n",
      "42/42 [==============================] - 0s 8ms/step - loss: 0.1503 - tp: 316.0000 - fp: 16.0000 - tn: 316.0000 - fn: 16.0000 - accuracy: 0.9518 - precision: 0.9518 - recall: 0.9518 - auc: 0.9847 - val_loss: 0.2772 - val_tp: 96.0000 - val_fp: 16.0000 - val_tn: 96.0000 - val_fn: 16.0000 - val_accuracy: 0.8571 - val_precision: 0.8571 - val_recall: 0.8571 - val_auc: 0.9600\n",
      "Epoch 27/50\n",
      "42/42 [==============================] - 0s 8ms/step - loss: 0.1310 - tp: 315.0000 - fp: 17.0000 - tn: 315.0000 - fn: 17.0000 - accuracy: 0.9488 - precision: 0.9488 - recall: 0.9488 - auc: 0.9871 - val_loss: 0.8978 - val_tp: 72.0000 - val_fp: 40.0000 - val_tn: 72.0000 - val_fn: 40.0000 - val_accuracy: 0.6429 - val_precision: 0.6429 - val_recall: 0.6429 - val_auc: 0.7488\n",
      "Epoch 28/50\n",
      "42/42 [==============================] - 0s 8ms/step - loss: 0.0996 - tp: 317.0000 - fp: 15.0000 - tn: 317.0000 - fn: 15.0000 - accuracy: 0.9548 - precision: 0.9548 - recall: 0.9548 - auc: 0.9953 - val_loss: 0.2463 - val_tp: 103.0000 - val_fp: 9.0000 - val_tn: 103.0000 - val_fn: 9.0000 - val_accuracy: 0.9196 - val_precision: 0.9196 - val_recall: 0.9196 - val_auc: 0.9677\n",
      "Epoch 29/50\n",
      "42/42 [==============================] - 0s 8ms/step - loss: 0.1420 - tp: 311.0000 - fp: 21.0000 - tn: 311.0000 - fn: 21.0000 - accuracy: 0.9367 - precision: 0.9367 - recall: 0.9367 - auc: 0.9893 - val_loss: 0.2808 - val_tp: 96.0000 - val_fp: 16.0000 - val_tn: 96.0000 - val_fn: 16.0000 - val_accuracy: 0.8571 - val_precision: 0.8571 - val_recall: 0.8571 - val_auc: 0.9483\n",
      "Epoch 30/50\n",
      "42/42 [==============================] - 0s 9ms/step - loss: 0.0847 - tp: 323.0000 - fp: 9.0000 - tn: 323.0000 - fn: 9.0000 - accuracy: 0.9729 - precision: 0.9729 - recall: 0.9729 - auc: 0.9957 - val_loss: 0.1880 - val_tp: 104.0000 - val_fp: 8.0000 - val_tn: 104.0000 - val_fn: 8.0000 - val_accuracy: 0.9286 - val_precision: 0.9286 - val_recall: 0.9286 - val_auc: 0.9767\n",
      "Epoch 31/50\n",
      "42/42 [==============================] - 0s 9ms/step - loss: 0.1257 - tp: 314.0000 - fp: 18.0000 - tn: 314.0000 - fn: 18.0000 - accuracy: 0.9458 - precision: 0.9458 - recall: 0.9458 - auc: 0.9915 - val_loss: 0.2211 - val_tp: 105.0000 - val_fp: 7.0000 - val_tn: 105.0000 - val_fn: 7.0000 - val_accuracy: 0.9375 - val_precision: 0.9375 - val_recall: 0.9375 - val_auc: 0.9754\n",
      "Epoch 32/50\n",
      "42/42 [==============================] - 0s 9ms/step - loss: 0.1025 - tp: 318.0000 - fp: 14.0000 - tn: 318.0000 - fn: 14.0000 - accuracy: 0.9578 - precision: 0.9578 - recall: 0.9578 - auc: 0.9946 - val_loss: 0.4360 - val_tp: 97.0000 - val_fp: 15.0000 - val_tn: 97.0000 - val_fn: 15.0000 - val_accuracy: 0.8661 - val_precision: 0.8661 - val_recall: 0.8661 - val_auc: 0.9330\n",
      "Epoch 33/50\n",
      "42/42 [==============================] - 0s 9ms/step - loss: 0.1200 - tp: 318.0000 - fp: 14.0000 - tn: 318.0000 - fn: 14.0000 - accuracy: 0.9578 - precision: 0.9578 - recall: 0.9578 - auc: 0.9929 - val_loss: 0.5484 - val_tp: 89.0000 - val_fp: 23.0000 - val_tn: 89.0000 - val_fn: 23.0000 - val_accuracy: 0.7946 - val_precision: 0.7946 - val_recall: 0.7946 - val_auc: 0.9070\n",
      "Epoch 34/50\n",
      "42/42 [==============================] - 0s 9ms/step - loss: 0.0970 - tp: 321.0000 - fp: 11.0000 - tn: 321.0000 - fn: 11.0000 - accuracy: 0.9669 - precision: 0.9669 - recall: 0.9669 - auc: 0.9949 - val_loss: 0.3950 - val_tp: 98.0000 - val_fp: 14.0000 - val_tn: 98.0000 - val_fn: 14.0000 - val_accuracy: 0.8750 - val_precision: 0.8750 - val_recall: 0.8750 - val_auc: 0.9483\n",
      "Epoch 35/50\n",
      "42/42 [==============================] - 0s 8ms/step - loss: 0.1319 - tp: 313.0000 - fp: 19.0000 - tn: 313.0000 - fn: 19.0000 - accuracy: 0.9428 - precision: 0.9428 - recall: 0.9428 - auc: 0.9911 - val_loss: 0.5284 - val_tp: 88.0000 - val_fp: 24.0000 - val_tn: 88.0000 - val_fn: 24.0000 - val_accuracy: 0.7857 - val_precision: 0.7857 - val_recall: 0.7857 - val_auc: 0.9095\n",
      "Epoch 36/50\n",
      "42/42 [==============================] - 0s 8ms/step - loss: 0.0948 - tp: 320.0000 - fp: 12.0000 - tn: 320.0000 - fn: 12.0000 - accuracy: 0.9639 - precision: 0.9639 - recall: 0.9639 - auc: 0.9935 - val_loss: 0.2567 - val_tp: 100.0000 - val_fp: 12.0000 - val_tn: 100.0000 - val_fn: 12.0000 - val_accuracy: 0.8929 - val_precision: 0.8929 - val_recall: 0.8929 - val_auc: 0.9652\n",
      "Epoch 37/50\n",
      "42/42 [==============================] - 0s 8ms/step - loss: 0.0790 - tp: 320.0000 - fp: 12.0000 - tn: 320.0000 - fn: 12.0000 - accuracy: 0.9639 - precision: 0.9639 - recall: 0.9639 - auc: 0.9967 - val_loss: 1.1783 - val_tp: 73.0000 - val_fp: 39.0000 - val_tn: 73.0000 - val_fn: 39.0000 - val_accuracy: 0.6518 - val_precision: 0.6518 - val_recall: 0.6518 - val_auc: 0.7545\n",
      "Epoch 38/50\n",
      "42/42 [==============================] - 0s 8ms/step - loss: 0.0881 - tp: 319.0000 - fp: 13.0000 - tn: 319.0000 - fn: 13.0000 - accuracy: 0.9608 - precision: 0.9608 - recall: 0.9608 - auc: 0.9950 - val_loss: 0.1936 - val_tp: 106.0000 - val_fp: 6.0000 - val_tn: 106.0000 - val_fn: 6.0000 - val_accuracy: 0.9464 - val_precision: 0.9464 - val_recall: 0.9464 - val_auc: 0.9757\n",
      "Epoch 39/50\n",
      "42/42 [==============================] - 0s 8ms/step - loss: 0.0797 - tp: 321.0000 - fp: 11.0000 - tn: 321.0000 - fn: 11.0000 - accuracy: 0.9669 - precision: 0.9669 - recall: 0.9669 - auc: 0.9969 - val_loss: 0.2607 - val_tp: 100.0000 - val_fp: 12.0000 - val_tn: 100.0000 - val_fn: 12.0000 - val_accuracy: 0.8929 - val_precision: 0.8929 - val_recall: 0.8929 - val_auc: 0.9629\n",
      "Epoch 40/50\n",
      "42/42 [==============================] - 0s 8ms/step - loss: 0.0687 - tp: 324.0000 - fp: 8.0000 - tn: 324.0000 - fn: 8.0000 - accuracy: 0.9759 - precision: 0.9759 - recall: 0.9759 - auc: 0.9950 - val_loss: 0.3960 - val_tp: 97.0000 - val_fp: 15.0000 - val_tn: 97.0000 - val_fn: 15.0000 - val_accuracy: 0.8661 - val_precision: 0.8661 - val_recall: 0.8661 - val_auc: 0.9432\n",
      "Epoch 41/50\n",
      "42/42 [==============================] - 0s 8ms/step - loss: 0.1260 - tp: 317.0000 - fp: 19.0000 - tn: 317.0000 - fn: 19.0000 - accuracy: 0.9435 - precision: 0.9435 - recall: 0.9435 - auc: 0.9912 - val_loss: 0.3933 - val_tp: 91.0000 - val_fp: 21.0000 - val_tn: 91.0000 - val_fn: 21.0000 - val_accuracy: 0.8125 - val_precision: 0.8125 - val_recall: 0.8125 - val_auc: 0.9035\n",
      "Epoch 42/50\n",
      "42/42 [==============================] - 0s 8ms/step - loss: 0.1650 - tp: 309.0000 - fp: 23.0000 - tn: 309.0000 - fn: 23.0000 - accuracy: 0.9307 - precision: 0.9307 - recall: 0.9307 - auc: 0.9786 - val_loss: 0.4714 - val_tp: 94.0000 - val_fp: 18.0000 - val_tn: 94.0000 - val_fn: 18.0000 - val_accuracy: 0.8393 - val_precision: 0.8393 - val_recall: 0.8393 - val_auc: 0.9182\n",
      "Epoch 43/50\n",
      "42/42 [==============================] - 0s 8ms/step - loss: 0.0806 - tp: 321.0000 - fp: 11.0000 - tn: 321.0000 - fn: 11.0000 - accuracy: 0.9669 - precision: 0.9669 - recall: 0.9669 - auc: 0.9967 - val_loss: 0.4185 - val_tp: 93.0000 - val_fp: 19.0000 - val_tn: 93.0000 - val_fn: 19.0000 - val_accuracy: 0.8304 - val_precision: 0.8304 - val_recall: 0.8304 - val_auc: 0.9266\n",
      "Epoch 44/50\n",
      "42/42 [==============================] - 0s 9ms/step - loss: 0.0738 - tp: 323.0000 - fp: 9.0000 - tn: 323.0000 - fn: 9.0000 - accuracy: 0.9729 - precision: 0.9729 - recall: 0.9729 - auc: 0.9976 - val_loss: 0.3365 - val_tp: 98.0000 - val_fp: 14.0000 - val_tn: 98.0000 - val_fn: 14.0000 - val_accuracy: 0.8750 - val_precision: 0.8750 - val_recall: 0.8750 - val_auc: 0.9557\n",
      "Epoch 45/50\n",
      "42/42 [==============================] - 0s 9ms/step - loss: 0.1181 - tp: 315.0000 - fp: 17.0000 - tn: 315.0000 - fn: 17.0000 - accuracy: 0.9488 - precision: 0.9488 - recall: 0.9488 - auc: 0.9921 - val_loss: 0.3690 - val_tp: 91.0000 - val_fp: 21.0000 - val_tn: 91.0000 - val_fn: 21.0000 - val_accuracy: 0.8125 - val_precision: 0.8125 - val_recall: 0.8125 - val_auc: 0.9137\n",
      "Epoch 46/50\n",
      "42/42 [==============================] - 0s 8ms/step - loss: 0.1241 - tp: 319.0000 - fp: 13.0000 - tn: 319.0000 - fn: 13.0000 - accuracy: 0.9608 - precision: 0.9608 - recall: 0.9608 - auc: 0.9873 - val_loss: 0.4012 - val_tp: 94.0000 - val_fp: 18.0000 - val_tn: 94.0000 - val_fn: 18.0000 - val_accuracy: 0.8393 - val_precision: 0.8393 - val_recall: 0.8393 - val_auc: 0.9255\n",
      "Epoch 47/50\n",
      "42/42 [==============================] - 0s 8ms/step - loss: 0.1316 - tp: 319.0000 - fp: 13.0000 - tn: 319.0000 - fn: 13.0000 - accuracy: 0.9608 - precision: 0.9608 - recall: 0.9608 - auc: 0.9846 - val_loss: 0.1730 - val_tp: 106.0000 - val_fp: 6.0000 - val_tn: 106.0000 - val_fn: 6.0000 - val_accuracy: 0.9464 - val_precision: 0.9464 - val_recall: 0.9464 - val_auc: 0.9723\n",
      "Epoch 48/50\n",
      "42/42 [==============================] - 0s 8ms/step - loss: 0.1121 - tp: 319.0000 - fp: 13.0000 - tn: 319.0000 - fn: 13.0000 - accuracy: 0.9608 - precision: 0.9608 - recall: 0.9608 - auc: 0.9935 - val_loss: 1.4499 - val_tp: 73.0000 - val_fp: 39.0000 - val_tn: 73.0000 - val_fn: 39.0000 - val_accuracy: 0.6518 - val_precision: 0.6518 - val_recall: 0.6518 - val_auc: 0.7002\n",
      "Epoch 49/50\n",
      "42/42 [==============================] - 0s 9ms/step - loss: 0.0830 - tp: 319.0000 - fp: 13.0000 - tn: 319.0000 - fn: 13.0000 - accuracy: 0.9608 - precision: 0.9608 - recall: 0.9608 - auc: 0.9964 - val_loss: 0.2693 - val_tp: 101.0000 - val_fp: 11.0000 - val_tn: 101.0000 - val_fn: 11.0000 - val_accuracy: 0.9018 - val_precision: 0.9018 - val_recall: 0.9018 - val_auc: 0.9688\n",
      "Epoch 50/50\n",
      "42/42 [==============================] - 0s 8ms/step - loss: 0.0643 - tp: 321.0000 - fp: 11.0000 - tn: 321.0000 - fn: 11.0000 - accuracy: 0.9669 - precision: 0.9669 - recall: 0.9669 - auc: 0.9979 - val_loss: 0.4534 - val_tp: 98.0000 - val_fp: 14.0000 - val_tn: 98.0000 - val_fn: 14.0000 - val_accuracy: 0.8750 - val_precision: 0.8750 - val_recall: 0.8750 - val_auc: 0.9535\n"
     ]
    }
   ],
   "source": [
    "modelfitprogress = model.fit(\n",
    "                              train_iter,\n",
    "                              validation_data = valid_iter,\n",
    "                              epochs = epochs,\n",
    "                              steps_per_epoch = df_train.shape[0]//train_iter.batch_size,\n",
    "                              validation_steps = df_val.shape[0]//valid_iter.batch_size\n",
    "                              )"
   ]
  },
  {
   "cell_type": "markdown",
   "metadata": {
    "id": "9R2jytfijpEp"
   },
   "source": [
    "<a id=\"section6\"></a>\n",
    "# <font color=\"#004D7F\" size=6> 6. Results</font>"
   ]
  },
  {
   "cell_type": "markdown",
   "metadata": {
    "id": "a-1vHY9rjpEq"
   },
   "source": [
    "Finally, we can evaluate our CNN with the images created by TINTOlib in any of the ways represented below."
   ]
  },
  {
   "cell_type": "markdown",
   "metadata": {
    "id": "9R2jytfijpEp"
   },
   "source": [
    "---\n",
    "<a id=\"section61\"></a>\n",
    "# <font color=\"#004D7F\" size=5> 6.1. Train/Validation representation</font>"
   ]
  },
  {
   "cell_type": "code",
   "execution_count": 24,
   "metadata": {
    "colab": {
     "base_uri": "https://localhost:8080/",
     "height": 430
    },
    "id": "-Ls6_Vu7pjGL",
    "outputId": "35f21788-cd17-4377-9d88-79118f992164",
    "tags": []
   },
   "outputs": [
    {
     "data": {
      "image/png": "[encoded data removed]",
      "text/plain": [
       "<Figure size 640x480 with 1 Axes>"
      ]
     },
     "metadata": {},
     "output_type": "display_data"
    }
   ],
   "source": [
    "plt.plot(modelfitprogress.history['loss'], color = 'red', label = 'loss')\n",
    "plt.plot(modelfitprogress.history['val_loss'], color = 'green', label = 'val loss')\n",
    "plt.legend(loc = 'upper right')\n",
    "#plt.ylim(0,1)\n",
    "plt.show()"
   ]
  },
  {
   "cell_type": "code",
   "execution_count": 25,
   "metadata": {
    "colab": {
     "base_uri": "https://localhost:8080/",
     "height": 430
    },
    "id": "TWtsezuVpjGM",
    "outputId": "a06dccf3-da2d-4060-f67f-2046b547707b",
    "tags": []
   },
   "outputs": [
    {
     "data": {
      "image/png": "[encoded data removed]",
      "text/plain": [
       "<Figure size 640x480 with 1 Axes>"
      ]
     },
     "metadata": {},
     "output_type": "display_data"
    }
   ],
   "source": [
    "plt.plot(modelfitprogress.history['accuracy'], color = 'red', label = 'accuracy')\n",
    "plt.plot(modelfitprogress.history['val_accuracy'], color = 'green', label = 'val accuracy')\n",
    "plt.legend(loc = 'upper right')\n",
    "\n",
    "plt.show()"
   ]
  },
  {
   "cell_type": "markdown",
   "metadata": {
    "id": "9R2jytfijpEp"
   },
   "source": [
    "---\n",
    "<a id=\"section62\"></a>\n",
    "# <font color=\"#004D7F\" size=5> 6.2. Validation/Test evaluation</font>"
   ]
  },
  {
   "cell_type": "code",
   "execution_count": 26,
   "metadata": {
    "colab": {
     "base_uri": "https://localhost:8080/"
    },
    "execution": {
     "iopub.execute_input": "2022-11-14T19:27:24.254144Z",
     "iopub.status.busy": "2022-11-14T19:27:24.253678Z",
     "iopub.status.idle": "2022-11-14T19:28:06.367196Z",
     "shell.execute_reply": "2022-11-14T19:28:06.366140Z",
     "shell.execute_reply.started": "2022-11-14T19:27:24.254102Z"
    },
    "id": "MtDLUW_QpjGO",
    "outputId": "1e8c02c1-0256-49cf-bd58-12e60bea38c6"
   },
   "outputs": [
    {
     "name": "stdout",
     "output_type": "stream",
     "text": [
      "14/14 [==============================] - 0s 4ms/step - loss: 0.4534 - tp: 98.0000 - fp: 14.0000 - tn: 98.0000 - fn: 14.0000 - accuracy: 0.8750 - precision: 0.8750 - recall: 0.8750 - auc: 0.9535\n",
      "Loss in validation: 0.45336461067199707 \n",
      "Accuracy in validation: 0.875\n"
     ]
    }
   ],
   "source": [
    "score = model.evaluate(valid_iter, steps = df_val.shape[0]//valid_iter.batch_size)\n",
    "print(\"Loss in validation: {} \\nAccuracy in validation: {}\".format(score[0], score[5]))"
   ]
  },
  {
   "cell_type": "code",
   "execution_count": 27,
   "metadata": {
    "colab": {
     "base_uri": "https://localhost:8080/"
    },
    "execution": {
     "iopub.execute_input": "2022-11-14T19:28:06.369726Z",
     "iopub.status.busy": "2022-11-14T19:28:06.369356Z",
     "iopub.status.idle": "2022-11-14T19:28:47.388501Z",
     "shell.execute_reply": "2022-11-14T19:28:47.387465Z",
     "shell.execute_reply.started": "2022-11-14T19:28:06.369687Z"
    },
    "id": "27tFyGE8pjGO",
    "outputId": "51f9d766-3e48-4f24-ea4f-a4e48e380444"
   },
   "outputs": [
    {
     "name": "stdout",
     "output_type": "stream",
     "text": [
      "14/14 [==============================] - 0s 4ms/step - loss: 0.2555 - tp: 101.0000 - fp: 11.0000 - tn: 101.0000 - fn: 11.0000 - accuracy: 0.9018 - precision: 0.9018 - recall: 0.9018 - auc: 0.9857\n",
      "Loss in test: 0.25547102093696594 \n",
      "Accuracy in test: 0.9017857313156128\n"
     ]
    }
   ],
   "source": [
    "score_test = model.evaluate(test_iter, steps = df_test.shape[0]//test_iter.batch_size)\n",
    "print(\"Loss in test: {} \\nAccuracy in test: {}\".format(score_test[0], score_test[5]))"
   ]
  },
  {
   "cell_type": "code",
   "execution_count": 28,
   "metadata": {
    "scrolled": false
   },
   "outputs": [
    {
     "data": {
      "text/plain": [
       "0.9017857313156128"
      ]
     },
     "execution_count": 28,
     "metadata": {},
     "output_type": "execute_result"
    }
   ],
   "source": [
    "score_test[6]"
   ]
  },
  {
   "cell_type": "code",
   "execution_count": 29,
   "metadata": {},
   "outputs": [
    {
     "name": "stdout",
     "output_type": "stream",
     "text": [
      "15/15 [==============================] - 0s 3ms/step\n",
      "[[0.9945984  0.00540163]\n",
      " [0.13952635 0.86047363]\n",
      " [0.9948743  0.00512574]\n",
      " [0.99466646 0.0053336 ]\n",
      " [0.99487334 0.00512669]\n",
      " [0.99492645 0.00507349]\n",
      " [0.99490947 0.00509049]\n",
      " [0.99491775 0.00508231]\n",
      " [0.9566251  0.04337495]\n",
      " [0.00960151 0.9903985 ]\n",
      " [0.99466765 0.00533242]\n",
      " [0.00768959 0.9923104 ]\n",
      " [0.99488825 0.00511175]\n",
      " [0.02910934 0.97089064]\n",
      " [0.99488455 0.00511539]\n",
      " [0.9947955  0.00520452]\n",
      " [0.01405836 0.9859416 ]\n",
      " [0.53241616 0.46758384]\n",
      " [0.03335533 0.96664464]\n",
      " [0.01092857 0.9890715 ]\n",
      " [0.99484044 0.0051596 ]\n",
      " [0.00997059 0.9900294 ]\n",
      " [0.99492764 0.0050724 ]\n",
      " [0.01244713 0.9875529 ]\n",
      " [0.00777232 0.9922276 ]\n",
      " [0.01432926 0.98567075]\n",
      " [0.00832343 0.99167657]\n",
      " [0.9933836  0.00661638]\n",
      " [0.9942139  0.00578612]\n",
      " [0.01156589 0.98843414]\n",
      " [0.01353003 0.9864699 ]\n",
      " [0.14499034 0.8550096 ]\n",
      " [0.00960596 0.99039406]\n",
      " [0.99473995 0.00526006]\n",
      " [0.9897855  0.01021452]\n",
      " [0.00819596 0.991804  ]\n",
      " [0.01188884 0.98811114]\n",
      " [0.01748031 0.98251975]\n",
      " [0.01044088 0.98955905]\n",
      " [0.01869151 0.9813085 ]\n",
      " [0.9948101  0.00518994]\n",
      " [0.01157136 0.98842865]\n",
      " [0.9948815  0.00511851]\n",
      " [0.01229956 0.98770046]\n",
      " [0.00884551 0.99115443]\n",
      " [0.01250787 0.9874921 ]\n",
      " [0.99301696 0.00698303]\n",
      " [0.9949065  0.00509346]\n",
      " [0.9948626  0.00513738]\n",
      " [0.0102798  0.98972017]\n",
      " [0.99436104 0.00563893]\n",
      " [0.99371606 0.00628401]\n",
      " [0.9945051  0.00549485]\n",
      " [0.0106867  0.9893133 ]\n",
      " [0.9947277  0.00527235]\n",
      " [0.33286035 0.66713965]\n",
      " [0.99442154 0.00557847]\n",
      " [0.9843656  0.01563436]\n",
      " [0.99492174 0.00507822]\n",
      " [0.9947305  0.00526952]\n",
      " [0.9949334  0.00506655]\n",
      " [0.01175201 0.98824805]\n",
      " [0.00767781 0.99232227]\n",
      " [0.9947961  0.00520388]\n",
      " [0.01033583 0.98966414]\n",
      " [0.01138987 0.98861015]\n",
      " [0.99460936 0.00539064]\n",
      " [0.9949051  0.0050949 ]\n",
      " [0.9947436  0.0052564 ]\n",
      " [0.99431413 0.00568587]\n",
      " [0.9948388  0.00516117]\n",
      " [0.99358255 0.00641738]\n",
      " [0.99484295 0.00515707]\n",
      " [0.00971317 0.9902868 ]\n",
      " [0.00892997 0.99107003]\n",
      " [0.99480695 0.00519302]\n",
      " [0.99492306 0.00507695]\n",
      " [0.994848   0.00515197]\n",
      " [0.9948614  0.00513861]\n",
      " [0.99389815 0.00610182]\n",
      " [0.00834289 0.99165714]\n",
      " [0.00777489 0.99222505]\n",
      " [0.02092144 0.97907853]\n",
      " [0.01076071 0.98923934]\n",
      " [0.99478745 0.00521249]\n",
      " [0.2262046  0.7737954 ]\n",
      " [0.01070195 0.989298  ]\n",
      " [0.9947212  0.00527879]\n",
      " [0.9872361  0.01276388]\n",
      " [0.99485815 0.00514181]\n",
      " [0.00781354 0.9921864 ]\n",
      " [0.9937226  0.00627734]\n",
      " [0.00769714 0.9923029 ]\n",
      " [0.9474121  0.05258797]\n",
      " [0.99492943 0.00507061]\n",
      " [0.00807627 0.99192375]\n",
      " [0.04006166 0.9599383 ]\n",
      " [0.0117612  0.9882388 ]\n",
      " [0.00792492 0.9920751 ]\n",
      " [0.99493116 0.00506879]\n",
      " [0.99439645 0.00560353]\n",
      " [0.01329505 0.9867049 ]\n",
      " [0.99481237 0.00518764]\n",
      " [0.99492997 0.00506999]\n",
      " [0.00993469 0.99006534]\n",
      " [0.9949334  0.0050666 ]\n",
      " [0.00858965 0.9914103 ]\n",
      " [0.03248025 0.96751976]\n",
      " [0.9948584  0.0051416 ]\n",
      " [0.17008005 0.82991993]\n",
      " [0.99445397 0.00554607]\n",
      " [0.9949291  0.00507091]\n",
      " [0.00791591 0.99208415]\n",
      " [0.9947995  0.00520046]]\n"
     ]
    }
   ],
   "source": [
    "#test_images = next(test_iter)[0]\n",
    "prediction = model.predict(test_iter, steps = np.math.ceil(test_iter.samples/test_iter.batch_size))\n",
    "#prediction = model.predict(test_images)\n",
    "print(prediction)"
   ]
  },
  {
   "cell_type": "markdown",
   "metadata": {
    "id": "9R2jytfijpEp"
   },
   "source": [
    "<a id=\"section62\"></a>\n",
    "# <font color=\"#004D7F\" size=5> 6.3. Sklearn metrics evaluation</font>"
   ]
  },
  {
   "cell_type": "code",
   "execution_count": 30,
   "metadata": {},
   "outputs": [
    {
     "name": "stdout",
     "output_type": "stream",
     "text": [
      "Test accuracy: 0.9017857313156128\n",
      "Test AUC: 0.9857301712036133\n",
      "Test precision: 0.9017857313156128\n",
      "Test recall: 0.9017857313156128\n"
     ]
    }
   ],
   "source": [
    "from sklearn.metrics import roc_auc_score,accuracy_score,precision_score, recall_score\n",
    "\n",
    "test_accuracy = score_test[5]\n",
    "test_auc = score_test[8]\n",
    "test_precision = score_test[6]\n",
    "test_recall = score_test[7]\n",
    "\n",
    "print(\"Test accuracy:\",test_accuracy)\n",
    "print(\"Test AUC:\",test_auc)\n",
    "print(\"Test precision:\",test_precision)\n",
    "print(\"Test recall:\",test_recall)"
   ]
  },
  {
   "cell_type": "code",
   "execution_count": 31,
   "metadata": {},
   "outputs": [
    {
     "name": "stdout",
     "output_type": "stream",
     "text": [
      "Train accuracy: 0.9668674468994141\n",
      "Train AUC: 0.9979088306427002\n",
      "Train precision: 0.9668674468994141\n",
      "Train recall: 0.9668674468994141\n",
      "Train loss: 0.06427697837352753\n"
     ]
    }
   ],
   "source": [
    "train_accuracy = modelfitprogress.history[\"accuracy\"][-1]\n",
    "train_auc = modelfitprogress.history[\"auc\"][-1]\n",
    "train_precision = modelfitprogress.history[\"precision\"][-1]\n",
    "train_recall = modelfitprogress.history[\"recall\"][-1]\n",
    "train_loss = modelfitprogress.history[\"loss\"][-1]\n",
    "\n",
    "print(\"Train accuracy:\",train_accuracy)\n",
    "print(\"Train AUC:\",train_auc)\n",
    "print(\"Train precision:\",train_precision)\n",
    "print(\"Train recall:\",train_recall)\n",
    "print(\"Train loss:\",train_loss)"
   ]
  },
  {
   "cell_type": "code",
   "execution_count": 32,
   "metadata": {},
   "outputs": [
    {
     "name": "stdout",
     "output_type": "stream",
     "text": [
      "Validation accuracy: 0.875\n",
      "Validation AUC: 0.9535236358642578\n",
      "Validation precision: 0.875\n",
      "Validation recall: 0.875\n",
      "Validation loss: 0.45336461067199707\n"
     ]
    }
   ],
   "source": [
    "validation_accuracy = modelfitprogress.history[\"val_accuracy\"][-1]\n",
    "validation_auc = modelfitprogress.history[\"val_auc\"][-1]\n",
    "validation_precision = modelfitprogress.history[\"val_precision\"][-1]\n",
    "validation_recall = modelfitprogress.history[\"val_recall\"][-1]\n",
    "validation_loss = modelfitprogress.history[\"val_loss\"][-1]\n",
    "\n",
    "print(\"Validation accuracy:\",validation_accuracy)\n",
    "print(\"Validation AUC:\",validation_auc)\n",
    "print(\"Validation precision:\",validation_precision)\n",
    "print(\"Validation recall:\",validation_recall)\n",
    "print(\"Validation loss:\",validation_loss)"
   ]
  },
  {
   "cell_type": "markdown",
   "metadata": {
    "id": "0ciBS76mpjGU"
   },
   "source": [
    "<div style=\"text-align: right\"> <font size=5> <a href=\"#indice\"><i class=\"fa fa-arrow-circle-up\" aria-hidden=\"true\" style=\"color:#004D7F\"></i></a></font></div>\n",
    "\n",
    "---\n",
    "\n",
    "<div style=\"text-align: right\"> <font size=6><i class=\"fa fa-coffee\" aria-hidden=\"true\" style=\"color:#004D7F\"></i> </font></div>"
   ]
  },
  {
   "cell_type": "markdown",
   "metadata": {},
   "source": []
  }
 ],
 "metadata": {
  "accelerator": "GPU",
  "colab": {
   "gpuType": "T4",
   "provenance": []
  },
  "kernelspec": {
   "display_name": "Python 3 (ipykernel)",
   "language": "python",
   "name": "python3"
  },
  "language_info": {
   "codemirror_mode": {
    "name": "ipython",
    "version": 3
   },
   "file_extension": ".py",
   "mimetype": "text/x-python",
   "name": "python",
   "nbconvert_exporter": "python",
   "pygments_lexer": "ipython3",
   "version": "3.11.7"
  }
 },
 "nbformat": 4,
 "nbformat_minor": 1
}
