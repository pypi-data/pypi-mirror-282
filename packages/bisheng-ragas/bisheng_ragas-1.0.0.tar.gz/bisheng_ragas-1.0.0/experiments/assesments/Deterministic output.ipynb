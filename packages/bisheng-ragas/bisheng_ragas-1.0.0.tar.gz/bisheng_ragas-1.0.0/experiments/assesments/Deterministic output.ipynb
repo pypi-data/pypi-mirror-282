{
 "cells": [
  {
   "cell_type": "code",
   "execution_count": 1,
   "id": "ed913729",
   "metadata": {},
   "outputs": [
    {
     "name": "stderr",
     "output_type": "stream",
     "text": [
      "/opt/anaconda3/envs/ragas/lib/python3.10/site-packages/tqdm/auto.py:21: TqdmWarning: IProgress not found. Please update jupyter and ipywidgets. See https://ipywidgets.readthedocs.io/en/stable/user_install.html\n",
      "  from .autonotebook import tqdm as notebook_tqdm\n"
     ]
    }
   ],
   "source": [
    "import os\n",
    "import openai\n",
    "\n",
    "from openai import OpenAI\n",
    "from datasets import load_dataset\n",
    "import json\n",
    "import numpy as np\n",
    "from scipy.stats import entropy\n",
    "import matplotlib.pyplot as plt\n",
    "client = OpenAI()\n",
    "\n"
   ]
  },
  {
   "cell_type": "code",
   "execution_count": 2,
   "id": "b2de3222",
   "metadata": {},
   "outputs": [],
   "source": [
    "def llm2(prompt, **kwargs):\n",
    "    response = client.chat.completions.create(\n",
    "        model=kwargs.get(\"model\", \"gpt-3.5-turbo\"),\n",
    "        messages=[{\"role\": \"system\", \"content\": prompt}],\n",
    "        temperature=kwargs.get(\"temperature\", 0),\n",
    "        top_p=kwargs.get(\"top_p\", 1),\n",
    "        frequency_penalty=kwargs.get(\"frequency_penalty\", 0.0),\n",
    "        presence_penalty=kwargs.get(\"presence_penalty\", 0.0),\n",
    "        max_tokens=kwargs.get(\"max_tokens\", 500),\n",
    "        n=kwargs.get(\"n\", 1),\n",
    "    )\n",
    "    return response"
   ]
  },
  {
   "cell_type": "markdown",
   "id": "c46a9958",
   "metadata": {},
   "source": [
    "## Experiment 1\n",
    "AIM: To quantify the consistency of ragas recall score \n",
    "\n",
    "- before prompt change\n",
    "- After prompt change\n",
    "- Prompt change + self consistency method\n",
    "\n",
    "Quantify \n",
    "- KL divergance\n",
    "- Mean absolute change (x_i - y_i)\n",
    "- Mean of scores\n",
    "\n",
    "Dataset used:\n",
    "- explodinggradients/WikiEval"
   ]
  },
  {
   "cell_type": "code",
   "execution_count": 3,
   "id": "ecf10292",
   "metadata": {},
   "outputs": [],
   "source": [
    "#  with open(\"consistency_recall.json\",'w') as file:\n",
    "#          json.dump({}, file, indent=4)"
   ]
  },
  {
   "cell_type": "code",
   "execution_count": 4,
   "id": "34acc81f",
   "metadata": {},
   "outputs": [],
   "source": [
    "def read_score(name):\n",
    "    filename = \"consistency_recall.json\"\n",
    "    data = json.load(open(filename))\n",
    "    return data.get(name)"
   ]
  },
  {
   "cell_type": "code",
   "execution_count": 5,
   "id": "ba69e301",
   "metadata": {},
   "outputs": [],
   "source": [
    "def record_score(score,name):\n",
    "    \n",
    "    filename = \"consistency_recall.json\"\n",
    "    data = json.load(open(filename))\n",
    "    data[name] = score\n",
    "    with open(filename,'w') as file:\n",
    "        json.dump(data, file, indent=4)\n",
    "        "
   ]
  },
  {
   "cell_type": "code",
   "execution_count": 6,
   "id": "cf059b7b",
   "metadata": {},
   "outputs": [],
   "source": [
    "def KL(dist1,dist2):\n",
    "    \n",
    "    if isinstance(dist1, list):\n",
    "        dist1 = np.array(dist1) + 1e-8\n",
    "        \n",
    "    if isinstance(dist2, list):\n",
    "        dist2 = np.array(dist2) + 1e-8\n",
    "        \n",
    "    dist1_normalized = dist1 / dist1.sum()\n",
    "    dist2_normalized = dist2 / dist2.sum()\n",
    "    kl_divergence = entropy(dist1_normalized, dist2_normalized)\n",
    "    return kl_divergence"
   ]
  },
  {
   "cell_type": "code",
   "execution_count": 100,
   "id": "ae5d00fc",
   "metadata": {},
   "outputs": [],
   "source": [
    "recall_prompt = \"\"\"\n",
    "Given a context, and an answer, analyze each sentence in the answer and classify if the sentence can be attributed to the given context or not. Output json with reason.\n",
    "\n",
    "\n",
    "question: What can you tell me about albert Albert Einstein?\n",
    "context: Albert Einstein (14 March 1879 – 18 April 1955) was a German-born theoretical physicist,widely held to be one of the greatest and most influential scientists of all time. Best known for developing the theory of relativity, he also made important contributions to quantum mechanics, and was thus a central figure in the revolutionary reshaping of the scientific understanding of nature that modern physics accomplished in the first decades of the twentieth century. His mass–energy equivalence formula E = mc2, which arises from relativity theory, has been called \"the world's most famous equation\". He received the 1921 Nobel Prize in Physics \"for his services to theoretical physics, and especially for his discovery of the law of the photoelectric effect\", a pivotal step in the development of quantum theory. His work is also known for its influence on the philosophy of science. In a 1999 poll of 130 leading physicists worldwide by the British journal Physics World, Einstein was ranked the greatest physicist of all time. His intellectual achievements and originality have made Einstein synonymous with genius.\n",
    "answer: Albert Einstein born in 14 March 1879 was  German-born theoretical physicist, widely held to be one of the greatest and most influential scientists of all time. He received the 1921 Nobel Prize in Physics \"for his services to theoretical physics. He published 4 papers in 1905.  Einstein moved to Switzerland in 1895 \n",
    "classification:\n",
    "[\n",
    "    {{  \"statement_1\":\"Albert Einstein, born on 14 March 1879, was a German-born theoretical physicist, widely held to be one of the greatest and most influential scientists of all time.\",\n",
    "        \"reason\": \"The date of birth of Einstein is mentioned clearly in the context.\",\n",
    "        \"Attributed\": \"Yes\"\n",
    "    }},\n",
    "    {{\n",
    "        \"statement_2\":\"He received the 1921 Nobel Prize in Physics 'for his services to theoretical physics.\",\n",
    "        \"reason\": \"The exact sentence is present in the given context.\",\n",
    "        \"Attributed\": \"Yes\"\n",
    "    }},\n",
    "    {{\n",
    "        \"statement_3\": \"He published 4 papers in 1905.\",\n",
    "        \"reason\": \"There is no mention about papers he wrote in the given context.\",\n",
    "        \"Attributed\": \"No\"\n",
    "    }},\n",
    "    {{\n",
    "        \"statement_4\":\"Einstein moved to Switzerland in 1895.\",\n",
    "        \"reason\": \"There is no supporting evidence for this in the given context.\",\n",
    "        \"Attributed\": \"No\"\n",
    "    }}\n",
    "]\n",
    "\n",
    "question: who won 2020 icc world cup?\n",
    "context: Who won the 2022 ICC Men's T20 World Cup?\n",
    "The 2022 ICC Men's T20 World Cup, held from October 16 to November 13, 2022, in Australia, was the eighth edition of the tournament. Originally scheduled for 2020, it was postponed due to the COVID-19 pandemic. England emerged victorious, defeating Pakistan by five wickets in the final to clinch their second ICC Men's T20 World Cup title.\n",
    "answer: England \n",
    "classification: \n",
    "[\n",
    "    {{\n",
    "        \"statement_1\":\"England won the 2022 ICC Men's T20 World Cup.\",\n",
    "        \"reason\": \"From context it is clear that England defeated Pakistan to win the World Cup.\",\n",
    "         \"Attributed\": \"Yes\"\n",
    "    }}\n",
    "]\n",
    "\n",
    "question:{question}\n",
    "context:{context}\n",
    "answer:{answer}\n",
    "classification:\"\"\""
   ]
  },
  {
   "cell_type": "code",
   "execution_count": 101,
   "id": "757d9b75",
   "metadata": {},
   "outputs": [],
   "source": [
    "c = \"\"\"\n",
    "Black holes, one of the most enigmatic and fascinating phenomena in the universe, are regions of spacetime where gravity is so intense that nothing, not even light, can escape their grasp. Formed from the remnants of massive stars that have undergone gravitational collapse, black holes are characterized by their event horizon, a boundary beyond which all matter and radiation are irretrievably pulled in. Intriguingly, while they are invisible, their presence can be inferred through their interaction with nearby matter and the emission of high-energy radiation. Black holes challenge our understanding of physics, particularly at the intersection of quantum mechanics and general relativity, presenting intriguing questions about the nature of space, time, and the fabric of the universe itself.\n",
    "\"\"\"\n",
    "q = \"What is the term used to describe the boundary around a black hole where nothing, not even light, can escape?\"\n",
    "a = \"Event Horizon.\""
   ]
  },
  {
   "cell_type": "code",
   "execution_count": 102,
   "id": "6fc3ebd7",
   "metadata": {},
   "outputs": [],
   "source": [
    "output = llm2(recall_prompt.format(context=c,question=q,answer=a))"
   ]
  },
  {
   "cell_type": "code",
   "execution_count": 103,
   "id": "46b0fca3",
   "metadata": {},
   "outputs": [
    {
     "data": {
      "text/plain": [
       "[{'statement_1': 'The term used to describe the boundary around a black hole where nothing, not even light, can escape is the event horizon.',\n",
       "  'reason': \"The exact term 'event horizon' is mentioned in the context.\",\n",
       "  'Attributed': 'Yes'}]"
      ]
     },
     "execution_count": 103,
     "metadata": {},
     "output_type": "execute_result"
    }
   ],
   "source": [
    "eval(output.choices[0].message.content)"
   ]
  },
  {
   "cell_type": "code",
   "execution_count": 108,
   "id": "72bdeac3",
   "metadata": {},
   "outputs": [
    {
     "data": {
      "text/plain": [
       "'[\\n    {\\n        \"statement_1\":\"The term used to describe the boundary around a black hole where nothing, not even light, can escape is the event horizon.\",\\n        \"reason\": \"The exact term \\'event horizon\\' is mentioned in the context.\",\\n        \"Attributed\": \"Yes\"\\n    }\\n]'"
      ]
     },
     "execution_count": 108,
     "metadata": {},
     "output_type": "execute_result"
    }
   ],
   "source": [
    "output.choices[0].message.content"
   ]
  },
  {
   "cell_type": "code",
   "execution_count": 121,
   "id": "3485a0fb",
   "metadata": {},
   "outputs": [
    {
     "data": {
      "text/plain": [
       "[{'statement_1': 'The term used to describe the boundary around a black hole where nothing, not even light, can escape is the event horizon.',\n",
       "  'reason': \"The exact term 'event horizon' is mentioned in the context.\",\n",
       "  'Attributed': 'Yes'}]"
      ]
     },
     "execution_count": 121,
     "metadata": {},
     "output_type": "execute_result"
    }
   ],
   "source": [
    "eval(match.group())"
   ]
  },
  {
   "cell_type": "code",
   "execution_count": 4,
   "id": "7eaa3091",
   "metadata": {},
   "outputs": [
    {
     "name": "stderr",
     "output_type": "stream",
     "text": [
      "Found cached dataset parquet (/Users/shahules/.cache/huggingface/datasets/Pakulski___parquet/Pakulski--ELI5-test-ed159b4d22db0b30/0.0.0/14a00e99c0d15a23649d0db8944380ac81082d4b021f398733dd84f3a6c569a7)\n",
      "100%|█████████████████████████████████████████████████████| 1/1 [00:00<00:00,  7.06it/s]\n"
     ]
    }
   ],
   "source": [
    "# dataset = load_dataset(\"explodinggradients/WikiEval\")\n",
    "dataset = load_dataset(\"Pakulski/ELI5-test\")"
   ]
  },
  {
   "cell_type": "code",
   "execution_count": 3,
   "id": "bfd13691",
   "metadata": {},
   "outputs": [],
   "source": [
    "from bisheng_ragas.metrics import context_recall\n"
   ]
  },
  {
   "cell_type": "code",
   "execution_count": 6,
   "id": "b1b1fc2a",
   "metadata": {},
   "outputs": [],
   "source": [
    "# from bisheng_ragas.metrics._context_recall import ContextRecallImproved\n",
    "# context_recall = ContextRecallImproved()"
   ]
  },
  {
   "cell_type": "code",
   "execution_count": 7,
   "id": "dc8c4899",
   "metadata": {},
   "outputs": [],
   "source": [
    "from bisheng_ragas import evaluate"
   ]
  },
  {
   "cell_type": "code",
   "execution_count": 8,
   "id": "83f0a0de",
   "metadata": {},
   "outputs": [
    {
     "name": "stderr",
     "output_type": "stream",
     "text": [
      "                                                                                        \r"
     ]
    }
   ],
   "source": [
    "dataset = dataset['train'].select(range(0,10))\n",
    "dataset = dataset.rename_columns({\"document\":\"contexts\",\"goldenAnswer\":\"ground_truths\"})\n",
    "dataset = dataset.map(lambda x : {'ground_truths':[x['ground_truths']],'contexts':[x['contexts']] })"
   ]
  },
  {
   "cell_type": "code",
   "execution_count": 17,
   "id": "bc5daf8e",
   "metadata": {},
   "outputs": [
    {
     "name": "stderr",
     "output_type": "stream",
     "text": [
      "Loading cached processed dataset at /Users/shahules/.cache/huggingface/datasets/explodinggradients___parquet/explodinggradients--WikiEval-33bd2cbc490cc57b/0.0.0/14a00e99c0d15a23649d0db8944380ac81082d4b021f398733dd84f3a6c569a7/cache-5fe04aab11621603.arrow\n"
     ]
    }
   ],
   "source": [
    "# dataset = dataset['train'].map(lambda x : {'ground_truths':[x['ungrounded_answer']]})"
   ]
  },
  {
   "cell_type": "code",
   "execution_count": 53,
   "id": "33ff7b32",
   "metadata": {},
   "outputs": [
    {
     "data": {
      "text/plain": [
       "Dataset({\n",
       "    features: ['id', 'question', 'contexts', 'ground_truths'],\n",
       "    num_rows: 100\n",
       "})"
      ]
     },
     "execution_count": 53,
     "metadata": {},
     "output_type": "execute_result"
    }
   ],
   "source": [
    "dataset"
   ]
  },
  {
   "cell_type": "code",
   "execution_count": 22,
   "id": "80917afa",
   "metadata": {},
   "outputs": [
    {
     "name": "stdout",
     "output_type": "stream",
     "text": [
      "evaluating with [context_recall]\n"
     ]
    },
    {
     "name": "stderr",
     "output_type": "stream",
     "text": [
      "100%|█████████████████████████████████████████████████████| 4/4 [01:13<00:00, 18.34s/it]\n"
     ]
    }
   ],
   "source": [
    "# ragas_score = evaluate(dataset=dataset,metrics=[context_recall],column_map={\"question\":\"question\",\"contexts\":\"context_v1\",\"ground_truths\":\"ground_truths\"})"
   ]
  },
  {
   "cell_type": "code",
   "execution_count": 9,
   "id": "b29ec575",
   "metadata": {},
   "outputs": [
    {
     "name": "stdout",
     "output_type": "stream",
     "text": [
      "evaluating with [context_recall]\n"
     ]
    },
    {
     "name": "stderr",
     "output_type": "stream",
     "text": [
      "100%|█████████████████████████████████████████████████████| 1/1 [00:23<00:00, 23.22s/it]\n"
     ]
    }
   ],
   "source": [
    "ragas_score = evaluate(dataset=dataset,metrics=[context_recall])"
   ]
  },
  {
   "cell_type": "code",
   "execution_count": 64,
   "id": "aaa176e8",
   "metadata": {},
   "outputs": [],
   "source": [
    "record_score(ragas_score.to_pandas()['context_recall'].values.tolist(),'prompt_to_json_eli5_1')"
   ]
  },
  {
   "cell_type": "code",
   "execution_count": 65,
   "id": "5642abde",
   "metadata": {},
   "outputs": [],
   "source": [
    "score = KL(read_score(\"prompt_to_json_eli5\"),read_score(\"prompt_to_json_eli5_1\"))"
   ]
  },
  {
   "cell_type": "code",
   "execution_count": 66,
   "id": "25333eb5",
   "metadata": {},
   "outputs": [
    {
     "data": {
      "text/plain": [
       "0.0"
      ]
     },
     "execution_count": 66,
     "metadata": {},
     "output_type": "execute_result"
    }
   ],
   "source": [
    "score"
   ]
  },
  {
   "cell_type": "code",
   "execution_count": 29,
   "id": "982131d0",
   "metadata": {},
   "outputs": [],
   "source": [
    "record_score(score,\"prompt_to_json_prompt_to_json_2\")"
   ]
  },
  {
   "cell_type": "code",
   "execution_count": 98,
   "id": "de059ca8",
   "metadata": {},
   "outputs": [
    {
     "name": "stderr",
     "output_type": "stream",
     "text": [
      "No artists with labels found to put in legend.  Note that artists whose label start with an underscore are ignored when legend() is called with no argument.\n"
     ]
    },
    {
     "data": {
      "image/png": "[encoded data removed]",
      "text/plain": [
       "<Figure size 720x360 with 2 Axes>"
      ]
     },
     "metadata": {},
     "output_type": "display_data"
    }
   ],
   "source": [
    "plt.style.use('ggplot') \n",
    "fig,ax = plt.subplots(1,2,figsize=(10, 5))\n",
    "ax[0].scatter(read_score(\"prompt_to_json_eli5\"),read_score(\"prompt_to_json_eli5_1\"),marker=\"o\")\n",
    "ax[0].set_title(\"JSON\")\n",
    "ax[1].scatter(read_score(\"native_eli5\"),read_score(\"native_eli5_1\"),marker=\"o\")\n",
    "ax[1].set_title(\"Native\")\n",
    "ax[0].set_xlabel(\"experiment 1\")\n",
    "ax[0].set_ylabel(\"experiment 2\")\n",
    "\n",
    "plt.legend()\n",
    "plt.show()"
   ]
  },
  {
   "cell_type": "markdown",
   "id": "b7e6a507",
   "metadata": {},
   "source": [
    "## Self consistency \n",
    "The idea is to select the sample with highest similarity to other samples, among k generated samples\n",
    "1) n-gram + cosine similarity\n",
    "\n",
    "2) embeddings + cosine similarity\n",
    "\n",
    "### Use case\n",
    "- building this to select the best from k generations that are all json\n",
    "- For each json in output\n",
    "    - for each key in json\n",
    "        - select sample with that maximises sim score "
   ]
  },
  {
   "cell_type": "code",
   "execution_count": null,
   "id": "77aff1ff",
   "metadata": {},
   "outputs": [],
   "source": []
  }
 ],
 "metadata": {
  "kernelspec": {
   "display_name": "ragas",
   "language": "python",
   "name": "ragas"
  },
  "language_info": {
   "codemirror_mode": {
    "name": "ipython",
    "version": 3
   },
   "file_extension": ".py",
   "mimetype": "text/x-python",
   "name": "python",
   "nbconvert_exporter": "python",
   "pygments_lexer": "ipython3",
   "version": "3.10.8"
  }
 },
 "nbformat": 4,
 "nbformat_minor": 5
}
