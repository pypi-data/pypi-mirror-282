{
 "cells": [
  {
   "cell_type": "markdown",
   "metadata": {
    "id": "ApdDiy9alAzN"
   },
   "source": [
    "<center>\n",
    "    <p style=\"text-align:center\">\n",
    "        <img alt=\"parea logo\" src=\"https://media.dev.to/cdn-cgi/image/width=320,height=320,fit=cover,gravity=auto,format=auto/https%3A%2F%2Fdev-to-uploads.s3.amazonaws.com%2Fuploads%2Forganization%2Fprofile_image%2F8067%2Fc508b9f7-50ae-43b6-91fc-d8535102b518.png\" width=\"200\"/>\n",
    "        <br>\n",
    "        <a href=\"https://docs.parea.ai/\">Docs</a>\n",
    "        |\n",
    "        <a href=\"https://github.com/parea-ai/parea-sdk-py\">GitHub</a>\n",
    "        |\n",
    "        <a href=\"https://discord.gg/KbHtZqwvsQ\">Community</a>\n",
    "    </p>\n",
    "</center>\n",
    "<h1 align=\"center\">Tracing & Evaluating a DSPy Application</h1>\n",
    "\n",
    "DSPy is a framework for automatically prompting and fine-tuning language models. It provides:\n",
    "\n",
    "- Composable and declarative APIs that allow developers to describe the architecture of their LLM application in the form of a \"module\" (inspired by PyTorch's `nn.Module`),\n",
    "- Optimizers formerly known as \"teleprompters\" that optimize a user-defined module for a particular task. The optimization could involve selecting few-shot examples, generating prompts, or fine-tuning language models.\n",
    "\n",
    "Parea makes your DSPy applications *observable* by visualizing the underlying structure of each call to your compiled DSPy module and surfacing problematic spans of execution based on latency, token count, or other evaluation metrics. Additionally, Parea allows you to *track the performance* of your DSPy modules over time, across different architectures, optimizers, etc.\n",
    "\n",
    "In this tutorial, you will:\n",
    "- Build and optimize DSPy modules that use retrieval-augmented generation and multi-hop reasoning to answer questions over AirBnB 2023 10k filings dataset,\n",
    "- Instrument your application using [Parea AI](https://parea.ai),\n",
    "- Inspect the traces of your application to understand the inner works of a DSPy forward pass.\n",
    "- Evaluate your modules\n",
    "- Understand how many samples are necessary to achieve good performance on the test set.\n",
    "\n",
    "ℹ️ This notebook requires an OpenAI API key.\n",
    "ℹ️ This notebook requires a Parea API key, which can be created [here](https://docs.parea.ai/api-reference/authentication#parea-api-key).\n"
   ]
  },
  {
   "cell_type": "markdown",
   "metadata": {
    "id": "YTKoCQLalAzR"
   },
   "source": [
    "## 1. Install Dependencies and Import Libraries\n",
    "\n",
    "Install Parea, DSPy, ChromaDB, and other dependencies."
   ]
  },
  {
   "cell_type": "code",
   "execution_count": null,
   "metadata": {
    "id": "eFvpnKNqlAzR"
   },
   "outputs": [],
   "source": [
    "!pip install \"regex~=2023.10.3\" dspy-ai  # DSPy requires an old version of regex that conflicts with the installed version on Colab\n",
    "!pip install parea-ai chromadb"
   ]
  },
  {
   "cell_type": "markdown",
   "metadata": {
    "id": "UrtCAKsQlAzS"
   },
   "source": [
    "⚠️ DSPy conflicts with the default version of the `regex` module that comes pre-installed on Google Colab. If you are running this notebook in Google Colab, you will likely need to restart the kernel after running the installation step above and before proceeding to the rest of the notebook, otherwise, your instrumentation will fail."
   ]
  },
  {
   "cell_type": "markdown",
   "metadata": {
    "id": "qnIWq7VQlAzS"
   },
   "source": [
    "Import libraries."
   ]
  },
  {
   "cell_type": "code",
   "execution_count": null,
   "metadata": {
    "id": "mX_s50ChlAzS"
   },
   "outputs": [],
   "source": [
    "import json\n",
    "import os\n",
    "import random\n",
    "from getpass import getpass\n",
    "\n",
    "import chromadb\n",
    "import dspy\n",
    "import nest_asyncio\n",
    "import openai\n",
    "from dsp.utils import deduplicate\n",
    "from dspy import evaluate as dspy_eval\n",
    "from dspy.retrieve.chromadb_rm import ChromadbRM\n",
    "from dspy.teleprompt import BootstrapFewShot\n",
    "\n",
    "from parea import Parea\n",
    "from parea.utils.trace_integrations.dspy import attach_evals_to_module, convert_dspy_examples_to_parea_dicts"
   ]
  },
  {
   "cell_type": "markdown",
   "metadata": {
    "id": "P25670kglAzS"
   },
   "source": [
    "## 2. Configure Your OpenAI & Parea API Key\n",
    "\n",
    "Set your OpenAI & Parea API key if they are not already set as environment variables."
   ]
  },
  {
   "cell_type": "code",
   "execution_count": null,
   "metadata": {
    "id": "shdQmSpalAzT"
   },
   "outputs": [],
   "source": [
    "for api_key_name in [\"OPENAI_API_KEY\", \"PAREA_API_KEY\"]:\n",
    "    if not (api_key_value := os.getenv(api_key_name)):\n",
    "        api_key_value = getpass(f\"🔑 Enter your {api_key_name.split('_')[0].title()} API key: \")\n",
    "    if api_key_name == \"OPENAI_API_KEY\":\n",
    "        openai.api_key = api_key_value\n",
    "    os.environ[api_key_name] = api_key_value"
   ]
  },
  {
   "cell_type": "markdown",
   "metadata": {
    "id": "nrP-kTQOlAzT"
   },
   "source": [
    "## 3. Configure LM\n",
    "\n",
    "We will use `gpt-3.5-turbo` as our LLM of choice for this tutorial."
   ]
  },
  {
   "cell_type": "code",
   "execution_count": null,
   "metadata": {
    "id": "u0kUNUQRlAzT"
   },
   "outputs": [],
   "source": [
    "turbo = dspy.OpenAI(model=\"gpt-3.5-turbo\")\n",
    "dspy.settings.configure(lm=turbo)"
   ]
  },
  {
   "cell_type": "markdown",
   "metadata": {
    "id": "cYxhydFWlAzT"
   },
   "source": [
    "## 4. Load & Index Data\n",
    "\n",
    "Next we will download [Virat](https://twitter.com/virattt)'s processed AirBnB 2023 10k filings dataset. This dataset contains 100 triplets of question, relevant context, and answer from AirBnB's 2023 10k filings. We will store the contexts in ChromaDB to fetch those to when trying to answer a question."
   ]
  },
  {
   "cell_type": "code",
   "execution_count": null,
   "outputs": [],
   "source": [
    "path_qca = \"airbnb-2023-10k-qca.json\"\n",
    "\n",
    "if not os.path.exists(path_qca):\n",
    "    !wget https://virattt.github.io/datasets/abnb-2023-10k.json -O airbnb-2023-10k-qca.json\n",
    "\n",
    "with open(path_qca, \"r\") as f:\n",
    "    question_context_answers = json.load(f)\n",
    "\n",
    "chroma_client = chromadb.PersistentClient()\n",
    "collection = chroma_client.get_or_create_collection(name=\"contexts\")\n",
    "if collection.count() == 0:\n",
    "    collection.add(documents=[qca[\"context\"] for qca in question_context_answers], ids=[str(i) for i in range(len(question_context_answers))])"
   ],
   "metadata": {
    "collapsed": false
   }
  },
  {
   "cell_type": "markdown",
   "source": [
    "Now let's transform the dataset into `dspy.Example` objects and mark the `question` field as the input field. Then, we can split the data into a training and test set."
   ],
   "metadata": {
    "collapsed": false
   }
  },
  {
   "cell_type": "code",
   "execution_count": null,
   "outputs": [],
   "source": [
    "qca_dataset = []\n",
    "for qca in question_context_answers:\n",
    "    # Tell DSPy that the 'question' field is the input. Any other fields are labels and/or metadata.\n",
    "    qca_dataset.append(dspy.Example(question=qca[\"question\"], answer=qca[\"answer\"], golden_context=qca[\"context\"]).with_inputs(\"question\"))\n",
    "\n",
    "random.seed(2024)\n",
    "random.shuffle(qca_dataset)\n",
    "train_set = qca_dataset[: int(0.7 * len(qca_dataset))]\n",
    "test_set = qca_dataset[int(0.7 * len(qca_dataset)) :]\n",
    "\n",
    "len(train_set), len(test_set)"
   ],
   "metadata": {
    "collapsed": false
   }
  },
  {
   "cell_type": "markdown",
   "metadata": {
    "id": "cWNZJ-DYlAzT"
   },
   "source": [
    "Each sample in our dataset has a question, a golden context and a human-annotated answer."
   ]
  },
  {
   "cell_type": "code",
   "execution_count": null,
   "metadata": {
    "id": "WSKnwCbDlAzU"
   },
   "outputs": [],
   "source": [
    "train_set[0]"
   ]
  },
  {
   "cell_type": "markdown",
   "metadata": {
    "id": "fGCENtK8lAzU"
   },
   "source": [
    "## 5. Define A Simple RAG Module\n",
    "\n",
    "In order to define the RAG module, we need to define a signature that takes in two inputs, `context` and `question`, and outputs an `answer`. The signature provides:\n",
    "\n",
    "- A description of the sub-task the language model is supposed to solve.\n",
    "- A description of the input fields to the language model.\n",
    "- A description of the output fields the language model must produce."
   ]
  },
  {
   "cell_type": "code",
   "execution_count": null,
   "metadata": {
    "id": "oX90tzXSlAzU"
   },
   "outputs": [],
   "source": [
    "class GenerateAnswer(dspy.Signature):\n",
    "    \"\"\"Answer questions with short factoid answers.\"\"\"\n",
    "\n",
    "    context = dspy.InputField(desc=\"may contain relevant facts\")\n",
    "    question = dspy.InputField()\n",
    "    answer = dspy.OutputField(desc=\"often between 1 and 5 words\")"
   ]
  },
  {
   "cell_type": "markdown",
   "metadata": {
    "id": "IYJwF706lAzU"
   },
   "source": [
    "Define your module by subclassing `dspy.Module` and overriding the `forward` method. Here, we use ChromaDB to retrieve the top-k passages from the context and then use the Chain-of-Thought generate the final answer."
   ]
  },
  {
   "cell_type": "code",
   "execution_count": null,
   "metadata": {
    "id": "bjiQA55nlAzU"
   },
   "outputs": [],
   "source": [
    "class RAG(dspy.Module):\n",
    "    def __init__(self, num_passages=3):\n",
    "        super().__init__()\n",
    "        self.retrieve = ChromadbRM(\"contexts\", \"./chroma\", k=num_passages)\n",
    "        self.generate_answer = dspy.ChainOfThought(GenerateAnswer)\n",
    "\n",
    "    def forward(self, question):\n",
    "        context = [r[\"long_text\"] for r in self.retrieve(question)]\n",
    "        prediction = self.generate_answer(context=context, question=question)\n",
    "        return dspy.Prediction(context=context, answer=prediction.answer)"
   ]
  },
  {
   "cell_type": "markdown",
   "source": [
    "## 6. Evaluate the RAG Module\n",
    "\n",
    "We will use Parea to evaluate the RAG module on the test set. This consists of two parts:\n",
    "- **instrumentation**: We will trace the execution of the module components to understand how the module processes the input: done by the `trace_dspy` method.\n",
    "- **experimentation**: We will run an experiment to see the model's performance on the test set.\n",
    "\n",
    "To be able to execute experiments in a notebook, we need to apply a patch to the `nest_asyncio` module."
   ],
   "metadata": {
    "collapsed": false
   }
  },
  {
   "cell_type": "code",
   "execution_count": null,
   "outputs": [],
   "source": [
    "p = Parea(api_key=os.getenv(\"PAREA_API_KEY\"))\n",
    "p.trace_dspy()\n",
    "\n",
    "nest_asyncio.apply()\n",
    "os.environ[\"TOKENIZERS_PARALLELISM\"] = \"false\"  # needed because of transformers"
   ],
   "metadata": {
    "collapsed": false
   }
  },
  {
   "cell_type": "markdown",
   "source": [
    "We will use two evaluation functions for our experiment:\n",
    "- `dspy.evaluate.answer_exact_match`: checks if the predicted answer is an exact match with the target answer.\n",
    "- `gold_passages_retrieved`: checks if the retrieved context matches the golden context.\n",
    "\n",
    "Note, we need to convert the list of `dspy.Example`s into a list of dictionaries and also attach the evaluation metric to the module such that we can execute the experiment with Parea. We can do the former via `convert_dspy_examples_to_parea_dicts` and the latter via `attach_evals_to_module`."
   ],
   "metadata": {
    "collapsed": false
   }
  },
  {
   "cell_type": "code",
   "execution_count": null,
   "outputs": [],
   "source": [
    "def gold_passages_retrieved(example, pred, trace=None):\n",
    "    return any(example[\"golden_context\"] == c for c in pred.context)\n",
    "\n",
    "\n",
    "p.experiment(\n",
    "    \"AirBnB 10 k filings\",  # name of the experiment\n",
    "    convert_dspy_examples_to_parea_dicts(test_set),  # dataset of the experiment\n",
    "    attach_evals_to_module(RAG(), [dspy_eval.answer_exact_match, gold_passages_retrieved]),  # function which should be evaluated\n",
    ").run(\n",
    "    \"simple-rag\"\n",
    ")  # name of the run"
   ],
   "metadata": {
    "collapsed": false
   }
  },
  {
   "cell_type": "markdown",
   "source": [
    "We can see that only in 37% of the cases the correct context is retrieved. Additionally, by looking at the relationship between the retrieval accuracy (`gold_passages_retrieved`) and the overall accuracy of our RAG pipeline (`answer_exact_match`), we can see our retrieval step is the bottleneck (e.g. both metrics agree in 90% of cases).\n",
    "\n",
    "![Simple RAG](https://drive.google.com/uc?id=1zZ-9b9PVfeeIX6fgSfqu_8NapIscpLsw)\n",
    "\n",
    "When inspecting a single sample, we can see that the retrieved context (middle red box) doesn't match the question (top red box) and the correct context (bottom red box) at all:\n",
    "\n",
    "![Bad Retrieval](https://drive.google.com/uc?id=1zBXRzKmTde4Qtd3cegSV1xAb9iUExDIu)"
   ],
   "metadata": {
    "collapsed": false
   }
  },
  {
   "cell_type": "markdown",
   "source": [
    "## 7. We need better retrieval: Simplified Baleen\n",
    "\n",
    "One way to improve this to iteratively refine the query given already retrieved contexts before generating a final answer. This is encapsulated in standard NLP by multi-hop search systems, c.f. e.g. Baleen (Khattab et al., 2021). Let's try it out!\n",
    "\n",
    "For that we will introduce a new `Signature`: given some context and a question, generate a new query to find more relevant information."
   ],
   "metadata": {
    "collapsed": false
   }
  },
  {
   "cell_type": "code",
   "execution_count": null,
   "outputs": [],
   "source": [
    "class GenerateSearchQuery(dspy.Signature):\n",
    "    \"\"\"Write a simple search query that will help answer a complex question.\"\"\"\n",
    "\n",
    "    context = dspy.InputField(desc=\"may contain relevant facts\")\n",
    "    question = dspy.InputField()\n",
    "    query = dspy.OutputField()"
   ],
   "metadata": {
    "collapsed": false
   }
  },
  {
   "cell_type": "markdown",
   "source": [
    "Now we can define a simplified version of Baleen. Concretely, we will do in the `forward` pass:\n",
    "\n",
    "1. Loop `self.max_hops` times to fetch diverse contexts. In each iteration:\n",
    "    1. Generate a search query using Chain-of-Thought (the predictor at `self.generate_query[hop]`).\n",
    "    2. Then, retrieve the top-k passages using that query.\n",
    "    3. Finally, add the (deduplicated) passages to our accumulated context.\n",
    "2. After the loop, `self.generate_answer` generates an answer via CoT.\n",
    "3. Finally, return a prediction with the retrieved context and predicted answer.\n",
    "\n",
    "Note, we need to pull `ChromadbRM` outside of the module declaration to ensure that the module is pickleable, which is a requirement to optimize it later on."
   ],
   "metadata": {
    "collapsed": false
   }
  },
  {
   "cell_type": "code",
   "execution_count": null,
   "outputs": [],
   "source": [
    "def retrieve_passages(query, k):\n",
    "    retriever = ChromadbRM(\"contexts\", \"./chroma\", k=k)\n",
    "    return [r[\"long_text\"] for r in retriever(query)]\n",
    "\n",
    "\n",
    "class SimplifiedBaleen(dspy.Module):\n",
    "    def __init__(self, passages_per_hop=3, max_hops=2):\n",
    "        super().__init__()\n",
    "\n",
    "        self.generate_query = [dspy.ChainOfThought(GenerateSearchQuery) for _ in range(max_hops)]\n",
    "        self.passages_per_hop = passages_per_hop\n",
    "        self.generate_answer = dspy.ChainOfThought(GenerateAnswer)\n",
    "        self.max_hops = max_hops\n",
    "\n",
    "    def forward(self, question):\n",
    "        context = []\n",
    "\n",
    "        for hop in range(self.max_hops):\n",
    "            query = self.generate_query[hop](context=context, question=question).query\n",
    "            passages = retrieve_passages(query, self.passages_per_hop)\n",
    "            context = deduplicate(context + passages)\n",
    "\n",
    "        pred = self.generate_answer(context=context, question=question)\n",
    "        return dspy.Prediction(context=context, answer=pred.answer)"
   ],
   "metadata": {
    "collapsed": false
   }
  },
  {
   "cell_type": "markdown",
   "source": [
    "## 8. Optimizing the Baleen Model\n",
    "\n",
    "Now, we can apply the **magic** of DSPy and optimize our model on our training set. For that we need to select an optimizer and define an evaluation metric.\n",
    "\n",
    "As optimizer, we will choose the `BootstrapFewShot` optimizer which uses few-shot examples to boost the performance of the prompts. To evaluate the pipeline we will apply the following logic:\n",
    "1. check if the predicted answer is an exact match with the target answer\n",
    "2. check if the retrieved context matches the golden context\n",
    "3. check if the queries for the individual hops aren't too long\n",
    "4. check if the queries are sufficiently different from each other"
   ],
   "metadata": {
    "collapsed": false
   }
  },
  {
   "cell_type": "code",
   "execution_count": null,
   "outputs": [],
   "source": [
    "def validate_context_and_answer_and_hops(example, pred, trace=None):\n",
    "    if not dspy.evaluate.answer_exact_match(example, pred):\n",
    "        return False\n",
    "    if not gold_passages_retrieved(example, pred):\n",
    "        return False\n",
    "\n",
    "    hops = [example.question] + [outputs.query for *_, outputs in trace if \"query\" in outputs]\n",
    "\n",
    "    if max([len(h) for h in hops]) > 100:\n",
    "        return False\n",
    "    if any(dspy.evaluate.answer_exact_match_str(hops[idx], hops[:idx], frac=0.8) for idx in range(2, len(hops))):\n",
    "        return False\n",
    "\n",
    "    return True\n",
    "\n",
    "\n",
    "teleprompter = BootstrapFewShot(metric=validate_context_and_answer_and_hops)\n",
    "compiled_baleen = teleprompter.compile(SimplifiedBaleen(), teacher=SimplifiedBaleen(passages_per_hop=2), trainset=train_set)"
   ],
   "metadata": {
    "collapsed": false
   }
  },
  {
   "cell_type": "markdown",
   "source": [
    "Now let's compare the unoptimized with the optimized system to see if there are any improvements:"
   ],
   "metadata": {
    "collapsed": false
   }
  },
  {
   "cell_type": "code",
   "execution_count": null,
   "outputs": [],
   "source": [
    "p.experiment(\n",
    "    \"AirBnB 10 k filings\",\n",
    "    convert_dspy_examples_to_parea_dicts(test_set),\n",
    "    attach_evals_to_module(SimplifiedBaleen(), [dspy_eval.answer_exact_match, gold_passages_retrieved]),\n",
    ").run(\"unoptimized-baleen\")\n",
    "\n",
    "p.experiment(\n",
    "    \"AirBnB 10 k filings\", convert_dspy_examples_to_parea_dicts(test_set), attach_evals_to_module(compiled_baleen, [dspy_eval.answer_exact_match, gold_passages_retrieved])\n",
    ").run(\"optimized-baleen\")"
   ],
   "metadata": {
    "collapsed": false
   }
  },
  {
   "cell_type": "markdown",
   "source": [
    "When selecting both experiments in the overview, we can that our retrieval accuracy has increased from 40% to 53.3% and the overall accuracy has increased from 37% to 43%.\n",
    "\n",
    "![Experiments Comparison](https://drive.google.com/uc?id=1NI8_ELz-0Gyxw2VqQwz_HyuBOua_HVT2)"
   ],
   "metadata": {
    "collapsed": false
   }
  },
  {
   "cell_type": "markdown",
   "source": [
    "## 9. Ablation on Training Samples\n",
    "\n",
    "Finally, let's see how many samples are actually necessary to achieve a performance improvement. For that we will repeat the optimization with 5, 10, 25, 50, and all training samples."
   ],
   "metadata": {
    "collapsed": false
   }
  },
  {
   "cell_type": "code",
   "execution_count": null,
   "outputs": [],
   "source": [
    "for n_train in [5, 10, 25, 50, len(train_set)]:\n",
    "    teleprompter = BootstrapFewShot(metric=validate_context_and_answer_and_hops)\n",
    "    compiled_baleen = teleprompter.compile(SimplifiedBaleen(), teacher=SimplifiedBaleen(passages_per_hop=2), trainset=train_set[:n_train])\n",
    "\n",
    "    p.experiment(\n",
    "        \"AirBnB 10 k filings\", convert_dspy_examples_to_parea_dicts(test_set), attach_evals_to_module(compiled_baleen, [dspy_eval.answer_exact_match, gold_passages_retrieved])\n",
    "    ).run(f\"n_train-{n_train}\")"
   ],
   "metadata": {
    "collapsed": false
   }
  },
  {
   "cell_type": "markdown",
   "source": [
    "We can see that our optimization has started to overfit on the training set when we use more than 50 training samples. Using 50 training samples leads to 77% correct retrieved context and 63% overall accuracy on the test set.\n",
    "\n",
    "![Experiments Overview](https://drive.google.com/uc?id=1JTsNyLWqv7onuYnRAwHhEggr7oJvP4U-)\n",
    "\n",
    "Now, it's your tun to achieve 100% accuracy on the test set! 🚀"
   ],
   "metadata": {
    "collapsed": false
   }
  },
  {
   "cell_type": "code",
   "execution_count": null,
   "outputs": [],
   "source": [],
   "metadata": {
    "collapsed": false
   }
  }
 ],
 "metadata": {
  "language_info": {
   "name": "python"
  },
  "colab": {
   "provenance": []
  }
 },
 "nbformat": 4,
 "nbformat_minor": 0
}
