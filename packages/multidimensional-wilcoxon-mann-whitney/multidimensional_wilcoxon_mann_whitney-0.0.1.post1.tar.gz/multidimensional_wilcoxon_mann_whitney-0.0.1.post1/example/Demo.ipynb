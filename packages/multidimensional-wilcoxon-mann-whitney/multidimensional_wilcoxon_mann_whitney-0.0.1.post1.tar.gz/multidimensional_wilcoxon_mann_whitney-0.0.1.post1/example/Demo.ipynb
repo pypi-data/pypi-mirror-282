{
 "cells": [
  {
   "cell_type": "code",
   "execution_count": 1,
   "metadata": {
    "colab": {
     "base_uri": "https://localhost:8080/"
    },
    "id": "TDXIVfZ6CCXp",
    "outputId": "1e59399f-26d7-4e03-daff-a475861dd5f0"
   },
   "outputs": [
    {
     "name": "stdout",
     "output_type": "stream",
     "text": [
      "Collecting multidimensional-wilcoxon-mann-whitney\n",
      "  Using cached multidimensional_wilcoxon_mann_whitney-0.0.1-py3-none-any.whl.metadata (538 bytes)\n",
      "Using cached multidimensional_wilcoxon_mann_whitney-0.0.1-py3-none-any.whl (2.1 kB)\n",
      "Installing collected packages: multidimensional-wilcoxon-mann-whitney\n",
      "  Attempting uninstall: multidimensional-wilcoxon-mann-whitney\n",
      "    Found existing installation: multidimensional-wilcoxon-mann-whitney 0.0.1\n",
      "    Uninstalling multidimensional-wilcoxon-mann-whitney-0.0.1:\n",
      "      Successfully uninstalled multidimensional-wilcoxon-mann-whitney-0.0.1\n",
      "Successfully installed multidimensional-wilcoxon-mann-whitney-0.0.1\n",
      "Note: you may need to restart the kernel to use updated packages.\n"
     ]
    }
   ],
   "source": [
    "pip install --force -U multidimensional-wilcoxon-mann-whitney"
   ]
  },
  {
   "cell_type": "code",
   "execution_count": 3,
   "metadata": {
    "colab": {
     "base_uri": "https://localhost:8080/",
     "height": 430
    },
    "id": "CZNoU25YzG1S",
    "outputId": "d8171126-ada2-4f4e-e82c-196873d69cb6"
   },
   "outputs": [
    {
     "ename": "ModuleNotFoundError",
     "evalue": "No module named 'matplotlib'",
     "output_type": "error",
     "traceback": [
      "\u001b[0;31m---------------------------------------------------------------------------\u001b[0m",
      "\u001b[0;31mModuleNotFoundError\u001b[0m                       Traceback (most recent call last)",
      "Cell \u001b[0;32mIn[3], line 3\u001b[0m\n\u001b[1;32m      1\u001b[0m \u001b[38;5;28;01mfrom\u001b[39;00m \u001b[38;5;21;01mmultidimensional_wilcoxon_mann_whitney\u001b[39;00m \u001b[38;5;28;01mimport\u001b[39;00m multidimensional_ranksum\n\u001b[1;32m      2\u001b[0m \u001b[38;5;28;01mfrom\u001b[39;00m \u001b[38;5;21;01msklearn\u001b[39;00m\u001b[38;5;21;01m.\u001b[39;00m\u001b[38;5;21;01mdatasets\u001b[39;00m \u001b[38;5;28;01mimport\u001b[39;00m make_blobs\n\u001b[0;32m----> 3\u001b[0m \u001b[38;5;28;01mimport\u001b[39;00m \u001b[38;5;21;01mmatplotlib\u001b[39;00m\u001b[38;5;21;01m.\u001b[39;00m\u001b[38;5;21;01mpyplot\u001b[39;00m \u001b[38;5;28;01mas\u001b[39;00m \u001b[38;5;21;01mplt\u001b[39;00m\n",
      "\u001b[0;31mModuleNotFoundError\u001b[0m: No module named 'matplotlib'"
     ]
    }
   ],
   "source": [
    "from multidimensional_wilcoxon_mann_whitney import multidimensional_ranksum\n",
    "from sklearn.datasets import make_blobs\n",
    "import matplotlib.pyplot as plt"
   ]
  },
  {
   "cell_type": "code",
   "execution_count": null,
   "metadata": {
    "colab": {
     "base_uri": "https://localhost:8080/",
     "height": 1000
    },
    "id": "PjVKIdBf7fM6",
    "outputId": "bc4dd7e4-1aa0-4d76-a4f0-36df2a1d8976"
   },
   "outputs": [],
   "source": [
    "n_samples = 1000\n",
    "centers = [(-5, -5), (0, 0), (5, 5)]\n",
    "X, y = make_blobs(n_samples=n_samples, centers=centers, shuffle=False, random_state=42)\n",
    "y[-1]=0\n",
    "plt.scatter(X[:, 0], X[:, 1], c=y, alpha=0.8, s=5)\n",
    "plt.show()\n",
    "\n",
    "argsorts, U =  multidimensional_ranksum(X)\n",
    "plt.plot(argsorts[:,0])\n",
    "plt.show()\n",
    "\n",
    "plt.scatter(X[:, 0], X[:, 1], c=U, alpha=0.8, s=5)\n",
    "plt.colorbar()\n",
    "plt.show()\n",
    "display(f\"AvgU {np.mean(U)}\");"
   ]
  },
  {
   "cell_type": "code",
   "execution_count": null,
   "metadata": {
    "colab": {
     "base_uri": "https://localhost:8080/",
     "height": 1000
    },
    "id": "NHwjRRR07kEl",
    "outputId": "39a6978b-e1da-4b0a-9b55-2172d45d70ba"
   },
   "outputs": [],
   "source": [
    "n_samples = 1000\n",
    "centers = [(-1,  0), (0, 0), (0, 1)]\n",
    "X, y = make_blobs(n_samples=n_samples, centers=centers, shuffle=False, random_state=42)\n",
    "plt.scatter(X[:, 0], X[:, 1], c=y, alpha=0.8, s=5)\n",
    "plt.show()\n",
    "\n",
    "argsorts, U =  multidimensional_ranksum(X)\n",
    "plt.plot(argsorts[:,0])\n",
    "\n",
    "plt.show()\n",
    "plt.scatter(X[:, 0], X[:, 1], c=U, alpha=0.8, s=5)\n",
    "plt.colorbar();\n",
    "\n",
    "plt.show()\n",
    "display(f\"AvgU {np.mean(U)}\")"
   ]
  }
 ],
 "metadata": {
  "colab": {
   "provenance": []
  },
  "kernelspec": {
   "display_name": "Python 3 (ipykernel)",
   "language": "python",
   "name": "python3"
  },
  "language_info": {
   "codemirror_mode": {
    "name": "ipython",
    "version": 3
   },
   "file_extension": ".py",
   "mimetype": "text/x-python",
   "name": "python",
   "nbconvert_exporter": "python",
   "pygments_lexer": "ipython3",
   "version": "3.12.2"
  }
 },
 "nbformat": 4,
 "nbformat_minor": 4
}
