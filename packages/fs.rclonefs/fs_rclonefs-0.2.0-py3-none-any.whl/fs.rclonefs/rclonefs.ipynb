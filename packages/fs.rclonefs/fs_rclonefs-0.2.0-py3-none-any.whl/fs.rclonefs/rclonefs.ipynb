{
 "cells": [
  {
   "cell_type": "markdown",
   "id": "99b382f6-fd39-498d-af5a-6dee3ac74004",
   "metadata": {},
   "source": [
    "# RcloneFS\n",
    "\n",
    "The main object which wraps a `rclone` object from the __rclone-python__ project.\n",
    "\n",
    "The methods are defined by `pyfilesystem2`.\n",
    "\n",
    "#### Goals\n",
    "The first methods we are going to implement are:\n",
    "\n",
    "- `listdir()`\n",
    "- `getinfo()`\n",
    "\n",
    "As these provide basic browsing functionality.\n",
    "\n",
    "#### Timeframe\n",
    "I'm doing this to use in another project, so I am motivated to enable those two features, however, after those are done, I'm moving back to the other project to complete some more code there."
   ]
  },
  {
   "cell_type": "code",
   "execution_count": null,
   "id": "4655fdb0-ae28-44a5-8848-c4a9665bb2ae",
   "metadata": {},
   "outputs": [],
   "source": [
    "# Let's get this party started."
   ]
  }
 ],
 "metadata": {
  "kernelspec": {
   "display_name": "Python 3 (ipykernel)",
   "language": "python",
   "name": "python3"
  },
  "language_info": {
   "codemirror_mode": {
    "name": "ipython",
    "version": 3
   },
   "file_extension": ".py",
   "mimetype": "text/x-python",
   "name": "python",
   "nbconvert_exporter": "python",
   "pygments_lexer": "ipython3",
   "version": "3.10.12"
  }
 },
 "nbformat": 4,
 "nbformat_minor": 5
}
