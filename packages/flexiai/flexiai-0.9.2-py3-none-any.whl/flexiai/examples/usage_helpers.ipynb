{
 "cells": [
  {
   "cell_type": "markdown",
   "metadata": {},
   "source": [
    "#### Changing and Verifying the Working Directory for Project Setup"
   ]
  },
  {
   "cell_type": "code",
   "execution_count": 1,
   "metadata": {},
   "outputs": [],
   "source": [
    "import os\n",
    "import sys\n",
    "\n",
    "# Check current working directory\n",
    "os.getcwd()\n",
    "\n",
    "# Change to your project root directory\n",
    "os.chdir('/home/razvansavin/Proiecte/flexiai')\n",
    "\n",
    "# Add project root directory to sys.path\n",
    "sys.path.append('/home/razvansavin/Proiecte/flexiai')"
   ]
  },
  {
   "cell_type": "markdown",
   "metadata": {},
   "source": [
    "#### Import necessary modules"
   ]
  },
  {
   "cell_type": "code",
   "execution_count": 2,
   "metadata": {},
   "outputs": [],
   "source": [
    "from core.flexiai_client import FlexiAI\n",
    "from core.utils.helpers import show_json, pretty_print, print_run_details\n",
    "from config.logging_config import setup_logging\n",
    "\n",
    "# Configure custom logging\n",
    "setup_logging()\n",
    "\n",
    "# Initialize FlexiAI\n",
    "flexiai = FlexiAI()"
   ]
  },
  {
   "cell_type": "markdown",
   "metadata": {},
   "source": [
    "#### Create a new thread"
   ]
  },
  {
   "cell_type": "code",
   "execution_count": 3,
   "metadata": {},
   "outputs": [
    {
     "name": "stdout",
     "output_type": "stream",
     "text": [
      "Creating a new thread...\n",
      "{\n",
      "    \"id\": \"thread_mmepgwBLOLz1QDnqTO1d5LP9\",\n",
      "    \"created_at\": 1719902669,\n",
      "    \"metadata\": {},\n",
      "    \"object\": \"thread\",\n",
      "    \"tool_resources\": {\n",
      "        \"code_interpreter\": null,\n",
      "        \"file_search\": null\n",
      "    }\n",
      "}\n"
     ]
    }
   ],
   "source": [
    "print(\"Creating a new thread...\")\n",
    "thread = flexiai.create_thread()\n",
    "show_json(thread)"
   ]
  },
  {
   "cell_type": "markdown",
   "metadata": {},
   "source": [
    "#### Add a user message to the thread"
   ]
  },
  {
   "cell_type": "code",
   "execution_count": 4,
   "metadata": {},
   "outputs": [
    {
     "name": "stdout",
     "output_type": "stream",
     "text": [
      "\n",
      "Adding user message: What is the capital of France?\n",
      "{\n",
      "    \"id\": \"msg_sqPOrfSfacZCoYZmUVFfZNjv\",\n",
      "    \"assistant_id\": null,\n",
      "    \"attachments\": [],\n",
      "    \"completed_at\": null,\n",
      "    \"content\": [\n",
      "        {\n",
      "            \"text\": {\n",
      "                \"annotations\": [],\n",
      "                \"value\": \"What is the capital of France?\"\n",
      "            },\n",
      "            \"type\": \"text\"\n",
      "        }\n",
      "    ],\n",
      "    \"created_at\": 1719902670,\n",
      "    \"incomplete_at\": null,\n",
      "    \"incomplete_details\": null,\n",
      "    \"metadata\": {},\n",
      "    \"object\": \"thread.message\",\n",
      "    \"role\": \"user\",\n",
      "    \"run_id\": null,\n",
      "    \"status\": null,\n",
      "    \"thread_id\": \"thread_mmepgwBLOLz1QDnqTO1d5LP9\"\n",
      "}\n"
     ]
    }
   ],
   "source": [
    "user_message = \"What is the capital of France?\"\n",
    "print(f\"\\nAdding user message: {user_message}\")\n",
    "message = flexiai.add_user_message(thread.id, user_message)\n",
    "show_json(message)"
   ]
  },
  {
   "cell_type": "markdown",
   "metadata": {},
   "source": [
    "#### Run the thread and log the assistant's response "
   ]
  },
  {
   "cell_type": "code",
   "execution_count": 5,
   "metadata": {},
   "outputs": [
    {
     "name": "stdout",
     "output_type": "stream",
     "text": [
      "\n",
      "Running thread with assistant ID: asst_AWAVO511bAbTVEdOvLNWitoT\n",
      "{\n",
      "    \"id\": \"run_fpnE79IfWrLX6EW766oLfRUU\",\n",
      "    \"assistant_id\": \"asst_AWAVO511bAbTVEdOvLNWitoT\",\n",
      "    \"cancelled_at\": null,\n",
      "    \"completed_at\": 1719902671,\n",
      "    \"created_at\": 1719902670,\n",
      "    \"expires_at\": null,\n",
      "    \"failed_at\": null,\n",
      "    \"incomplete_details\": null,\n",
      "    \"instructions\": \"### Instructions for Assistant Alina\\n\\nAs Assistant Alina, you are a versatile assistant dedicated to offering exceptional support. You are capable of executing YouTube searches on user request. The following instructions outline the steps you should follow to provide efficient and effective assistance. You will execute searches only after user confirmation.\\n\\n### Workflow\\n\\n#### General Inquiries\\n\\n1. **Handling General Inquiries**:\\n   - Address user queries to the best of your ability, providing information, support, and resources as needed.\\n\\n2. **Using the YouTube Search Function**:\\n   - When a user requests assistance with finding video content on YouTube, use the YouTube search functionality.\\n\\n### Function-Specific Instructions\\n\\n#### Search on YouTube (search_youtube)\\n\\n- **Purpose**: Help users find video content on YouTube based on their queries.\\n- **Parameters**:\\n  - **query (string)**: The user's search query for YouTube.\\n- **Usage**:\\n  - **User-Initiated Requests Only**: The `search_youtube` function should only be triggered when explicitly requested by the user. Do not initiate a YouTube search without a specific request from the user.\\n  - **Prompt for User Query**: Ask what they would like to search for on YouTube.\\n  - **Request Confirmation**: Confirm with the user before proceeding with the search.\\n  - **Wait for User Confirmation**: It is essential to wait for the user's explicit confirmation before executing the search.\\n    - **Note**: Do not trigger the `search_youtube` function until you receive clear confirmation from the user.\\n  - **Execute the Search**: Only if the user confirms, use the `search_youtube` function with the user's query.\\n  - **Inform the User**: Let the user know when you are conducting the search.\\n  - **Handling Multiple Search Requests**: When a user asks for a list of items, titles, etc., pay attention to the tasks mentioned before. Only initiate searches for multiple items if the user explicitly requests it and confirms each search.\\n\\n### Additional Instructions\\n\\n1. **Confirmation for Search Requests**: Alina will not initiate the search when she knows the user intends to search on YouTube until she gets user confirmation for searches.\\n2. **Attention to Previous Tasks**: When a user asks for a list of items, titles, etc., Alina will pay attention to the tasks mentioned before. She will only initiate searches for these if the user explicitly requests it and confirms each search.\\n3. **Providing Lists Before Searches**: When users ask for lists of movies, keywords, or other items to search, first provide the list to the user. Wait for their instruction to proceed with the search on YouTube. Do not ask for confirmation for each item individually to avoid annoying the user.\\n\\n### General Guidelines\\n\\n1. **Professionalism**: Maintain a professional and friendly tone in all interactions.\\n2. **Responsiveness**: Address user queries promptly and accurately.\\n3. **Clarity**: Provide clear and concise information to ensure user understanding.\\n4. **Adaptability**: Be prepared to handle a wide range of queries and requests.\\n\\nBy following these instructions, you will ensure a high level of service and satisfaction for all users who interact with you.\",\n",
      "    \"last_error\": null,\n",
      "    \"max_completion_tokens\": null,\n",
      "    \"max_prompt_tokens\": null,\n",
      "    \"metadata\": {},\n",
      "    \"model\": \"gpt-3.5-turbo-0125\",\n",
      "    \"object\": \"thread.run\",\n",
      "    \"parallel_tool_calls\": true,\n",
      "    \"required_action\": null,\n",
      "    \"response_format\": \"auto\",\n",
      "    \"started_at\": 1719902670,\n",
      "    \"status\": \"completed\",\n",
      "    \"thread_id\": \"thread_mmepgwBLOLz1QDnqTO1d5LP9\",\n",
      "    \"tool_choice\": \"auto\",\n",
      "    \"tools\": [\n",
      "        {\n",
      "            \"function\": {\n",
      "                \"name\": \"search_youtube\",\n",
      "                \"description\": \"This function triggers a YouTube search in the default web browser using a specified search query. It constructs a URL with the encoded search terms and opens it directly in the browser. This allows users to quickly view search results on YouTube without manually entering their search terms in the YouTube search bar. The function is designed to handle any valid string as a query, including complex queries combining multiple keywords. It's useful for quickly accessing a wide range of video content on YouTube related to user-specific interests or queries.\",\n",
      "                \"parameters\": {\n",
      "                    \"type\": \"object\",\n",
      "                    \"properties\": {\n",
      "                        \"query\": {\n",
      "                            \"type\": \"string\",\n",
      "                            \"optional\": false\n",
      "                        }\n",
      "                    },\n",
      "                    \"required\": [\n",
      "                        \"query\"\n",
      "                    ]\n",
      "                }\n",
      "            },\n",
      "            \"type\": \"function\"\n",
      "        }\n",
      "    ],\n",
      "    \"truncation_strategy\": {\n",
      "        \"type\": \"auto\",\n",
      "        \"last_messages\": null\n",
      "    },\n",
      "    \"usage\": {\n",
      "        \"completion_tokens\": 9,\n",
      "        \"prompt_tokens\": 984,\n",
      "        \"total_tokens\": 993\n",
      "    },\n",
      "    \"temperature\": 0.5,\n",
      "    \"top_p\": 0.8,\n",
      "    \"tool_resources\": {}\n",
      "}\n"
     ]
    }
   ],
   "source": [
    "assistant_id = 'asst_AWAVO511bAbTVEdOvLNWitoT'  # Replace with your actual assistant ID\n",
    "print(f\"\\nRunning thread with assistant ID: {assistant_id}\")\n",
    "run = flexiai.create_run(assistant_id, thread.id)\n",
    "print_run_details(run)"
   ]
  },
  {
   "cell_type": "markdown",
   "metadata": {},
   "source": [
    "#### Retrieve and pretty print the messages"
   ]
  },
  {
   "cell_type": "code",
   "execution_count": 6,
   "metadata": {},
   "outputs": [
    {
     "name": "stdout",
     "output_type": "stream",
     "text": [
      "\n",
      "Retrieving and pretty printing messages:\n",
      "====================================================================================================\n",
      "User: What is the capital of France?\n",
      "Assistant: The capital of France is Paris.\n",
      "====================================================================================================\n",
      "\n"
     ]
    }
   ],
   "source": [
    "# Retrieve and pretty print the messages\n",
    "print(\"\\nRetrieving and pretty printing messages:\")\n",
    "messages = flexiai.retrieve_messages(thread.id, limit=2)\n",
    "pretty_print(messages)"
   ]
  }
 ],
 "metadata": {
  "kernelspec": {
   "display_name": ".conda",
   "language": "python",
   "name": "python3"
  },
  "language_info": {
   "codemirror_mode": {
    "name": "ipython",
    "version": 3
   },
   "file_extension": ".py",
   "mimetype": "text/x-python",
   "name": "python",
   "nbconvert_exporter": "python",
   "pygments_lexer": "ipython3",
   "version": "3.10.14"
  }
 },
 "nbformat": 4,
 "nbformat_minor": 2
}
