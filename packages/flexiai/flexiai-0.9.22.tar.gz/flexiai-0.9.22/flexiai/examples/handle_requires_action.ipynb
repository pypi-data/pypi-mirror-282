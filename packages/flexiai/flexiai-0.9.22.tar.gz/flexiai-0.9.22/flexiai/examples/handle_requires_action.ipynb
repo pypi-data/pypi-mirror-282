{
 "cells": [
  {
   "cell_type": "markdown",
   "metadata": {},
   "source": [
    "#### Changing and Verifying the Working Directory for Project Setup"
   ]
  },
  {
   "cell_type": "code",
   "execution_count": 1,
   "metadata": {},
   "outputs": [],
   "source": [
    "import os\n",
    "import sys\n",
    "\n",
    "os.getcwd()  # Check current working directory\n",
    "os.chdir('/home/razvansavin/Proiecte/flexiai')  # Change to your project root directory\n",
    "\n",
    "sys.path.append('/home/razvansavin/Proiecte/flexiai')"
   ]
  },
  {
   "cell_type": "markdown",
   "metadata": {},
   "source": [
    "---\n",
    "#### Import necessary modules"
   ]
  },
  {
   "cell_type": "code",
   "execution_count": 2,
   "metadata": {},
   "outputs": [],
   "source": [
    "from flexiai.core.flexiai_client import FlexiAI\n",
    "from flexiai.config.logging_config import setup_logging\n",
    "\n",
    "# Setup logging using the predefined configuration\n",
    "setup_logging()\n",
    "\n",
    "# Initialize FlexiAI\n",
    "flexiai = FlexiAI()"
   ]
  },
  {
   "cell_type": "markdown",
   "metadata": {},
   "source": [
    "---\n",
    "#### Define the assistant ID"
   ]
  },
  {
   "cell_type": "code",
   "execution_count": 3,
   "metadata": {},
   "outputs": [],
   "source": [
    "# Use the given assistant ID\n",
    "assistant_id = 'asst_AWAVO511bAbTVEdOvLNWitoT'  # Replace with the actual assistant ID"
   ]
  },
  {
   "cell_type": "markdown",
   "metadata": {},
   "source": [
    "---\n",
    "#### Create a new thread"
   ]
  },
  {
   "cell_type": "code",
   "execution_count": 4,
   "metadata": {},
   "outputs": [
    {
     "name": "stdout",
     "output_type": "stream",
     "text": [
      "Thread Created with ID: thread_GtaxrZPzL3ipIVDOz6urNedY\n"
     ]
    }
   ],
   "source": [
    "thread = flexiai.create_thread()\n",
    "thread_id = thread.id\n",
    "print(f\"Thread Created with ID: {thread_id}\")"
   ]
  },
  {
   "cell_type": "markdown",
   "metadata": {},
   "source": [
    "---\n",
    "#### Variable to store all messages"
   ]
  },
  {
   "cell_type": "code",
   "execution_count": 5,
   "metadata": {},
   "outputs": [],
   "source": [
    "all_messages = []\n",
    "seen_message_ids = set()"
   ]
  },
  {
   "cell_type": "markdown",
   "metadata": {},
   "source": [
    "---\n",
    "#### Add a user message and print the message"
   ]
  },
  {
   "cell_type": "code",
   "execution_count": 6,
   "metadata": {},
   "outputs": [
    {
     "name": "stdout",
     "output_type": "stream",
     "text": [
      "Message Added: Message(id='msg_j1OT8vu92pk7THwxMd3wird6', assistant_id=None, attachments=[], completed_at=None, content=[TextContentBlock(text=Text(annotations=[], value='Tell me about the Eiffel Tower.'), type='text')], created_at=1719902487, incomplete_at=None, incomplete_details=None, metadata={}, object='thread.message', role='user', run_id=None, status=None, thread_id='thread_GtaxrZPzL3ipIVDOz6urNedY')\n"
     ]
    }
   ],
   "source": [
    "user_message = \"Tell me about the Eiffel Tower.\"\n",
    "message = flexiai.add_user_message(thread_id=thread_id, user_message=user_message)\n",
    "print(f\"Message Added: {message}\")\n",
    "\n",
    "# Store the message\n",
    "all_messages.append({\"role\": \"user\", \"content\": user_message})\n",
    "seen_message_ids.add(message.id)"
   ]
  },
  {
   "cell_type": "markdown",
   "metadata": {},
   "source": [
    "---\n",
    "#### Create a run to get the assistant's response"
   ]
  },
  {
   "cell_type": "code",
   "execution_count": 7,
   "metadata": {},
   "outputs": [
    {
     "name": "stdout",
     "output_type": "stream",
     "text": [
      "Run Created: Run(id='run_poeYxoN3AE4qzmfQpmRQ6Ujs', assistant_id='asst_AWAVO511bAbTVEdOvLNWitoT', cancelled_at=None, completed_at=1719902493, created_at=1719902488, expires_at=None, failed_at=None, incomplete_details=None, instructions=\"### Instructions for Assistant Alina\\n\\nAs Assistant Alina, you are a versatile assistant dedicated to offering exceptional support. You are capable of executing YouTube searches on user request. The following instructions outline the steps you should follow to provide efficient and effective assistance. You will execute searches only after user confirmation.\\n\\n### Workflow\\n\\n#### General Inquiries\\n\\n1. **Handling General Inquiries**:\\n   - Address user queries to the best of your ability, providing information, support, and resources as needed.\\n\\n2. **Using the YouTube Search Function**:\\n   - When a user requests assistance with finding video content on YouTube, use the YouTube search functionality.\\n\\n### Function-Specific Instructions\\n\\n#### Search on YouTube (search_youtube)\\n\\n- **Purpose**: Help users find video content on YouTube based on their queries.\\n- **Parameters**:\\n  - **query (string)**: The user's search query for YouTube.\\n- **Usage**:\\n  - **User-Initiated Requests Only**: The `search_youtube` function should only be triggered when explicitly requested by the user. Do not initiate a YouTube search without a specific request from the user.\\n  - **Prompt for User Query**: Ask what they would like to search for on YouTube.\\n  - **Request Confirmation**: Confirm with the user before proceeding with the search.\\n  - **Wait for User Confirmation**: It is essential to wait for the user's explicit confirmation before executing the search.\\n    - **Note**: Do not trigger the `search_youtube` function until you receive clear confirmation from the user.\\n  - **Execute the Search**: Only if the user confirms, use the `search_youtube` function with the user's query.\\n  - **Inform the User**: Let the user know when you are conducting the search.\\n  - **Handling Multiple Search Requests**: When a user asks for a list of items, titles, etc., pay attention to the tasks mentioned before. Only initiate searches for multiple items if the user explicitly requests it and confirms each search.\\n\\n### Additional Instructions\\n\\n1. **Confirmation for Search Requests**: Alina will not initiate the search when she knows the user intends to search on YouTube until she gets user confirmation for searches.\\n2. **Attention to Previous Tasks**: When a user asks for a list of items, titles, etc., Alina will pay attention to the tasks mentioned before. She will only initiate searches for these if the user explicitly requests it and confirms each search.\\n3. **Providing Lists Before Searches**: When users ask for lists of movies, keywords, or other items to search, first provide the list to the user. Wait for their instruction to proceed with the search on YouTube. Do not ask for confirmation for each item individually to avoid annoying the user.\\n\\n### General Guidelines\\n\\n1. **Professionalism**: Maintain a professional and friendly tone in all interactions.\\n2. **Responsiveness**: Address user queries promptly and accurately.\\n3. **Clarity**: Provide clear and concise information to ensure user understanding.\\n4. **Adaptability**: Be prepared to handle a wide range of queries and requests.\\n\\nBy following these instructions, you will ensure a high level of service and satisfaction for all users who interact with you.\", last_error=None, max_completion_tokens=None, max_prompt_tokens=None, metadata={}, model='gpt-3.5-turbo-0125', object='thread.run', parallel_tool_calls=True, required_action=None, response_format='auto', started_at=1719902488, status='completed', thread_id='thread_GtaxrZPzL3ipIVDOz6urNedY', tool_choice='auto', tools=[FunctionTool(function=FunctionDefinition(name='search_youtube', description=\"This function triggers a YouTube search in the default web browser using a specified search query. It constructs a URL with the encoded search terms and opens it directly in the browser. This allows users to quickly view search results on YouTube without manually entering their search terms in the YouTube search bar. The function is designed to handle any valid string as a query, including complex queries combining multiple keywords. It's useful for quickly accessing a wide range of video content on YouTube related to user-specific interests or queries.\", parameters={'type': 'object', 'properties': {'query': {'type': 'string', 'optional': False}}, 'required': ['query']}), type='function')], truncation_strategy=TruncationStrategy(type='auto', last_messages=None), usage=Usage(completion_tokens=275, prompt_tokens=986, total_tokens=1261), temperature=0.5, top_p=0.8, tool_resources={})\n"
     ]
    }
   ],
   "source": [
    "run = flexiai.create_run(assistant_id=assistant_id, thread_id=thread_id)\n",
    "print(f\"Run Created: {run}\")"
   ]
  },
  {
   "cell_type": "markdown",
   "metadata": {},
   "source": [
    "#### Retrieve and store the assistant's response"
   ]
  },
  {
   "cell_type": "code",
   "execution_count": 8,
   "metadata": {},
   "outputs": [
    {
     "name": "stdout",
     "output_type": "stream",
     "text": [
      "🧑 You: Tell me about the Eiffel Tower.\n",
      "🤖 Assistant: The Eiffel Tower is a famous landmark in Paris, France. Here are some key points about the Eiffel Tower:\n",
      "\n",
      "1. **Location**: It is located in the Champ de Mars park in Paris.\n",
      "\n",
      "2. **Height**: The Eiffel Tower is approximately 1,063 feet (324 meters) tall, including antennas. It was the tallest man-made structure in the world until the completion of the Chrysler Building in New York in 1930.\n",
      "\n",
      "3. **Construction**: Designed by Gustave Eiffel, the tower was constructed for the 1889 Exposition Universelle (World's Fair) held in Paris to celebrate the 100th anniversary of the French Revolution.\n",
      "\n",
      "4. **Materials**: The Eiffel Tower is made of iron and weighs around 10,100 tons.\n",
      "\n",
      "5. **Visitors**: It is one of the most visited paid monuments in the world, attracting millions of visitors annually.\n",
      "\n",
      "6. **Observation Decks**: The tower has three levels that are open to the public. Visitors can take elevators or stairs to reach the observation decks for panoramic views of Paris.\n",
      "\n",
      "7. **Lighting**: The Eiffel Tower is illuminated by thousands of sparkling lights every evening, creating a stunning visual display.\n",
      "\n",
      "Would you like me to search for more information or videos about the Eiffel Tower on YouTube?\n"
     ]
    }
   ],
   "source": [
    "messages = flexiai.retrieve_messages(thread_id=thread_id, limit=2)\n",
    "\n",
    "for msg in messages:\n",
    "    if msg['message_id'] not in seen_message_ids:\n",
    "        all_messages.append(msg)\n",
    "        seen_message_ids.add(msg['message_id'])\n",
    "\n",
    "# Print all messages\n",
    "for msg in all_messages:\n",
    "    role = \"🤖 Assistant\" if msg['role'] == \"assistant\" else \"🧑 You\"\n",
    "    print(f\"{role}: {msg['content']}\")"
   ]
  },
  {
   "cell_type": "markdown",
   "metadata": {},
   "source": [
    "---\n",
    "#### Add another user message and print the message"
   ]
  },
  {
   "cell_type": "code",
   "execution_count": 9,
   "metadata": {},
   "outputs": [
    {
     "name": "stdout",
     "output_type": "stream",
     "text": [
      "Message Added: Message(id='msg_Zd7UpJsYPbCW9CDVUj5Hs7yh', assistant_id=None, attachments=[], completed_at=None, content=[TextContentBlock(text=Text(annotations=[], value='I would like to search on YouTube these keywords: Eiffel Tower.'), type='text')], created_at=1719902493, incomplete_at=None, incomplete_details=None, metadata={}, object='thread.message', role='user', run_id=None, status=None, thread_id='thread_GtaxrZPzL3ipIVDOz6urNedY')\n"
     ]
    }
   ],
   "source": [
    "user_message = \"I would like to search on YouTube these keywords: Eiffel Tower.\"\n",
    "message = flexiai.add_user_message(thread_id=thread_id, user_message=user_message)\n",
    "print(f\"Message Added: {message}\")\n",
    "\n",
    "# Store the message\n",
    "all_messages.append({\"role\": \"user\", \"content\": user_message})\n",
    "seen_message_ids.add(message.id)"
   ]
  },
  {
   "cell_type": "markdown",
   "metadata": {},
   "source": [
    "---\n",
    "#### Create another run to get the assistant's response"
   ]
  },
  {
   "cell_type": "code",
   "execution_count": 10,
   "metadata": {},
   "outputs": [
    {
     "name": "stdout",
     "output_type": "stream",
     "text": [
      "Run Created: Run(id='run_a1RMs92SCQH8oiqSPEUIXbyP', assistant_id='asst_AWAVO511bAbTVEdOvLNWitoT', cancelled_at=None, completed_at=1719902498, created_at=1719902494, expires_at=None, failed_at=None, incomplete_details=None, instructions=\"### Instructions for Assistant Alina\\n\\nAs Assistant Alina, you are a versatile assistant dedicated to offering exceptional support. You are capable of executing YouTube searches on user request. The following instructions outline the steps you should follow to provide efficient and effective assistance. You will execute searches only after user confirmation.\\n\\n### Workflow\\n\\n#### General Inquiries\\n\\n1. **Handling General Inquiries**:\\n   - Address user queries to the best of your ability, providing information, support, and resources as needed.\\n\\n2. **Using the YouTube Search Function**:\\n   - When a user requests assistance with finding video content on YouTube, use the YouTube search functionality.\\n\\n### Function-Specific Instructions\\n\\n#### Search on YouTube (search_youtube)\\n\\n- **Purpose**: Help users find video content on YouTube based on their queries.\\n- **Parameters**:\\n  - **query (string)**: The user's search query for YouTube.\\n- **Usage**:\\n  - **User-Initiated Requests Only**: The `search_youtube` function should only be triggered when explicitly requested by the user. Do not initiate a YouTube search without a specific request from the user.\\n  - **Prompt for User Query**: Ask what they would like to search for on YouTube.\\n  - **Request Confirmation**: Confirm with the user before proceeding with the search.\\n  - **Wait for User Confirmation**: It is essential to wait for the user's explicit confirmation before executing the search.\\n    - **Note**: Do not trigger the `search_youtube` function until you receive clear confirmation from the user.\\n  - **Execute the Search**: Only if the user confirms, use the `search_youtube` function with the user's query.\\n  - **Inform the User**: Let the user know when you are conducting the search.\\n  - **Handling Multiple Search Requests**: When a user asks for a list of items, titles, etc., pay attention to the tasks mentioned before. Only initiate searches for multiple items if the user explicitly requests it and confirms each search.\\n\\n### Additional Instructions\\n\\n1. **Confirmation for Search Requests**: Alina will not initiate the search when she knows the user intends to search on YouTube until she gets user confirmation for searches.\\n2. **Attention to Previous Tasks**: When a user asks for a list of items, titles, etc., Alina will pay attention to the tasks mentioned before. She will only initiate searches for these if the user explicitly requests it and confirms each search.\\n3. **Providing Lists Before Searches**: When users ask for lists of movies, keywords, or other items to search, first provide the list to the user. Wait for their instruction to proceed with the search on YouTube. Do not ask for confirmation for each item individually to avoid annoying the user.\\n\\n### General Guidelines\\n\\n1. **Professionalism**: Maintain a professional and friendly tone in all interactions.\\n2. **Responsiveness**: Address user queries promptly and accurately.\\n3. **Clarity**: Provide clear and concise information to ensure user understanding.\\n4. **Adaptability**: Be prepared to handle a wide range of queries and requests.\\n\\nBy following these instructions, you will ensure a high level of service and satisfaction for all users who interact with you.\", last_error=None, max_completion_tokens=None, max_prompt_tokens=None, metadata={}, model='gpt-3.5-turbo-0125', object='thread.run', parallel_tool_calls=True, required_action=None, response_format='auto', started_at=1719902497, status='completed', thread_id='thread_GtaxrZPzL3ipIVDOz6urNedY', tool_choice='auto', tools=[FunctionTool(function=FunctionDefinition(name='search_youtube', description=\"This function triggers a YouTube search in the default web browser using a specified search query. It constructs a URL with the encoded search terms and opens it directly in the browser. This allows users to quickly view search results on YouTube without manually entering their search terms in the YouTube search bar. The function is designed to handle any valid string as a query, including complex queries combining multiple keywords. It's useful for quickly accessing a wide range of video content on YouTube related to user-specific interests or queries.\", parameters={'type': 'object', 'properties': {'query': {'type': 'string', 'optional': False}}, 'required': ['query']}), type='function')], truncation_strategy=TruncationStrategy(type='auto', last_messages=None), usage=Usage(completion_tokens=92, prompt_tokens=2645, total_tokens=2737), temperature=0.5, top_p=0.8, tool_resources={})\n"
     ]
    }
   ],
   "source": [
    "run = flexiai.create_run(assistant_id=assistant_id, thread_id=thread_id)\n",
    "print(f\"Run Created: {run}\")"
   ]
  },
  {
   "cell_type": "markdown",
   "metadata": {},
   "source": [
    "---\n",
    "#### Retrieve and print the last messages"
   ]
  },
  {
   "cell_type": "code",
   "execution_count": 11,
   "metadata": {},
   "outputs": [
    {
     "name": "stdout",
     "output_type": "stream",
     "text": [
      "🧑 You: Tell me about the Eiffel Tower.\n",
      "🤖 Assistant: The Eiffel Tower is a famous landmark in Paris, France. Here are some key points about the Eiffel Tower:\n",
      "\n",
      "1. **Location**: It is located in the Champ de Mars park in Paris.\n",
      "\n",
      "2. **Height**: The Eiffel Tower is approximately 1,063 feet (324 meters) tall, including antennas. It was the tallest man-made structure in the world until the completion of the Chrysler Building in New York in 1930.\n",
      "\n",
      "3. **Construction**: Designed by Gustave Eiffel, the tower was constructed for the 1889 Exposition Universelle (World's Fair) held in Paris to celebrate the 100th anniversary of the French Revolution.\n",
      "\n",
      "4. **Materials**: The Eiffel Tower is made of iron and weighs around 10,100 tons.\n",
      "\n",
      "5. **Visitors**: It is one of the most visited paid monuments in the world, attracting millions of visitors annually.\n",
      "\n",
      "6. **Observation Decks**: The tower has three levels that are open to the public. Visitors can take elevators or stairs to reach the observation decks for panoramic views of Paris.\n",
      "\n",
      "7. **Lighting**: The Eiffel Tower is illuminated by thousands of sparkling lights every evening, creating a stunning visual display.\n",
      "\n",
      "Would you like me to search for more information or videos about the Eiffel Tower on YouTube?\n",
      "🧑 You: I would like to search on YouTube these keywords: Eiffel Tower.\n",
      "🤖 Assistant: I have conducted a search on YouTube for the keywords \"Eiffel Tower.\" You can view the search results by clicking on the following link: [YouTube Search Results for Eiffel Tower](https://www.youtube.com/results?search_query=Eiffel%2BTower)\n",
      "\n",
      "If you need more information or assistance, feel free to let me know!\n"
     ]
    }
   ],
   "source": [
    "messages = flexiai.retrieve_messages(thread_id=thread_id, limit=2)\n",
    "\n",
    "for msg in messages:\n",
    "    if msg['message_id'] not in seen_message_ids:\n",
    "        all_messages.append(msg)\n",
    "        seen_message_ids.add(msg['message_id'])\n",
    "\n",
    "# Print all messages\n",
    "for msg in all_messages:\n",
    "    role = \"🤖 Assistant\" if msg['role'] == \"assistant\" else \"🧑 You\"\n",
    "    print(f\"{role}: {msg['content']}\")"
   ]
  },
  {
   "cell_type": "markdown",
   "metadata": {},
   "source": [
    "----"
   ]
  }
 ],
 "metadata": {
  "kernelspec": {
   "display_name": ".conda",
   "language": "python",
   "name": "python3"
  },
  "language_info": {
   "codemirror_mode": {
    "name": "ipython",
    "version": 3
   },
   "file_extension": ".py",
   "mimetype": "text/x-python",
   "name": "python",
   "nbconvert_exporter": "python",
   "pygments_lexer": "ipython3",
   "version": "3.10.14"
  }
 },
 "nbformat": 4,
 "nbformat_minor": 2
}
