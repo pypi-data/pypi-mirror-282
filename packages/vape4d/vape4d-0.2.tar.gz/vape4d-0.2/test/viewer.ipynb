{
 "cells": [
  {
   "cell_type": "code",
   "execution_count": null,
   "id": "b0b1f4d2-3dac-4473-a67d-be3c1846d3a1",
   "metadata": {},
   "outputs": [],
   "source": [
    "from vape4d import viewer\n",
    "import numpy as np\n",
    "from matplotlib import pyplot as plt"
   ]
  },
  {
   "cell_type": "code",
   "execution_count": null,
   "id": "c2d0b51b",
   "metadata": {},
   "outputs": [],
   "source": [
    "viewer(\n",
    "    np.random.rand(1,1,32,32,32),\n",
    "    plt.get_cmap(\"viridis\"),   \n",
    ")"
   ]
  },
  {
   "cell_type": "code",
   "execution_count": null,
   "id": "aaa260bb-cfe9-436b-8476-db5eb955dd22",
   "metadata": {},
   "outputs": [],
   "source": []
  }
 ],
 "metadata": {
  "kernelspec": {
   "display_name": "Python 3 (ipykernel)",
   "language": "python",
   "name": "python3"
  },
  "language_info": {
   "codemirror_mode": {
    "name": "ipython",
    "version": 3
   },
   "file_extension": ".py",
   "mimetype": "text/x-python",
   "name": "python",
   "nbconvert_exporter": "python",
   "pygments_lexer": "ipython3",
   "version": "3.11.8"
  }
 },
 "nbformat": 4,
 "nbformat_minor": 5
}
