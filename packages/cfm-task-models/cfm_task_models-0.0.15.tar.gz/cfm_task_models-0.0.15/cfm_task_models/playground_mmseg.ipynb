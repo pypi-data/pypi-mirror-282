{
 "cells": [
  {
   "cell_type": "markdown",
   "metadata": {},
   "source": [
    "# Object detection"
   ]
  },
  {
   "cell_type": "code",
   "execution_count": 2,
   "metadata": {},
   "outputs": [
    {
     "name": "stdout",
     "output_type": "stream",
     "text": [
      "04/01 13:31:39 - mmengine - \u001b[4m\u001b[97mINFO\u001b[0m - Loads checkpoint by local backend from path: obj_det/chkpts/mask_reppointsv2_swin_tiny_patch4_window7_3x.pth\n",
      "Done!!, save to obj_det/chkpts/mask_reppointsv2_swin_tiny_patch4_window7_3x_converted-dd7afe98.pth\n"
     ]
    },
    {
     "name": "stderr",
     "output_type": "stream",
     "text": [
      "/local-scratch2/aharell/CFM-Task-Models/.venv/lib/python3.9/site-packages/mmdet/models/task_modules/builder.py:39: UserWarning: ``build_assigner`` would be deprecated soon, please use ``mmdet.registry.TASK_UTILS.build()`` \n",
      "  warnings.warn('``build_assigner`` would be deprecated soon, please use '\n",
      "/local-scratch2/aharell/CFM-Task-Models/.venv/lib/python3.9/site-packages/mmdet/models/task_modules/builder.py:24: UserWarning: ``build_iou_calculator`` would be deprecated soon, please use ``mmdet.registry.TASK_UTILS.build()`` \n",
      "  warnings.warn(\n",
      "/local-scratch2/aharell/CFM-Task-Models/.venv/lib/python3.9/site-packages/mmdet/models/task_modules/builder.py:46: UserWarning: ``build_sampler`` would be deprecated soon, please use ``mmdet.registry.TASK_UTILS.build()`` \n",
      "  warnings.warn('``build_sampler`` would be deprecated soon, please use '\n",
      "/local-scratch2/aharell/CFM-Task-Models/.venv/lib/python3.9/site-packages/mmdet/apis/inference.py:90: UserWarning: dataset_meta or class names are not saved in the checkpoint's meta data, use COCO classes by default.\n",
      "  warnings.warn(\n"
     ]
    },
    {
     "name": "stdout",
     "output_type": "stream",
     "text": [
      "Loads checkpoint by local backend from path: obj_det/chkpts/mask_reppointsv2_swin_tiny_patch4_window7_3x_converted-dd7afe98.pth\n"
     ]
    },
    {
     "name": "stderr",
     "output_type": "stream",
     "text": [
      "/local-scratch2/aharell/CFM-Task-Models/.venv/lib/python3.9/site-packages/mmdet/models/task_modules/builder.py:39: UserWarning: ``build_assigner`` would be deprecated soon, please use ``mmdet.registry.TASK_UTILS.build()`` \n",
      "  warnings.warn('``build_assigner`` would be deprecated soon, please use '\n",
      "/local-scratch2/aharell/CFM-Task-Models/.venv/lib/python3.9/site-packages/mmdet/models/task_modules/builder.py:24: UserWarning: ``build_iou_calculator`` would be deprecated soon, please use ``mmdet.registry.TASK_UTILS.build()`` \n",
      "  warnings.warn(\n",
      "/local-scratch2/aharell/CFM-Task-Models/.venv/lib/python3.9/site-packages/mmdet/models/task_modules/builder.py:46: UserWarning: ``build_sampler`` would be deprecated soon, please use ``mmdet.registry.TASK_UTILS.build()`` \n",
      "  warnings.warn('``build_sampler`` would be deprecated soon, please use '\n"
     ]
    }
   ],
   "source": [
    "# !mim download mmdet --config mask-rcnn_swin-t-p4-w7_fpn_1x_coco --dest .\n",
    "%load_ext autoreload\n",
    "%autoreload 2\n",
    "\n",
    "from PIL import Image\n",
    "import torch\n",
    "\n",
    "from mmdet.apis import init_detector, inference_detector\n",
    "from mmengine.config import Config\n",
    "from cfm_task_models.legacy import *\n",
    "\n",
    "from cfm_task_models.split_utils import SplitSwinTransformer, SplitTwoStageDetector, TwoInputIdentity, SplitRepPointsV2MaskDetector\n",
    "\n",
    "config_file_old = 'obj_det/cfgs/swin_tiny_mask_rcnn_simplified_cfg.py'\n",
    "checkpoint_file_old = 'obj_det/chkpts/mask_rcnn_swin-t-p4-w7_fpn_1x_coco_20210902_120937-9d6b7cfa.pth'\n",
    "config_file = 'obj_det/cfgs/mask_reppointsv2_swin_t_modified.py'\n",
    "checkpoint_file = 'obj_det/chkpts/mask_reppointsv2_swin_tiny_patch4_window7_3x.pth'\n",
    "\n",
    "device = 'cuda' if torch.cuda.is_available() else 'cpu'\n",
    "# model_init = init_detector(config_file, checkpoint_file, device='cpu')  # or device='cuda:0'\n",
    "# result = inference_detector(model, 'demo/demo.jpg')\n",
    "\n",
    "# from mmdet.registry import MODELS\n",
    "# MODELS.get('SwinTransformer')\n",
    "# MODELS.get('TwoStageDetector')\n",
    "model = SplitRepPointsV2MaskDetector.create_from_cfg_and_checkpoint(config_file, checkpoint_file).to(device)\n",
    "# model2 = SplitTwoStageDetector.create_from_cfg_and_checkpoint(config_file_old,checkpoint_file_old).to(device)\n",
    "# model.frontend_preprocessor"
   ]
  },
  {
   "cell_type": "code",
   "execution_count": 3,
   "metadata": {},
   "outputs": [],
   "source": [
    "from mmengine.runner import Runner\n",
    "from mmdet.structures import DetDataSample\n",
    "from typing import Union\n",
    "from torch import Tensor\n",
    "def to_device(data_sample:Union[dict,Tensor], device):\n",
    "    if isinstance(data_sample,dict):\n",
    "        for k,v in data_sample.items():\n",
    "            if isinstance(v, (Tensor, DetDataSample)):\n",
    "                data_sample[k] = v.to(device)\n",
    "                # print(f'{k} was sent to {device}')\n",
    "            elif isinstance(v, list):\n",
    "                new_v = [to_device(v2, device) for v2 in v]\n",
    "                data_sample[k] = new_v\n",
    "                # print(f'components of {k} were sent to {device}')\n",
    "            else:\n",
    "                print(f'{k} could not be sent to {device}')\n",
    "    elif isinstance(data_sample, (Tensor, DetDataSample)):\n",
    "        data_sample = data_sample.to(device)\n",
    "        # print(f'input was sent to {device}')\n",
    "    elif isinstance(data_sample, list):\n",
    "        data_sample = [to_device(v, device) for v in data_sample]\n",
    "        # print(f'components of input were sent to {device}')\n",
    "    else:\n",
    "        # print(type(data_sample))\n",
    "        print(f'input could not be sent to {device}')\n",
    "    return data_sample\n"
   ]
  },
  {
   "cell_type": "code",
   "execution_count": 4,
   "metadata": {},
   "outputs": [
    {
     "name": "stdout",
     "output_type": "stream",
     "text": [
      "/local-scratch2/aharell/CFM-Task-Models/data/coco/annotations/coco2017_trn_split_anns.json\n",
      "loading annotations into memory...\n",
      "Done (t=12.94s)\n",
      "creating index...\n",
      "index created!\n",
      "/local-scratch2/aharell/CFM-Task-Models/data/coco/annotations/coco2017_val_split_anns.json\n",
      "loading annotations into memory...\n",
      "Done (t=0.57s)\n",
      "creating index...\n",
      "index created!\n",
      "loading annotations into memory...\n",
      "Done (t=0.51s)\n",
      "creating index...\n",
      "index created!\n",
      "5915\n"
     ]
    }
   ],
   "source": [
    "\n",
    "\n",
    "cfg_tr = model.cfg.copy()\n",
    "print(cfg_tr['train_dataloader']['dataset']['ann_file'])\n",
    "cfg_tr['train_dataloader']['batch_size'] = 1\n",
    "cfg_tr['train_dataloader']['num_workers'] = 1\n",
    "\n",
    "train_dataloader = Runner.build_dataloader(cfg_tr['train_dataloader']) \n",
    "\n",
    "print(cfg_tr['val_dataloader']['dataset']['ann_file'])\n",
    "val_dataloader = Runner.build_dataloader(cfg_tr['val_dataloader'])\n",
    "\n",
    "test_dataloader = Runner.build_dataloader(cfg_tr['test_dataloader'])\n",
    "print(len(val_dataloader.dataset))"
   ]
  },
  {
   "cell_type": "code",
   "execution_count": 5,
   "metadata": {},
   "outputs": [
    {
     "name": "stdout",
     "output_type": "stream",
     "text": [
      "/local-scratch2/aharell/CFM-Task-Models/data/coco/ annotations/instances_val2017.json\n",
      "loading annotations into memory...\n",
      "Done (t=0.52s)\n",
      "creating index...\n",
      "index created!\n"
     ]
    },
    {
     "name": "stderr",
     "output_type": "stream",
     "text": [
      "/local-scratch2/aharell/CFM-Task-Models/.venv/lib/python3.9/site-packages/torch/functional.py:504: UserWarning: torch.meshgrid: in an upcoming release, it will be required to pass the indexing argument. (Triggered internally at ../aten/src/ATen/native/TensorShape.cpp:3190.)\n",
      "  return _VF.meshgrid(tensors, **kwargs)  # type: ignore[attr-defined]\n"
     ]
    },
    {
     "name": "stdout",
     "output_type": "stream",
     "text": [
      "04/01 13:44:00 - mmengine - \u001b[4m\u001b[97mINFO\u001b[0m - Evaluating bbox...\n",
      "Loading and preparing results...\n",
      "DONE (t=1.01s)\n",
      "creating index...\n",
      "index created!\n",
      "Running per image evaluation...\n",
      "Evaluate annotation type *bbox*\n",
      "DONE (t=30.15s).\n",
      "Accumulating evaluation results...\n",
      "DONE (t=8.39s).\n",
      " Average Precision  (AP) @[ IoU=0.50:0.95 | area=   all | maxDets=100 ] = 0.504\n",
      " Average Precision  (AP) @[ IoU=0.50      | area=   all | maxDets=1000 ] = 0.693\n",
      " Average Precision  (AP) @[ IoU=0.75      | area=   all | maxDets=1000 ] = 0.546\n",
      " Average Precision  (AP) @[ IoU=0.50:0.95 | area= small | maxDets=1000 ] = 0.335\n",
      " Average Precision  (AP) @[ IoU=0.50:0.95 | area=medium | maxDets=1000 ] = 0.538\n",
      " Average Precision  (AP) @[ IoU=0.50:0.95 | area= large | maxDets=1000 ] = 0.661\n",
      " Average Recall     (AR) @[ IoU=0.50:0.95 | area=   all | maxDets=100 ] = 0.669\n",
      " Average Recall     (AR) @[ IoU=0.50:0.95 | area=   all | maxDets=300 ] = 0.669\n",
      " Average Recall     (AR) @[ IoU=0.50:0.95 | area=   all | maxDets=1000 ] = 0.669\n",
      " Average Recall     (AR) @[ IoU=0.50:0.95 | area= small | maxDets=1000 ] = 0.505\n",
      " Average Recall     (AR) @[ IoU=0.50:0.95 | area=medium | maxDets=1000 ] = 0.709\n",
      " Average Recall     (AR) @[ IoU=0.50:0.95 | area= large | maxDets=1000 ] = 0.816\n",
      "04/01 13:44:41 - mmengine - \u001b[4m\u001b[97mINFO\u001b[0m - bbox_mAP_copypaste: 0.504 0.693 0.546 0.335 0.538 0.661\n",
      "04/01 13:44:41 - mmengine - \u001b[4m\u001b[97mINFO\u001b[0m - Evaluating segm...\n",
      "Loading and preparing results...\n",
      "DONE (t=3.05s)\n",
      "creating index...\n",
      "index created!\n",
      "Running per image evaluation...\n",
      "Evaluate annotation type *segm*\n",
      "DONE (t=33.22s).\n",
      "Accumulating evaluation results...\n",
      "DONE (t=8.39s).\n",
      " Average Precision  (AP) @[ IoU=0.50:0.95 | area=   all | maxDets=100 ] = 0.432\n",
      " Average Precision  (AP) @[ IoU=0.50      | area=   all | maxDets=1000 ] = 0.665\n",
      " Average Precision  (AP) @[ IoU=0.75      | area=   all | maxDets=1000 ] = 0.464\n",
      " Average Precision  (AP) @[ IoU=0.50:0.95 | area= small | maxDets=1000 ] = 0.231\n",
      " Average Precision  (AP) @[ IoU=0.50:0.95 | area=medium | maxDets=1000 ] = 0.466\n",
      " Average Precision  (AP) @[ IoU=0.50:0.95 | area= large | maxDets=1000 ] = 0.624\n",
      " Average Recall     (AR) @[ IoU=0.50:0.95 | area=   all | maxDets=100 ] = 0.571\n",
      " Average Recall     (AR) @[ IoU=0.50:0.95 | area=   all | maxDets=300 ] = 0.571\n",
      " Average Recall     (AR) @[ IoU=0.50:0.95 | area=   all | maxDets=1000 ] = 0.571\n",
      " Average Recall     (AR) @[ IoU=0.50:0.95 | area= small | maxDets=1000 ] = 0.388\n",
      " Average Recall     (AR) @[ IoU=0.50:0.95 | area=medium | maxDets=1000 ] = 0.620\n",
      " Average Recall     (AR) @[ IoU=0.50:0.95 | area= large | maxDets=1000 ] = 0.732\n",
      "04/01 13:45:30 - mmengine - \u001b[4m\u001b[97mINFO\u001b[0m - segm_mAP_copypaste: 0.432 0.665 0.464 0.231 0.466 0.624\n"
     ]
    },
    {
     "data": {
      "text/plain": [
       "{'coco/bbox_mAP': 0.504,\n",
       " 'coco/bbox_mAP_50': 0.693,\n",
       " 'coco/bbox_mAP_75': 0.546,\n",
       " 'coco/bbox_mAP_s': 0.335,\n",
       " 'coco/bbox_mAP_m': 0.538,\n",
       " 'coco/bbox_mAP_l': 0.661,\n",
       " 'coco/segm_mAP': 0.432,\n",
       " 'coco/segm_mAP_50': 0.665,\n",
       " 'coco/segm_mAP_75': 0.464,\n",
       " 'coco/segm_mAP_s': 0.231,\n",
       " 'coco/segm_mAP_m': 0.466,\n",
       " 'coco/segm_mAP_l': 0.624}"
      ]
     },
     "execution_count": 5,
     "metadata": {},
     "output_type": "execute_result"
    }
   ],
   "source": [
    "# dl = runner.train_dataloader\n",
    "# print(model.cut_point)\n",
    "# val_eval = Runner.build_evaluator(_,cfg_tr['val_evaluator'])\n",
    "# setattr(val_eval,'dataset_meta',val_dataloader.dataset.metainfo)\n",
    "from copy import deepcopy\n",
    "test_evaluator_cfg = deepcopy(cfg_tr['test_evaluator'])\n",
    "print(cfg_tr['train_dataloader']['dataset']['data_root'],cfg_tr['test_dataloader']['dataset']['ann_file'] )\n",
    "test_evaluator_cfg['ann_file'] = os.path.join(cfg_tr['test_dataloader']['dataset']['data_root'], test_evaluator_cfg['ann_file'])\n",
    "# # print(test_evaluator_cfg)\n",
    "test_eval = Runner.build_evaluator(_,cfg_tr['test_evaluator'])\n",
    "setattr(test_eval,'dataset_meta',test_dataloader.dataset.metainfo)\n",
    "# print(val_eval.dataset_meta)\n",
    "for i,data in enumerate(train_dataloader):\n",
    "    model.train()\n",
    "    model.zero_grad()\n",
    "\n",
    "    # data =  to_device(data,device)\n",
    "    # feat = model2.feature_frontend(data)\n",
    "    # print(feat['inputs']['outs'][0].shape)\n",
    "    # out2 = model2.test_step(feat)\n",
    "    # print(data['data_samples'][0])\n",
    "    if isinstance(model, SplitRepPointsV2MaskDetector):\n",
    "        if 'scale_factor' in data['data_samples'][0]:\n",
    "            for d in data['data_samples']:\n",
    "                meta = d.metainfo \n",
    "                # print(d)\n",
    "                meta['scale_factor'] = d.scale_factor * (2 if len(meta['scale_factor']) == 2 else 1)\n",
    "                d.set_metainfo(meta)\n",
    "\n",
    "    # im['inputs'] = torch.stack(im['inputs'])\n",
    "    # print(list(data_.keys()))\n",
    "    # data_ = train_pipeline(im)\n",
    "    # data_ = prp(data_, False)\n",
    "    # data_['inputs'] = model.backbone.split_forward_v2(data_['inputs'], output_layer=model.cut_point-1)\n",
    "    # data_['inputs'] = {\n",
    "    #                \"hw_shape\": data_['inputs'][0],\n",
    "    #\n",
    "    #                \"outs\": data_['inputs'][1]}\n",
    "    # data = prp(data, False)\n",
    "\n",
    "    \n",
    "    feat = model.feature_frontend(data)\n",
    "    # print(feat['inputs']['outs'][0].shape)\n",
    "    loss = model.backend_loss(feat)\n",
    "    if i > 100:\n",
    "        break\n",
    "    # out = model.test_step(feat)\n",
    "    # props = model.backend_raw(feat)\n",
    "    # print(model.cut_point)\n",
    "    # print(model.test_step(feat)[0])\n",
    "    # losses = model.loss(data_['inputs'], data_['data_samples'])\n",
    "    # loss, losses = model.parse_losses(losses)\n",
    "    # test_eval.process(out)\n",
    "# print(out[0].pred_instances.masks)\n",
    "# test_eval.evaluate(i+1)\n",
    "\n",
    "\n",
    "for i,data in enumerate(test_dataloader):\n",
    "    model.eval()\n",
    "    model.zero_grad()\n",
    "    with torch.no_grad():\n",
    "    \n",
    "        # data =  to_device(data,device)\n",
    "        # feat = model2.feature_frontend(data)\n",
    "        # print(feat['inputs']['outs'][0].shape)\n",
    "        # out2 = model2.test_step(feat)\n",
    "        if isinstance(model, SplitRepPointsV2MaskDetector):\n",
    "            for d in data['data_samples']:\n",
    "                meta = d.metainfo \n",
    "                meta['scale_factor'] = d.scale_factor * (2 if len(meta['scale_factor']) == 2 else 1)\n",
    "                d.set_metainfo(meta)\n",
    "\n",
    "        # im['inputs'] = torch.stack(im['inputs'])\n",
    "        # print(list(data_.keys()))\n",
    "        # data_ = train_pipeline(im)\n",
    "        # data_ = prp(data_, False)\n",
    "        # data_['inputs'] = model.backbone.split_forward_v2(data_['inputs'], output_layer=model.cut_point-1)\n",
    "        # data_['inputs'] = {\n",
    "        #                \"hw_shape\": data_['inputs'][0],\n",
    "        #\n",
    "        #                \"outs\": data_['inputs'][1]}\n",
    "        # data = prp(data, False)\n",
    "\n",
    "        \n",
    "        feat = model.feature_frontend(data)\n",
    "        # print(feat['inputs']['outs'][0].shape)\n",
    "        out = model.test_step(feat)\n",
    "        # props = model.backend_raw(feat)\n",
    "        # print(model.cut_point)\n",
    "        # print(model.test_step(feat)[0])\n",
    "        # losses = model.loss(data_['inputs'], data_['data_samples'])\n",
    "        # loss, losses = model.parse_losses(losses)\n",
    "        test_eval.process(out)\n",
    "# print(out[0].pred_instances.masks)\n",
    "test_eval.evaluate(i+1)"
   ]
  },
  {
   "cell_type": "code",
   "execution_count": 1,
   "metadata": {},
   "outputs": [
    {
     "ename": "NameError",
     "evalue": "name 'torch' is not defined",
     "output_type": "error",
     "traceback": [
      "\u001b[0;31m---------------------------------------------------------------------------\u001b[0m",
      "\u001b[0;31mNameError\u001b[0m                                 Traceback (most recent call last)",
      "Cell \u001b[0;32mIn[1], line 1\u001b[0m\n\u001b[0;32m----> 1\u001b[0m torch\u001b[39m.\u001b[39mint\n",
      "\u001b[0;31mNameError\u001b[0m: name 'torch' is not defined"
     ]
    }
   ],
   "source": [
    "torch.int"
   ]
  },
  {
   "cell_type": "code",
   "execution_count": null,
   "metadata": {},
   "outputs": [
    {
     "name": "stdout",
     "output_type": "stream",
     "text": [
      "loading annotations into memory...\n",
      "Done (t=0.42s)\n",
      "creating index...\n",
      "index created!\n",
      "loading annotations into memory...\n",
      "Done (t=1.62s)\n",
      "creating index...\n",
      "index created!\n",
      "03/29 14:51:19 - mmengine - \u001b[4m\u001b[97mINFO\u001b[0m - Evaluating bbox...\n",
      "Loading and preparing results...\n",
      "DONE (t=0.00s)\n",
      "creating index...\n",
      "index created!\n",
      "Running per image evaluation...\n",
      "Evaluate annotation type *bbox*\n",
      "DONE (t=6.81s).\n",
      "Accumulating evaluation results...\n",
      "DONE (t=1.08s).\n",
      " Average Precision  (AP) @[ IoU=0.50:0.95 | area=   all | maxDets=100 ] = 0.001\n",
      " Average Precision  (AP) @[ IoU=0.50      | area=   all | maxDets=1000 ] = 0.001\n",
      " Average Precision  (AP) @[ IoU=0.75      | area=   all | maxDets=1000 ] = 0.001\n",
      " Average Precision  (AP) @[ IoU=0.50:0.95 | area= small | maxDets=1000 ] = 0.000\n",
      " Average Precision  (AP) @[ IoU=0.50:0.95 | area=medium | maxDets=1000 ] = 0.000\n",
      " Average Precision  (AP) @[ IoU=0.50:0.95 | area= large | maxDets=1000 ] = 0.000\n",
      " Average Recall     (AR) @[ IoU=0.50:0.95 | area=   all | maxDets=100 ] = 0.000\n",
      " Average Recall     (AR) @[ IoU=0.50:0.95 | area=   all | maxDets=300 ] = 0.000\n",
      " Average Recall     (AR) @[ IoU=0.50:0.95 | area=   all | maxDets=1000 ] = 0.000\n",
      " Average Recall     (AR) @[ IoU=0.50:0.95 | area= small | maxDets=1000 ] = 0.000\n",
      " Average Recall     (AR) @[ IoU=0.50:0.95 | area=medium | maxDets=1000 ] = 0.000\n",
      " Average Recall     (AR) @[ IoU=0.50:0.95 | area= large | maxDets=1000 ] = 0.000\n",
      "03/29 14:51:27 - mmengine - \u001b[4m\u001b[97mINFO\u001b[0m - bbox_mAP_copypaste: 0.001 0.001 0.001 0.000 0.000 0.000\n",
      "03/29 14:51:27 - mmengine - \u001b[4m\u001b[97mINFO\u001b[0m - Evaluating segm...\n",
      "Loading and preparing results...\n",
      "DONE (t=0.00s)\n",
      "creating index...\n",
      "index created!\n",
      "Running per image evaluation...\n",
      "Evaluate annotation type *segm*\n",
      "DONE (t=6.45s).\n",
      "Accumulating evaluation results...\n",
      "DONE (t=1.08s).\n",
      " Average Precision  (AP) @[ IoU=0.50:0.95 | area=   all | maxDets=100 ] = 0.000\n",
      " Average Precision  (AP) @[ IoU=0.50      | area=   all | maxDets=1000 ] = 0.001\n",
      " Average Precision  (AP) @[ IoU=0.75      | area=   all | maxDets=1000 ] = 0.001\n",
      " Average Precision  (AP) @[ IoU=0.50:0.95 | area= small | maxDets=1000 ] = 0.000\n",
      " Average Precision  (AP) @[ IoU=0.50:0.95 | area=medium | maxDets=1000 ] = 0.000\n",
      " Average Precision  (AP) @[ IoU=0.50:0.95 | area= large | maxDets=1000 ] = 0.000\n",
      " Average Recall     (AR) @[ IoU=0.50:0.95 | area=   all | maxDets=100 ] = 0.000\n",
      " Average Recall     (AR) @[ IoU=0.50:0.95 | area=   all | maxDets=300 ] = 0.000\n",
      " Average Recall     (AR) @[ IoU=0.50:0.95 | area=   all | maxDets=1000 ] = 0.000\n",
      " Average Recall     (AR) @[ IoU=0.50:0.95 | area= small | maxDets=1000 ] = 0.000\n",
      " Average Recall     (AR) @[ IoU=0.50:0.95 | area=medium | maxDets=1000 ] = 0.000\n",
      " Average Recall     (AR) @[ IoU=0.50:0.95 | area= large | maxDets=1000 ] = 0.000\n",
      "03/29 14:51:35 - mmengine - \u001b[4m\u001b[97mINFO\u001b[0m - segm_mAP_copypaste: 0.000 0.001 0.001 0.000 0.000 0.000\n",
      "[]\n"
     ]
    }
   ],
   "source": [
    "val_eval = Runner.build_evaluator(_,cfg_tr['val_evaluator'])\n",
    "setattr(val_eval,'dataset_meta',val_dataloader.dataset.metainfo)\n",
    "\n",
    "# test_evaluator_cfg = deepcopy(cfg_tr['test_evaluator'])\n",
    "# print(train_dataset_cfg['data_root'],cfg_tr['test_dataloader']['dataset']['ann_file'] )\n",
    "# test_evaluator_cfg['ann_file'] = os.path.join(cfg_tr['test_dataloader']['dataset']['data_root'], test_evaluator_cfg['ann_file'])\n",
    "# print(test_evaluator_cfg)\n",
    "test_eval = Runner.build_evaluator(_,cfg_tr['test_evaluator'])\n",
    "setattr(test_eval,'dataset_meta',test_dataloader.dataset.metainfo)\n",
    "# print(val_eval.dataset_meta)\n",
    "# print(out)\n",
    "test_eval.process(out)\n",
    "test_eval.evaluate(1)\n",
    "print(test_eval.metrics[0].results)"
   ]
  },
  {
   "cell_type": "code",
   "execution_count": null,
   "metadata": {},
   "outputs": [],
   "source": [
    "a = Instances()\n",
    "\n",
    "fk = torch.Tensor([[[3,4]],[[4,5]],[[5,6]]])\n",
    "device = 'cuda'\n",
    "a.fpn_levels = torch.cat([torch.tensor([i]*r[:,0].numel()).to(device) for i,r in enumerate(fk)])"
   ]
  },
  {
   "cell_type": "code",
   "execution_count": null,
   "metadata": {},
   "outputs": [
    {
     "data": {
      "text/plain": [
       "(array([[  0.,   0.,   1., ...,  34.,   0.,   0.],\n",
       "        [  0.,   0.,   0., ...,  91.,   2.,   0.],\n",
       "        [  0.,   0.,   0., ...,  47.,   0.,   0.],\n",
       "        ...,\n",
       "        [  5.,  92.,  22., ...,  41.,   5.,   0.],\n",
       "        [  0.,   0.,   0., ...,  57.,   4.,   0.],\n",
       "        [  0.,   0.,   0., ..., 122.,   1.,   0.]]),\n",
       " array([0.        , 0.1       , 0.2       , 0.30000001, 0.40000001,\n",
       "        0.5       , 0.60000002, 0.69999999, 0.80000001, 0.89999998,\n",
       "        1.        ]),\n",
       " <a list of 2850 BarContainer objects>)"
      ]
     },
     "execution_count": 7,
     "metadata": {},
     "output_type": "execute_result"
    },
    {
     "data": {
      "image/png": "[encoded data removed]",
      "text/plain": [
       "<Figure size 640x480 with 1 Axes>"
      ]
     },
     "metadata": {},
     "output_type": "display_data"
    }
   ],
   "source": [
    "from matplotlib import pyplot as plt\n",
    "mx = feat['inputs']['outs'][0][0,:].max().item()\n",
    "mn = feat['inputs']['outs'][0][0,:].min().item()\n",
    "f_np = feat['inputs']['outs'][0][0,:].reshape(2048,-1).cpu().detach()\n",
    "f_np = f_np.detach().numpy()\n",
    "# print(f_np)\n",
    "plt.hist((f_np-mn)/(mx-mn))"
   ]
  },
  {
   "cell_type": "code",
   "execution_count": null,
   "metadata": {},
   "outputs": [
    {
     "ename": "AttributeError",
     "evalue": "'SplitSwinTransformer' object has no attribute 'norm0'",
     "output_type": "error",
     "traceback": [
      "\u001b[0;31m---------------------------------------------------------------------------\u001b[0m",
      "\u001b[0;31mAttributeError\u001b[0m                            Traceback (most recent call last)",
      "Cell \u001b[0;32mIn[8], line 5\u001b[0m\n\u001b[1;32m      1\u001b[0m \u001b[39m# feat2 = feat['inputs']['outs'][0].view(-1, *feat['inputs']['hw_shape'],\u001b[39;00m\n\u001b[1;32m      2\u001b[0m \u001b[39m#                                 model.backbone.num_features[0]).permute(0, 3, 1,\u001b[39;00m\n\u001b[1;32m      3\u001b[0m \u001b[39m#                                                                 2).contiguous()\u001b[39;00m\n\u001b[1;32m      4\u001b[0m \u001b[39m# print(feat2.shape)\u001b[39;00m\n\u001b[0;32m----> 5\u001b[0m norm0 \u001b[39m=\u001b[39m \u001b[39mgetattr\u001b[39;49m(model\u001b[39m.\u001b[39;49mbackbone, \u001b[39m'\u001b[39;49m\u001b[39mnorm0\u001b[39;49m\u001b[39m'\u001b[39;49m)\n\u001b[1;32m      6\u001b[0m feats_to_comp  \u001b[39m=\u001b[39m norm0( feat[\u001b[39m'\u001b[39m\u001b[39minputs\u001b[39m\u001b[39m'\u001b[39m][\u001b[39m'\u001b[39m\u001b[39mouts\u001b[39m\u001b[39m'\u001b[39m][\u001b[39m0\u001b[39m])\u001b[39m.\u001b[39mview(\u001b[39m-\u001b[39m\u001b[39m1\u001b[39m, \u001b[39m*\u001b[39mfeat[\u001b[39m'\u001b[39m\u001b[39minputs\u001b[39m\u001b[39m'\u001b[39m][\u001b[39m'\u001b[39m\u001b[39mhw_shape\u001b[39m\u001b[39m'\u001b[39m],\n\u001b[1;32m      7\u001b[0m                                 model\u001b[39m.\u001b[39mbackbone\u001b[39m.\u001b[39mnum_features[\u001b[39m0\u001b[39m])\u001b[39m.\u001b[39mpermute(\u001b[39m0\u001b[39m, \u001b[39m3\u001b[39m, \u001b[39m1\u001b[39m,\n\u001b[1;32m      8\u001b[0m                                                                 \u001b[39m2\u001b[39m)\u001b[39m.\u001b[39mcontiguous()\n\u001b[1;32m      9\u001b[0m \u001b[39mprint\u001b[39m(feats_to_comp\u001b[39m.\u001b[39mshape)\n",
      "File \u001b[0;32m/local-scratch2/aharell/CFM-Task-Models/.venv/lib/python3.9/site-packages/torch/nn/modules/module.py:1269\u001b[0m, in \u001b[0;36mModule.__getattr__\u001b[0;34m(self, name)\u001b[0m\n\u001b[1;32m   1267\u001b[0m     \u001b[39mif\u001b[39;00m name \u001b[39min\u001b[39;00m modules:\n\u001b[1;32m   1268\u001b[0m         \u001b[39mreturn\u001b[39;00m modules[name]\n\u001b[0;32m-> 1269\u001b[0m \u001b[39mraise\u001b[39;00m \u001b[39mAttributeError\u001b[39;00m(\u001b[39m\"\u001b[39m\u001b[39m'\u001b[39m\u001b[39m{}\u001b[39;00m\u001b[39m'\u001b[39m\u001b[39m object has no attribute \u001b[39m\u001b[39m'\u001b[39m\u001b[39m{}\u001b[39;00m\u001b[39m'\u001b[39m\u001b[39m\"\u001b[39m\u001b[39m.\u001b[39mformat(\n\u001b[1;32m   1270\u001b[0m     \u001b[39mtype\u001b[39m(\u001b[39mself\u001b[39m)\u001b[39m.\u001b[39m\u001b[39m__name__\u001b[39m, name))\n",
      "\u001b[0;31mAttributeError\u001b[0m: 'SplitSwinTransformer' object has no attribute 'norm0'"
     ]
    }
   ],
   "source": [
    "# feat2 = feat['inputs']['outs'][0].view(-1, *feat['inputs']['hw_shape'],\n",
    "#                                 model.backbone.num_features[0]).permute(0, 3, 1,\n",
    "#                                                                 2).contiguous()\n",
    "# print(feat2.shape)\n",
    "norm0 = getattr(model.backbone, 'norm0')\n",
    "feats_to_comp  = norm0( feat['inputs']['outs'][0]).view(-1, *feat['inputs']['hw_shape'],\n",
    "                                model.backbone.num_features[0]).permute(0, 3, 1,\n",
    "                                                                2).contiguous()\n",
    "print(feats_to_comp.shape)"
   ]
  },
  {
   "cell_type": "code",
   "execution_count": null,
   "metadata": {},
   "outputs": [],
   "source": [
    "for data in vdl:\n",
    "    # model.cut_point = 0\n",
    "    # model.data_preprocessor = model.frontend_preprocessor\n",
    "    # print(model.val_step(data))\n",
    "    # model.cut_point = 1\n",
    "    # model.data_preprocessor = TwoInputIdentity()\n",
    "    data_ = model.frontend_preprocessor(data, False)\n",
    "    print(data_['data_samples'])\n",
    "    break\n",
    "    data_['inputs'] = model.backbone.split_forward_v2(data_['inputs'], output_layer=model.cut_point-1)\n",
    "    data_['inputs'] = {#\"x\": data_['inputs'][0],\n",
    "                    \"hw_shape\": data_['inputs'][0],\n",
    "                    \"outs\": data_['inputs'][1]}\n",
    "    print(len(data_['inputs']['outs']))\n",
    "    print(data_)\n",
    "    # data_['inputs'] = [data_['inputs']]\n",
    "    # data_['data_samples'] = [data_['data_samples']]\n",
    "    # # forward the model\n",
    "    with torch.no_grad():\n",
    "        results = model.backend_inference(data_)[0]\n",
    "    break"
   ]
  },
  {
   "cell_type": "code",
   "execution_count": null,
   "metadata": {},
   "outputs": [],
   "source": [
    "vdl = runner.val_dataloader"
   ]
  },
  {
   "cell_type": "code",
   "execution_count": null,
   "metadata": {},
   "outputs": [],
   "source": [
    "model.backbone.stages[0]"
   ]
  },
  {
   "cell_type": "code",
   "execution_count": null,
   "metadata": {},
   "outputs": [
    {
     "name": "stdout",
     "output_type": "stream",
     "text": [
      "0.1442085560638556\n"
     ]
    },
    {
     "data": {
      "text/plain": [
       "1.999999999998509"
      ]
     },
     "execution_count": 42,
     "metadata": {},
     "output_type": "execute_result"
    }
   ],
   "source": [
    "from numpy import log2 as log\n",
    "def H(d):\n",
    "    return -d*log(d) + (d-1)*log(1-d)\n",
    "\n",
    "m = 8\n",
    "D = np.linspace(0.1442,0.14421,10000000)\n",
    "# R = 1-D*m/(m-1)\n",
    "# rate = R*log(m)\n",
    "the_rate = log(m) -H(D) - D * log(m-1) - 2\n",
    "print(D[np.where(the_rate < 0)[0][0]])\n",
    "the_rate[np.where(the_rate < 0)[0][0]] + 2"
   ]
  },
  {
   "cell_type": "markdown",
   "metadata": {},
   "source": [
    "# Semantic Segmentation"
   ]
  },
  {
   "cell_type": "code",
   "execution_count": null,
   "metadata": {},
   "outputs": [],
   "source": [
    "%load_ext autoreload\n",
    "%autoreload 2\n",
    "\n",
    "from mmseg.apis import inference_model, init_model, show_result_pyplot\n",
    "import mmcv\n",
    "\n",
    "from PIL import Image\n",
    "import torch\n",
    "\n",
    "from mmengine.config import Config\n",
    "from mmengine.dataset import Compose\n",
    "\n",
    "from utils import SplitEncoderDecoder, TwoInputIdentity\n",
    "\n",
    "config_file = \"../../segmentation/maskformer_swin-t_upernet_8xb2-160k_ade20k-512x512_modified.py\"\n",
    "checkpoint_file = \"../../segmentation/maskformer_swin-t_upernet_8xb2-160k_ade20k-512x512_20221114_232813-f14e7ce0.pth\"\n",
    "\n",
    "\n",
    "# Build the model from a config file and a checkpoint file\n",
    "model_init = init_model(config_file, checkpoint_file, device='cpu') # or device='cuda:0'\n",
    "\n",
    "# test a single image and show the results\n",
    "img = '../../demo/demo.jpg'  # or img = mmcv.imread(img), which will only load it once\n",
    "result = inference_model(model_init, img)\n",
    "# # visualize the results in a new window\n",
    "# # show_result_pyplot(model, img, result, show=True)\n",
    "# # or save the visualization results to image files\n",
    "# # you can change the opacity of the painted segmentation map in (0, 1].\n",
    "# show_result_pyplot(model, img, result, show=True, out_file='result.jpg', opacity=0.5)"
   ]
  },
  {
   "cell_type": "code",
   "execution_count": null,
   "metadata": {},
   "outputs": [],
   "source": [
    "%load_ext autoreload\n",
    "%autoreload 2\n",
    "\n",
    "from mmengine.config import Config\n",
    "from mmengine.runner import Runner\n",
    "from utils import SplitEncoderDecoder #, get_mean_metrics\n"
   ]
  },
  {
   "cell_type": "code",
   "execution_count": null,
   "metadata": {},
   "outputs": [],
   "source": [
    "# setup the config file\n",
    "cfg = Config.fromfile('../../segmentation/swin-tiny-patch4-window7-in1k-pre_upernet_8xb2-160k_ade20k-512x512.py')\n",
    "\n",
    "# set the data_root of the config file\n",
    "data_root = '../../data/ade/ADEChallengeData2016'\n",
    "cfg.data_root = data_root\n",
    "cfg.test_dataloader.dataset.data_root = data_root\n",
    "cfg.train_dataloader.dataset.data_root = data_root\n",
    "cfg.val_dataloader.dataset.data_root = data_root\n",
    "\n",
    "\n",
    "train_pipeline = [{'type': 'LoadImageFromFile'},\n",
    "                  {'reduce_zero_label': True, 'type': 'LoadAnnotations'},\n",
    "                  {'keep_ratio': True,\n",
    "                   'ratio_range': (0.5, 2.0),\n",
    "                   'scale': (2048, 1024), # (2048, 512)\n",
    "                   'type': 'RandomResize'},\n",
    "                   {'cat_max_ratio': 0.75, 'crop_size': (512, 512), 'type': 'RandomCrop'},\n",
    "                   {'prob': 0.5, 'type': 'RandomFlip'},\n",
    "                   {'type': 'PhotoMetricDistortion'},\n",
    "                   {'type': 'PackSegInputs'}]\n",
    "\n",
    "cfg.train_dataloader.dataset.pipeline = train_pipeline\n",
    "\n",
    "cfg.dump('../../segmentation/swin-tiny-patch4-window7-in1k-pre_upernet_8xb2-160k_ade20k-512x512_modified.py')\n",
    "\n",
    "config_file = \"../../segmentation/swin-tiny-patch4-window7-in1k-pre_upernet_8xb2-160k_ade20k-512x512_modified.py\"\n",
    "checkpoint_file = '../../segmentation/upernet_swin_tiny_patch4_window7_512x512_160k_ade20k_pretrain_224x224_1K_20210531_112542-e380ad3e.pth'\n"
   ]
  },
  {
   "cell_type": "code",
   "execution_count": null,
   "metadata": {},
   "outputs": [],
   "source": [
    "# config_file = \"../../segmentation/swin-tiny-patch4-window7-in1k-pre_upernet_8xb2-160k_ade20k-512x512_modified.py\"\n",
    "# checkpoint_file = '../../segmentation/upernet_swin_tiny_patch4_window7_512x512_160k_ade20k_pretrain_224x224_1K_20210531_112542-e380ad3e.pth'\n",
    "\n",
    "# model = SplitEncoderDecoder.create_from_cfg_and_checkpoint(config_file, checkpoint_file)\n",
    "\n",
    "# cfg['work_dir'] = './logs'\n",
    "# runner = Runner.from_cfg(cfg)"
   ]
  },
  {
   "cell_type": "code",
   "execution_count": null,
   "metadata": {},
   "outputs": [],
   "source": [
    "# model = SplitEncoderDecoder.create_from_cfg_and_checkpoint(config_file, checkpoint_file)\n",
    "# dataloader = Runner.build_dataloader(cfg.val_dataloader)\n",
    "\n",
    "# cut point = 0, 1 test\n",
    "\n",
    "\n",
    "model = SplitEncoderDecoder.create_from_cfg_and_checkpoint(config_file, checkpoint_file)\n",
    "# model.set_cut_point(0) # so that input_layer=self.cut_point=0\n",
    "# model.swap_preprocessor()\n",
    "model.zero_grad()\n",
    "model.eval()\n",
    "model.to('cuda')\n",
    "\n",
    "dataloader = Runner.build_dataloader(cfg.val_dataloader)\n",
    "val_eval = Runner.build_evaluator(_, cfg.val_evaluator)\n",
    "setattr(val_eval,'dataset_meta', dataloader.dataset.metainfo)\n",
    "\n",
    "\n",
    "    \n",
    "# eval_results = []\n",
    "for i, data in enumerate(dataloader):\n",
    "    print(f\"Processing image {i}\")\n",
    "    features = model.feature_frontend(data)\n",
    "    result_backend_inference = model.backend_inference(features)\n",
    "    val_eval.process(result_backend_inference)\n",
    "    # eval_result = val_eval.offline_evaluate(result_backend_inference)\n",
    "    # eval_results.append(eval_result)\n",
    "    # result_backend_raw = model.backend_raw(data)\n",
    "    print(f\"Processed image {i}\")\n",
    "    if i > 2:\n",
    "        break"
   ]
  },
  {
   "cell_type": "code",
   "execution_count": null,
   "metadata": {},
   "outputs": [],
   "source": [
    "result = val_eval.evaluate(len(dataloader))\n",
    "# result = val_eval.offline_evaluate(result_backend_inference)"
   ]
  }
 ],
 "metadata": {
  "kernelspec": {
   "display_name": ".venv",
   "language": "python",
   "name": "python3"
  },
  "language_info": {
   "codemirror_mode": {
    "name": "ipython",
    "version": 3
   },
   "file_extension": ".py",
   "mimetype": "text/x-python",
   "name": "python",
   "nbconvert_exporter": "python",
   "pygments_lexer": "ipython3",
   "version": "3.9.5"
  },
  "vscode": {
   "interpreter": {
    "hash": "b048090fc6d3014cd2bdcc9ea88274151058c974d3dd655c4d5f3eddfe0b65cd"
   }
  }
 },
 "nbformat": 4,
 "nbformat_minor": 2
}
