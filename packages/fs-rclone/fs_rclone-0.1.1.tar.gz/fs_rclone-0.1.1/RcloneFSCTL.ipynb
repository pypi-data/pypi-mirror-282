{
 "cells": [
  {
   "cell_type": "markdown",
   "id": "e454abf3-f760-4bef-a0ba-fa814de7eb16",
   "metadata": {},
   "source": [
    "# RcloneFS: a Pyfilesystem wrapper\n",
    "\n",
    "This is a control file."
   ]
  },
  {
   "cell_type": "markdown",
   "id": "a6586618-3cb9-4ecb-b6ea-e0c80f604aca",
   "metadata": {},
   "source": [
    "## Build notes\n",
    "\n",
    "The pypi package name is `fs-rclone`\n",
    "\n",
    "The source filepath only allows `fs_rclone`."
   ]
  },
  {
   "cell_type": "markdown",
   "id": "86f4f753-6cd9-49a5-ba21-6a55ce3212eb",
   "metadata": {},
   "source": [
    "## Generating distribution archive"
   ]
  },
  {
   "cell_type": "code",
   "execution_count": 5,
   "id": "efd2c825-1afd-49c9-9e36-c2cf6f773bf9",
   "metadata": {},
   "outputs": [
    {
     "name": "stdout",
     "output_type": "stream",
     "text": [
      "Python 3.10.12\n"
     ]
    }
   ],
   "source": [
    "#!python3 -V"
   ]
  },
  {
   "cell_type": "code",
   "execution_count": 6,
   "id": "ab25ca4c-6300-4580-8584-d2b81b084a76",
   "metadata": {
    "collapsed": true,
    "jupyter": {
     "outputs_hidden": true
    }
   },
   "outputs": [
    {
     "name": "stdout",
     "output_type": "stream",
     "text": [
      "Defaulting to user installation because normal site-packages is not writeable\n",
      "Requirement already satisfied: build in /home/raygan/.local/lib/python3.10/site-packages (1.2.1)\n",
      "Requirement already satisfied: packaging>=19.1 in /home/raygan/.local/lib/python3.10/site-packages (from build) (23.2)\n",
      "Requirement already satisfied: pyproject_hooks in /home/raygan/.local/lib/python3.10/site-packages (from build) (1.1.0)\n",
      "Requirement already satisfied: tomli>=1.1.0 in /home/raygan/.local/lib/python3.10/site-packages (from build) (2.0.1)\n"
     ]
    }
   ],
   "source": [
    "#!python3 -m pip install --upgrade build"
   ]
  },
  {
   "cell_type": "code",
   "execution_count": 12,
   "id": "0f8e91b6-dba2-42dd-bc06-66284251d44c",
   "metadata": {},
   "outputs": [
    {
     "name": "stdout",
     "output_type": "stream",
     "text": [
      "\u001b[1m* Creating isolated environment: venv+pip...\u001b[0m\n",
      "\u001b[1m* Installing packages in isolated environment:\u001b[0m\n",
      "  - hatchling\n",
      "\u001b[1m* Getting build dependencies for sdist...\u001b[0m\n",
      "\u001b[1m* Building sdist...\u001b[0m\n",
      "\u001b[1m* Building wheel from sdist\u001b[0m\n",
      "\u001b[1m* Creating isolated environment: venv+pip...\u001b[0m\n",
      "\u001b[1m* Installing packages in isolated environment:\u001b[0m\n",
      "  - hatchling\n",
      "\u001b[1m* Getting build dependencies for wheel...\u001b[0m\n",
      "\u001b[1m* Building wheel...\u001b[0m\n",
      "\u001b[1m\u001b[92mSuccessfully built \u001b[4mfs_rclone-0.1.0.tar.gz\u001b[0m\u001b[1m\u001b[92m and \u001b[4mfs_rclone-0.1.0-py3-none-any.whl\u001b[0m\u001b[1m\u001b[92m\u001b[0m\n"
     ]
    }
   ],
   "source": [
    "!python3 -m build"
   ]
  },
  {
   "cell_type": "markdown",
   "id": "70f0834d-fb6c-4036-b11d-f1b8420a8ed1",
   "metadata": {},
   "source": [
    "## Publish to PyPI"
   ]
  },
  {
   "cell_type": "code",
   "execution_count": null,
   "id": "fd7573fc-fa78-4eb2-86cc-4fdef00b6625",
   "metadata": {
    "scrolled": true
   },
   "outputs": [],
   "source": [
    "# !python3 -m pip install --upgrade twine"
   ]
  },
  {
   "cell_type": "code",
   "execution_count": 13,
   "id": "b4eb6df1-a932-46f1-84dd-b3ba98aafc62",
   "metadata": {},
   "outputs": [
    {
     "name": "stdout",
     "output_type": "stream",
     "text": [
      "Uploading distributions to https://test.pypi.org/legacy/\n",
      "Uploading fs_rclone-0.1.0-py3-none-any.whl\n",
      "\u001b[2K\u001b[35m100%\u001b[0m \u001b[38;2;114;156;31m━━━━━━━━━━━━━━━━━━━━━━━━━━━━━━━━━━━━━━━━\u001b[0m \u001b[32m7.7/7.7 kB\u001b[0m • \u001b[33m00:00\u001b[0m • \u001b[31m?\u001b[0m\n",
      "\u001b[?25hUploading fs_rclone-0.1.0.tar.gz\n",
      "\u001b[2K\u001b[35m100%\u001b[0m \u001b[38;2;114;156;31m━━━━━━━━━━━━━━━━━━━━━━━━━━━━━━━━━━━━━━━━\u001b[0m \u001b[32m9.3/9.3 kB\u001b[0m • \u001b[33m00:00\u001b[0m • \u001b[31m1.9 MB/s\u001b[0m\n",
      "\u001b[?25h\n",
      "\u001b[32mView at:\u001b[0m\n",
      "https://test.pypi.org/project/fs-rclone/0.1.0/\n"
     ]
    }
   ],
   "source": [
    "!python3 -m twine upload --repository testpypi dist/*"
   ]
  },
  {
   "cell_type": "code",
   "execution_count": null,
   "id": "0dc7ce11-2b2d-4d61-aa1d-3030c37f4bfc",
   "metadata": {},
   "outputs": [],
   "source": []
  }
 ],
 "metadata": {
  "kernelspec": {
   "display_name": "Python 3 (ipykernel)",
   "language": "python",
   "name": "python3"
  },
  "language_info": {
   "codemirror_mode": {
    "name": "ipython",
    "version": 3
   },
   "file_extension": ".py",
   "mimetype": "text/x-python",
   "name": "python",
   "nbconvert_exporter": "python",
   "pygments_lexer": "ipython3",
   "version": "3.10.12"
  }
 },
 "nbformat": 4,
 "nbformat_minor": 5
}
