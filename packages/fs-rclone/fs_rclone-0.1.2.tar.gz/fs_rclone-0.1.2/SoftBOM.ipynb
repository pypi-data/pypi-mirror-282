{
 "cells": [
  {
   "cell_type": "markdown",
   "id": "a2c7ff21-7a46-4ac5-879b-b347c202e075",
   "metadata": {},
   "source": [
    "# Software Bill of Materials\n",
    "__version__ = 0.1.0\n",
    "\n",
    "_Soft B.O.M._"
   ]
  },
  {
   "cell_type": "markdown",
   "id": "cdcfdd4f-30a5-4a11-b38e-29048666f7e6",
   "metadata": {},
   "source": [
    "## Python deps\n",
    "\n",
    "### python>=3.10\n",
    "\n",
    "Can we find out what the lowest compatable version really is?\n",
    "\n",
    "### pip>=21.3\n",
    "\n",
    "Required to install deps from `pyproject.toml`\n",
    "\n",
    "### pyfilesystem=2.4.12\n",
    "### rclone_python=0.1.12\n"
   ]
  },
  {
   "cell_type": "markdown",
   "id": "0177130e-01f2-46ab-be1f-908eb3d327f5",
   "metadata": {},
   "source": [
    "## Bin deps\n",
    "\n",
    "### rclone=1.67.0\n",
    "\n",
    "How universal is this? What systems can it NOT be installed on? And what's the version. There's an important coupling between this and `rclone_python`.\n"
   ]
  },
  {
   "cell_type": "code",
   "execution_count": null,
   "id": "28c00f20-9f27-47d5-ae32-420555f12127",
   "metadata": {},
   "outputs": [],
   "source": []
  }
 ],
 "metadata": {
  "kernelspec": {
   "display_name": "Python 3 (ipykernel)",
   "language": "python",
   "name": "python3"
  },
  "language_info": {
   "codemirror_mode": {
    "name": "ipython",
    "version": 3
   },
   "file_extension": ".py",
   "mimetype": "text/x-python",
   "name": "python",
   "nbconvert_exporter": "python",
   "pygments_lexer": "ipython3",
   "version": "3.10.12"
  }
 },
 "nbformat": 4,
 "nbformat_minor": 5
}
