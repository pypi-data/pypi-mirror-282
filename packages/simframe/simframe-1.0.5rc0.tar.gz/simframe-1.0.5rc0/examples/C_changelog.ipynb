{
 "cells": [
  {
   "cell_type": "markdown",
   "id": "874c29ba-154e-446f-b780-3b24a49b4c94",
   "metadata": {},
   "source": [
    "# Appendix C: Changelog"
   ]
  },
  {
   "cell_type": "markdown",
   "id": "2c010177-5375-4d71-bab1-9767fcb944d8",
   "metadata": {},
   "source": [
    "This is a list of changes made to `Simframe` since version `v1.0.1`."
   ]
  },
  {
   "cell_type": "markdown",
   "id": "b6fc3f91-dfa3-4d14-b9c4-8cfd5f23bff6",
   "metadata": {},
   "source": [
    "### **v1.0.5**\n",
    "**Release date: 30th June 2024**\n",
    "\n",
    "#### Moving to Meson build system\n",
    "\n",
    "Migrating to `mesonpy` as build system.\n",
    "\n",
    "#### Iteration over group members\n",
    "\n",
    "Functionality to iterate over the members of groups has been added.\n",
    "\n",
    "#### Squeezing zero-dimensional Fields\n",
    "\n",
    "When initializing field with scalar values, zero-dimensional arrays, or one-dimensional arrays of size one, the field will now be squeezed to shape `()`, since the previous behavior was inconsistent in these cases.\n",
    "\n",
    "#### Allowing for `Path` objects\n",
    "\n",
    "The `datadir` attribute of the `Writer` class can now also take `pathlib.Path` objects in addition to strings.\n",
    "\n",
    "#### Range of `snapshots`\n",
    "\n",
    "The `snapshots` attribute of the `Integrationvariable` class now also needs to contain the values of the initial conditions. Previously `simframe` was automatically writing the initial conditions if the integration variable was below the lower bound of the `snapshots` array. This was ambiguous if the simulation was interupted and restarted before it reached the first desired snapshot."
   ]
  },
  {
   "cell_type": "markdown",
   "id": "5217b2e0-a165-4d07-8f75-b89ecaf14dca",
   "metadata": {},
   "source": [
    "### **v1.0.4**\n",
    "**Release date: 21st July 2023**\n",
    "\n",
    "#### Fixing recursion error when writing data files\n",
    "\n",
    "A problem has been fixed that could have caused recursion error in some cases when writing data files.\n",
    "\n",
    "#### Printing information about updaters\n",
    "\n",
    "Functionality has been added to print information about linked updater functions and source code (if Python)."
   ]
  },
  {
   "cell_type": "markdown",
   "id": "735659e3-903f-4975-b6d8-69eb1a2015ee",
   "metadata": {},
   "source": [
    "### **v1.0.3**\n",
    "**Release date: 17th June 2023**\n",
    "\n",
    "#### Adding `__reduce__()` method to fields\n",
    "\n",
    "A proper `__reduce__()` method was added to the `Field` class to properly read and write dump files with `dill`."
   ]
  },
  {
   "cell_type": "markdown",
   "id": "dbafb5f0-c602-40eb-a37d-7519373f2159",
   "metadata": {},
   "source": [
    "### **v1.0.2**\n",
    "**Release date: 29th March 2022**\n",
    "\n",
    "#### Adding memory inspection of group\n",
    "\n",
    "A function was added to display the memory usage of groups in bytes.\n",
    "\n",
    "`sim.memory_usage(print_output=True, skip_hidden=True)`"
   ]
  },
  {
   "cell_type": "markdown",
   "id": "ce560923-a426-4646-8345-a0d5dcd36dce",
   "metadata": {},
   "source": [
    "### **v1.0.1**\n",
    "**Release date: 24th December 2021**"
   ]
  }
 ],
 "metadata": {
  "kernelspec": {
   "display_name": "Python 3 (ipykernel)",
   "language": "python",
   "name": "python3"
  },
  "language_info": {
   "codemirror_mode": {
    "name": "ipython",
    "version": 3
   },
   "file_extension": ".py",
   "mimetype": "text/x-python",
   "name": "python",
   "nbconvert_exporter": "python",
   "pygments_lexer": "ipython3",
   "version": "3.12.2"
  }
 },
 "nbformat": 4,
 "nbformat_minor": 5
}
