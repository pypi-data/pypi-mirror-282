{
 "cells": [
  {
   "cell_type": "markdown",
   "id": "7ca8d698-2484-465d-9a5d-21480ab2a444",
   "metadata": {},
   "source": [
    "# Appendix A: Citation"
   ]
  },
  {
   "cell_type": "markdown",
   "id": "2fc78105-b272-4621-a771-82a81fd57cb2",
   "metadata": {},
   "source": [
    "If you use `Simframe`, please remember to cite [Stammler & Birnstiel (2022)](https://doi.org/10.21105/joss.03882).\n",
    "\n",
    "```\n",
    "@article{simframe,\n",
    "  doi = {10.21105/joss.03882},\n",
    "  url = {https://doi.org/10.21105/joss.03882},\n",
    "  year = {2022},\n",
    "  publisher = {The Open Journal},\n",
    "  volume = {7},\n",
    "  number = {69},\n",
    "  pages = {3882},\n",
    "  author = {Sebastian M. Stammler and Tilman Birnstiel},\n",
    "  title = {Simframe: A Python Framework for Scientific Simulations},\n",
    "  journal = {Journal of Open Source Software}\n",
    "}\n",
    "\n",
    "```"
   ]
  }
 ],
 "metadata": {
  "kernelspec": {
   "display_name": "Python 3 (ipykernel)",
   "language": "python",
   "name": "python3"
  },
  "language_info": {
   "codemirror_mode": {
    "name": "ipython",
    "version": 3
   },
   "file_extension": ".py",
   "mimetype": "text/x-python",
   "name": "python",
   "nbconvert_exporter": "python",
   "pygments_lexer": "ipython3",
   "version": "3.9.7"
  }
 },
 "nbformat": 4,
 "nbformat_minor": 5
}
