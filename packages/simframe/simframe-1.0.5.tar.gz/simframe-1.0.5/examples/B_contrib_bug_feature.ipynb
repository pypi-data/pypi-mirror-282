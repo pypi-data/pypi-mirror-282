{
 "cells": [
  {
   "cell_type": "markdown",
   "id": "41962876-c9c4-48b4-923e-53ea06317fb5",
   "metadata": {},
   "source": [
    "# Appendix B: Contributing/Bugs/Features"
   ]
  },
  {
   "cell_type": "markdown",
   "id": "273779d7-b9dc-4c79-bca9-c44d942ed071",
   "metadata": {},
   "source": [
    "Please have a look at the [Contribution Guidelines](https://github.com/stammler/simframe/blob/master/.github/CONTRIBUTING.md)."
   ]
  },
  {
   "cell_type": "markdown",
   "id": "cc409192-fabb-48c2-b6f2-223d9b0092cc",
   "metadata": {},
   "source": [
    "## Contributing to `simframe`"
   ]
  },
  {
   "cell_type": "markdown",
   "id": "9366cd8a-948b-4128-8eb1-d958c935c3dd",
   "metadata": {},
   "source": [
    "To contribute code please open a new pull request and describe the changes to the software your pull request introduces.\n",
    "\n",
    "Please note, that we want to achieve a **code coverage of 100%**. Any addition to the software must therefore also come with unit tests. Additional features must also be described in the documentation."
   ]
  },
  {
   "cell_type": "markdown",
   "id": "0dc0a7fc-f962-4f51-a0eb-e152c3b4d3e7",
   "metadata": {},
   "source": [
    "## Bug Report"
   ]
  },
  {
   "cell_type": "markdown",
   "id": "ffefd8b3-0f53-446c-8518-46cb1807a843",
   "metadata": {},
   "source": [
    "If you encountered a bug in `simframe`, please open a new [bug report issue](https://github.com/stammler/simframe/issues/new?template=bug_report.md&title=%5BBUG%5D+Descriptive+title+of+the+bug+report) and describe the bug, the expected behavior, and steps how to reproduce the bug."
   ]
  },
  {
   "cell_type": "markdown",
   "id": "b16f2261-246d-41e0-8cf1-b0567fc7523a",
   "metadata": {},
   "source": [
    "## Feature Request"
   ]
  },
  {
   "cell_type": "markdown",
   "id": "ca93b4be-f15a-4909-a4b2-897be79ad83e",
   "metadata": {},
   "source": [
    "If you have an idea of a new feature, that is missing in `simframe`, or if you want to suggest an improvement, please open a new [feature request issue](https://github.com/stammler/simframe/issues/new?template=feature_request.md&title=%5BFEATURE%5D+Descriptive+title+of+the+feature+request)."
   ]
  }
 ],
 "metadata": {
  "kernelspec": {
   "display_name": "Python 3 (ipykernel)",
   "language": "python",
   "name": "python3"
  },
  "language_info": {
   "codemirror_mode": {
    "name": "ipython",
    "version": 3
   },
   "file_extension": ".py",
   "mimetype": "text/x-python",
   "name": "python",
   "nbconvert_exporter": "python",
   "pygments_lexer": "ipython3",
   "version": "3.9.7"
  }
 },
 "nbformat": 4,
 "nbformat_minor": 5
}
