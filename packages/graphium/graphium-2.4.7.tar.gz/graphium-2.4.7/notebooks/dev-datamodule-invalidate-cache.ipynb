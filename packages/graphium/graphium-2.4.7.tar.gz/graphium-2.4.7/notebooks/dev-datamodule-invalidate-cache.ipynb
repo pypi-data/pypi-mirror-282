{
 "cells": [
  {
   "cell_type": "code",
   "execution_count": 1,
   "metadata": {},
   "outputs": [
    {
     "name": "stderr",
     "output_type": "stream",
     "text": [
      "Using backend: pytorch\n"
     ]
    }
   ],
   "source": [
    "%load_ext autoreload\n",
    "%autoreload 2\n",
    "\n",
    "import pathlib\n",
    "import functools\n",
    "import tempfile\n",
    "\n",
    "import numpy as np\n",
    "import lightning\n",
    "import torch\n",
    "import datamol as dm\n",
    "\n",
    "import graphium"
   ]
  },
  {
   "cell_type": "code",
   "execution_count": 6,
   "metadata": {},
   "outputs": [],
   "source": [
    "# Setup a temporary cache file. Only for\n",
    "# demo purposes, use a known path in prod.\n",
    "cache_data_path = pathlib.Path(tempfile.mkdtemp()) / \"cache.pkl\"\n",
    "cache_data_path = \"/home/hadim/test-cache.pkl\"\n",
    "\n",
    "# Load a dataframe\n",
    "df = graphium.data.load_tiny_zinc()\n",
    "df.head()\n",
    "\n",
    "# Setup the featurization\n",
    "featurization_args = {}\n",
    "featurization_args[\"atom_property_list_onehot\"] = [\"atomic-number\", \"valence\"]\n",
    "featurization_args[\"atom_property_list_float\"] = [\"mass\", \"electronegativity\", \"in-ring\"]\n",
    "featurization_args[\"edge_property_list\"] = [\"bond-type-onehot\", \"stereo\", \"in-ring\"]\n",
    "featurization_args[\"add_self_loop\"] = False\n",
    "featurization_args[\"use_bonds_weights\"] = False\n",
    "featurization_args[\"explicit_H\"] = False\n",
    "\n",
    "# Config for datamodule\n",
    "dm_args = {}\n",
    "dm_args[\"df\"] = df\n",
    "dm_args[\"cache_data_path\"] = cache_data_path\n",
    "dm_args[\"featurization\"] = featurization_args\n",
    "dm_args[\"smiles_col\"] = \"SMILES\"\n",
    "dm_args[\"label_cols\"] = [\"SA\"]\n",
    "dm_args[\"split_val\"] = 0.2\n",
    "dm_args[\"split_test\"] = 0.2\n",
    "dm_args[\"split_seed\"] = 19\n",
    "dm_args[\"batch_size_training\"] = 16\n",
    "dm_args[\"batch_size_inference\"] = 16\n",
    "dm_args[\"num_workers\"] = 0\n",
    "dm_args[\"pin_memory\"] = True\n",
    "dm_args[\"featurization_n_jobs\"] = 16\n",
    "dm_args[\"featurization_progress\"] = True\n",
    "\n",
    "datam = graphium.data.DGLFromSmilesDataModule(**dm_args)\n",
    "# datam"
   ]
  },
  {
   "cell_type": "code",
   "execution_count": 7,
   "metadata": {},
   "outputs": [
    {
     "name": "stderr",
     "output_type": "stream",
     "text": [
      "2021-04-30 14:19:26.972 | INFO     | graphium.data.datamodule:_load_from_cache:460 - Try reloading the data module from /home/hadim/test-cache.pkl.\n",
      "2021-04-30 14:19:27.001 | INFO     | graphium.data.datamodule:_load_from_cache:485 - Cache featurizer arguments are different than the provided ones.\n",
      "2021-04-30 14:19:27.001 | INFO     | graphium.data.datamodule:_load_from_cache:486 - Cache featurizer arguments: {'atom_property_list_onehot': ['atomic-number', 'valence'], 'atom_property_list_float': ['mass', 'electronegativity', 'in-ring'], 'edge_property_list': ['bond-type-onehot', 'stereo'], 'add_self_loop': False, 'explicit_H': False, 'use_bonds_weights': False, 'pos_encoding_as_features': None, 'pos_encoding_as_directions': None, 'dtype': torch.float32}\n",
      "2021-04-30 14:19:27.002 | INFO     | graphium.data.datamodule:_load_from_cache:487 - Provided featurizer arguments: {'atom_property_list_onehot': ['atomic-number', 'valence'], 'atom_property_list_float': ['mass', 'electronegativity', 'in-ring'], 'edge_property_list': ['bond-type-onehot', 'stereo', 'in-ring'], 'add_self_loop': False, 'explicit_H': False, 'use_bonds_weights': False, 'pos_encoding_as_features': None, 'pos_encoding_as_directions': None, 'dtype': torch.float32}.\n",
      "2021-04-30 14:19:27.002 | INFO     | graphium.data.datamodule:_load_from_cache:488 - Fallback to regular data preparation steps.\n",
      "2021-04-30 14:19:27.003 | INFO     | graphium.data.datamodule:prepare_data:313 - Prepare dataset with 100 data points.\n"
     ]
    },
    {
     "data": {
      "application/vnd.jupyter.widget-view+json": {
       "model_id": "00871e6c7c86454181162e37d837daf2",
       "version_major": 2,
       "version_minor": 0
      },
      "text/plain": [
       "  0%|          | 0/100 [00:00<?, ?it/s]"
      ]
     },
     "metadata": {},
     "output_type": "display_data"
    },
    {
     "name": "stderr",
     "output_type": "stream",
     "text": [
      "2021-04-30 14:19:27.099 | INFO     | graphium.data.datamodule:_save_to_cache:433 - Write prepared datamodule to /home/hadim/test-cache.pkl\n"
     ]
    }
   ],
   "source": [
    "# Load and prepare the data\n",
    "datam.prepare_data()\n",
    "\n",
    "# Create the split torch datasets\n",
    "datam.setup()"
   ]
  },
  {
   "cell_type": "code",
   "execution_count": 27,
   "metadata": {},
   "outputs": [
    {
     "name": "stderr",
     "output_type": "stream",
     "text": [
      "2021-04-30 14:35:26.199 | INFO     | graphium.data.datamodule:_load_from_cache:460 - Try reloading the data module from /home/hadim/test-cache.pkl.\n",
      "2021-04-30 14:35:26.226 | INFO     | graphium.data.datamodule:_load_from_cache:485 - Cache featurizer arguments are different than the provided ones.\n",
      "2021-04-30 14:35:26.227 | INFO     | graphium.data.datamodule:_load_from_cache:486 - Cache featurizer arguments: {'atom_property_list_onehot': [], 'atom_property_list_float': ['mass', 'electronegativity', 'in-ring'], 'edge_property_list': ['bond-type-onehot', 'stereo', 'in-ring'], 'add_self_loop': False, 'explicit_H': False, 'use_bonds_weights': False, 'pos_encoding_as_features': None, 'pos_encoding_as_directions': None, 'dtype': torch.float32}\n",
      "2021-04-30 14:35:26.228 | INFO     | graphium.data.datamodule:_load_from_cache:487 - Provided featurizer arguments: {'atom_property_list_onehot': [], 'atom_property_list_float': ['mass', 'electronegativity'], 'edge_property_list': ['stereo', 'in-ring'], 'add_self_loop': False, 'explicit_H': False, 'use_bonds_weights': False, 'pos_encoding_as_features': None, 'pos_encoding_as_directions': None, 'dtype': torch.float32}.\n",
      "2021-04-30 14:35:26.228 | INFO     | graphium.data.datamodule:_load_from_cache:488 - Fallback to regular data preparation steps.\n",
      "2021-04-30 14:35:26.230 | INFO     | graphium.data.datamodule:prepare_data:313 - Prepare dataset with 100 data points.\n",
      "2021-04-30 14:35:30.104 | INFO     | graphium.data.datamodule:_save_to_cache:433 - Write prepared datamodule to /home/hadim/test-cache.pkl\n"
     ]
    }
   ],
   "source": [
    "# Setup a temporary cache file. Only for\n",
    "# demo purposes, use a known path in prod.\n",
    "cache_data_path = pathlib.Path(tempfile.mkdtemp()) / \"cache.pkl\"\n",
    "cache_data_path = \"/home/hadim/test-cache.pkl\"\n",
    "\n",
    "# Load a dataframe\n",
    "df = graphium.data.load_tiny_zinc()\n",
    "df.head()\n",
    "\n",
    "# Setup the featurization\n",
    "featurization_args = {}\n",
    "featurization_args[\"atom_property_list_float\"] = [\"mass\", \"electronegativity\"]\n",
    "featurization_args[\"edge_property_list\"] = [\"stereo\", \"in-ring\"]\n",
    "\n",
    "# Config for datamodule\n",
    "dm_args = {}\n",
    "dm_args[\"df\"] = df\n",
    "dm_args[\"cache_data_path\"] = cache_data_path\n",
    "dm_args[\"featurization\"] = featurization_args\n",
    "\n",
    "datam = graphium.data.DGLFromSmilesDataModule(**dm_args)\n",
    "datam.prepare_data()\n",
    "datam.setup()"
   ]
  },
  {
   "cell_type": "code",
   "execution_count": 26,
   "metadata": {},
   "outputs": [],
   "source": [
    "assert datam.num_node_feats == 3\n",
    "assert datam.num_edge_feats == 13"
   ]
  },
  {
   "cell_type": "code",
   "execution_count": 16,
   "metadata": {},
   "outputs": [],
   "source": [
    "g = batch[\"features\"]"
   ]
  },
  {
   "cell_type": "code",
   "execution_count": 28,
   "metadata": {},
   "outputs": [
    {
     "data": {
      "text/plain": [
       "2"
      ]
     },
     "execution_count": 28,
     "metadata": {},
     "output_type": "execute_result"
    }
   ],
   "source": [
    "datam.num_node_feats"
   ]
  },
  {
   "cell_type": "code",
   "execution_count": 29,
   "metadata": {},
   "outputs": [
    {
     "data": {
      "text/plain": [
       "8"
      ]
     },
     "execution_count": 29,
     "metadata": {},
     "output_type": "execute_result"
    }
   ],
   "source": [
    "datam.num_edge_feats"
   ]
  },
  {
   "cell_type": "code",
   "execution_count": null,
   "metadata": {},
   "outputs": [],
   "source": []
  }
 ],
 "metadata": {
  "kernelspec": {
   "display_name": "Python [conda env:graphium]",
   "language": "python",
   "name": "conda-env-graphium-py"
  },
  "language_info": {
   "codemirror_mode": {
    "name": "ipython",
    "version": 3
   },
   "file_extension": ".py",
   "mimetype": "text/x-python",
   "name": "python",
   "nbconvert_exporter": "python",
   "pygments_lexer": "ipython3",
   "version": "3.8.8"
  },
  "widgets": {
   "application/vnd.jupyter.widget-state+json": {
    "state": {
     "00871e6c7c86454181162e37d837daf2": {
      "model_module": "@jupyter-widgets/controls",
      "model_module_version": "1.5.0",
      "model_name": "HBoxModel",
      "state": {
       "children": [
        "IPY_MODEL_37d9c98862ec47ed9d7fb861ca143b13",
        "IPY_MODEL_89ab73566bed4fe390806729088f2c25",
        "IPY_MODEL_c5f7310ae3dd4c9eb49ee170ba94737d"
       ],
       "layout": "IPY_MODEL_e3545fe78e9649d2831a7e7abb080c7d"
      }
     },
     "0e81947ca6274213823944bae84a159d": {
      "model_module": "@jupyter-widgets/base",
      "model_module_version": "1.2.0",
      "model_name": "LayoutModel",
      "state": {}
     },
     "152a150013ac4b8183686b44cafb4d70": {
      "model_module": "@jupyter-widgets/controls",
      "model_module_version": "1.5.0",
      "model_name": "DescriptionStyleModel",
      "state": {
       "description_width": ""
      }
     },
     "2bb452e722d7402c8411536653ef2607": {
      "model_module": "@jupyter-widgets/controls",
      "model_module_version": "1.5.0",
      "model_name": "DescriptionStyleModel",
      "state": {
       "description_width": ""
      }
     },
     "2dc57ad3de9d49c38ff0c755becdfbe4": {
      "model_module": "@jupyter-widgets/base",
      "model_module_version": "1.2.0",
      "model_name": "LayoutModel",
      "state": {}
     },
     "361dd11acc754be1b7d1feb857b099b1": {
      "model_module": "@jupyter-widgets/base",
      "model_module_version": "1.2.0",
      "model_name": "LayoutModel",
      "state": {}
     },
     "37d9c98862ec47ed9d7fb861ca143b13": {
      "model_module": "@jupyter-widgets/controls",
      "model_module_version": "1.5.0",
      "model_name": "HTMLModel",
      "state": {
       "layout": "IPY_MODEL_3bacc61224d84ae1b6f8419670ed764a",
       "style": "IPY_MODEL_152a150013ac4b8183686b44cafb4d70",
       "value": "100%"
      }
     },
     "3bacc61224d84ae1b6f8419670ed764a": {
      "model_module": "@jupyter-widgets/base",
      "model_module_version": "1.2.0",
      "model_name": "LayoutModel",
      "state": {}
     },
     "406707a37c634af3a04210a3a70717a5": {
      "model_module": "@jupyter-widgets/base",
      "model_module_version": "1.2.0",
      "model_name": "LayoutModel",
      "state": {}
     },
     "4cd44552f1c74407855cf630b0dda913": {
      "model_module": "@jupyter-widgets/controls",
      "model_module_version": "1.5.0",
      "model_name": "HTMLModel",
      "state": {
       "layout": "IPY_MODEL_2dc57ad3de9d49c38ff0c755becdfbe4",
       "style": "IPY_MODEL_901bf951a68147ca973bcaa9b4e41e15",
       "value": "100%"
      }
     },
     "4f38767301c74ec99da43bb05c647cea": {
      "model_module": "@jupyter-widgets/controls",
      "model_module_version": "1.5.0",
      "model_name": "DescriptionStyleModel",
      "state": {
       "description_width": ""
      }
     },
     "62ffd0e5adf0467eaa8447d685bed061": {
      "model_module": "@jupyter-widgets/controls",
      "model_module_version": "1.5.0",
      "model_name": "HTMLModel",
      "state": {
       "layout": "IPY_MODEL_e4b0e4ebb9d1480f8c8e9a9e9eef6763",
       "style": "IPY_MODEL_2bb452e722d7402c8411536653ef2607",
       "value": " 100/100 [00:03&lt;00:00, 32.28it/s]"
      }
     },
     "75bf0c6796ee4c6a89973add825f1607": {
      "model_module": "@jupyter-widgets/controls",
      "model_module_version": "1.5.0",
      "model_name": "ProgressStyleModel",
      "state": {
       "description_width": ""
      }
     },
     "89ab73566bed4fe390806729088f2c25": {
      "model_module": "@jupyter-widgets/controls",
      "model_module_version": "1.5.0",
      "model_name": "FloatProgressModel",
      "state": {
       "bar_style": "success",
       "layout": "IPY_MODEL_406707a37c634af3a04210a3a70717a5",
       "style": "IPY_MODEL_cf416a8e58e9435ea059d869ab44fef4",
       "value": 100
      }
     },
     "901bf951a68147ca973bcaa9b4e41e15": {
      "model_module": "@jupyter-widgets/controls",
      "model_module_version": "1.5.0",
      "model_name": "DescriptionStyleModel",
      "state": {
       "description_width": ""
      }
     },
     "90b1460eeee3435996df0cb5616e35de": {
      "model_module": "@jupyter-widgets/base",
      "model_module_version": "1.2.0",
      "model_name": "LayoutModel",
      "state": {}
     },
     "b2fb93d6e2734502b742860c78777bfe": {
      "model_module": "@jupyter-widgets/controls",
      "model_module_version": "1.5.0",
      "model_name": "FloatProgressModel",
      "state": {
       "bar_style": "success",
       "layout": "IPY_MODEL_0e81947ca6274213823944bae84a159d",
       "style": "IPY_MODEL_75bf0c6796ee4c6a89973add825f1607",
       "value": 100
      }
     },
     "c5f7310ae3dd4c9eb49ee170ba94737d": {
      "model_module": "@jupyter-widgets/controls",
      "model_module_version": "1.5.0",
      "model_name": "HTMLModel",
      "state": {
       "layout": "IPY_MODEL_361dd11acc754be1b7d1feb857b099b1",
       "style": "IPY_MODEL_4f38767301c74ec99da43bb05c647cea",
       "value": " 100/100 [00:00&lt;00:00, 1083.51it/s]"
      }
     },
     "cf416a8e58e9435ea059d869ab44fef4": {
      "model_module": "@jupyter-widgets/controls",
      "model_module_version": "1.5.0",
      "model_name": "ProgressStyleModel",
      "state": {
       "description_width": ""
      }
     },
     "e3545fe78e9649d2831a7e7abb080c7d": {
      "model_module": "@jupyter-widgets/base",
      "model_module_version": "1.2.0",
      "model_name": "LayoutModel",
      "state": {}
     },
     "e4b0e4ebb9d1480f8c8e9a9e9eef6763": {
      "model_module": "@jupyter-widgets/base",
      "model_module_version": "1.2.0",
      "model_name": "LayoutModel",
      "state": {}
     },
     "ec0a8b9534304715b2bb07db46f676fd": {
      "model_module": "@jupyter-widgets/controls",
      "model_module_version": "1.5.0",
      "model_name": "HBoxModel",
      "state": {
       "children": [
        "IPY_MODEL_4cd44552f1c74407855cf630b0dda913",
        "IPY_MODEL_b2fb93d6e2734502b742860c78777bfe",
        "IPY_MODEL_62ffd0e5adf0467eaa8447d685bed061"
       ],
       "layout": "IPY_MODEL_90b1460eeee3435996df0cb5616e35de"
      }
     }
    },
    "version_major": 2,
    "version_minor": 0
   }
  }
 },
 "nbformat": 4,
 "nbformat_minor": 4
}
