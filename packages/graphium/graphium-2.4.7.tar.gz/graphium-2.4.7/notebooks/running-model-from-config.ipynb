{
 "cells": [
  {
   "cell_type": "code",
   "execution_count": 1,
   "metadata": {},
   "outputs": [
    {
     "name": "stderr",
     "output_type": "stream",
     "text": [
      "Using backend: pytorch\n"
     ]
    }
   ],
   "source": [
    "%load_ext autoreload\n",
    "%autoreload 2\n",
    "\n",
    "# General imports\n",
    "import os\n",
    "from os.path import dirname, abspath\n",
    "import yaml\n",
    "from copy import deepcopy\n",
    "from omegaconf import DictConfig, OmegaConf\n",
    "\n",
    "\n",
    "# Current project imports\n",
    "import graphium\n",
    "from graphium.utils.config_loader import (\n",
    "    config_load_constants,\n",
    "    config_load_dataset,\n",
    "    config_load_architecture,\n",
    "    config_load_metrics,\n",
    "    config_load_predictor,\n",
    "    config_load_training,\n",
    ")\n"
   ]
  },
  {
   "cell_type": "markdown",
   "metadata": {},
   "source": [
    "## Read the config file"
   ]
  },
  {
   "cell_type": "code",
   "execution_count": 2,
   "metadata": {},
   "outputs": [
    {
     "name": "stderr",
     "output_type": "stream",
     "text": [
      "/home/dominique/anaconda3/envs/graphium_env/lib/python3.7/site-packages/torch/cuda/__init__.py:52: UserWarning: CUDA initialization: Found no NVIDIA driver on your system. Please check that you have an NVIDIA GPU and installed a driver from http://www.nvidia.com/Download/index.aspx (Triggered internally at  /opt/conda/conda-bld/pytorch_1607370156314/work/c10/cuda/CUDAFunctions.cpp:100.)\n",
      "  return torch._C._cuda_getDeviceCount() > 0\n"
     ]
    }
   ],
   "source": [
    "# Set up the working directory\n",
    "MAIN_DIR = dirname(dirname(abspath(graphium.__file__)))\n",
    "os.chdir(MAIN_DIR)\n",
    "\n",
    "with open(os.path.join(MAIN_DIR, \"expts/config_micro_ZINC.yaml\"), \"r\") as f:\n",
    "    cfg = yaml.safe_load(f)\n",
    "\n",
    "cfg = dict(deepcopy(cfg))\n",
    "\n",
    "# Get the general parameters and generate the train/val/test datasets\n",
    "data_device, model_device, dtype, exp_name, seed, raise_train_error = config_load_constants(\n",
    "    **cfg[\"constants\"], main_dir=MAIN_DIR\n",
    ")"
   ]
  },
  {
   "cell_type": "markdown",
   "metadata": {},
   "source": [
    "## Load a dataset"
   ]
  },
  {
   "cell_type": "code",
   "execution_count": 3,
   "metadata": {},
   "outputs": [
    {
     "name": "stdout",
     "output_type": "stream",
     "text": [
      "\n",
      "datamodule:\n",
      " name: DGLFromSmilesDataModule\n",
      "len: 1000\n",
      "batch_size_training: 128\n",
      "batch_size_inference: 256\n",
      "num_node_feats: 55\n",
      "num_edge_feats: 13\n",
      "collate_fn: graphium_collate_fn\n",
      "featurization:\n",
      "  atom_property_list_onehot:\n",
      "  - atomic-number\n",
      "  - valence\n",
      "  atom_property_list_float:\n",
      "  - mass\n",
      "  - electronegativity\n",
      "  - in-ring\n",
      "  edge_property_list:\n",
      "  - bond-type-onehot\n",
      "  - stereo\n",
      "  - in-ring\n",
      "  add_self_loop: false\n",
      "  explicit_H: false\n",
      "  use_bonds_weights: false\n",
      " \n",
      "\n"
     ]
    }
   ],
   "source": [
    "\n",
    "# Load and initialize the dataset\n",
    "datamodule = config_load_dataset(**cfg[\"datasets\"], main_dir=MAIN_DIR,)\n",
    "print(\"\\ndatamodule:\\n\", datamodule, \"\\n\")\n"
   ]
  },
  {
   "cell_type": "code",
   "execution_count": 4,
   "metadata": {},
   "outputs": [
    {
     "name": "stdout",
     "output_type": "stream",
     "text": [
      "\n",
      "model:\n",
      " DGL_GNN\n",
      "---------\n",
      "    pre-trans-NN(depth=1, ResidualConnectionNone)\n",
      "        [FCLayer[55 -> 32] -> Linear(32)\n",
      "    \n",
      "    main-GNN(depth=4, ResidualConnectionSimple(skip_steps=1))\n",
      "        PNAMessagePassingLayer[32 -> 32 -> 32 -> 32 -> 32]\n",
      "        -> Pooling(sum) -> FCLayer(32 -> 32, activation=None)\n",
      "    \n",
      "    post-trans-NN(depth=2, ResidualConnectionNone)\n",
      "        [FCLayer[32 -> 32 -> 32] -> Linear(32) \n",
      "\n"
     ]
    }
   ],
   "source": [
    "# Initialize the network\n",
    "model = config_load_architecture(\n",
    "    **cfg[\"architecture\"],\n",
    "    in_dim_nodes=datamodule.num_node_feats_with_positional_encoding,\n",
    "    in_dim_edges=datamodule.num_edge_feats\n",
    ")\n",
    "\n",
    "print(\"\\nmodel:\\n\", model, \"\\n\")"
   ]
  },
  {
   "cell_type": "code",
   "execution_count": 5,
   "metadata": {},
   "outputs": [
    {
     "name": "stdout",
     "output_type": "stream",
     "text": [
      "{'mae': mean_absolute_error, 'pearsonr': pearsonr, 'f1 > 5': f1(>5), 'precision > 5': precision(>5), 'auroc > 5': auroc(>5)}\n"
     ]
    }
   ],
   "source": [
    "metrics = config_load_metrics(cfg[\"metrics\"])\n",
    "print(metrics)"
   ]
  },
  {
   "cell_type": "code",
   "execution_count": null,
   "metadata": {},
   "outputs": [],
   "source": []
  }
 ],
 "metadata": {
  "kernelspec": {
   "display_name": "Python 3",
   "language": "python",
   "name": "python3"
  },
  "language_info": {
   "codemirror_mode": {
    "name": "ipython",
    "version": 3
   },
   "file_extension": ".py",
   "mimetype": "text/x-python",
   "name": "python",
   "nbconvert_exporter": "python",
   "pygments_lexer": "ipython3",
   "version": "3.8.6"
  },
  "widgets": {
   "application/vnd.jupyter.widget-state+json": {
    "state": {},
    "version_major": 2,
    "version_minor": 0
   }
  }
 },
 "nbformat": 4,
 "nbformat_minor": 4
}
