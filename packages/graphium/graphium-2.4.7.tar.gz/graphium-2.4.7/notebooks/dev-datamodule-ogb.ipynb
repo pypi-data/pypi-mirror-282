{
 "cells": [
  {
   "attachments": {},
   "cell_type": "markdown",
   "metadata": {},
   "source": [
    "```yaml\n",
    "data:\n",
    "  module_type: \"GraphOGBDataModule\"\n",
    "  args:\n",
    "    cache_data_path: null\n",
    "  \n",
    "    dataset_name: \"ogbg-moltox21\"\n",
    "  \n",
    "    batch_size_training: 16\n",
    "    batch_size_inference: 16\n",
    "  \n",
    "    featurization:\n",
    "      atom_property_list_float: []\n",
    "      atom_property_list_onehot: [\"atomic-number\", \"degree\"]\n",
    "      edge_property_list: [\"ring\", \"bond-type-onehot\"]\n",
    "      add_self_loop: false\n",
    "      use_bonds_weights: false\n",
    "      explicit_H: false\n",
    "```"
   ]
  },
  {
   "cell_type": "code",
   "execution_count": 2,
   "metadata": {},
   "outputs": [
    {
     "name": "stderr",
     "output_type": "stream",
     "text": [
      "Using backend: pytorch\n"
     ]
    }
   ],
   "source": [
    "%load_ext autoreload\n",
    "%autoreload 2\n",
    "\n",
    "import pathlib\n",
    "import functools\n",
    "import tempfile\n",
    "import importlib\n",
    "\n",
    "import numpy as np\n",
    "import pandas as pd\n",
    "import lightning\n",
    "import torch\n",
    "import datamol as dm\n",
    "\n",
    "import graphium"
   ]
  },
  {
   "cell_type": "code",
   "execution_count": 3,
   "metadata": {},
   "outputs": [
    {
     "name": "stderr",
     "output_type": "stream",
     "text": [
      "2021-04-15 14:08:11.044 | INFO     | graphium.data.datamodule:_load_dataset:585 - Loading /home/hadim/.cache/graphium/ogb/freesolv/mapping/mol.csv.gz in memory.\n",
      "2021-04-15 14:08:11.053 | INFO     | graphium.data.datamodule:_load_dataset:598 - Saving splits to /home/hadim/.cache/graphium/ogb/freesolv/split/scaffold.csv.gz\n"
     ]
    },
    {
     "data": {
      "text/plain": [
       "dataset_name: ogbg-molfreesolv\n",
       "name: GraphOGBDataModule\n",
       "len: 642\n",
       "batch_size_training: 16\n",
       "batch_size_inference: 16\n",
       "num_node_feats: 50\n",
       "num_edge_feats: 5\n",
       "collate_fn: graphium_collate_fn\n",
       "featurization:\n",
       "  atom_property_list_float: []\n",
       "  atom_property_list_onehot:\n",
       "  - atomic-number\n",
       "  - degree\n",
       "  edge_property_list:\n",
       "  - bond-type-onehot\n",
       "  add_self_loop: false\n",
       "  use_bonds_weights: false\n",
       "  explicit_H: false"
      ]
     },
     "execution_count": 3,
     "metadata": {},
     "output_type": "execute_result"
    }
   ],
   "source": [
    "dataset_names = [\"ogbg-molhiv\", \"ogbg-molpcba\", \"ogbg-moltox21\", \"ogbg-molfreesolv\"]\n",
    "dataset_name = dataset_names[3]\n",
    "\n",
    "# Setup a temporary cache file. Only for\n",
    "# demo purposes, use a known path in prod.\n",
    "cache_data_path = pathlib.Path(tempfile.mkdtemp()) / \"cache.pkl\"\n",
    "\n",
    "# Setup the featurization\n",
    "featurization_args = {}\n",
    "featurization_args[\"atom_property_list_float\"] = []  # [\"weight\", \"valence\"]\n",
    "featurization_args[\"atom_property_list_onehot\"] = [\"atomic-number\", \"degree\"]\n",
    "featurization_args[\"edge_property_list\"] = [\"bond-type-onehot\"]\n",
    "featurization_args[\"add_self_loop\"] = False\n",
    "featurization_args[\"use_bonds_weights\"] = False\n",
    "featurization_args[\"explicit_H\"] = False\n",
    "\n",
    "# Config for datamodule\n",
    "dm_args = {}\n",
    "dm_args[\"dataset_name\"] = dataset_name\n",
    "dm_args[\"cache_data_path\"] = cache_data_path\n",
    "dm_args[\"featurization\"] = featurization_args\n",
    "dm_args[\"batch_size_training\"] = 16\n",
    "dm_args[\"batch_size_inference\"] = 16\n",
    "dm_args[\"num_workers\"] = 0\n",
    "dm_args[\"pin_memory\"] = True\n",
    "dm_args[\"featurization_n_jobs\"] = 16\n",
    "dm_args[\"featurization_progress\"] = True\n",
    "\n",
    "ds = graphium.data.GraphOGBDataModule(**dm_args)\n",
    "ds"
   ]
  },
  {
   "cell_type": "code",
   "execution_count": 4,
   "metadata": {},
   "outputs": [
    {
     "data": {
      "text/plain": [
       "{'num tasks': '1',\n",
       " 'eval metric': 'rmse',\n",
       " 'download_name': 'freesolv',\n",
       " 'version': '1',\n",
       " 'url': 'http://snap.stanford.edu/ogb/data/graphproppred/csv_mol_download/freesolv.zip',\n",
       " 'add_inverse_edge': 'True',\n",
       " 'data type': 'mol',\n",
       " 'has_node_attr': 'True',\n",
       " 'has_edge_attr': 'True',\n",
       " 'task type': 'regression',\n",
       " 'num classes': '-1',\n",
       " 'split': 'scaffold',\n",
       " 'additional node files': 'None',\n",
       " 'additional edge files': 'None',\n",
       " 'binary': 'False'}"
      ]
     },
     "execution_count": 4,
     "metadata": {},
     "output_type": "execute_result"
    }
   ],
   "source": [
    "# Access to the OGB metadata with\n",
    "ds.metadata"
   ]
  },
  {
   "cell_type": "code",
   "execution_count": 5,
   "metadata": {},
   "outputs": [
    {
     "name": "stderr",
     "output_type": "stream",
     "text": [
      "2021-04-15 14:08:12.006 | INFO     | graphium.data.datamodule:prepare_data:291 - Prepare dataset with 642 data points.\n"
     ]
    },
    {
     "data": {
      "application/vnd.jupyter.widget-view+json": {
       "model_id": "f6fe0d8a6ba34cb58d598b57dd10eee3",
       "version_major": 2,
       "version_minor": 0
      },
      "text/plain": [
       "  0%|          | 0/642 [00:00<?, ?it/s]"
      ]
     },
     "metadata": {},
     "output_type": "display_data"
    },
    {
     "name": "stderr",
     "output_type": "stream",
     "text": [
      "2021-04-15 14:08:14.918 | INFO     | graphium.data.datamodule:prepare_data:326 - Write prepared data to /tmp/tmppuh1m6te/cache.pkl\n"
     ]
    }
   ],
   "source": [
    "# Load and prepare the data\n",
    "ds.prepare_data()\n",
    "\n",
    "# Create the split torch datasets\n",
    "ds.setup()"
   ]
  },
  {
   "cell_type": "code",
   "execution_count": 6,
   "metadata": {},
   "outputs": [
    {
     "data": {
      "text/plain": [
       "{'smiles': 'CN(C)C(=O)c1ccc(cc1)OC',\n",
       " 'indices': '4-methoxy-N,N-dimethyl-benzamide',\n",
       " 'features': Graph(num_nodes=13, num_edges=26,\n",
       "       ndata_schemes={'feat': Scheme(shape=(50,), dtype=torch.float32)}\n",
       "       edata_schemes={'feat': Scheme(shape=(5,), dtype=torch.float32)}),\n",
       " 'labels': array([-11.01])}"
      ]
     },
     "execution_count": 6,
     "metadata": {},
     "output_type": "execute_result"
    }
   ],
   "source": [
    "ds.train_ds[0]"
   ]
  },
  {
   "cell_type": "code",
   "execution_count": 7,
   "metadata": {},
   "outputs": [
    {
     "data": {
      "text/plain": [
       "{'smiles': ['CCCCO[N+](=O)[O-]',\n",
       "  'CC(=O)OC',\n",
       "  'CC(=O)Oc1ccccc1C(=O)O',\n",
       "  'CCl',\n",
       "  'CC(C)(C)c1ccc(cc1)O',\n",
       "  'C(CBr)Br',\n",
       "  'c1ccc(cc1)C(=O)N',\n",
       "  'CCCCC[N+](=O)[O-]',\n",
       "  'CCCCBr',\n",
       "  'c1cc(c(cc1c2ccc(cc2F)F)C(=O)O)O',\n",
       "  'c1ccc(cc1)C=O',\n",
       "  'CCCc1ccc(c(c1)OC)O',\n",
       "  'CC[C@@H](C)CO',\n",
       "  'CCOc1ccccc1',\n",
       "  'c1c(c(cc(c1Cl)Cl)Cl)Cl',\n",
       "  'C(CO[N+](=O)[O-])CO[N+](=O)[O-]'],\n",
       " 'indices': ['butyl nitrate',\n",
       "  'methyl acetate',\n",
       "  'acetylsalicylic acid',\n",
       "  'chloromethane',\n",
       "  '4-tert-butylphenol',\n",
       "  '1,2-dibromoethane',\n",
       "  'benzamide',\n",
       "  '1-nitropentane',\n",
       "  '1-bromobutane',\n",
       "  'diflunisal',\n",
       "  'benzaldehyde',\n",
       "  '4-propylguaiacol',\n",
       "  '2-methylbutan-1-ol',\n",
       "  'ethoxybenzene',\n",
       "  '1,2,4,5-tetrachlorobenzene',\n",
       "  '3-nitrooxypropyl nitrate'],\n",
       " 'features': Graph(num_nodes=139, num_edges=264,\n",
       "       ndata_schemes={'feat': Scheme(shape=(50,), dtype=torch.float32)}\n",
       "       edata_schemes={'feat': Scheme(shape=(5,), dtype=torch.float32)}),\n",
       " 'labels': tensor([[ -2.0900],\n",
       "         [ -3.1300],\n",
       "         [ -9.9400],\n",
       "         [ -0.5500],\n",
       "         [ -5.9100],\n",
       "         [ -2.3300],\n",
       "         [-11.0000],\n",
       "         [ -2.8200],\n",
       "         [ -0.4000],\n",
       "         [ -9.4000],\n",
       "         [ -4.0200],\n",
       "         [ -5.2600],\n",
       "         [ -4.4200],\n",
       "         [ -2.2200],\n",
       "         [ -1.3400],\n",
       "         [ -4.8000]], dtype=torch.float64)}"
      ]
     },
     "execution_count": 7,
     "metadata": {},
     "output_type": "execute_result"
    }
   ],
   "source": [
    "# Load a dataloader and get the first batch from it\n",
    "dl = ds.train_dataloader()\n",
    "it = iter(dl)\n",
    "batch = next(it)\n",
    "batch"
   ]
  },
  {
   "cell_type": "code",
   "execution_count": null,
   "metadata": {},
   "outputs": [],
   "source": []
  }
 ],
 "metadata": {
  "kernelspec": {
   "display_name": "Python [conda env:graphium]",
   "language": "python",
   "name": "conda-env-graphium-py"
  },
  "language_info": {
   "codemirror_mode": {
    "name": "ipython",
    "version": 3
   },
   "file_extension": ".py",
   "mimetype": "text/x-python",
   "name": "python",
   "nbconvert_exporter": "python",
   "pygments_lexer": "ipython3",
   "version": "3.8.6"
  },
  "widgets": {
   "application/vnd.jupyter.widget-state+json": {
    "state": {
     "2d051530f9634105b12d36afc5d11654": {
      "model_module": "@jupyter-widgets/controls",
      "model_module_version": "1.5.0",
      "model_name": "ProgressStyleModel",
      "state": {
       "description_width": ""
      }
     },
     "32e5f96ac5fd4c16b62e4368fb992809": {
      "model_module": "@jupyter-widgets/base",
      "model_module_version": "1.2.0",
      "model_name": "LayoutModel",
      "state": {}
     },
     "610f08033bcf44398b601e0d7e713711": {
      "model_module": "@jupyter-widgets/controls",
      "model_module_version": "1.5.0",
      "model_name": "HTMLModel",
      "state": {
       "layout": "IPY_MODEL_c24b1f15dd104d289e1aeab380edab1c",
       "style": "IPY_MODEL_f65d6dd792de4a4c897faeb334c437da",
       "value": " 642/642 [00:02&lt;00:00, 845.57it/s]"
      }
     },
     "6b74cba4cbce45f287badc40b74a86f8": {
      "model_module": "@jupyter-widgets/base",
      "model_module_version": "1.2.0",
      "model_name": "LayoutModel",
      "state": {}
     },
     "8c764c51e7ea4d50805261a23d038659": {
      "model_module": "@jupyter-widgets/controls",
      "model_module_version": "1.5.0",
      "model_name": "FloatProgressModel",
      "state": {
       "bar_style": "success",
       "layout": "IPY_MODEL_e1dbad6e70ae4c7ba9c7b766bc07723a",
       "max": 642,
       "style": "IPY_MODEL_2d051530f9634105b12d36afc5d11654",
       "value": 642
      }
     },
     "a782964c18c442b78224af256bc97c8f": {
      "model_module": "@jupyter-widgets/controls",
      "model_module_version": "1.5.0",
      "model_name": "HTMLModel",
      "state": {
       "layout": "IPY_MODEL_6b74cba4cbce45f287badc40b74a86f8",
       "style": "IPY_MODEL_bb9a948a917f4dc9bb2c5801d69bf912",
       "value": "100%"
      }
     },
     "bb9a948a917f4dc9bb2c5801d69bf912": {
      "model_module": "@jupyter-widgets/controls",
      "model_module_version": "1.5.0",
      "model_name": "DescriptionStyleModel",
      "state": {
       "description_width": ""
      }
     },
     "c24b1f15dd104d289e1aeab380edab1c": {
      "model_module": "@jupyter-widgets/base",
      "model_module_version": "1.2.0",
      "model_name": "LayoutModel",
      "state": {}
     },
     "e1dbad6e70ae4c7ba9c7b766bc07723a": {
      "model_module": "@jupyter-widgets/base",
      "model_module_version": "1.2.0",
      "model_name": "LayoutModel",
      "state": {}
     },
     "f65d6dd792de4a4c897faeb334c437da": {
      "model_module": "@jupyter-widgets/controls",
      "model_module_version": "1.5.0",
      "model_name": "DescriptionStyleModel",
      "state": {
       "description_width": ""
      }
     },
     "f6fe0d8a6ba34cb58d598b57dd10eee3": {
      "model_module": "@jupyter-widgets/controls",
      "model_module_version": "1.5.0",
      "model_name": "HBoxModel",
      "state": {
       "children": [
        "IPY_MODEL_a782964c18c442b78224af256bc97c8f",
        "IPY_MODEL_8c764c51e7ea4d50805261a23d038659",
        "IPY_MODEL_610f08033bcf44398b601e0d7e713711"
       ],
       "layout": "IPY_MODEL_32e5f96ac5fd4c16b62e4368fb992809"
      }
     }
    },
    "version_major": 2,
    "version_minor": 0
   }
  }
 },
 "nbformat": 4,
 "nbformat_minor": 4
}
