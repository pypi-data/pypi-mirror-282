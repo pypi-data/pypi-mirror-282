{
 "cells": [
  {
   "cell_type": "code",
   "execution_count": 1,
   "metadata": {},
   "outputs": [
    {
     "name": "stderr",
     "output_type": "stream",
     "text": [
      "Using backend: pytorch\n",
      "/home/hadim/local/conda/envs/graphium/lib/python3.8/site-packages/ray/autoscaler/_private/cli_logger.py:57: FutureWarning: Not all Ray CLI dependencies were found. In Ray 1.4+, the Ray CLI, autoscaler, and dashboard will only be usable via `pip install 'ray[default]'`. Please update your install command.\n",
      "  warnings.warn(\n"
     ]
    }
   ],
   "source": [
    "%load_ext autoreload\n",
    "%autoreload 2\n",
    "\n",
    "import pathlib\n",
    "import functools\n",
    "import tempfile\n",
    "\n",
    "import numpy as np\n",
    "import lightning\n",
    "import torch\n",
    "import datamol as dm\n",
    "\n",
    "import graphium"
   ]
  },
  {
   "cell_type": "code",
   "execution_count": 6,
   "metadata": {},
   "outputs": [],
   "source": [
    "# Setup a temporary cache file. Only for\n",
    "# demo purposes, use a known path in prod.\n",
    "cache_data_path = pathlib.Path(tempfile.mkdtemp()) / \"cache.pkl\"\n",
    "cache_data_path = \"/home/hadim/test-cache.pkl\"\n",
    "\n",
    "# Load a dataframe\n",
    "df = graphium.data.load_tiny_zinc()\n",
    "df.head()\n",
    "\n",
    "# Setup the featurization\n",
    "featurization_args = {}\n",
    "featurization_args[\"atom_property_list_onehot\"] = [\"atomic-number\", \"valence\"]\n",
    "featurization_args[\"atom_property_list_float\"] = [\"mass\", \"electronegativity\", \"in-ring\"]\n",
    "featurization_args[\"edge_property_list\"] = [\"bond-type-onehot\", \"stereo\", \"in-ring\"]\n",
    "featurization_args[\"add_self_loop\"] = False\n",
    "featurization_args[\"use_bonds_weights\"] = False\n",
    "featurization_args[\"explicit_H\"] = False\n",
    "\n",
    "# Config for datamodule\n",
    "dm_args = {}\n",
    "dm_args[\"df\"] = df\n",
    "dm_args[\"cache_data_path\"] = cache_data_path\n",
    "dm_args[\"featurization\"] = featurization_args\n",
    "dm_args[\"smiles_col\"] = \"SMILES\"\n",
    "dm_args[\"label_cols\"] = [\"SA\"]\n",
    "dm_args[\"split_val\"] = 0.2\n",
    "dm_args[\"split_test\"] = 0.2\n",
    "dm_args[\"split_seed\"] = 19\n",
    "dm_args[\"batch_size_training\"] = 16\n",
    "dm_args[\"batch_size_inference\"] = 16\n",
    "dm_args[\"num_workers\"] = 0\n",
    "dm_args[\"pin_memory\"] = True\n",
    "dm_args[\"featurization_n_jobs\"] = 16\n",
    "dm_args[\"featurization_progress\"] = True\n",
    "\n",
    "datam = graphium.data.DGLFromSmilesDataModule(**dm_args)\n",
    "# datam"
   ]
  },
  {
   "cell_type": "code",
   "execution_count": 7,
   "metadata": {},
   "outputs": [
    {
     "name": "stderr",
     "output_type": "stream",
     "text": [
      "2021-04-30 12:18:14.443 | INFO     | graphium.data.datamodule:prepare_data:326 - Prepare dataset with 100 data points.\n"
     ]
    },
    {
     "data": {
      "application/vnd.jupyter.widget-view+json": {
       "model_id": "44fb42081f30493b83381737c36b749b",
       "version_major": 2,
       "version_minor": 0
      },
      "text/plain": [
       "  0%|          | 0/100 [00:00<?, ?it/s]"
      ]
     },
     "metadata": {},
     "output_type": "display_data"
    },
    {
     "name": "stderr",
     "output_type": "stream",
     "text": [
      "2021-04-30 12:18:14.538 | INFO     | graphium.data.datamodule:prepare_data:364 - Write prepared data to /home/hadim/test-cache.pkl\n"
     ]
    }
   ],
   "source": [
    "# Load and prepare the data\n",
    "datam.prepare_data()\n",
    "\n",
    "# Create the split torch datasets\n",
    "datam.setup()"
   ]
  },
  {
   "cell_type": "code",
   "execution_count": 7,
   "metadata": {},
   "outputs": [
    {
     "data": {
      "text/plain": [
       "{'smiles': ['c1cc2c(cc1N[C@@H]1CCOC3(CCC3)C1)CCC2',\n",
       "  'CC(=O)N1CC[C@@H]([NH2+][C@@H](C)CSCC(C)C)C1',\n",
       "  'Cc1ccc(-c2nc3ccc(C)c(C)c3[nH]2)nc1',\n",
       "  'CCOC[C@H](O)[C@](C)(CC)[NH+]1CCCC1',\n",
       "  'Cc1cc(CC(=O)N[C@H](c2ccc(F)cc2)C2CCC2)no1',\n",
       "  'CCc1ccc(C(=O)/C(=C(/S)NC2CC2)[n+]2ccc(CC)cc2)cc1',\n",
       "  'Cc1ccc(NC(=O)c2ccc(F)cc2F)cc1S(=O)(=O)Nc1ccc(Cl)cc1',\n",
       "  'CC#CCCC(=O)Nc1cccc2c1C(=O)c1ccccc1C2=O',\n",
       "  'CCOc1cc(/C=C(\\\\C#N)C(=O)c2c[nH]c3cc(Cl)ccc23)ccc1OC',\n",
       "  'CNC(=O)[C@@H]1CCC[NH+]1Cc1ccc(C)c(F)c1',\n",
       "  'CC(C)(C)OC(=O)N[C@H]1CCN(c2cc(-c3cccs3)n[nH]2)C1',\n",
       "  'Cc1nn(-c2ccccc2)c(O)c1/C=[NH+]/Cc1ccncc1',\n",
       "  'COCC[NH+](C)Cc1c(C)cc(C)c(C(C)=O)c1C',\n",
       "  'Cc1nc(C)c(S(=O)(=O)/N=C(\\\\[O-])C[C@H]2CCCO2)s1',\n",
       "  'COc1cccc(CN2CCC[NH+](CC(=O)Nc3ccc(F)cc3)S2(=O)=O)c1',\n",
       "  'COc1cc(F)cc(CNC(=O)[C@H]2CCCN2C(=O)Cc2ccccc2)c1'],\n",
       " 'features': Graph(num_nodes=352, num_edges=754,\n",
       "       ndata_schemes={'feat': Scheme(shape=(50,), dtype=torch.float32)}\n",
       "       edata_schemes={'feat': Scheme(shape=(6,), dtype=torch.float32)}),\n",
       " 'labels': tensor([[3.3631],\n",
       "         [4.4837],\n",
       "         [2.3425],\n",
       "         [5.1279],\n",
       "         [2.6651],\n",
       "         [2.7752],\n",
       "         [1.9474],\n",
       "         [2.2990],\n",
       "         [2.3508],\n",
       "         [4.3913],\n",
       "         [3.2280],\n",
       "         [3.1176],\n",
       "         [3.9551],\n",
       "         [3.8130],\n",
       "         [3.5463],\n",
       "         [2.4272]], dtype=torch.float64)}"
      ]
     },
     "execution_count": 7,
     "metadata": {},
     "output_type": "execute_result"
    }
   ],
   "source": [
    "# Load a dataloader and get the first batch from it\n",
    "dl = dm.train_dataloader()\n",
    "it = iter(dl)\n",
    "batch = next(it)\n",
    "batch"
   ]
  },
  {
   "attachments": {},
   "cell_type": "markdown",
   "metadata": {},
   "source": [
    "---\n",
    "\n",
    "## Launch a training\n",
    "\n",
    "In `graphium.cli.train` I have added a `click` CLI command that take a config file as input and build the datamodule. Once I am done with the PL module I will complete the command.\n",
    "\n",
    "The way to use it is quite simple, you need to install graphium with `pip install -e .` (omit`-e` in prod) and then:\n",
    "\n",
    "```bash\n",
    "graphium train -c my_config.yaml\n",
    "```\n",
    "\n",
    "It's not here for now but usually I \"augment\" the CLI command with various config key you might want to set without having to modify the config file itself:\n",
    "\n",
    "```bash\n",
    "graphium train -c my_config.yaml --training-path /home/hadim/data/graphium/runs/exp_1\n",
    "```\n",
    "\n",
    "Later the same strategy could be done to launch an hparams tuning run (with a config file as above + a config file defning the search space).\n",
    "\n",
    "```bash\n",
    "graphium tune -c my_config.yaml --tune-config tuning_space.yaml\n",
    "```"
   ]
  },
  {
   "cell_type": "code",
   "execution_count": null,
   "metadata": {},
   "outputs": [],
   "source": []
  }
 ],
 "metadata": {
  "kernelspec": {
   "display_name": "Python [conda env:graphium]",
   "language": "python",
   "name": "conda-env-graphium-py"
  },
  "language_info": {
   "codemirror_mode": {
    "name": "ipython",
    "version": 3
   },
   "file_extension": ".py",
   "mimetype": "text/x-python",
   "name": "python",
   "nbconvert_exporter": "python",
   "pygments_lexer": "ipython3",
   "version": "3.8.8"
  },
  "widgets": {
   "application/vnd.jupyter.widget-state+json": {
    "state": {
     "0030b0ce3c8449ef85fa60d666d1b0f2": {
      "model_module": "@jupyter-widgets/controls",
      "model_module_version": "1.5.0",
      "model_name": "HBoxModel",
      "state": {
       "children": [
        "IPY_MODEL_ddbdfc31d8d5490fb76222ebc9a24acd",
        "IPY_MODEL_6e4d111760234fbdb4917b08658d3051",
        "IPY_MODEL_e46ddaffeb8e49a7bc5567c88909e13d"
       ],
       "layout": "IPY_MODEL_eba0f18e613146399666443cbc2c076b"
      }
     },
     "018709257e0e4e70acb33fa130116082": {
      "model_module": "@jupyter-widgets/base",
      "model_module_version": "1.2.0",
      "model_name": "LayoutModel",
      "state": {}
     },
     "0610cb6d623d4803bf0f9f815fab0920": {
      "model_module": "@jupyter-widgets/base",
      "model_module_version": "1.2.0",
      "model_name": "LayoutModel",
      "state": {}
     },
     "0d0ffe3e74d644d1925fcaedddf0ece3": {
      "model_module": "@jupyter-widgets/base",
      "model_module_version": "1.2.0",
      "model_name": "LayoutModel",
      "state": {}
     },
     "131843a571704dee959fc517d8c34418": {
      "model_module": "@jupyter-widgets/controls",
      "model_module_version": "1.5.0",
      "model_name": "DescriptionStyleModel",
      "state": {
       "description_width": ""
      }
     },
     "3d49c4343fb94ad2a21e3a7f7a46b618": {
      "model_module": "@jupyter-widgets/controls",
      "model_module_version": "1.5.0",
      "model_name": "ProgressStyleModel",
      "state": {
       "description_width": ""
      }
     },
     "44fb42081f30493b83381737c36b749b": {
      "model_module": "@jupyter-widgets/controls",
      "model_module_version": "1.5.0",
      "model_name": "HBoxModel",
      "state": {
       "children": [
        "IPY_MODEL_612f570826554086b613aea51d44f859",
        "IPY_MODEL_ec5b76e0bc2e48eb8c065e97fe0f3202",
        "IPY_MODEL_58ac0b8fac834dc7b09621fd42f16a7e"
       ],
       "layout": "IPY_MODEL_018709257e0e4e70acb33fa130116082"
      }
     },
     "5400f0683b3c4a3087f1e2f01ff7bb1e": {
      "model_module": "@jupyter-widgets/controls",
      "model_module_version": "1.5.0",
      "model_name": "DescriptionStyleModel",
      "state": {
       "description_width": ""
      }
     },
     "58ac0b8fac834dc7b09621fd42f16a7e": {
      "model_module": "@jupyter-widgets/controls",
      "model_module_version": "1.5.0",
      "model_name": "HTMLModel",
      "state": {
       "layout": "IPY_MODEL_0610cb6d623d4803bf0f9f815fab0920",
       "style": "IPY_MODEL_f8a5df3c91a24f8d93f85ebf9d0238a6",
       "value": " 100/100 [00:00&lt;00:00, 1098.73it/s]"
      }
     },
     "612f570826554086b613aea51d44f859": {
      "model_module": "@jupyter-widgets/controls",
      "model_module_version": "1.5.0",
      "model_name": "HTMLModel",
      "state": {
       "layout": "IPY_MODEL_69a0f2f7d9e44b00a36397d27403ffee",
       "style": "IPY_MODEL_131843a571704dee959fc517d8c34418",
       "value": "100%"
      }
     },
     "69a0f2f7d9e44b00a36397d27403ffee": {
      "model_module": "@jupyter-widgets/base",
      "model_module_version": "1.2.0",
      "model_name": "LayoutModel",
      "state": {}
     },
     "6e4d111760234fbdb4917b08658d3051": {
      "model_module": "@jupyter-widgets/controls",
      "model_module_version": "1.5.0",
      "model_name": "FloatProgressModel",
      "state": {
       "bar_style": "success",
       "layout": "IPY_MODEL_a478bfea4d2341c58800220f4d103ccf",
       "style": "IPY_MODEL_3d49c4343fb94ad2a21e3a7f7a46b618",
       "value": 100
      }
     },
     "8c2f56fda6ba4a178adb1972b14b798b": {
      "model_module": "@jupyter-widgets/controls",
      "model_module_version": "1.5.0",
      "model_name": "DescriptionStyleModel",
      "state": {
       "description_width": ""
      }
     },
     "a478bfea4d2341c58800220f4d103ccf": {
      "model_module": "@jupyter-widgets/base",
      "model_module_version": "1.2.0",
      "model_name": "LayoutModel",
      "state": {}
     },
     "c4b8f1c9733c48dca039c687273f0d08": {
      "model_module": "@jupyter-widgets/base",
      "model_module_version": "1.2.0",
      "model_name": "LayoutModel",
      "state": {}
     },
     "ddb4d8cfeec84be2967e79056b2a505e": {
      "model_module": "@jupyter-widgets/controls",
      "model_module_version": "1.5.0",
      "model_name": "ProgressStyleModel",
      "state": {
       "description_width": ""
      }
     },
     "ddbdfc31d8d5490fb76222ebc9a24acd": {
      "model_module": "@jupyter-widgets/controls",
      "model_module_version": "1.5.0",
      "model_name": "HTMLModel",
      "state": {
       "layout": "IPY_MODEL_c4b8f1c9733c48dca039c687273f0d08",
       "style": "IPY_MODEL_5400f0683b3c4a3087f1e2f01ff7bb1e",
       "value": "100%"
      }
     },
     "e163ebc8b9fb485aa3dcb6d1e12d15b9": {
      "model_module": "@jupyter-widgets/base",
      "model_module_version": "1.2.0",
      "model_name": "LayoutModel",
      "state": {}
     },
     "e46ddaffeb8e49a7bc5567c88909e13d": {
      "model_module": "@jupyter-widgets/controls",
      "model_module_version": "1.5.0",
      "model_name": "HTMLModel",
      "state": {
       "layout": "IPY_MODEL_e163ebc8b9fb485aa3dcb6d1e12d15b9",
       "style": "IPY_MODEL_8c2f56fda6ba4a178adb1972b14b798b",
       "value": " 100/100 [00:03&lt;00:00, 21.48it/s]"
      }
     },
     "eba0f18e613146399666443cbc2c076b": {
      "model_module": "@jupyter-widgets/base",
      "model_module_version": "1.2.0",
      "model_name": "LayoutModel",
      "state": {}
     },
     "ec5b76e0bc2e48eb8c065e97fe0f3202": {
      "model_module": "@jupyter-widgets/controls",
      "model_module_version": "1.5.0",
      "model_name": "FloatProgressModel",
      "state": {
       "bar_style": "success",
       "layout": "IPY_MODEL_0d0ffe3e74d644d1925fcaedddf0ece3",
       "style": "IPY_MODEL_ddb4d8cfeec84be2967e79056b2a505e",
       "value": 100
      }
     },
     "f8a5df3c91a24f8d93f85ebf9d0238a6": {
      "model_module": "@jupyter-widgets/controls",
      "model_module_version": "1.5.0",
      "model_name": "DescriptionStyleModel",
      "state": {
       "description_width": ""
      }
     }
    },
    "version_major": 2,
    "version_minor": 0
   }
  }
 },
 "nbformat": 4,
 "nbformat_minor": 4
}
