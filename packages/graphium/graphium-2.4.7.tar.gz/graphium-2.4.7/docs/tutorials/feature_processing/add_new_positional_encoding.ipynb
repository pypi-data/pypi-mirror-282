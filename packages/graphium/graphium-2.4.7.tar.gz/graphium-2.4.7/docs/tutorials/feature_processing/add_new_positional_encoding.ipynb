{
 "cells": [
  {
   "cell_type": "markdown",
   "metadata": {},
   "source": [
    "# Add new positional encoding\n",
    "\n",
    "One of the main advantage of this library is the ability to easily incorporate novel positional encodings on the node, edge and graph level. The positional encodings are computed and feed into respective encoders and then the hidden embeddings from all pe encoders are pooled (according to if they are node, edge, or graph level) and then feed into the GNN layers as features. The designs allow any combination of positional encodings to be used by modifying the configuration file. For more details on the data processing part, please visit the [design page of the doc](https://graphium-docs.datamol.io/stable/design.html).\n",
    "\n",
    "Here is the workflow for computing and processing positional encoding in the library:\n",
    "1. edit related parts in the yaml configuration file\n",
    "\n",
    "2. compute the raw positional encoding from the graph in [`graphium/features/positional_encoding.py`](https://graphium-docs.datamol.io/stable/api/graphium.features.html#graphium.features.positional_encoding) (from the [`graph positional encoder`](https://graphium-docs.datamol.io/stable/api/graphium.features.html#graphium.features.positional_encoding.graph_positional_encoder))\n",
    "\n",
    "3. feed the raw positional encoding into the respective (specialized) encoders in [`graphium/nn/encoders`](https://graphium-docs.datamol.io/stable/api/graphium.nn/encoders.html). For example, a simple [`MLP positional encoder`](https://graphium-docs.datamol.io/stable/api/graphium.nn/encoders.html#graphium.nn.encoders.mlp_encoder) can be found. \n",
    "\n",
    "4. Output the hidden embeddings of pe from the encoders in their respective output keys: `feat`(node feature), `edge_feat`(edge feature), `graph_feat`(graph feature) and potentially other keys if needed such as `nodepair_feat` \n",
    "\n",
    "5. pool the hidden embeddings with same keys together: for example, all output with `feat` key will be pooled together\n",
    "\n",
    "6. Construct the [`PyG Batch`](https://pytorch-geometric.readthedocs.io/en/latest/generated/torch_geometric.data.Batch.html#torch_geometric.data.Batch), batch of graphs, each contain the output keys seen above, ready for use in the [GNN layers](https://graphium-docs.datamol.io/stable/api/graphium.nn/pyg_layers.html) \n",
    "\n",
    "Since this library is built using PyG, we recommend looking at their [Docs](https://pytorch-geometric.readthedocs.io/en/latest/) and [Tutorials](https://pytorch-geometric.readthedocs.io/en/latest/get_started/introduction.html) for more info. \n",
    "\n",
    "We start by editing the configuration file first.\n"
   ]
  },
  {
   "cell_type": "markdown",
   "metadata": {},
   "source": [
    "### Table of content\n",
    "1. [edit the config file](#Edit-the-yaml-Configuration-File)\n",
    "2. [compute the pe from mol](#Compute-the-Positional-Encoding)\n",
    "3. [add existing encoder](#Add-Existing-Encoder)\n",
    "4. [add specialized encoder](#Add-Specialized-Encoder)\n",
    "5. [add the keys to spaces](#Add-the-Keys-to-Spaces)"
   ]
  },
  {
   "cell_type": "markdown",
   "metadata": {},
   "source": [
    "## Edit the yaml Configuration File\n",
    "\n",
    "### Computing Raw PE\n",
    "We will use the degree of each node as a positional encoding in this tutorial. \n",
    "First start with an existing yaml configuration file, you can find them in `expts/configs`\n",
    "\n",
    "We first look at where in the yaml file is the raw positional encodings computed. `deg_pos` is added as an example below. You can add relevant arguments for computing the positional encoding here as well such as `normalize` in the example."
   ]
  },
  {
   "cell_type": "markdown",
   "metadata": {},
   "source": [
    "```\n",
    "pos_encoding_as_features:\n",
    "    pos_types:\n",
    "      deg_pos: #example, degree centrality\n",
    "        pos_type: degree\n",
    "        normalize: False\n",
    "```"
   ]
  },
  {
   "cell_type": "markdown",
   "metadata": {},
   "source": [
    "### Specifying Encoders for the PE\n",
    "Now we want to specify arguments for the encoders associated with the pe"
   ]
  },
  {
   "cell_type": "markdown",
   "metadata": {},
   "source": [
    "```\n",
    "pe_encoders:\n",
    "    out_dim: 64\n",
    "    pool: \"sum\" #choice of pooling across multiple pe encoders\n",
    "    last_norm: None #\"batch_norm\", \"layer_norm\"\n",
    "    encoders: \n",
    "      deg_pos: #same name from the previous cell\n",
    "        encoder_type: \"mlp\" #or you can specify your own specialized encoder\n",
    "        input_keys: [\"degree\"] #same as the pos_type configured before\n",
    "        output_keys: [\"feat\"] #node feature\n",
    "        hidden_dim: 64\n",
    "        num_layers: 1\n",
    "        dropout: 0.1\n",
    "        normalization: \"none\"   #\"batch_norm\" or \"layer_norm\"\n",
    "        first_normalization: \"layer_norm\"   #\"batch_norm\" or \"layer_norm\"\n",
    "```"
   ]
  },
  {
   "cell_type": "markdown",
   "metadata": {},
   "source": [
    "## Compute the Positional Encoding\n",
    "Next, we want to compute the raw degree of each node from the molecule graph.\n",
    "\n",
    "### add function to compute the pe\n",
    "Go to [graphium/features](https://graphium-docs.datamol.io/stable/api/graphium.features.html) and add a new file `deg.py` to add the function to compute the pe. "
   ]
  },
  {
   "cell_type": "code",
   "execution_count": 1,
   "metadata": {},
   "outputs": [],
   "source": [
    "from typing import Tuple, Union, Optional\n",
    "\n",
    "from scipy import sparse\n",
    "from scipy.sparse import spmatrix\n",
    "import numpy as np\n",
    "\n",
    "def compute_deg(adj: Union[np.ndarray, spmatrix], normalize: bool) -> np.ndarray:\n",
    "    \"\"\"\n",
    "    Compute the node degree positional encoding \n",
    "\n",
    "    Parameters:\n",
    "        adj: Adjacency matrix\n",
    "        normalize: indicate if the degree across all nodes are normalized to [0,1] or not\n",
    "    Returns:\n",
    "        2D array with shape (num_nodes, 1) specifying (outgoing) degree for each node\n",
    "    \"\"\"\n",
    "    \n",
    "    #first adj convert to scipy sparse matrix if not already\n",
    "    if type(adj) is np.ndarray:\n",
    "        adj = sparse.csr_matrix(adj)\n",
    "    \n",
    "    #https://docs.scipy.org/doc/scipy/reference/generated/scipy.sparse.csr_matrix.sum.html\n",
    "    degs = adj.sum(axis=0) #sum over each row\n",
    "    \n",
    "    if (normalize): #normalize the degree sequence to [0,1]\n",
    "        degs = degs / np.max(degs)\n",
    "    return degs"
   ]
  },
  {
   "cell_type": "markdown",
   "metadata": {},
   "source": [
    "### Test with toy matrix\n",
    "\n",
    "here we will test if our code compute the degrees of each node correctly"
   ]
  },
  {
   "cell_type": "code",
   "execution_count": 2,
   "metadata": {},
   "outputs": [
    {
     "data": {
      "text/plain": [
       "matrix([[1., 1., 1., 1., 1.]])"
      ]
     },
     "execution_count": 2,
     "metadata": {},
     "output_type": "execute_result"
    }
   ],
   "source": [
    "adj = np.identity(5) #make an identity matrix\n",
    "normalize = True\n",
    "\n",
    "degs = compute_deg(adj, normalize=normalize)\n",
    "\n",
    "degs"
   ]
  },
  {
   "cell_type": "markdown",
   "metadata": {},
   "source": [
    "### add to positional_encoding.py\n",
    "\n",
    "To compute the new pe along with all existing pe, we need to add the function we wrote to [`graphium/feature/positional_encoding.py`](https://graphium-docs.datamol.io/stable/api/graphium.features.html#graphium.features.positional_encoding). Modify the [`graph_positional_encoder`](https://graphium-docs.datamol.io/stable/api/graphium.features.html#graphium.features.positional_encoding.graph_positional_encoder) function by adding `pos_type == \"degree\"` logic "
   ]
  },
  {
   "cell_type": "markdown",
   "metadata": {},
   "source": [
    "## Add Existing Encoder\n",
    "\n",
    "In order to pool over all the positional encodings, we need to add encoder to process the raw computed positional encoding and ensure the output dimension from all pe encoders are the same. When designing the encoder, you can either use an existing encoder or write a specialized encoder you made\n",
    "\n",
    "here we can simply specify [`MLPEncoder`](https://graphium-docs.datamol.io/stable/api/graphium.nn/encoders.html#graphium.nn.encoders.mlp_encoder.MLPEncoder) in the yaml file and the library will automatically feed the raw positional encoding to a mlp encoder based on the input arguments. Note that in this example, the encoder takes in the pe stored at the input key `degree` and then outputs to the output key `feat`"
   ]
  },
  {
   "cell_type": "markdown",
   "metadata": {},
   "source": [
    "```\n",
    "encoders: \n",
    "  deg_pos: \n",
    "    encoder_type: \"mlp\" \n",
    "    input_keys: [\"degree\"] \n",
    "    output_keys: [\"feat\"] # node feature\n",
    "    hidden_dim: 64\n",
    "    num_layers: 1\n",
    "    dropout: 0.1\n",
    "    normalization: \"none\"   #\"batch_norm\" or \"layer_norm\"\n",
    "    first_normalization: \"layer_norm\"   #\"batch_norm\" or \"layer_norm\"\n",
    "```"
   ]
  },
  {
   "cell_type": "markdown",
   "metadata": {},
   "source": [
    "## Add Specialized Encoder\n",
    "\n",
    "You can also add specialized encoder, such as `laplacian_pe` for the laplacian eigenvectors and eigenvalues. Here, we can add a new `deg_pos_encoder.py` in [`graphium/nn/encoders`](https://graphium-docs.datamol.io/stable/api/graphium.nn/encoders.html). As an example and template, please see the [`MLPEncoder`](https://graphium-docs.datamol.io/stable/api/graphium.nn/encoders.html#graphium.nn.encoders.mlp_encoder.MLPEncoder)\n",
    "\n",
    "Note that all new encoders must inherent from [`BaseEncoder`](https://graphium-docs.datamol.io/stable/api/graphium.nn/encoders.html#graphium.nn.encoders.base_encoder.BaseEncoder) class and implement the following abstract methods\n",
    "\n",
    "- [`forward`](https://graphium-docs.datamol.io/stable/api/graphium.nn/encoders.html#graphium.nn.encoders.base_encoder.BaseEncoder.forward): the forward function of the encoder, how to process the input\n",
    "\n",
    "- [`parse_input_keys`](https://graphium-docs.datamol.io/stable/api/graphium.nn/encoders.html#graphium.nn.encoders.base_encoder.BaseEncoder.parse_input_keys): how to parse the input keys\n",
    "\n",
    "- [`parse_output_keys`](https://graphium-docs.datamol.io/stable/api/graphium.nn/encoders.html#graphium.nn.encoders.laplace_pos_encoder.LapPENodeEncoder.parse_output_keys): how to parse the output keys\n",
    "\n"
   ]
  },
  {
   "cell_type": "markdown",
   "metadata": {},
   "source": [
    "## Add the Keys to Spaces\n",
    "\n",
    "In order to directly find the correct encoders from the yaml file, we need to specify which key corresponding to what class. \n",
    "\n",
    "- add our new `deg_pos_encoder` to `graphium/utils/spaces.py` in the `PE_ENCODERS_DICT`\n",
    "- add our new `deg_pos_encoder` to [`graphium/nn/architectures/encoder_manager.py`](https://graphium-docs.datamol.io/stable/api/graphium.nn/architectures.html#graphium.nn.architectures.encoder_manager.EncoderManager) in the `PE_ENCODERS_DICT`\n",
    "- add the import of our encoder to  `graphium/nn/encoders/__init__.py`\n",
    "\n",
    "Now we can modify the yaml file to use our new encoder"
   ]
  },
  {
   "cell_type": "markdown",
   "metadata": {},
   "source": [
    "```\n",
    "encoders: \n",
    "  deg_pos: \n",
    "    encoder_type: \"deg_pos_encoder\" \n",
    "    input_keys: [\"degree\"] \n",
    "    output_keys: [\"feat\"] # node feature\n",
    "    hidden_dim: 64\n",
    "    #any other keys that might be used for initialization\n",
    "```"
   ]
  },
  {
   "cell_type": "code",
   "execution_count": null,
   "metadata": {},
   "outputs": [],
   "source": []
  }
 ],
 "metadata": {
  "interpreter": {
   "hash": "f4a99d018a205fcbcc0480c84566beaebcb91b08d0414b39a842df533e2a1d25"
  },
  "kernelspec": {
   "display_name": "Python 3 (ipykernel)",
   "language": "python",
   "name": "python3"
  },
  "language_info": {
   "codemirror_mode": {
    "name": "ipython",
    "version": 3
   },
   "file_extension": ".py",
   "mimetype": "text/x-python",
   "name": "python",
   "nbconvert_exporter": "python",
   "pygments_lexer": "ipython3",
   "version": "3.8.10"
  }
 },
 "nbformat": 4,
 "nbformat_minor": 2
}
