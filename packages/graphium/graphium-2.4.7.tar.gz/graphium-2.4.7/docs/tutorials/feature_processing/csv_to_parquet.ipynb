{
 "cells": [
  {
   "cell_type": "code",
   "execution_count": 1,
   "metadata": {},
   "outputs": [],
   "source": [
    "import pandas as pd\n",
    "import graphium\n",
    "from os.path import dirname, abspath\n",
    "\n",
    "MAIN_DIR = dirname(dirname(abspath(graphium.__file__)))\n",
    "\n",
    "# TODO create funciton to read parquet, test from GCP storage (put it in path, should support gs and path, explore function from Pandas instead of parquet \"pq\")\n",
    "def _csv_to_parquet(csv_path, parquet_path):\n",
    "    df = pd.read_csv(csv_path)\n",
    "    df.to_parquet(parquet_path)\n",
    "\n",
    "_csv_to_parquet(MAIN_DIR + '/graphium/data/QM9/micro_qm9.csv', MAIN_DIR + '/graphium/data/QM9/micro_qm9.parquet')"
   ]
  },
  {
   "cell_type": "code",
   "execution_count": 2,
   "metadata": {},
   "outputs": [],
   "source": [
    "    # TODO create funciton to specify if you read parquet or csv\n",
    "    # TODO replace all location with call for _read_csv and make sure to read all files if path ends with \"*\"\n",
    "    # def read_table:"
   ]
  },
  {
   "cell_type": "code",
   "execution_count": 2,
   "metadata": {},
   "outputs": [
    {
     "name": "stdout",
     "output_type": "stream",
     "text": [
      "/nethome/andyh/graphium/docs/tutorials/feature_processing\r\n"
     ]
    }
   ],
   "source": [
    "!pwd"
   ]
  },
  {
   "cell_type": "code",
   "execution_count": 3,
   "metadata": {},
   "outputs": [],
   "source": [
    "import graphium\n",
    "import os\n",
    "from os.path import dirname, abspath\n",
    "MAIN_DIR = dirname(dirname(abspath(graphium.__file__)))\n",
    "os.chdir(MAIN_DIR) # No need for this file"
   ]
  },
  {
   "cell_type": "code",
   "execution_count": null,
   "metadata": {},
   "outputs": [],
   "source": []
  }
 ],
 "metadata": {
  "kernelspec": {
   "display_name": "Python 3 (ipykernel)",
   "language": "python",
   "name": "python3"
  },
  "language_info": {
   "codemirror_mode": {
    "name": "ipython",
    "version": 3
   },
   "file_extension": ".py",
   "mimetype": "text/x-python",
   "name": "python",
   "nbconvert_exporter": "python",
   "pygments_lexer": "ipython3",
   "version": "3.8.10"
  },
  "vscode": {
   "interpreter": {
    "hash": "b813b16c721ca8d9e65e6e6945a38a6ae48015ae799c455bab639da90d3bb278"
   }
  }
 },
 "nbformat": 4,
 "nbformat_minor": 2
}
