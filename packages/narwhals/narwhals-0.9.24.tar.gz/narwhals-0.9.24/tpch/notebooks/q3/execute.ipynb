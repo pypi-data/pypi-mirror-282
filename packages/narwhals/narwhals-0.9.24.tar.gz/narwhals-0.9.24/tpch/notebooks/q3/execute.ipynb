{
 "cells": [
  {
   "cell_type": "code",
   "execution_count": 1,
   "id": "0385ed89",
   "metadata": {
    "execution": {
     "iopub.execute_input": "2024-03-22T17:23:42.216843Z",
     "iopub.status.busy": "2024-03-22T17:23:42.216251Z",
     "iopub.status.idle": "2024-03-22T17:24:15.599245Z",
     "shell.execute_reply": "2024-03-22T17:24:15.598103Z"
    },
    "papermill": {
     "duration": 33.390992,
     "end_time": "2024-03-22T17:24:15.601719",
     "exception": false,
     "start_time": "2024-03-22T17:23:42.210727",
     "status": "completed"
    },
    "tags": []
   },
   "outputs": [
    {
     "name": "stdout",
     "output_type": "stream",
     "text": [
      "Requirement already satisfied: pandas in /opt/conda/lib/python3.10/site-packages (2.2.1)\r\n",
      "Requirement already satisfied: polars in /opt/conda/lib/python3.10/site-packages (0.20.15)\r\n",
      "Collecting polars\r\n",
      "  Downloading polars-0.20.16-cp38-abi3-manylinux_2_17_x86_64.manylinux2014_x86_64.whl.metadata (15 kB)\r\n",
      "Requirement already satisfied: pyarrow in /opt/conda/lib/python3.10/site-packages (15.0.2)\r\n",
      "Requirement already satisfied: numpy<2,>=1.22.4 in /opt/conda/lib/python3.10/site-packages (from pandas) (1.26.4)\r\n",
      "Requirement already satisfied: python-dateutil>=2.8.2 in /opt/conda/lib/python3.10/site-packages (from pandas) (2.9.0.post0)\r\n",
      "Requirement already satisfied: pytz>=2020.1 in /opt/conda/lib/python3.10/site-packages (from pandas) (2023.3.post1)\r\n",
      "Requirement already satisfied: tzdata>=2022.7 in /opt/conda/lib/python3.10/site-packages (from pandas) (2023.4)\r\n",
      "Requirement already satisfied: six>=1.5 in /opt/conda/lib/python3.10/site-packages (from python-dateutil>=2.8.2->pandas) (1.16.0)\r\n",
      "Downloading polars-0.20.16-cp38-abi3-manylinux_2_17_x86_64.manylinux2014_x86_64.whl (26.3 MB)\r\n",
      "\u001b[2K   \u001b[90m━━━━━━━━━━━━━━━━━━━━━━━━━━━━━━━━━━━━━━━━\u001b[0m \u001b[32m26.3/26.3 MB\u001b[0m \u001b[31m67.3 MB/s\u001b[0m eta \u001b[36m0:00:00\u001b[0m\r\n",
      "\u001b[?25hInstalling collected packages: polars\r\n",
      "  Attempting uninstall: polars\r\n",
      "    Found existing installation: polars 0.20.15\r\n",
      "    Uninstalling polars-0.20.15:\r\n",
      "      Successfully uninstalled polars-0.20.15\r\n",
      "Successfully installed polars-0.20.16\r\n"
     ]
    }
   ],
   "source": [
    "!pip uninstall apache-beam -y && pip install -U pandas polars pyarrow narwhals>=0.9.5 ibis-framework "
   ]
  },
  {
   "cell_type": "code",
   "execution_count": 3,
   "id": "b969208d",
   "metadata": {
    "execution": {
     "iopub.execute_input": "2024-03-22T17:24:38.152925Z",
     "iopub.status.busy": "2024-03-22T17:24:38.152552Z",
     "iopub.status.idle": "2024-03-22T17:24:39.051533Z",
     "shell.execute_reply": "2024-03-22T17:24:39.050623Z"
    },
    "papermill": {
     "duration": 0.907754,
     "end_time": "2024-03-22T17:24:39.053873",
     "exception": false,
     "start_time": "2024-03-22T17:24:38.146119",
     "status": "completed"
    },
    "tags": []
   },
   "outputs": [],
   "source": [
    "import pandas as pd\n",
    "import polars as pl\n",
    "\n",
    "pd.options.mode.copy_on_write = True\n",
    "pd.options.future.infer_string = True"
   ]
  },
  {
   "cell_type": "code",
   "execution_count": null,
   "id": "3497be7d",
   "metadata": {},
   "outputs": [],
   "source": [
    "from typing import Any\n",
    "from datetime import date\n",
    "\n",
    "def q3_pandas_native(\n",
    "    customer_ds: Any,\n",
    "    line_item_ds: Any,\n",
    "    orders_ds: Any,\n",
    "):\n",
    "    var1 = \"BUILDING\"\n",
    "    var2 = date(1995, 3, 15)\n",
    "\n",
    "    fcustomer = customer_ds[customer_ds[\"c_mktsegment\"] == var1]\n",
    "\n",
    "    jn1 = fcustomer.merge(orders_ds, left_on=\"c_custkey\", right_on=\"o_custkey\")\n",
    "    jn2 = jn1.merge(line_item_ds, left_on=\"o_orderkey\", right_on=\"l_orderkey\")\n",
    "\n",
    "    jn2 = jn2[jn2[\"o_orderdate\"] < var2]\n",
    "    jn2 = jn2[jn2[\"l_shipdate\"] > var2]\n",
    "    jn2[\"revenue\"] = jn2.l_extendedprice * (1 - jn2.l_discount)\n",
    "\n",
    "    gb = jn2.groupby(\n",
    "        [\"o_orderkey\", \"o_orderdate\", \"o_shippriority\"], as_index=False\n",
    "    )\n",
    "    agg = gb[\"revenue\"].sum()\n",
    "\n",
    "    sel = agg.loc[:, [\"o_orderkey\", \"revenue\", \"o_orderdate\", \"o_shippriority\"]]\n",
    "    sel = sel.rename({\"o_orderkey\": \"l_orderkey\"}, axis=\"columns\")\n",
    "\n",
    "    sorted = sel.sort_values(by=[\"revenue\", \"o_orderdate\"], ascending=[False, True])\n",
    "    result_df = sorted.head(10)\n",
    "\n",
    "    return result_df  # type: ignore[no-any-return]"
   ]
  },
  {
   "cell_type": "code",
   "execution_count": 4,
   "id": "42e7f0e2",
   "metadata": {
    "execution": {
     "iopub.execute_input": "2024-03-22T17:24:39.066341Z",
     "iopub.status.busy": "2024-03-22T17:24:39.065881Z",
     "iopub.status.idle": "2024-03-22T17:24:39.078875Z",
     "shell.execute_reply": "2024-03-22T17:24:39.077655Z"
    },
    "papermill": {
     "duration": 0.021725,
     "end_time": "2024-03-22T17:24:39.080999",
     "exception": false,
     "start_time": "2024-03-22T17:24:39.059274",
     "status": "completed"
    },
    "tags": []
   },
   "outputs": [],
   "source": [
    "from typing import Any\n",
    "from datetime import datetime\n",
    "import narwhals as nw\n",
    "\n",
    "def q3(\n",
    "    customer_ds_raw: Any,\n",
    "    line_item_ds_raw: Any,\n",
    "    orders_ds_raw: Any,\n",
    ") -> Any:\n",
    "    var_1 = var_2 = datetime(1995, 3, 15)\n",
    "    var_3 = \"BUILDING\"\n",
    "\n",
    "    customer_ds = nw.from_native(customer_ds_raw)\n",
    "    line_item_ds = nw.from_native(line_item_ds_raw)\n",
    "    orders_ds = nw.from_native(orders_ds_raw)\n",
    "\n",
    "    q_final = (\n",
    "        customer_ds.filter(nw.col(\"c_mktsegment\") == var_3)\n",
    "        .join(orders_ds, left_on=\"c_custkey\", right_on=\"o_custkey\")\n",
    "        .join(line_item_ds, left_on=\"o_orderkey\", right_on=\"l_orderkey\")\n",
    "        .filter(\n",
    "            nw.col(\"o_orderdate\") < var_2,\n",
    "            nw.col(\"l_shipdate\") > var_1,\n",
    "        ).with_columns(\n",
    "            (nw.col(\"l_extendedprice\") * (1 - nw.col(\"l_discount\"))).alias(\"revenue\")\n",
    "        )\n",
    "        .group_by([\"o_orderkey\", \"o_orderdate\", \"o_shippriority\"])\n",
    "        .agg([nw.sum(\"revenue\")])\n",
    "        .select(\n",
    "            [\n",
    "                nw.col(\"o_orderkey\").alias(\"l_orderkey\"),\n",
    "                \"revenue\",\n",
    "                \"o_orderdate\",\n",
    "                \"o_shippriority\",\n",
    "            ]\n",
    "        )\n",
    "        .sort(by=[\"revenue\", \"o_orderdate\"], descending=[True, False])\n",
    "        .head(10)\n",
    "    )\n",
    "\n",
    "    return nw.to_native(q_final)"
   ]
  },
  {
   "cell_type": "code",
   "execution_count": null,
   "id": "cb9e593a",
   "metadata": {},
   "outputs": [],
   "source": [
    "from typing import Any\n",
    "from datetime import datetime\n",
    "import narwhals as nw\n",
    "import ibis\n",
    "\n",
    "def q3_ibis(\n",
    "    customer: Any,\n",
    "    lineitem: Any,\n",
    "    orders: Any,\n",
    "    *,\n",
    "    tool,\n",
    ") -> Any:\n",
    "    var1 = \"BUILDING\"\n",
    "    var2 = date(1995, 3, 15)\n",
    "\n",
    "    q_final = (\n",
    "        customer.filter(customer[\"c_mktsegment\"] == var1)\n",
    "        .join(orders, customer[\"c_custkey\"] == orders[\"o_custkey\"])\n",
    "        .join(lineitem, orders[\"o_orderkey\"] == lineitem[\"l_orderkey\"])\n",
    "        .filter(ibis._[\"o_orderdate\"] < var2)\n",
    "        .filter(ibis._[\"l_shipdate\"] > var2)\n",
    "        .mutate(revenue=(lineitem[\"l_extendedprice\"] * (1 - lineitem[\"l_discount\"])))\n",
    "        .group_by(\n",
    "            \"o_orderkey\",\n",
    "            \"o_orderdate\",\n",
    "            \"o_shippriority\",\n",
    "        )\n",
    "        .agg(revenue=ibis._[\"revenue\"].sum())\n",
    "        .select(\n",
    "            ibis._[\"o_orderkey\"].name(\"o_orderkey\"),\n",
    "            \"revenue\",\n",
    "            \"o_orderdate\",\n",
    "            \"o_shippriority\",\n",
    "        )\n",
    "        .order_by(ibis.desc(\"revenue\"), \"o_orderdate\")\n",
    "        .limit(10)\n",
    "    )\n",
    "    if tool == 'pandas':\n",
    "        return q_final.to_pandas()\n",
    "    if tool == 'polars':\n",
    "        return q_final.to_polars()\n",
    "    raise ValueError(\"expected pandas or polars\")"
   ]
  },
  {
   "cell_type": "code",
   "execution_count": 5,
   "id": "8d540303",
   "metadata": {
    "execution": {
     "iopub.execute_input": "2024-03-22T17:24:39.093217Z",
     "iopub.status.busy": "2024-03-22T17:24:39.092874Z",
     "iopub.status.idle": "2024-03-22T17:24:39.097611Z",
     "shell.execute_reply": "2024-03-22T17:24:39.096644Z"
    },
    "papermill": {
     "duration": 0.013325,
     "end_time": "2024-03-22T17:24:39.099766",
     "exception": false,
     "start_time": "2024-03-22T17:24:39.086441",
     "status": "completed"
    },
    "tags": []
   },
   "outputs": [],
   "source": [
    "dir_ = \"/kaggle/input/tpc-h-data-parquet-s-2/\"\n",
    "region = dir_ + 'region.parquet'\n",
    "nation = dir_ + 'nation.parquet'\n",
    "customer = dir_ + 'customer.parquet'\n",
    "lineitem = dir_ + 'lineitem.parquet'\n",
    "orders = dir_ + 'orders.parquet'\n",
    "supplier = dir_ + 'supplier.parquet'\n",
    "part = dir_ + 'part.parquet'\n",
    "partsupp = dir_ + 'partsupp.parquet'"
   ]
  },
  {
   "cell_type": "code",
   "execution_count": 6,
   "id": "afc23c7d",
   "metadata": {
    "execution": {
     "iopub.execute_input": "2024-03-22T17:24:39.112703Z",
     "iopub.status.busy": "2024-03-22T17:24:39.112327Z",
     "iopub.status.idle": "2024-03-22T17:24:39.117529Z",
     "shell.execute_reply": "2024-03-22T17:24:39.116459Z"
    },
    "papermill": {
     "duration": 0.014284,
     "end_time": "2024-03-22T17:24:39.119737",
     "exception": false,
     "start_time": "2024-03-22T17:24:39.105453",
     "status": "completed"
    },
    "tags": []
   },
   "outputs": [],
   "source": [
    "import ibis\n",
    "\n",
    "con_pd = ibis.pandas.connect()\n",
    "con_pl = ibis.polars.connect()\n",
    "\n",
    "IO_FUNCS = {\n",
    "    'pandas': lambda x: pd.read_parquet(x, engine='pyarrow'),\n",
    "    'pandas[pyarrow]': lambda x: pd.read_parquet(x, engine='pyarrow', dtype_backend='pyarrow'),\n",
    "    'pandas[pyarrow][ibis]': lambda x: con_pd.read_parquet(x, engine='pyarrow', dtype_backend='pyarrow'),\n",
    "    'polars[eager]': lambda x: pl.read_parquet(x),\n",
    "    'polars[lazy]': lambda x: pl.scan_parquet(x),\n",
    "    'polars[lazy][ibis]': lambda x: con_pl.read_parquet(x),\n",
    "}"
   ]
  },
  {
   "cell_type": "code",
   "execution_count": null,
   "id": "7b521f62",
   "metadata": {},
   "outputs": [],
   "source": [
    "results = {}"
   ]
  },
  {
   "cell_type": "markdown",
   "id": "01c2358d",
   "metadata": {},
   "source": [
    "## pandas, pyarrow dtypes, via ibis"
   ]
  },
  {
   "cell_type": "code",
   "execution_count": null,
   "id": "6327c5ed",
   "metadata": {},
   "outputs": [
    {
     "name": "stdout",
     "output_type": "stream",
     "text": [
      "24 s ± 142 ms per loop (mean ± std. dev. of 7 runs, 1 loop each)\n"
     ]
    },
    {
     "data": {
      "text/plain": [
       "23.841894793999984"
      ]
     },
     "metadata": {},
     "output_type": "display_data"
    }
   ],
   "source": [
    "tool = 'pandas[pyarrow][ibis]'\n",
    "fn = IO_FUNCS[tool]\n",
    "timings = %timeit -o q3_ibis(fn(customer), fn(lineitem), fn(orders), tool='pandas')\n",
    "results[tool] = timings.all_runs"
   ]
  },
  {
   "cell_type": "markdown",
   "id": "ed569d39",
   "metadata": {},
   "source": [
    "## Polars, lazy, via ibis"
   ]
  },
  {
   "cell_type": "code",
   "execution_count": null,
   "id": "bc7fe959",
   "metadata": {},
   "outputs": [
    {
     "name": "stdout",
     "output_type": "stream",
     "text": [
      "24 s ± 142 ms per loop (mean ± std. dev. of 7 runs, 1 loop each)\n"
     ]
    },
    {
     "data": {
      "text/plain": [
       "23.841894793999984"
      ]
     },
     "metadata": {},
     "output_type": "display_data"
    }
   ],
   "source": [
    "tool = 'polars[lazy][ibis]'\n",
    "fn = IO_FUNCS[tool]\n",
    "timings = %timeit -o q3_ibis(fn(customer), fn(lineitem), fn(orders), tool='polars')\n",
    "results[tool] = timings.all_runs"
   ]
  },
  {
   "cell_type": "markdown",
   "id": "6bfedb9e",
   "metadata": {},
   "source": [
    "## pandas, pyarrow dtypes, native"
   ]
  },
  {
   "cell_type": "code",
   "execution_count": null,
   "id": "51d52b99",
   "metadata": {},
   "outputs": [
    {
     "name": "stdout",
     "output_type": "stream",
     "text": [
      "24 s ± 142 ms per loop (mean ± std. dev. of 7 runs, 1 loop each)\n"
     ]
    },
    {
     "data": {
      "text/plain": [
       "23.841894793999984"
      ]
     },
     "metadata": {},
     "output_type": "display_data"
    }
   ],
   "source": [
    "tool = 'pandas[pyarrow]'\n",
    "fn = IO_FUNCS[tool]\n",
    "timings = %timeit -o q3_pandas_native(fn(customer), fn(lineitem), fn(orders))\n",
    "results[tool+'[native]'] = timings.all_runs"
   ]
  },
  {
   "cell_type": "markdown",
   "id": "09249944",
   "metadata": {
    "papermill": {
     "duration": 0.005113,
     "end_time": "2024-03-22T17:24:39.130472",
     "exception": false,
     "start_time": "2024-03-22T17:24:39.125359",
     "status": "completed"
    },
    "tags": []
   },
   "source": [
    "## pandas via Narwhals"
   ]
  },
  {
   "cell_type": "code",
   "execution_count": 7,
   "id": "e2663325",
   "metadata": {
    "execution": {
     "iopub.execute_input": "2024-03-22T17:24:39.142769Z",
     "iopub.status.busy": "2024-03-22T17:24:39.142165Z",
     "iopub.status.idle": "2024-03-22T17:27:55.915660Z",
     "shell.execute_reply": "2024-03-22T17:27:55.914640Z"
    },
    "papermill": {
     "duration": 196.786925,
     "end_time": "2024-03-22T17:27:55.922832",
     "exception": false,
     "start_time": "2024-03-22T17:24:39.135907",
     "status": "completed"
    },
    "tags": []
   },
   "outputs": [
    {
     "name": "stdout",
     "output_type": "stream",
     "text": [
      "24 s ± 142 ms per loop (mean ± std. dev. of 7 runs, 1 loop each)\n"
     ]
    },
    {
     "data": {
      "text/plain": [
       "23.841894793999984"
      ]
     },
     "execution_count": 7,
     "metadata": {},
     "output_type": "execute_result"
    }
   ],
   "source": [
    "tool = 'pandas'\n",
    "fn = IO_FUNCS[tool]\n",
    "timings = %timeit -o q3(fn(customer), fn(lineitem), fn(orders))\n",
    "results[tool] = timings.all_runs"
   ]
  },
  {
   "cell_type": "markdown",
   "id": "0b561017",
   "metadata": {
    "papermill": {
     "duration": 0.005184,
     "end_time": "2024-03-22T17:27:55.933407",
     "exception": false,
     "start_time": "2024-03-22T17:27:55.928223",
     "status": "completed"
    },
    "tags": []
   },
   "source": [
    "## pandas, pyarrow dtypes, via Narwhals"
   ]
  },
  {
   "cell_type": "code",
   "execution_count": 8,
   "id": "32ed7477",
   "metadata": {
    "execution": {
     "iopub.execute_input": "2024-03-22T17:27:55.947042Z",
     "iopub.status.busy": "2024-03-22T17:27:55.946658Z",
     "iopub.status.idle": "2024-03-22T17:30:34.673691Z",
     "shell.execute_reply": "2024-03-22T17:30:34.672291Z"
    },
    "papermill": {
     "duration": 158.748353,
     "end_time": "2024-03-22T17:30:34.688289",
     "exception": false,
     "start_time": "2024-03-22T17:27:55.939936",
     "status": "completed"
    },
    "tags": []
   },
   "outputs": [
    {
     "name": "stdout",
     "output_type": "stream",
     "text": [
      "20.2 s ± 5.8 s per loop (mean ± std. dev. of 7 runs, 1 loop each)\n"
     ]
    },
    {
     "data": {
      "text/plain": [
       "16.42582530300001"
      ]
     },
     "execution_count": 8,
     "metadata": {},
     "output_type": "execute_result"
    }
   ],
   "source": [
    "tool = 'pandas[pyarrow]'\n",
    "fn = IO_FUNCS[tool]\n",
    "timings = %timeit -o q3(fn(customer), fn(lineitem), fn(orders))\n",
    "results[tool] = timings.all_runs"
   ]
  },
  {
   "cell_type": "markdown",
   "id": "a8005d7d",
   "metadata": {
    "papermill": {
     "duration": 0.005773,
     "end_time": "2024-03-22T17:30:34.700300",
     "exception": false,
     "start_time": "2024-03-22T17:30:34.694527",
     "status": "completed"
    },
    "tags": []
   },
   "source": [
    "## Polars read_parquet"
   ]
  },
  {
   "cell_type": "code",
   "execution_count": 9,
   "id": "a5e9bfd3",
   "metadata": {
    "execution": {
     "iopub.execute_input": "2024-03-22T17:30:34.714876Z",
     "iopub.status.busy": "2024-03-22T17:30:34.714421Z",
     "iopub.status.idle": "2024-03-22T17:31:12.519452Z",
     "shell.execute_reply": "2024-03-22T17:31:12.518760Z"
    },
    "papermill": {
     "duration": 37.821116,
     "end_time": "2024-03-22T17:31:12.527466",
     "exception": false,
     "start_time": "2024-03-22T17:30:34.706350",
     "status": "completed"
    },
    "tags": []
   },
   "outputs": [
    {
     "name": "stdout",
     "output_type": "stream",
     "text": [
      "4.67 s ± 85 ms per loop (mean ± std. dev. of 7 runs, 1 loop each)\n"
     ]
    },
    {
     "data": {
      "text/plain": [
       "4.574684939999997"
      ]
     },
     "execution_count": 9,
     "metadata": {},
     "output_type": "execute_result"
    }
   ],
   "source": [
    "tool = 'polars[eager]'\n",
    "fn = IO_FUNCS[tool]\n",
    "timings = %timeit -o q3(fn(customer), fn(lineitem), fn(orders))\n",
    "results[tool] = timings.all_runs"
   ]
  },
  {
   "cell_type": "markdown",
   "id": "c77a701f",
   "metadata": {
    "papermill": {
     "duration": 0.005515,
     "end_time": "2024-03-22T17:31:12.539068",
     "exception": false,
     "start_time": "2024-03-22T17:31:12.533553",
     "status": "completed"
    },
    "tags": []
   },
   "source": [
    "## Polars scan_parquet"
   ]
  },
  {
   "cell_type": "code",
   "execution_count": 10,
   "id": "7cbe1a02",
   "metadata": {
    "execution": {
     "iopub.execute_input": "2024-03-22T17:31:12.554281Z",
     "iopub.status.busy": "2024-03-22T17:31:12.553860Z",
     "iopub.status.idle": "2024-03-22T17:31:17.344303Z",
     "shell.execute_reply": "2024-03-22T17:31:17.343397Z"
    },
    "papermill": {
     "duration": 4.800698,
     "end_time": "2024-03-22T17:31:17.346813",
     "exception": false,
     "start_time": "2024-03-22T17:31:12.546115",
     "status": "completed"
    },
    "tags": []
   },
   "outputs": [
    {
     "name": "stdout",
     "output_type": "stream",
     "text": [
      "595 ms ± 18.6 ms per loop (mean ± std. dev. of 7 runs, 1 loop each)\n"
     ]
    },
    {
     "data": {
      "text/plain": [
       "0.5674880569999914"
      ]
     },
     "execution_count": 10,
     "metadata": {},
     "output_type": "execute_result"
    }
   ],
   "source": [
    "tool = 'polars[lazy]'\n",
    "fn = IO_FUNCS[tool]\n",
    "timings = %timeit -o q3(fn(customer), fn(lineitem), fn(orders)).collect()\n",
    "results[tool] = timings.all_runs"
   ]
  },
  {
   "cell_type": "markdown",
   "id": "37ce6bf3",
   "metadata": {},
   "source": [
    "## Save"
   ]
  },
  {
   "cell_type": "code",
   "execution_count": null,
   "id": "14399622",
   "metadata": {},
   "outputs": [],
   "source": [
    "import json\n",
    "with open('results.json', 'w') as fd:\n",
    "    json.dump(results, fd)\n"
   ]
  }
 ],
 "metadata": {
  "kaggle": {
   "accelerator": "none",
   "dataSources": [
    {
     "sourceId": 167796716,
     "sourceType": "kernelVersion"
    },
    {
     "sourceId": 167796934,
     "sourceType": "kernelVersion"
    },
    {
     "sourceId": 167796952,
     "sourceType": "kernelVersion"
    },
    {
     "sourceId": 167796969,
     "sourceType": "kernelVersion"
    }
   ],
   "isGpuEnabled": false,
   "isInternetEnabled": true,
   "language": "python",
   "sourceType": "notebook"
  },
  "kernelspec": {
   "display_name": "Python 3",
   "language": "python",
   "name": "python3"
  },
  "language_info": {
   "codemirror_mode": {
    "name": "ipython",
    "version": 3
   },
   "file_extension": ".py",
   "mimetype": "text/x-python",
   "name": "python",
   "nbconvert_exporter": "python",
   "pygments_lexer": "ipython3",
   "version": "3.10.13"
  },
  "papermill": {
   "default_parameters": {},
   "duration": 458.423327,
   "end_time": "2024-03-22T17:31:18.077306",
   "environment_variables": {},
   "exception": null,
   "input_path": "__notebook__.ipynb",
   "output_path": "__notebook__.ipynb",
   "parameters": {},
   "start_time": "2024-03-22T17:23:39.653979",
   "version": "2.5.0"
  }
 },
 "nbformat": 4,
 "nbformat_minor": 5
}
