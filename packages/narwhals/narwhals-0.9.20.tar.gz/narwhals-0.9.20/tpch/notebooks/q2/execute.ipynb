{
 "cells": [
  {
   "cell_type": "code",
   "execution_count": 1,
   "id": "0385ed89",
   "metadata": {
    "execution": {
     "iopub.execute_input": "2024-03-22T17:23:42.216843Z",
     "iopub.status.busy": "2024-03-22T17:23:42.216251Z",
     "iopub.status.idle": "2024-03-22T17:24:15.599245Z",
     "shell.execute_reply": "2024-03-22T17:24:15.598103Z"
    },
    "papermill": {
     "duration": 33.390992,
     "end_time": "2024-03-22T17:24:15.601719",
     "exception": false,
     "start_time": "2024-03-22T17:23:42.210727",
     "status": "completed"
    },
    "tags": []
   },
   "outputs": [
    {
     "name": "stdout",
     "output_type": "stream",
     "text": [
      "Requirement already satisfied: pandas in /opt/conda/lib/python3.10/site-packages (2.2.1)\r\n",
      "Requirement already satisfied: polars in /opt/conda/lib/python3.10/site-packages (0.20.15)\r\n",
      "Collecting polars\r\n",
      "  Downloading polars-0.20.16-cp38-abi3-manylinux_2_17_x86_64.manylinux2014_x86_64.whl.metadata (15 kB)\r\n",
      "Requirement already satisfied: pyarrow in /opt/conda/lib/python3.10/site-packages (15.0.2)\r\n",
      "Requirement already satisfied: numpy<2,>=1.22.4 in /opt/conda/lib/python3.10/site-packages (from pandas) (1.26.4)\r\n",
      "Requirement already satisfied: python-dateutil>=2.8.2 in /opt/conda/lib/python3.10/site-packages (from pandas) (2.9.0.post0)\r\n",
      "Requirement already satisfied: pytz>=2020.1 in /opt/conda/lib/python3.10/site-packages (from pandas) (2023.3.post1)\r\n",
      "Requirement already satisfied: tzdata>=2022.7 in /opt/conda/lib/python3.10/site-packages (from pandas) (2023.4)\r\n",
      "Requirement already satisfied: six>=1.5 in /opt/conda/lib/python3.10/site-packages (from python-dateutil>=2.8.2->pandas) (1.16.0)\r\n",
      "Downloading polars-0.20.16-cp38-abi3-manylinux_2_17_x86_64.manylinux2014_x86_64.whl (26.3 MB)\r\n",
      "\u001b[2K   \u001b[90m━━━━━━━━━━━━━━━━━━━━━━━━━━━━━━━━━━━━━━━━\u001b[0m \u001b[32m26.3/26.3 MB\u001b[0m \u001b[31m67.3 MB/s\u001b[0m eta \u001b[36m0:00:00\u001b[0m\r\n",
      "\u001b[?25hInstalling collected packages: polars\r\n",
      "  Attempting uninstall: polars\r\n",
      "    Found existing installation: polars 0.20.15\r\n",
      "    Uninstalling polars-0.20.15:\r\n",
      "      Successfully uninstalled polars-0.20.15\r\n",
      "Successfully installed polars-0.20.16\r\n"
     ]
    }
   ],
   "source": [
    "!pip uninstall apache-beam -y && pip install -U pandas polars pyarrow narwhals>=0.9.5 ibis-framework "
   ]
  },
  {
   "cell_type": "code",
   "execution_count": 3,
   "id": "b969208d",
   "metadata": {
    "execution": {
     "iopub.execute_input": "2024-03-22T17:24:38.152925Z",
     "iopub.status.busy": "2024-03-22T17:24:38.152552Z",
     "iopub.status.idle": "2024-03-22T17:24:39.051533Z",
     "shell.execute_reply": "2024-03-22T17:24:39.050623Z"
    },
    "papermill": {
     "duration": 0.907754,
     "end_time": "2024-03-22T17:24:39.053873",
     "exception": false,
     "start_time": "2024-03-22T17:24:38.146119",
     "status": "completed"
    },
    "tags": []
   },
   "outputs": [],
   "source": [
    "import pandas as pd\n",
    "import polars as pl\n",
    "\n",
    "pd.options.mode.copy_on_write = True\n",
    "pd.options.future.infer_string = True"
   ]
  },
  {
   "cell_type": "code",
   "execution_count": null,
   "id": "8394c3e9",
   "metadata": {},
   "outputs": [],
   "source": [
    "from typing import Any\n",
    "\n",
    "def q2_pandas_native(\n",
    "    region_ds: Any,\n",
    "    nation_ds: Any,\n",
    "    supplier_ds: Any,\n",
    "    part_ds: Any,\n",
    "    part_supp_ds: Any,\n",
    "):\n",
    "    var1 = 15\n",
    "    var2 = \"BRASS\"\n",
    "    var3 = \"EUROPE\"\n",
    "\n",
    "    jn = (\n",
    "        part_ds.merge(part_supp_ds, left_on=\"p_partkey\", right_on=\"ps_partkey\")\n",
    "        .merge(supplier_ds, left_on=\"ps_suppkey\", right_on=\"s_suppkey\")\n",
    "        .merge(nation_ds, left_on=\"s_nationkey\", right_on=\"n_nationkey\")\n",
    "        .merge(region_ds, left_on=\"n_regionkey\", right_on=\"r_regionkey\")\n",
    "    )\n",
    "\n",
    "    jn = jn[jn[\"p_size\"] == var1]\n",
    "    jn = jn[jn[\"p_type\"].str.endswith(var2)]\n",
    "    jn = jn[jn[\"r_name\"] == var3]\n",
    "\n",
    "    gb = jn.groupby(\"p_partkey\", as_index=False)\n",
    "    agg = gb[\"ps_supplycost\"].min()\n",
    "    jn2 = agg.merge(jn, on=[\"p_partkey\", \"ps_supplycost\"])\n",
    "\n",
    "    sel = jn2.loc[\n",
    "        :,\n",
    "        [\n",
    "            \"s_acctbal\",\n",
    "            \"s_name\",\n",
    "            \"n_name\",\n",
    "            \"p_partkey\",\n",
    "            \"p_mfgr\",\n",
    "            \"s_address\",\n",
    "            \"s_phone\",\n",
    "            \"s_comment\",\n",
    "        ],\n",
    "    ]\n",
    "\n",
    "    sort = sel.sort_values(\n",
    "        by=[\"s_acctbal\", \"n_name\", \"s_name\", \"p_partkey\"],\n",
    "        ascending=[False, True, True, True],\n",
    "    )\n",
    "    result_df = sort.head(100)\n",
    "\n",
    "    return result_df  # type: ignore[no-any-return]"
   ]
  },
  {
   "cell_type": "code",
   "execution_count": 4,
   "id": "42e7f0e2",
   "metadata": {
    "execution": {
     "iopub.execute_input": "2024-03-22T17:24:39.066341Z",
     "iopub.status.busy": "2024-03-22T17:24:39.065881Z",
     "iopub.status.idle": "2024-03-22T17:24:39.078875Z",
     "shell.execute_reply": "2024-03-22T17:24:39.077655Z"
    },
    "papermill": {
     "duration": 0.021725,
     "end_time": "2024-03-22T17:24:39.080999",
     "exception": false,
     "start_time": "2024-03-22T17:24:39.059274",
     "status": "completed"
    },
    "tags": []
   },
   "outputs": [],
   "source": [
    "from typing import Any\n",
    "from datetime import datetime\n",
    "import narwhals as nw\n",
    "\n",
    "def q2(\n",
    "    region_ds_raw: Any,\n",
    "    nation_ds_raw: Any,\n",
    "    supplier_ds_raw: Any,\n",
    "    part_ds_raw: Any,\n",
    "    part_supp_ds_raw: Any,\n",
    ") -> Any:\n",
    "    var_1 = 15\n",
    "    var_2 = \"BRASS\"\n",
    "    var_3 = \"EUROPE\"\n",
    "\n",
    "    region_ds = nw.from_native(region_ds_raw)\n",
    "    nation_ds = nw.from_native(nation_ds_raw)\n",
    "    supplier_ds = nw.from_native(supplier_ds_raw)\n",
    "    part_ds = nw.from_native(part_ds_raw)\n",
    "    part_supp_ds = nw.from_native(part_supp_ds_raw)\n",
    "\n",
    "    result_q2 = (\n",
    "        part_ds.join(part_supp_ds, left_on=\"p_partkey\", right_on=\"ps_partkey\")\n",
    "        .join(supplier_ds, left_on=\"ps_suppkey\", right_on=\"s_suppkey\")\n",
    "        .join(nation_ds, left_on=\"s_nationkey\", right_on=\"n_nationkey\")\n",
    "        .join(region_ds, left_on=\"n_regionkey\", right_on=\"r_regionkey\")\n",
    "        .filter(\n",
    "            nw.col(\"p_size\") == var_1,\n",
    "            nw.col(\"p_type\").str.ends_with(var_2),\n",
    "            nw.col(\"r_name\") == var_3,\n",
    "        )\n",
    "    )\n",
    "\n",
    "    final_cols = [\n",
    "        \"s_acctbal\",\n",
    "        \"s_name\",\n",
    "        \"n_name\",\n",
    "        \"p_partkey\",\n",
    "        \"p_mfgr\",\n",
    "        \"s_address\",\n",
    "        \"s_phone\",\n",
    "        \"s_comment\",\n",
    "    ]\n",
    "\n",
    "    q_final = (\n",
    "        result_q2.group_by(\"p_partkey\")\n",
    "        .agg(nw.min(\"ps_supplycost\").alias(\"ps_supplycost\"))\n",
    "        .join(\n",
    "            result_q2,\n",
    "            left_on=[\"p_partkey\", \"ps_supplycost\"],\n",
    "            right_on=[\"p_partkey\", \"ps_supplycost\"],\n",
    "        )\n",
    "        .select(final_cols)\n",
    "        .sort(\n",
    "            by=[\"s_acctbal\", \"n_name\", \"s_name\", \"p_partkey\"],\n",
    "            descending=[True, False, False, False],\n",
    "        )\n",
    "        .head(100)\n",
    "    )\n",
    "\n",
    "    return nw.to_native(q_final)"
   ]
  },
  {
   "cell_type": "code",
   "execution_count": null,
   "id": "5823bdfe",
   "metadata": {},
   "outputs": [],
   "source": [
    "from typing import Any\n",
    "from datetime import datetime\n",
    "import ibis\n",
    "\n",
    "def q2_ibis(\n",
    "    region: Any,\n",
    "    nation: Any,\n",
    "    supplier: Any,\n",
    "    part: Any,\n",
    "    partsupp: Any,\n",
    "    *,\n",
    "    tool: str,\n",
    ") -> Any:\n",
    "    var1 = 15\n",
    "    var2 = \"BRASS\"\n",
    "    var3 = \"EUROPE\"\n",
    "\n",
    "    q2 = (\n",
    "        part.join(partsupp, part[\"p_partkey\"] == partsupp[\"ps_partkey\"])\n",
    "        .join(supplier, partsupp[\"ps_suppkey\"] == supplier[\"s_suppkey\"])\n",
    "        .join(nation, supplier[\"s_nationkey\"] == nation[\"n_nationkey\"])\n",
    "        .join(region, nation[\"n_regionkey\"] == region[\"r_regionkey\"])\n",
    "        .filter(ibis._[\"p_size\"] == var1)\n",
    "        .filter(ibis._[\"p_type\"].endswith(var2))\n",
    "        .filter(ibis._[\"r_name\"] == var3)\n",
    "    )\n",
    "\n",
    "    q_final = (\n",
    "        q2.group_by(\"p_partkey\")\n",
    "        .agg(ps_supplycost=ibis._[\"ps_supplycost\"].min())\n",
    "        .join(q2, [\"p_partkey\"])\n",
    "        .select(\n",
    "            \"s_acctbal\",\n",
    "            \"s_name\",\n",
    "            \"n_name\",\n",
    "            \"p_partkey\",\n",
    "            \"p_mfgr\",\n",
    "            \"s_address\",\n",
    "            \"s_phone\",\n",
    "            \"s_comment\",\n",
    "        )\n",
    "        .order_by(ibis.desc(\"s_acctbal\"), \"n_name\", \"s_name\", \"p_partkey\")\n",
    "        .limit(100)\n",
    "    )\n",
    "    if tool == 'pandas':\n",
    "        return q_final.to_pandas()\n",
    "    if tool == 'polars':\n",
    "        return q_final.to_polars()\n",
    "    raise ValueError(\"expected pandas or polars\")"
   ]
  },
  {
   "cell_type": "code",
   "execution_count": 5,
   "id": "8d540303",
   "metadata": {
    "execution": {
     "iopub.execute_input": "2024-03-22T17:24:39.093217Z",
     "iopub.status.busy": "2024-03-22T17:24:39.092874Z",
     "iopub.status.idle": "2024-03-22T17:24:39.097611Z",
     "shell.execute_reply": "2024-03-22T17:24:39.096644Z"
    },
    "papermill": {
     "duration": 0.013325,
     "end_time": "2024-03-22T17:24:39.099766",
     "exception": false,
     "start_time": "2024-03-22T17:24:39.086441",
     "status": "completed"
    },
    "tags": []
   },
   "outputs": [],
   "source": [
    "dir_ = \"/kaggle/input/tpc-h-data-parquet-s-2/\"\n",
    "region = dir_ + 'region.parquet'\n",
    "nation = dir_ + 'nation.parquet'\n",
    "customer = dir_ + 'customer.parquet'\n",
    "lineitem = dir_ + 'lineitem.parquet'\n",
    "orders = dir_ + 'orders.parquet'\n",
    "supplier = dir_ + 'supplier.parquet'\n",
    "part = dir_ + 'part.parquet'\n",
    "partsupp = dir_ + 'partsupp.parquet'"
   ]
  },
  {
   "cell_type": "code",
   "execution_count": 6,
   "id": "afc23c7d",
   "metadata": {
    "execution": {
     "iopub.execute_input": "2024-03-22T17:24:39.112703Z",
     "iopub.status.busy": "2024-03-22T17:24:39.112327Z",
     "iopub.status.idle": "2024-03-22T17:24:39.117529Z",
     "shell.execute_reply": "2024-03-22T17:24:39.116459Z"
    },
    "papermill": {
     "duration": 0.014284,
     "end_time": "2024-03-22T17:24:39.119737",
     "exception": false,
     "start_time": "2024-03-22T17:24:39.105453",
     "status": "completed"
    },
    "tags": []
   },
   "outputs": [],
   "source": [
    "import ibis\n",
    "\n",
    "con_pd = ibis.pandas.connect()\n",
    "con_pl = ibis.polars.connect()\n",
    "\n",
    "IO_FUNCS = {\n",
    "    'pandas': lambda x: pd.read_parquet(x, engine='pyarrow'),\n",
    "    'pandas[pyarrow]': lambda x: pd.read_parquet(x, engine='pyarrow', dtype_backend='pyarrow'),\n",
    "    'pandas[pyarrow][ibis]': lambda x: con_pd.read_parquet(x, engine='pyarrow', dtype_backend='pyarrow'),\n",
    "    'polars[eager]': lambda x: pl.read_parquet(x),\n",
    "    'polars[lazy]': lambda x: pl.scan_parquet(x),\n",
    "    'polars[lazy][ibis]': lambda x: con_pl.read_parquet(x),\n",
    "}"
   ]
  },
  {
   "cell_type": "code",
   "execution_count": null,
   "id": "7b521f62",
   "metadata": {},
   "outputs": [],
   "source": [
    "results = {}"
   ]
  },
  {
   "cell_type": "markdown",
   "id": "526a038b",
   "metadata": {},
   "source": [
    "## pandas, pyarrow dtypes, via ibis"
   ]
  },
  {
   "cell_type": "code",
   "execution_count": null,
   "id": "7f8b42fe",
   "metadata": {},
   "outputs": [
    {
     "name": "stdout",
     "output_type": "stream",
     "text": [
      "24 s ± 142 ms per loop (mean ± std. dev. of 7 runs, 1 loop each)\n"
     ]
    },
    {
     "data": {
      "text/plain": [
       "23.841894793999984"
      ]
     },
     "metadata": {},
     "output_type": "display_data"
    }
   ],
   "source": [
    "tool = 'pandas[pyarrow][ibis]'\n",
    "fn = IO_FUNCS[tool]\n",
    "timings = %timeit -o q2_ibis(fn(region), fn(nation), fn(supplier), fn(part), fn(partsupp), tool='pandas')\n",
    "results[tool] = timings.all_runs"
   ]
  },
  {
   "cell_type": "markdown",
   "id": "13c5e9be",
   "metadata": {},
   "source": [
    "## Polars scan_parquet via ibis"
   ]
  },
  {
   "cell_type": "code",
   "execution_count": null,
   "id": "6d15d742",
   "metadata": {},
   "outputs": [
    {
     "name": "stdout",
     "output_type": "stream",
     "text": [
      "595 ms ± 18.6 ms per loop (mean ± std. dev. of 7 runs, 1 loop each)\n"
     ]
    },
    {
     "data": {
      "text/plain": [
       "0.5674880569999914"
      ]
     },
     "metadata": {},
     "output_type": "display_data"
    }
   ],
   "source": [
    "tool = 'polars[lazy][ibis]'\n",
    "fn = IO_FUNCS[tool]\n",
    "timings = %timeit -o q2_ibis(fn(region), fn(nation), fn(supplier), fn(part), fn(partsupp), tool='polars')\n",
    "results[tool] = timings.all_runs"
   ]
  },
  {
   "cell_type": "markdown",
   "id": "eb2f8fd9",
   "metadata": {},
   "source": [
    "## pandas, pyarrow dtypes, native"
   ]
  },
  {
   "cell_type": "code",
   "execution_count": null,
   "id": "14955411",
   "metadata": {},
   "outputs": [
    {
     "name": "stdout",
     "output_type": "stream",
     "text": [
      "24 s ± 142 ms per loop (mean ± std. dev. of 7 runs, 1 loop each)\n"
     ]
    },
    {
     "data": {
      "text/plain": [
       "23.841894793999984"
      ]
     },
     "metadata": {},
     "output_type": "display_data"
    }
   ],
   "source": [
    "tool = 'pandas[pyarrow]'\n",
    "fn = IO_FUNCS[tool]\n",
    "timings = %timeit -o q2_pandas_native(fn(region), fn(nation), fn(supplier), fn(part), fn(partsupp))\n",
    "results[tool+'[native]'] = timings.all_runs"
   ]
  },
  {
   "cell_type": "markdown",
   "id": "09249944",
   "metadata": {
    "papermill": {
     "duration": 0.005113,
     "end_time": "2024-03-22T17:24:39.130472",
     "exception": false,
     "start_time": "2024-03-22T17:24:39.125359",
     "status": "completed"
    },
    "tags": []
   },
   "source": [
    "## pandas via Narwhals"
   ]
  },
  {
   "cell_type": "code",
   "execution_count": 7,
   "id": "e2663325",
   "metadata": {
    "execution": {
     "iopub.execute_input": "2024-03-22T17:24:39.142769Z",
     "iopub.status.busy": "2024-03-22T17:24:39.142165Z",
     "iopub.status.idle": "2024-03-22T17:27:55.915660Z",
     "shell.execute_reply": "2024-03-22T17:27:55.914640Z"
    },
    "papermill": {
     "duration": 196.786925,
     "end_time": "2024-03-22T17:27:55.922832",
     "exception": false,
     "start_time": "2024-03-22T17:24:39.135907",
     "status": "completed"
    },
    "tags": []
   },
   "outputs": [
    {
     "name": "stdout",
     "output_type": "stream",
     "text": [
      "24 s ± 142 ms per loop (mean ± std. dev. of 7 runs, 1 loop each)\n"
     ]
    },
    {
     "data": {
      "text/plain": [
       "23.841894793999984"
      ]
     },
     "execution_count": 7,
     "metadata": {},
     "output_type": "execute_result"
    }
   ],
   "source": [
    "tool = 'pandas'\n",
    "fn = IO_FUNCS[tool]\n",
    "timings = %timeit -o q2(fn(region), fn(nation), fn(supplier), fn(part), fn(partsupp))\n",
    "results[tool] = timings.all_runs"
   ]
  },
  {
   "cell_type": "markdown",
   "id": "0b561017",
   "metadata": {
    "papermill": {
     "duration": 0.005184,
     "end_time": "2024-03-22T17:27:55.933407",
     "exception": false,
     "start_time": "2024-03-22T17:27:55.928223",
     "status": "completed"
    },
    "tags": []
   },
   "source": [
    "## pandas, pyarrow dtypes, via Narwhals"
   ]
  },
  {
   "cell_type": "code",
   "execution_count": 8,
   "id": "32ed7477",
   "metadata": {
    "execution": {
     "iopub.execute_input": "2024-03-22T17:27:55.947042Z",
     "iopub.status.busy": "2024-03-22T17:27:55.946658Z",
     "iopub.status.idle": "2024-03-22T17:30:34.673691Z",
     "shell.execute_reply": "2024-03-22T17:30:34.672291Z"
    },
    "papermill": {
     "duration": 158.748353,
     "end_time": "2024-03-22T17:30:34.688289",
     "exception": false,
     "start_time": "2024-03-22T17:27:55.939936",
     "status": "completed"
    },
    "tags": []
   },
   "outputs": [
    {
     "name": "stdout",
     "output_type": "stream",
     "text": [
      "20.2 s ± 5.8 s per loop (mean ± std. dev. of 7 runs, 1 loop each)\n"
     ]
    },
    {
     "data": {
      "text/plain": [
       "16.42582530300001"
      ]
     },
     "execution_count": 8,
     "metadata": {},
     "output_type": "execute_result"
    }
   ],
   "source": [
    "tool = 'pandas[pyarrow]'\n",
    "fn = IO_FUNCS[tool]\n",
    "timings = %timeit -o q2(fn(region), fn(nation), fn(supplier), fn(part), fn(partsupp))\n",
    "results[tool] = timings.all_runs"
   ]
  },
  {
   "cell_type": "markdown",
   "id": "a8005d7d",
   "metadata": {
    "papermill": {
     "duration": 0.005773,
     "end_time": "2024-03-22T17:30:34.700300",
     "exception": false,
     "start_time": "2024-03-22T17:30:34.694527",
     "status": "completed"
    },
    "tags": []
   },
   "source": [
    "## Polars read_parquet"
   ]
  },
  {
   "cell_type": "code",
   "execution_count": 9,
   "id": "a5e9bfd3",
   "metadata": {
    "execution": {
     "iopub.execute_input": "2024-03-22T17:30:34.714876Z",
     "iopub.status.busy": "2024-03-22T17:30:34.714421Z",
     "iopub.status.idle": "2024-03-22T17:31:12.519452Z",
     "shell.execute_reply": "2024-03-22T17:31:12.518760Z"
    },
    "papermill": {
     "duration": 37.821116,
     "end_time": "2024-03-22T17:31:12.527466",
     "exception": false,
     "start_time": "2024-03-22T17:30:34.706350",
     "status": "completed"
    },
    "tags": []
   },
   "outputs": [
    {
     "name": "stdout",
     "output_type": "stream",
     "text": [
      "4.67 s ± 85 ms per loop (mean ± std. dev. of 7 runs, 1 loop each)\n"
     ]
    },
    {
     "data": {
      "text/plain": [
       "4.574684939999997"
      ]
     },
     "execution_count": 9,
     "metadata": {},
     "output_type": "execute_result"
    }
   ],
   "source": [
    "tool = 'polars[eager]'\n",
    "fn = IO_FUNCS[tool]\n",
    "timings = %timeit -o q2(fn(region), fn(nation), fn(supplier), fn(part), fn(partsupp))\n",
    "results[tool] = timings.all_runs"
   ]
  },
  {
   "cell_type": "markdown",
   "id": "c77a701f",
   "metadata": {
    "papermill": {
     "duration": 0.005515,
     "end_time": "2024-03-22T17:31:12.539068",
     "exception": false,
     "start_time": "2024-03-22T17:31:12.533553",
     "status": "completed"
    },
    "tags": []
   },
   "source": [
    "## Polars scan_parquet"
   ]
  },
  {
   "cell_type": "code",
   "execution_count": 10,
   "id": "7cbe1a02",
   "metadata": {
    "execution": {
     "iopub.execute_input": "2024-03-22T17:31:12.554281Z",
     "iopub.status.busy": "2024-03-22T17:31:12.553860Z",
     "iopub.status.idle": "2024-03-22T17:31:17.344303Z",
     "shell.execute_reply": "2024-03-22T17:31:17.343397Z"
    },
    "papermill": {
     "duration": 4.800698,
     "end_time": "2024-03-22T17:31:17.346813",
     "exception": false,
     "start_time": "2024-03-22T17:31:12.546115",
     "status": "completed"
    },
    "tags": []
   },
   "outputs": [
    {
     "name": "stdout",
     "output_type": "stream",
     "text": [
      "595 ms ± 18.6 ms per loop (mean ± std. dev. of 7 runs, 1 loop each)\n"
     ]
    },
    {
     "data": {
      "text/plain": [
       "0.5674880569999914"
      ]
     },
     "execution_count": 10,
     "metadata": {},
     "output_type": "execute_result"
    }
   ],
   "source": [
    "tool = 'polars[lazy]'\n",
    "fn = IO_FUNCS[tool]\n",
    "timings = %timeit -o q2(fn(region), fn(nation), fn(supplier), fn(part), fn(partsupp)).collect()\n",
    "results[tool] = timings.all_runs"
   ]
  },
  {
   "cell_type": "markdown",
   "id": "37ce6bf3",
   "metadata": {},
   "source": [
    "## Save"
   ]
  },
  {
   "cell_type": "code",
   "execution_count": null,
   "id": "14399622",
   "metadata": {},
   "outputs": [],
   "source": [
    "import json\n",
    "with open('results.json', 'w') as fd:\n",
    "    json.dump(results, fd)\n"
   ]
  }
 ],
 "metadata": {
  "kaggle": {
   "accelerator": "none",
   "dataSources": [
    {
     "sourceId": 167796716,
     "sourceType": "kernelVersion"
    },
    {
     "sourceId": 167796934,
     "sourceType": "kernelVersion"
    },
    {
     "sourceId": 167796952,
     "sourceType": "kernelVersion"
    },
    {
     "sourceId": 167796969,
     "sourceType": "kernelVersion"
    }
   ],
   "isGpuEnabled": false,
   "isInternetEnabled": true,
   "language": "python",
   "sourceType": "notebook"
  },
  "kernelspec": {
   "display_name": "Python 3",
   "language": "python",
   "name": "python3"
  },
  "language_info": {
   "codemirror_mode": {
    "name": "ipython",
    "version": 3
   },
   "file_extension": ".py",
   "mimetype": "text/x-python",
   "name": "python",
   "nbconvert_exporter": "python",
   "pygments_lexer": "ipython3",
   "version": "3.10.13"
  },
  "papermill": {
   "default_parameters": {},
   "duration": 458.423327,
   "end_time": "2024-03-22T17:31:18.077306",
   "environment_variables": {},
   "exception": null,
   "input_path": "__notebook__.ipynb",
   "output_path": "__notebook__.ipynb",
   "parameters": {},
   "start_time": "2024-03-22T17:23:39.653979",
   "version": "2.5.0"
  }
 },
 "nbformat": 4,
 "nbformat_minor": 5
}
