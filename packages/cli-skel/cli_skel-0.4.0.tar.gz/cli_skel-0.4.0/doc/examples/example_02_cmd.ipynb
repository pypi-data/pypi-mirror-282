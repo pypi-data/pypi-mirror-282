{
 "cells": [
  {
   "cell_type": "markdown",
   "id": "df24054a-ac8f-4aa2-8de2-cf29cbf8cbbb",
   "metadata": {},
   "source": [
    "# A basic `cmd`-based application with cli_skel."
   ]
  },
  {
   "cell_type": "markdown",
   "id": "7f6cb5ec-a160-4266-9e82-be01c1faffbf",
   "metadata": {},
   "source": [
    "## Import `cmd` + `cli_skel`"
   ]
  },
  {
   "cell_type": "code",
   "execution_count": 7,
   "id": "177a6018-9b0c-4073-b0bc-342802386d6a",
   "metadata": {},
   "outputs": [],
   "source": [
    "import argparse\n",
    "import cmd\n",
    "from cli_skel.cmd_skel import skel_to_cmd"
   ]
  },
  {
   "cell_type": "markdown",
   "id": "a19f5cb8-d996-4224-b601-949c9fb612cb",
   "metadata": {},
   "source": [
    "## Create cli-skeleton\n",
    "\n",
    "Create a cli-skeleton for a command line application which takes two optional parameters `--verbose` and `--log-level` and on positional parameter which is one of `get`, `set`, `add`, or `del`.\n",
    "\n",
    "set the prog name in the parser to `myprog` -- this is done by adding the `()` key to the toplevel, which is passed to the constructor of the parser. Also, attach a callback which prints the action name to each action. This payload is attached with the `'->'` key in the dictionary defining each action."
   ]
  },
  {
   "cell_type": "code",
   "execution_count": 8,
   "id": "0940f653-4301-4476-b5a3-64672c6ed955",
   "metadata": {},
   "outputs": [
    {
     "data": {
      "text/plain": [
       "{(): {'prog': 'myprog'},\n",
       " '--verbose': {'type': bool,\n",
       "  'action': argparse.BooleanOptionalAction,\n",
       "  'default': True,\n",
       "  'help': 'Select verbosity'},\n",
       " '--log-level': {'choices': ['debug', 'info', 'warning', 'error'],\n",
       "  'default': 'warning',\n",
       "  'help': 'Select log level'},\n",
       " '_': {'get': {'->': <function __main__.<lambda>(*a, **k)>},\n",
       "  'set': {'->': <function __main__.<lambda>(*a, **k)>},\n",
       "  'del': {'->': <function __main__.<lambda>(*a, **k)>},\n",
       "  'add': {'->': <function __main__.<lambda>(*a, **k)>}}}"
      ]
     },
     "execution_count": 8,
     "metadata": {},
     "output_type": "execute_result"
    }
   ],
   "source": [
    "skel = {\n",
    "    (): {\n",
    "        'prog': 'myprog' \n",
    "    },\n",
    "    \n",
    "    '--verbose': {\n",
    "        'type': bool,\n",
    "        'action': argparse.BooleanOptionalAction,\n",
    "        'default': True,\n",
    "        'help': 'Select verbosity',\n",
    "    },\n",
    "\n",
    "    '--log-level': {\n",
    "        'choices': ['debug', 'info', 'warning', 'error'],\n",
    "        'default': 'warning',\n",
    "        'help': 'Select log level',\n",
    "    },\n",
    "\n",
    "    '_': {\n",
    "        'get': { '->': lambda *a, **k: print('getting', a, k) },\n",
    "        'set': { '->': lambda *a, **k: print('setting', a, k) },\n",
    "        'del': { '->': lambda *a, **k: print('deleting', a, k) },\n",
    "        'add': { '->': lambda *a, **k: print('adding', a, k) },\n",
    "    },\n",
    "}\n",
    "skel"
   ]
  },
  {
   "cell_type": "markdown",
   "id": "1e8fb24a-188f-4c4d-8b6a-10d150ddbc66",
   "metadata": {},
   "source": [
    "## Convert `skel` to `cmd.Cmd`\n",
    "\n",
    "The call to `skel_to_cmd(...)` will convert the cli-skeleton to a `cmd.Cmd` object.\n",
    "The additional parameters `prompt`, `intro`, `outro` and `internal_cmd_prefix` define respectively the command loop prompt, the introduction text, the session end text, and the prefix used before internal commands provided by the command interpreter."
   ]
  },
  {
   "cell_type": "code",
   "execution_count": 11,
   "id": "3c795b7f-d19c-473c-ae8d-44f8ff3ff547",
   "metadata": {},
   "outputs": [
    {
     "data": {
      "text/plain": [
       "<cli_skel.cmd_skel.skel_to_cmd_cls.<locals>.SkelCmd at 0x7f770f132bd0>"
      ]
     },
     "execution_count": 11,
     "metadata": {},
     "output_type": "execute_result"
    }
   ],
   "source": [
    "cmd = skel_to_cmd(\n",
    "    skel,\n",
    "    prompt='>>>',\n",
    "    intro='Hello buddy!',\n",
    "    outro='Sad to see you go...',\n",
    "    internal_cmd_prefix='/'\n",
    ")\n",
    "cmd"
   ]
  },
  {
   "cell_type": "markdown",
   "id": "8ea9d6f1-87ea-46d8-9ad2-4fa797619843",
   "metadata": {},
   "source": [
    "### Run Command Loop\n",
    "\n",
    "Run the command loop\n",
    "\n",
    "Following is the command loop + some commands that were run in the command interpreter."
   ]
  },
  {
   "cell_type": "code",
   "execution_count": 12,
   "id": "798b1512-6d59-4214-97dc-0bc89e244e23",
   "metadata": {},
   "outputs": [
    {
     "name": "stdout",
     "output_type": "stream",
     "text": [
      "Hello buddy!\n"
     ]
    },
    {
     "name": "stdin",
     "output_type": "stream",
     "text": [
      ">>> /help\n"
     ]
    },
    {
     "name": "stdout",
     "output_type": "stream",
     "text": [
      "usage:  [-h] [--verbose | --no-verbose]\n",
      "        [--log-level {debug,info,warning,error}]\n",
      "        {get,set,del,add} ...\n",
      "\n",
      "positional arguments:\n",
      "  {get,set,del,add}\n",
      "\n",
      "options:\n",
      "  -h, --help            show this help message and exit\n",
      "  --verbose, --no-verbose\n",
      "                        Select verbosity\n",
      "  --log-level {debug,info,warning,error}\n",
      "                        Select log level\n"
     ]
    },
    {
     "name": "stdin",
     "output_type": "stream",
     "text": [
      ">>> /usage -a\n"
     ]
    },
    {
     "name": "stdout",
     "output_type": "stream",
     "text": [
      "usage:  [-h] [--verbose | --no-verbose]\n",
      "        [--log-level {debug,info,warning,error}]\n",
      "        {get,set,del,add} ...\n",
      "usage:  get [-h]\n",
      "usage:  set [-h]\n",
      "usage:  del [-h]\n",
      "usage:  add [-h]\n"
     ]
    },
    {
     "name": "stdin",
     "output_type": "stream",
     "text": [
      ">>> get \n"
     ]
    },
    {
     "name": "stdout",
     "output_type": "stream",
     "text": [
      "getting (Namespace(verbose=True, log_level='warning', toplevel_dest='get', target_=<function <lambda> at 0x7f770ee463e0>),) {}\n"
     ]
    },
    {
     "name": "stdin",
     "output_type": "stream",
     "text": [
      ">>> set\n"
     ]
    },
    {
     "name": "stdout",
     "output_type": "stream",
     "text": [
      "setting (Namespace(verbose=True, log_level='warning', toplevel_dest='set', target_=<function <lambda> at 0x7f770ee46200>),) {}\n"
     ]
    },
    {
     "name": "stdin",
     "output_type": "stream",
     "text": [
      ">>> del\n"
     ]
    },
    {
     "name": "stdout",
     "output_type": "stream",
     "text": [
      "deleting (Namespace(verbose=True, log_level='warning', toplevel_dest='del', target_=<function <lambda> at 0x7f770ee467a0>),) {}\n"
     ]
    },
    {
     "name": "stdin",
     "output_type": "stream",
     "text": [
      ">>> add\n"
     ]
    },
    {
     "name": "stdout",
     "output_type": "stream",
     "text": [
      "adding (Namespace(verbose=True, log_level='warning', toplevel_dest='add', target_=<function <lambda> at 0x7f770ee46700>),) {}\n"
     ]
    },
    {
     "name": "stdin",
     "output_type": "stream",
     "text": [
      ">>> /exit\n"
     ]
    },
    {
     "name": "stdout",
     "output_type": "stream",
     "text": [
      "Sad to see you go...\n"
     ]
    }
   ],
   "source": [
    "cmd.cmdloop()"
   ]
  },
  {
   "cell_type": "code",
   "execution_count": null,
   "id": "69817cab-b009-4051-9c77-86bdfe08eb1d",
   "metadata": {},
   "outputs": [],
   "source": []
  }
 ],
 "metadata": {
  "kernelspec": {
   "display_name": "Python 3 (ipykernel)",
   "language": "python",
   "name": "python3"
  },
  "language_info": {
   "codemirror_mode": {
    "name": "ipython",
    "version": 3
   },
   "file_extension": ".py",
   "mimetype": "text/x-python",
   "name": "python",
   "nbconvert_exporter": "python",
   "pygments_lexer": "ipython3",
   "version": "3.12.3"
  }
 },
 "nbformat": 4,
 "nbformat_minor": 5
}
