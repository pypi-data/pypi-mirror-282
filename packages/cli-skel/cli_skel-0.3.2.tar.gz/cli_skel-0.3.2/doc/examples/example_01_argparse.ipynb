{
 "cells": [
  {
   "cell_type": "markdown",
   "id": "96a5ddc6-eb9a-47c7-af86-16252b4d778a",
   "metadata": {},
   "source": [
    "# A basic cli application with cli_skel."
   ]
  },
  {
   "cell_type": "markdown",
   "id": "090155b7-0fa4-4105-a899-d7bf0f81189f",
   "metadata": {},
   "source": [
    "## Import `argparse` + `cli_skel`"
   ]
  },
  {
   "cell_type": "code",
   "execution_count": 1,
   "id": "9d3ba03f-c872-4e64-89ce-8d83fd7ab273",
   "metadata": {},
   "outputs": [],
   "source": [
    "import argparse\n",
    "from cli_skel.argparse_skel import skel_to_argparse"
   ]
  },
  {
   "cell_type": "markdown",
   "id": "69b99536-d726-4d6f-af3a-593d4d39b1ba",
   "metadata": {},
   "source": [
    "## Create cli-skeleton\n",
    "\n",
    "Create a cli-skeleton for a command line application which takes two optional parameters `--verbose` and `--log-level` and on positional parameter which is one of `get`, `set`, `add`, or `del`.\n",
    "\n",
    "set the prog name in the parser to `myprog` -- this is done by adding the `()` key to the toplevel, which is passed to the constructor of the parser. Also, attach a callback which prints the action name to each action. This payload is attached with the `'->'` key in the dictionary defining each action."
   ]
  },
  {
   "cell_type": "code",
   "execution_count": 2,
   "id": "fcde76fb-31f8-49b1-b60f-160bd849c33a",
   "metadata": {},
   "outputs": [
    {
     "data": {
      "text/plain": [
       "{(): {'prog': 'myprog'},\n",
       " '--verbose': {'type': bool,\n",
       "  'action': argparse.BooleanOptionalAction,\n",
       "  'default': True,\n",
       "  'help': 'Select verbosity'},\n",
       " '--log-level': {'choices': ['debug', 'info', 'warning', 'error'],\n",
       "  'default': 'warning',\n",
       "  'help': 'Select log level'},\n",
       " '_': {'get': {'->': <function __main__.<lambda>(*a, **k)>},\n",
       "  'set': {'->': <function __main__.<lambda>(*a, **k)>},\n",
       "  'del': {'->': <function __main__.<lambda>(*a, **k)>},\n",
       "  'add': {'->': <function __main__.<lambda>(*a, **k)>}}}"
      ]
     },
     "execution_count": 2,
     "metadata": {},
     "output_type": "execute_result"
    }
   ],
   "source": [
    "skel = {\n",
    "    (): {\n",
    "        'prog': 'myprog' \n",
    "    },\n",
    "    '--verbose': {\n",
    "        'type': bool,\n",
    "        'action': argparse.BooleanOptionalAction,\n",
    "        'default': True,\n",
    "        'help': 'Select verbosity',\n",
    "    },\n",
    "\n",
    "    '--log-level': {\n",
    "        'choices': ['debug', 'info', 'warning', 'error'],\n",
    "        'default': 'warning',\n",
    "        'help': 'Select log level',\n",
    "    },\n",
    "\n",
    "    '_': {\n",
    "        'get': { '->': lambda *a, **k: print('getting', a, k) },\n",
    "        'set': { '->': lambda *a, **k: print('setting', a, k) },\n",
    "        'del': { '->': lambda *a, **k: print('deleting', a, k) },\n",
    "        'add': { '->': lambda *a, **k: print('adding', a, k) },\n",
    "    },\n",
    "}\n",
    "skel"
   ]
  },
  {
   "cell_type": "markdown",
   "id": "3900a089-49a3-4e03-b9da-86b62ccbda1f",
   "metadata": {},
   "source": [
    "## Convert `skel` to `argparse.ArgumentParser`\n",
    "\n",
    "The call to `skel_to_argparse(...)` will convert the cli-skeleton to a `Result` object.\n",
    "If the conversion succeeded the result object will return an `argparse.ArgumentParser` when `getvalue()` is called.\n",
    "Otherwise, an exception will be raised by `getvalue()`."
   ]
  },
  {
   "cell_type": "code",
   "execution_count": 3,
   "id": "219e012a-9b28-4ebc-be18-e1d25e82d023",
   "metadata": {},
   "outputs": [
    {
     "data": {
      "text/plain": [
       "ArgumentParser(prog='myprog', usage=None, description=None, formatter_class=<class 'argparse.HelpFormatter'>, conflict_handler='error', add_help=True)"
      ]
     },
     "execution_count": 3,
     "metadata": {},
     "output_type": "execute_result"
    }
   ],
   "source": [
    "parser = skel_to_argparse(skel).getvalue()\n",
    "parser"
   ]
  },
  {
   "cell_type": "markdown",
   "id": "ad6edc97-a4da-403f-872f-2770f0e41c16",
   "metadata": {},
   "source": [
    "### Print Parser Help\n",
    "\n",
    "Validate that the parser was constructed as desired."
   ]
  },
  {
   "cell_type": "code",
   "execution_count": 4,
   "id": "f679c368-155b-4484-a45d-171218783ecb",
   "metadata": {},
   "outputs": [
    {
     "name": "stdout",
     "output_type": "stream",
     "text": [
      "usage: myprog [-h] [--verbose | --no-verbose]\n",
      "              [--log-level {debug,info,warning,error}]\n",
      "              {get,set,del,add} ...\n",
      "\n",
      "positional arguments:\n",
      "  {get,set,del,add}\n",
      "\n",
      "options:\n",
      "  -h, --help            show this help message and exit\n",
      "  --verbose, --no-verbose\n",
      "                        Select verbosity\n",
      "  --log-level {debug,info,warning,error}\n",
      "                        Select log level\n",
      "\n"
     ]
    }
   ],
   "source": [
    "print(parser.format_help())"
   ]
  },
  {
   "cell_type": "markdown",
   "id": "e77fcbec-4c98-4728-ab53-b67650ea576b",
   "metadata": {},
   "source": [
    "### Print Parser Usage\n",
    "\n",
    "Validate that the parser was constructed as desired with usage info."
   ]
  },
  {
   "cell_type": "code",
   "execution_count": 5,
   "id": "10ee0f31-4040-4cb3-85a0-c7cf66867ae8",
   "metadata": {},
   "outputs": [
    {
     "name": "stdout",
     "output_type": "stream",
     "text": [
      "usage: myprog [-h] [--verbose | --no-verbose]\n",
      "              [--log-level {debug,info,warning,error}]\n",
      "              {get,set,del,add} ...\n",
      "\n"
     ]
    }
   ],
   "source": [
    "print(parser.format_usage())"
   ]
  },
  {
   "cell_type": "markdown",
   "id": "3f245c6f-f3de-4710-993a-9b2c052ec0b6",
   "metadata": {},
   "source": [
    "## Use Parser\n",
    "\n",
    "Perform a call to `parse_args` imitating the cli call `myprog --no-verbose --log-level=error get`."
   ]
  },
  {
   "cell_type": "code",
   "execution_count": 6,
   "id": "af4b7e26-5f63-49b4-bcb5-440a7fcaeaf3",
   "metadata": {},
   "outputs": [
    {
     "data": {
      "text/plain": [
       "Namespace(verbose=False, log_level='error', toplevel_dest='get', target_=<function <lambda> at 0x736bc0027380>)"
      ]
     },
     "execution_count": 6,
     "metadata": {},
     "output_type": "execute_result"
    }
   ],
   "source": [
    "ns = parser.parse_args(['--no-verbose', '--log-level=error', 'get'])\n",
    "ns"
   ]
  },
  {
   "cell_type": "markdown",
   "id": "9f1d5fca-73f5-4e87-8822-c61a03dce508",
   "metadata": {},
   "source": [
    "### Run the target payload"
   ]
  },
  {
   "cell_type": "code",
   "execution_count": 7,
   "id": "987f769a-a274-4935-8fbc-3b063236bd6d",
   "metadata": {},
   "outputs": [
    {
     "name": "stdout",
     "output_type": "stream",
     "text": [
      "getting () {}\n"
     ]
    }
   ],
   "source": [
    "ns.target_()"
   ]
  }
 ],
 "metadata": {
  "kernelspec": {
   "display_name": "Python 3 (ipykernel)",
   "language": "python",
   "name": "python3"
  },
  "language_info": {
   "codemirror_mode": {
    "name": "ipython",
    "version": 3
   },
   "file_extension": ".py",
   "mimetype": "text/x-python",
   "name": "python",
   "nbconvert_exporter": "python",
   "pygments_lexer": "ipython3",
   "version": "3.12.3"
  }
 },
 "nbformat": 4,
 "nbformat_minor": 5
}
