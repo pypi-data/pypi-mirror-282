{
 "cells": [
  {
   "cell_type": "markdown",
   "id": "db1d999c",
   "metadata": {},
   "source": [
    "# Units of Measure\n",
    "\n",
    "This library `units-of-measure` (package `unitsofmeasure`) models units of measurement.\n",
    "\n",
    "## Scalars\n",
    "\n",
    "have no physical dimension."
   ]
  },
  {
   "cell_type": "code",
   "execution_count": 1,
   "id": "0fb0c495",
   "metadata": {
    "scrolled": true
   },
   "outputs": [
    {
     "name": "stdout",
     "output_type": "stream",
     "text": [
      "angle: 90 °\n"
     ]
    },
    {
     "data": {
      "text/plain": [
       "Unit(symbol=\"°\", name=\"degree\", dimension=Dimension(kg=0, m=0, s=0, A=0, K=0, cd=0, mol=0, symbol=\"\", name=\"\"), prefix=Prefix(base=10, exponent=0, symbol=\"\", name=\"\"), factor=Fraction(1, 1))"
      ]
     },
     "execution_count": 1,
     "metadata": {},
     "output_type": "execute_result"
    }
   ],
   "source": [
    "from unitsofmeasure import Unit\n",
    "angle = 90\n",
    "deg = Unit(\"°\", \"degree\")\n",
    "print(\"angle:\", angle, deg)\n",
    "deg"
   ]
  },
  {
   "cell_type": "markdown",
   "id": "57d35547",
   "metadata": {},
   "source": [
    "The default dimension is the scalar, where the exponents of the SI base units are all 0."
   ]
  },
  {
   "cell_type": "code",
   "execution_count": 2,
   "id": "12c9a5f3",
   "metadata": {},
   "outputs": [
    {
     "data": {
      "text/plain": [
       "Dimension(kg=0, m=0, s=0, A=0, K=0, cd=0, mol=0, symbol=\"\", name=\"\")"
      ]
     },
     "execution_count": 2,
     "metadata": {},
     "output_type": "execute_result"
    }
   ],
   "source": [
    "from unitsofmeasure import SCALAR\n",
    "SCALAR"
   ]
  },
  {
   "cell_type": "markdown",
   "id": "b829f6ae",
   "metadata": {},
   "source": [
    "The default prefix is no prefix, which is equivalent to the prefix 1, or base 10 raised to the power of 0."
   ]
  },
  {
   "cell_type": "code",
   "execution_count": 3,
   "id": "e111ae53",
   "metadata": {},
   "outputs": [
    {
     "data": {
      "text/plain": [
       "Prefix(base=10, exponent=0, symbol=\"\", name=\"\")"
      ]
     },
     "execution_count": 3,
     "metadata": {},
     "output_type": "execute_result"
    }
   ],
   "source": [
    "from unitsofmeasure import PREFIX_1\n",
    "PREFIX_1"
   ]
  },
  {
   "cell_type": "markdown",
   "id": "3818b6c6",
   "metadata": {},
   "source": [
    "## Dimension\n",
    "\n",
    "Physical units have a dimension."
   ]
  },
  {
   "cell_type": "code",
   "execution_count": 4,
   "id": "939b38dd",
   "metadata": {},
   "outputs": [
    {
     "name": "stdout",
     "output_type": "stream",
     "text": [
      "time: 0.25 s\n"
     ]
    },
    {
     "data": {
      "text/plain": [
       "Unit(symbol=\"s\", name=\"second\", dimension=Dimension(kg=0, m=0, s=1, A=0, K=0, cd=0, mol=0, symbol=\"t\", name=\"time\"), prefix=Prefix(base=10, exponent=0, symbol=\"\", name=\"\"), factor=Fraction(1, 1))"
      ]
     },
     "execution_count": 4,
     "metadata": {},
     "output_type": "execute_result"
    }
   ],
   "source": [
    "from unitsofmeasure import Dimension\n",
    "time = 0.25\n",
    "s = Unit(\"s\", \"second\", Dimension(s=1, symbol=\"t\", name=\"time\"))\n",
    "print(\"time:\", time, s)\n",
    "s"
   ]
  },
  {
   "cell_type": "code",
   "execution_count": 5,
   "id": "fdd41c54",
   "metadata": {},
   "outputs": [
    {
     "name": "stdout",
     "output_type": "stream",
     "text": [
      "rotational speed: 60.0 rpm\n"
     ]
    },
    {
     "data": {
      "text/plain": [
       "Unit(symbol=\"rpm\", name=\"rounds per minute\", dimension=Dimension(kg=0, m=0, s=-1, A=0, K=0, cd=0, mol=0, symbol=\"f\", name=\"frequency\"), prefix=Prefix(base=10, exponent=0, symbol=\"\", name=\"\"), factor=Fraction(1, 1))"
      ]
     },
     "execution_count": 5,
     "metadata": {},
     "output_type": "execute_result"
    }
   ],
   "source": [
    "rpm = Unit(\"rpm\", \"rounds per minute\", Dimension(s=-1, symbol=\"f\", name=\"frequency\"))\n",
    "print(\"rotational speed:\", angle/360/time*60, rpm)\n",
    "rpm"
   ]
  },
  {
   "cell_type": "markdown",
   "id": "b3dee43e",
   "metadata": {},
   "source": [
    "Dimensions can have symbols and names.\n",
    "\n",
    "### SI Base Units\n",
    "\n",
    "are already defined in module `base`."
   ]
  },
  {
   "cell_type": "code",
   "execution_count": 6,
   "id": "a8182913",
   "metadata": {},
   "outputs": [
    {
     "name": "stdout",
     "output_type": "stream",
     "text": [
      "unit----------- dimension-----------------------\n",
      "symbol name     symbol name\n",
      "------ -------- ------ -------------------------\n",
      "kg     kilogram m      mass                     \n",
      "m      metre    l      length                   \n",
      "s      second   t      time                     \n",
      "A      ampere   I      electric current         \n",
      "K      kelvin   T      thermodynamic temperature\n",
      "cd     candela  Iv     luminous intensity       \n",
      "mol    mole     n      amount of substance      \n"
     ]
    }
   ],
   "source": [
    "from unitsofmeasure import base\n",
    "print(\"unit----------- dimension-----------------------\")\n",
    "print(\"symbol name     symbol name\")\n",
    "print(\"------ -------- ------ -------------------------\")\n",
    "for unit in base.units.values():\n",
    "    print(f\"{unit!s:6} {unit.name:8} {unit.dimension!s:6} {unit.dimension.name:25}\")"
   ]
  },
  {
   "cell_type": "markdown",
   "id": "65bc907a",
   "metadata": {},
   "source": [
    "### SI Derived Units\n",
    "\n",
    "are already defined in module `derived`."
   ]
  },
  {
   "cell_type": "code",
   "execution_count": 7,
   "id": "8c90f4fd",
   "metadata": {
    "scrolled": true
   },
   "outputs": [
    {
     "name": "stdout",
     "output_type": "stream",
     "text": [
      "unit----------------- dimension-----------------------\n",
      "symbol name           symbol name\n",
      "------ -------------- ------ -------------------------\n",
      "rad    radian         θ      plane angle              \n",
      "sr     steradian      Ω      solid angle              \n",
      "Hz     hertz          f      frequency                \n",
      "N      newton         F      force                    \n",
      "Pa     pascal         p      pressure                 \n",
      "J      joule          E      energy                   \n",
      "W      watt           P      power                    \n",
      "C      coulomb        q      electric charge          \n",
      "V      volt           V      voltage                  \n",
      "F      farad          C      capacitance              \n",
      "Ω      ohm            R      electric resistance      \n",
      "S      siemens        G      electric conductance     \n",
      "Wb     weber          Φ      magnetic flux            \n",
      "T      tesla          B      magnetic flux density    \n",
      "H      henry          L      inductance               \n",
      "°C     degree Celsius T      thermodynamic temperature\n",
      "lm     lumen          Φv     luminous flux            \n",
      "lx     lux            Ev     illuminance              \n",
      "Bq     becquerel      A      radioactivity            \n",
      "Gy     gray           D      absorbed dose            \n",
      "Sv     sievert        H      equivalent dose          \n",
      "kat    katal                 catalytic activity       \n"
     ]
    }
   ],
   "source": [
    "from unitsofmeasure import derived\n",
    "print(\"unit----------------- dimension-----------------------\")\n",
    "print(\"symbol name           symbol name\")\n",
    "print(\"------ -------------- ------ -------------------------\")\n",
    "for unit in derived.units.values():\n",
    "    print(f\"{unit!s:6} {unit.name:14} {unit.dimension!s:6} {unit.dimension.name:25}\")"
   ]
  },
  {
   "cell_type": "markdown",
   "id": "856b1d00",
   "metadata": {},
   "source": [
    "### SI Accepted Units\n",
    "\n",
    "are already defined in module `accepted`."
   ]
  },
  {
   "cell_type": "code",
   "execution_count": 8,
   "id": "307ba6fc",
   "metadata": {
    "scrolled": true
   },
   "outputs": [
    {
     "name": "stdout",
     "output_type": "stream",
     "text": [
      "unit-------------------- dimension----\n",
      "symbol name              symbol name\n",
      "------ ----------------- ------ ------\n",
      "min    minute            t      time  \n",
      "h      hour              t      time  \n",
      "d      day               t      time  \n",
      "au     astronomical unit l      length\n",
      "ha     hectare           A      area  \n",
      "l      litre             V      volume\n",
      "t      tonne             m      mass  \n"
     ]
    }
   ],
   "source": [
    "from unitsofmeasure import accepted\n",
    "print(\"unit-------------------- dimension----\")\n",
    "print(\"symbol name              symbol name\")\n",
    "print(\"------ ----------------- ------ ------\")\n",
    "for unit in accepted.units.values():\n",
    "    print(f\"{unit!s:6} {unit.name:17} {unit.dimension!s:6} {unit.dimension.name:6}\")"
   ]
  },
  {
   "cell_type": "markdown",
   "id": "0a0f7de2",
   "metadata": {},
   "source": [
    "## Prefix\n",
    "\n",
    "Larger or smaller quantities can be expressed with prefixes."
   ]
  },
  {
   "cell_type": "code",
   "execution_count": 9,
   "id": "016f10fb",
   "metadata": {},
   "outputs": [
    {
     "name": "stdout",
     "output_type": "stream",
     "text": [
      "mass: 2 kg\n"
     ]
    },
    {
     "data": {
      "text/plain": [
       "Unit(symbol=\"kg\", name=\"kilogram\", dimension=Dimension(kg=1, m=0, s=0, A=0, K=0, cd=0, mol=0, symbol=\"\", name=\"\"), prefix=Prefix(base=10, exponent=3, symbol=\"k\", name=\"kilo\"), factor=Fraction(1, 1))"
      ]
     },
     "execution_count": 9,
     "metadata": {},
     "output_type": "execute_result"
    }
   ],
   "source": [
    "from unitsofmeasure import decprefix\n",
    "mass = 2\n",
    "kg = Unit(\"kg\", \"kilogram\", Dimension(kg=1), decprefix.k)\n",
    "print(\"mass:\", mass, kg)\n",
    "kg"
   ]
  },
  {
   "cell_type": "markdown",
   "id": "5947f62e",
   "metadata": {},
   "source": [
    "The value `base` raised to the power of `exponent` defines a total order on prefixes.\n",
    "\n",
    "### SI Prefixes\n",
    "\n",
    "are already defined in the modules `decprefix` and `binprefix`.\n",
    "\n",
    "#### Decimal Prefixes\n",
    "\n",
    "have base 10 and enumerate exponents with absolute value 1 and 2, and in steps of 3. Multiples have exponents > 0 and sub-multiples have exponents < 0."
   ]
  },
  {
   "cell_type": "code",
   "execution_count": 10,
   "id": "01b631af",
   "metadata": {},
   "outputs": [
    {
     "name": "stdout",
     "output_type": "stream",
     "text": [
      "symbol name   base exponent\n",
      "------ ------ ---- --------\n",
      "da     deca     10        1\n",
      "h      hecto    10        2\n",
      "k      kilo     10        3\n",
      "M      mega     10        6\n",
      "G      giga     10        9\n",
      "T      tera     10       12\n",
      "P      peta     10       15\n",
      "E      exa      10       18\n",
      "Z      zetta    10       21\n",
      "Y      yotta    10       24\n",
      "R      ronna    10       27\n",
      "Q      quetta   10       30\n",
      "d      deci     10       -1\n",
      "c      centi    10       -2\n",
      "m      milli    10       -3\n",
      "µ      micro    10       -6\n",
      "n      nano     10       -9\n",
      "p      pico     10      -12\n",
      "f      femto    10      -15\n",
      "a      atto     10      -18\n",
      "z      zepto    10      -21\n",
      "y      yocto    10      -24\n",
      "r      ronto    10      -27\n",
      "q      quecto   10      -30\n"
     ]
    }
   ],
   "source": [
    "print(\"symbol name   base exponent\")\n",
    "print(\"------ ------ ---- --------\")\n",
    "for prefix in decprefix.prefixes.values():\n",
    "    print(f\"{prefix!s:6} {prefix.name:6} {prefix.base:4} {prefix.exponent:8}\")"
   ]
  },
  {
   "cell_type": "markdown",
   "id": "9b099506",
   "metadata": {},
   "source": [
    "#### Binary Prefixes\n",
    "have base 2 and enumerate exponents in steps of 10. This is equivalent to base 1024 and exponents in steps of 1."
   ]
  },
  {
   "cell_type": "code",
   "execution_count": 11,
   "id": "1316ff10",
   "metadata": {},
   "outputs": [
    {
     "name": "stdout",
     "output_type": "stream",
     "text": [
      "symbol name base exponent\n",
      "------ ---- ---- --------\n",
      "Ki     kibi    2       10\n",
      "Mi     mebi    2       20\n",
      "Gi     gibi    2       30\n",
      "Ti     tebi    2       40\n",
      "Pi     pebi    2       50\n",
      "Ei     exbi    2       60\n",
      "Zi     zebi    2       70\n",
      "Yi     yobi    2       80\n"
     ]
    }
   ],
   "source": [
    "from unitsofmeasure import binprefix\n",
    "print(\"symbol name base exponent\")\n",
    "print(\"------ ---- ---- --------\")\n",
    "for prefix in binprefix.prefixes.values():\n",
    "    print(f\"{prefix!s:6} {prefix.name:4} {prefix.base:4} {prefix.exponent:8}\")"
   ]
  },
  {
   "cell_type": "markdown",
   "id": "ff77be57",
   "metadata": {},
   "source": [
    "## Fraction\n",
    "\n",
    "Multiples and sub-multiples can be expressed with factors."
   ]
  },
  {
   "cell_type": "code",
   "execution_count": 12,
   "id": "841af2dd",
   "metadata": {},
   "outputs": [
    {
     "name": "stdout",
     "output_type": "stream",
     "text": [
      "Mt\n"
     ]
    },
    {
     "data": {
      "text/plain": [
       "Unit(symbol=\"Mt\", name=\"megatonnes\", dimension=Dimension(kg=1, m=0, s=0, A=0, K=0, cd=0, mol=0, symbol=\"m\", name=\"mass\"), prefix=Prefix(base=10, exponent=6, symbol=\"M\", name=\"mega\"), factor=Fraction(1000, 1))"
      ]
     },
     "execution_count": 12,
     "metadata": {},
     "output_type": "execute_result"
    }
   ],
   "source": [
    "from fractions import Fraction\n",
    "Mt = Unit(\"Mt\", \"megatonnes\", base.kg.dimension, decprefix.M, Fraction(1000,1))\n",
    "print(Mt)\n",
    "Mt"
   ]
  },
  {
   "cell_type": "markdown",
   "id": "c5c38da0",
   "metadata": {},
   "source": [
    "## Unit Map\n",
    "\n",
    "You can map objects to units in a `UnitMap`."
   ]
  },
  {
   "cell_type": "code",
   "execution_count": 13,
   "id": "3608f8bf",
   "metadata": {},
   "outputs": [
    {
     "name": "stdout",
     "output_type": "stream",
     "text": [
      "mass: 10 Mt\n"
     ]
    }
   ],
   "source": [
    "from unitsofmeasure import UnitMap\n",
    "unit_map = UnitMap()\n",
    "class Measure:\n",
    "    def __init__(self, value):\n",
    "        self.value = value\n",
    "mass = Measure(10)\n",
    "unit_map.set(mass, Mt)\n",
    "print(\"mass:\", mass.value, unit_map.get(mass))"
   ]
  },
  {
   "cell_type": "markdown",
   "id": "31df2ce0",
   "metadata": {},
   "source": [
    "This is less invasive than injecting units as attributes into arbitrary objects, which can cause silent errors if objects already have attributes of the same name."
   ]
  },
  {
   "cell_type": "code",
   "execution_count": 14,
   "id": "93b7336b",
   "metadata": {},
   "outputs": [
    {
     "name": "stdout",
     "output_type": "stream",
     "text": [
      "unit: Data Center\n",
      "unit: kW\n"
     ]
    }
   ],
   "source": [
    "class Generator:\n",
    "    def __init__(self, name, power, unit):\n",
    "        self.name = name\n",
    "        self.power = power\n",
    "        self.unit = unit\n",
    "gen = Generator(\"Generator 1\", 10, \"Data Center\")\n",
    "print(\"unit:\", gen.unit)\n",
    "gen.unit = Unit(\"kW\", \"kilowatt\", derived.W.dimension, decprefix.k)\n",
    "print(\"unit:\", gen.unit)"
   ]
  },
  {
   "cell_type": "markdown",
   "id": "9e32dbb0",
   "metadata": {},
   "source": [
    "## Limits\n",
    "\n",
    "Some types of objects result in unexpected behaviour when they are mapped."
   ]
  },
  {
   "cell_type": "code",
   "execution_count": 15,
   "id": "e5917ff9",
   "metadata": {},
   "outputs": [
    {
     "name": "stdout",
     "output_type": "stream",
     "text": [
      "type: int\n",
      "same object: True\n",
      "TypeError: cannot create weak reference to 'int' object\n"
     ]
    }
   ],
   "source": [
    "length = 1\n",
    "time = 1\n",
    "print(\"type:\", length.__class__.__name__)\n",
    "print(\"same object:\", id(length)==id(time))\n",
    "try:\n",
    "    unit_map.set(length, base.m)\n",
    "except TypeError as e:\n",
    "    print(e.__class__.__name__+\":\",e)"
   ]
  },
  {
   "cell_type": "markdown",
   "id": "90b63c14",
   "metadata": {},
   "source": [
    "Both variables are bound to the same `int` object (the `id(object)` values are equal). Mapping the `int` value `1` to a unit, instead of the variable bound to it, increases the risk of logic errors."
   ]
  },
  {
   "cell_type": "markdown",
   "id": "7d11b75b",
   "metadata": {},
   "source": [
    "## Decorator\n",
    "\n",
    "You can map functions and classes to units with a decorator. This way the unit is defined close to the function signature."
   ]
  },
  {
   "cell_type": "code",
   "execution_count": 16,
   "id": "fdd005cc",
   "metadata": {},
   "outputs": [
    {
     "name": "stdout",
     "output_type": "stream",
     "text": [
      "mass: 10 Mt\n"
     ]
    }
   ],
   "source": [
    "from unitsofmeasure import map_to_unit\n",
    "@map_to_unit(Mt, unit_map)\n",
    "def f():\n",
    "    return 10\n",
    "print(\"mass:\", f(), unit_map.get(f))"
   ]
  },
  {
   "cell_type": "markdown",
   "id": "3b584a51",
   "metadata": {},
   "source": [
    "## Default\n",
    "\n",
    "There is a default unit map `unitsofmeasure.unit_map`, but if you use this, then you have to ensure that there are no conflicts between your code and other code.\n",
    "\n",
    "If your code does not depend on code other than the Python standard library, then this is fine.\n",
    "\n",
    "If your code depends on code other than the Python standard library, then you have to check the access to the default unit map for conflicts.\n",
    "\n",
    "The safe way is to define your own instance of `UnitMap` in your project and re-implement the functions `map_to_unit`, `set_unit`, and `get_unit` accordingly."
   ]
  },
  {
   "cell_type": "code",
   "execution_count": 17,
   "id": "ef18a3a2",
   "metadata": {},
   "outputs": [
    {
     "name": "stdout",
     "output_type": "stream",
     "text": [
      "mass: 20 kt\n"
     ]
    }
   ],
   "source": [
    "from unitsofmeasure import get_unit\n",
    "kt = Unit(\"kt\", \"kilotonnes\", base.kg.dimension, decprefix.k)\n",
    "@map_to_unit(kt)\n",
    "def g():\n",
    "    return 20\n",
    "print(\"mass:\", g(), get_unit(g))"
   ]
  },
  {
   "cell_type": "markdown",
   "id": "d7826171",
   "metadata": {},
   "source": [
    "## Map Objects to Units\n",
    "\n",
    "You can map objects to units with the function `set_unit(object, unit)`, which also uses the default unit map if you do not specify a different unit map."
   ]
  },
  {
   "cell_type": "code",
   "execution_count": 18,
   "id": "0d6b38e7",
   "metadata": {},
   "outputs": [
    {
     "data": {
      "text/plain": [
       "Unit(symbol=\"m\", name=\"metre\", dimension=Dimension(kg=0, m=1, s=0, A=0, K=0, cd=0, mol=0, symbol=\"l\", name=\"length\"), prefix=Prefix(base=10, exponent=0, symbol=\"\", name=\"\"), factor=Fraction(1, 1))"
      ]
     },
     "execution_count": 18,
     "metadata": {},
     "output_type": "execute_result"
    }
   ],
   "source": [
    "from unitsofmeasure import set_unit\n",
    "length = Measure(10)\n",
    "set_unit(length, base.m)\n",
    "unit = get_unit(length)\n",
    "unit"
   ]
  },
  {
   "cell_type": "markdown",
   "id": "bc1c661f",
   "metadata": {},
   "source": [
    "## Generics\n",
    "\n",
    "The `UnitMap` is generic, such that if you want to map to something other than `Unit`, then you can specify this other type instead."
   ]
  },
  {
   "cell_type": "code",
   "execution_count": 19,
   "id": "7187e676",
   "metadata": {},
   "outputs": [
    {
     "name": "stdout",
     "output_type": "stream",
     "text": [
      "mass: 10 kg\n"
     ]
    }
   ],
   "source": [
    "unit_map = UnitMap[str]()\n",
    "unit_map.set(mass, \"kg\")\n",
    "print(\"mass:\", mass.value, unit_map.get(mass))"
   ]
  }
 ],
 "metadata": {
  "kernelspec": {
   "display_name": "Python 3 (ipykernel)",
   "language": "python",
   "name": "python3"
  },
  "language_info": {
   "codemirror_mode": {
    "name": "ipython",
    "version": 3
   },
   "file_extension": ".py",
   "mimetype": "text/x-python",
   "name": "python",
   "nbconvert_exporter": "python",
   "pygments_lexer": "ipython3",
   "version": "3.10.12"
  }
 },
 "nbformat": 4,
 "nbformat_minor": 5
}
