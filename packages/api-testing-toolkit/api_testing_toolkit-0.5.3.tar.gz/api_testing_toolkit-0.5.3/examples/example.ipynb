{
 "cells": [
  {
   "cell_type": "code",
   "execution_count": 5,
   "id": "dd69e428-f2a2-4dd8-810e-a3981d809a17",
   "metadata": {},
   "outputs": [],
   "source": [
    "# Load Imports\n",
    "import requests\n",
    "from api_testing_toolkit import d, load_env"
   ]
  },
  {
   "cell_type": "code",
   "execution_count": 2,
   "id": "4615cec6-7397-4290-be8f-30249d247e7b",
   "metadata": {},
   "outputs": [],
   "source": [
    "# Load Env\n",
    "env = load_env('example')"
   ]
  },
  {
   "cell_type": "code",
   "execution_count": 3,
   "id": "b5b543c2-09bd-4174-b734-824a42160231",
   "metadata": {
    "editable": true,
    "slideshow": {
     "slide_type": ""
    },
    "tags": []
   },
   "outputs": [
    {
     "data": {
      "application/json": {
       "completed": false,
       "id": 1,
       "title": "delectus aut autem",
       "userId": 1
      },
      "text/plain": [
       "<IPython.core.display.JSON object>"
      ]
     },
     "execution_count": 3,
     "metadata": {
      "application/json": {
       "expanded": true,
       "root": "root"
      }
     },
     "output_type": "execute_result"
    }
   ],
   "source": [
    "r = requests.get('{}/todos/1'.format(env['host']))\n",
    "data = r.json()\n",
    "d(data)"
   ]
  },
  {
   "cell_type": "code",
   "execution_count": 4,
   "id": "54ea445e-1f41-4e0c-98d6-59f141fb37b3",
   "metadata": {
    "editable": true,
    "slideshow": {
     "slide_type": ""
    },
    "tags": []
   },
   "outputs": [
    {
     "data": {
      "application/json": {
       "completed": true,
       "id": 1,
       "title": "lol hi",
       "userId": 1
      },
      "text/plain": [
       "<IPython.core.display.JSON object>"
      ]
     },
     "execution_count": 4,
     "metadata": {
      "application/json": {
       "expanded": true,
       "root": "root"
      }
     },
     "output_type": "execute_result"
    }
   ],
   "source": [
    "r = requests.patch('{}/todos/1'.format(env['host']), json={\n",
    "    'title': 'lol hi',\n",
    "    'completed': True\n",
    "})\n",
    "d(r.json())"
   ]
  }
 ],
 "metadata": {
  "kernelspec": {
   "display_name": "Python 3 (ipykernel)",
   "language": "python",
   "name": "python3"
  },
  "language_info": {
   "codemirror_mode": {
    "name": "ipython",
    "version": 3
   },
   "file_extension": ".py",
   "mimetype": "text/x-python",
   "name": "python",
   "nbconvert_exporter": "python",
   "pygments_lexer": "ipython3",
   "version": "3.12.2"
  }
 },
 "nbformat": 4,
 "nbformat_minor": 5
}
