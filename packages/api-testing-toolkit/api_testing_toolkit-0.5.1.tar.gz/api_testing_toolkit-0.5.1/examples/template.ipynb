{
 "cells": [
  {
   "cell_type": "code",
   "execution_count": 1,
   "id": "dd69e428-f2a2-4dd8-810e-a3981d809a17",
   "metadata": {
    "editable": true,
    "slideshow": {
     "slide_type": ""
    },
    "tags": []
   },
   "outputs": [],
   "source": [
    "# Load Imports\n",
    "import requests\n",
    "from utils import d, load_env"
   ]
  },
  {
   "cell_type": "code",
   "execution_count": 2,
   "id": "4615cec6-7397-4290-be8f-30249d247e7b",
   "metadata": {
    "editable": true,
    "slideshow": {
     "slide_type": ""
    },
    "tags": []
   },
   "outputs": [],
   "source": [
    "# Load Env\n",
    "env = load_env('test')"
   ]
  }
 ],
 "metadata": {
  "kernelspec": {
   "display_name": "Python 3 (ipykernel)",
   "language": "python",
   "name": "python3"
  },
  "language_info": {
   "codemirror_mode": {
    "name": "ipython",
    "version": 3
   },
   "file_extension": ".py",
   "mimetype": "text/x-python",
   "name": "python",
   "nbconvert_exporter": "python",
   "pygments_lexer": "ipython3",
   "version": "3.12.2"
  }
 },
 "nbformat": 4,
 "nbformat_minor": 5
}
